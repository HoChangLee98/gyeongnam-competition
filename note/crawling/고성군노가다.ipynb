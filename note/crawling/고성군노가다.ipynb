{
 "cells": [
  {
   "cell_type": "markdown",
   "metadata": {},
   "source": [
    "## 고성군 노가다"
   ]
  },
  {
   "cell_type": "code",
   "execution_count": 5,
   "metadata": {},
   "outputs": [],
   "source": [
    "import pandas as pd\n",
    "import pickle\n",
    "import warnings\n",
    "warnings.filterwarnings(\"ignore\")"
   ]
  },
  {
   "cell_type": "code",
   "execution_count": 6,
   "metadata": {},
   "outputs": [],
   "source": [
    "# # 데이터 로드\n",
    "with open('../data/버스정보데이터/고성군_inform.pkl', 'rb') as f:\n",
    "\tdata = pickle.load(f)"
   ]
  },
  {
   "cell_type": "code",
   "execution_count": 7,
   "metadata": {},
   "outputs": [
    {
     "data": {
      "text/plain": [
       "{'고성군': {'000': {'노선정류장수': None, '노선거리(km)': None, '굴곡도': None},\n",
       "  '111': {'노선정류장수': None, '노선거리(km)': None, '굴곡도': None},\n",
       "  '222': {'노선정류장수': None, '노선거리(km)': None, '굴곡도': None},\n",
       "  '767': {'노선정류장수': None, '노선거리(km)': None, '굴곡도': None},\n",
       "  '753': {'노선정류장수': None, '노선거리(km)': None, '굴곡도': None},\n",
       "  '999': {'노선정류장수': None, '노선거리(km)': None, '굴곡도': None},\n",
       "  '000-1': {'노선정류장수': None, '노선거리(km)': None, '굴곡도': None},\n",
       "  '333': {'노선정류장수': None, '노선거리(km)': None, '굴곡도': None},\n",
       "  '111-1': {'노선정류장수': None, '노선거리(km)': None, '굴곡도': None},\n",
       "  '989': {'노선정류장수': None, '노선거리(km)': None, '굴곡도': None},\n",
       "  '999-1': {'노선정류장수': None, '노선거리(km)': None, '굴곡도': None},\n",
       "  '777': {'노선정류장수': None, '노선거리(km)': None, '굴곡도': None},\n",
       "  '212': {'노선정류장수': None, '노선거리(km)': None, '굴곡도': None},\n",
       "  '111-2': {'노선정류장수': None, '노선거리(km)': None, '굴곡도': None},\n",
       "  '989-1': {'노선정류장수': None, '노선거리(km)': None, '굴곡도': None},\n",
       "  '999-2': {'노선정류장수': None, '노선거리(km)': None, '굴곡도': None},\n",
       "  '225': {'노선정류장수': None, '노선거리(km)': None, '굴곡도': None},\n",
       "  '557': {'노선정류장수': None, '노선거리(km)': None, '굴곡도': None},\n",
       "  '553': {'노선정류장수': None, '노선거리(km)': None, '굴곡도': None},\n",
       "  '657': {'노선정류장수': None, '노선거리(km)': None, '굴곡도': None},\n",
       "  '233': {'노선정류장수': None, '노선거리(km)': None, '굴곡도': None},\n",
       "  '333-1': {'노선정류장수': None, '노선거리(km)': None, '굴곡도': None},\n",
       "  '333-2': {'노선정류장수': None, '노선거리(km)': None, '굴곡도': None},\n",
       "  '756': {'노선정류장수': None, '노선거리(km)': None, '굴곡도': None},\n",
       "  '770': {'노선정류장수': None, '노선거리(km)': None, '굴곡도': None}}}"
      ]
     },
     "execution_count": 7,
     "metadata": {},
     "output_type": "execute_result"
    }
   ],
   "source": [
    "data"
   ]
  },
  {
   "cell_type": "code",
   "execution_count": 8,
   "metadata": {},
   "outputs": [],
   "source": [
    "data = {'고성군': {'000': {'노선정류장수': 36, '노선거리(km)': None, '굴곡도': None},\n",
    "  '111': {'노선정류장수': 54, '노선거리(km)': None, '굴곡도': None},\n",
    "  '222': {'노선정류장수': 59, '노선거리(km)': None, '굴곡도': None},\n",
    "  '767': {'노선정류장수': 37, '노선거리(km)': None, '굴곡도': None},\n",
    "  '753': {'노선정류장수': 51, '노선거리(km)': None, '굴곡도': None},\n",
    "  '999': {'노선정류장수': 65, '노선거리(km)': None, '굴곡도': None},\n",
    "  '000-1': {'노선정류장수': 16, '노선거리(km)': None, '굴곡도': None},\n",
    "  '333': {'노선정류장수': 41, '노선거리(km)': None, '굴곡도': None},\n",
    "  '111-1': {'노선정류장수': 30, '노선거리(km)': None, '굴곡도': None},\n",
    "  '989': {'노선정류장수': 34, '노선거리(km)': None, '굴곡도': None},\n",
    "  '999-1': {'노선정류장수': 41, '노선거리(km)': None, '굴곡도': None},\n",
    "  '777': {'노선정류장수': 22, '노선거리(km)': None, '굴곡도': None},\n",
    "  '212': {'노선정류장수': 37, '노선거리(km)': None, '굴곡도': None},\n",
    "  '111-2': {'노선정류장수': 45, '노선거리(km)': None, '굴곡도': None},\n",
    "  '989-1': {'노선정류장수': 77, '노선거리(km)': None, '굴곡도': None},\n",
    "  '999-2': {'노선정류장수': 18, '노선거리(km)': None, '굴곡도': None},\n",
    "  '225': {'노선정류장수': 41, '노선거리(km)': None, '굴곡도': None},\n",
    "  '557': {'노선정류장수': 62, '노선거리(km)': None, '굴곡도': None},\n",
    "  '553': {'노선정류장수': 33, '노선거리(km)': None, '굴곡도': None},\n",
    "  '657': {'노선정류장수': 31, '노선거리(km)': None, '굴곡도': None},\n",
    "  '233': {'노선정류장수': 48, '노선거리(km)': None, '굴곡도': None},\n",
    "  '333-1': {'노선정류장수': 27, '노선거리(km)': None, '굴곡도': None},\n",
    "  '333-2': {'노선정류장수': 55, '노선거리(km)': None, '굴곡도': None},\n",
    "  '756': {'노선정류장수': 60, '노선거리(km)': None, '굴곡도': None},\n",
    "  '770': {'노선정류장수': 25, '노선거리(km)': None, '굴곡도': None}}}"
   ]
  },
  {
   "cell_type": "code",
   "execution_count": 9,
   "metadata": {},
   "outputs": [],
   "source": [
    "import pickle\n",
    "\n",
    "with open(f'../data/버스정보데이터/고성군_inform.pkl', 'wb') as f: \n",
    "\tpickle.dump(data, f)"
   ]
  },
  {
   "cell_type": "code",
   "execution_count": null,
   "metadata": {},
   "outputs": [],
   "source": []
  },
  {
   "cell_type": "code",
   "execution_count": null,
   "metadata": {},
   "outputs": [],
   "source": []
  },
  {
   "cell_type": "code",
   "execution_count": null,
   "metadata": {},
   "outputs": [],
   "source": []
  },
  {
   "cell_type": "code",
   "execution_count": null,
   "metadata": {},
   "outputs": [],
   "source": []
  },
  {
   "cell_type": "code",
   "execution_count": null,
   "metadata": {},
   "outputs": [],
   "source": []
  },
  {
   "cell_type": "code",
   "execution_count": null,
   "metadata": {},
   "outputs": [],
   "source": []
  }
 ],
 "metadata": {
  "kernelspec": {
   "display_name": "gyeongn",
   "language": "python",
   "name": "python3"
  },
  "language_info": {
   "codemirror_mode": {
    "name": "ipython",
    "version": 3
   },
   "file_extension": ".py",
   "mimetype": "text/x-python",
   "name": "python",
   "nbconvert_exporter": "python",
   "pygments_lexer": "ipython3",
   "version": "3.12.4"
  }
 },
 "nbformat": 4,
 "nbformat_minor": 2
}
