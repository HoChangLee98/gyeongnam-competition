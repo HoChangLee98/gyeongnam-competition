{
 "cells": [
  {
   "cell_type": "markdown",
   "metadata": {},
   "source": [
    "# 실행 전 requirements.txt 터미널에서 받아주세요!\n",
    "\n",
    "### 버스 노선 데이터 노선별 이용량 추출\n",
    "교통카드빅데이터 통합 정보 시스템: https://stcis.go.kr/pivotIndi/wpsPivotIndicator.do?siteGb=P&indiClss=IC03&indiSel=IC0301\n"
   ]
  },
  {
   "cell_type": "code",
   "execution_count": 1,
   "metadata": {},
   "outputs": [],
   "source": [
    "import pandas as pd\n",
    "import warnings\n",
    "warnings.filterwarnings('ignore')"
   ]
  },
  {
   "cell_type": "code",
   "execution_count": 2,
   "metadata": {},
   "outputs": [],
   "source": [
    "busroute_usage = pd.read_csv(\n",
    "    filepath_or_buffer=\"../data/gyeongn_busroute_total.csv\"\n",
    "    )"
   ]
  },
  {
   "cell_type": "code",
   "execution_count": 3,
   "metadata": {},
   "outputs": [
    {
     "data": {
      "text/plain": [
       "city_name\n",
       "진주시    300\n",
       "거제시    279\n",
       "통영시    216\n",
       "함안군    209\n",
       "밀양시    189\n",
       "창원시    164\n",
       "합천군    149\n",
       "거창군    141\n",
       "양산시    115\n",
       "창녕군    115\n",
       "고성군    112\n",
       "김해시     98\n",
       "남해군     89\n",
       "의령군     74\n",
       "함양군     73\n",
       "산청군     66\n",
       "하동군     64\n",
       "사천시     60\n",
       "Name: count, dtype: int64"
      ]
     },
     "execution_count": 3,
     "metadata": {},
     "output_type": "execute_result"
    }
   ],
   "source": [
    "busroute_usage[\"city_name\"].value_counts()"
   ]
  },
  {
   "cell_type": "markdown",
   "metadata": {},
   "source": [
    "#### 웹에서 파일 다운로드하는 크롤러 만들기"
   ]
  },
  {
   "cell_type": "code",
   "execution_count": 4,
   "metadata": {},
   "outputs": [],
   "source": [
    "from selenium import webdriver as wb\n",
    "from selenium.webdriver.common.by import By\n",
    "from selenium.webdriver.support.ui import WebDriverWait\n",
    "from selenium.webdriver.support import expected_conditions as EC\n",
    "from selenium.webdriver.chrome.options import Options\n",
    "from selenium.webdriver.support.ui import Select\n",
    "from tqdm import tqdm"
   ]
  },
  {
   "cell_type": "code",
   "execution_count": 5,
   "metadata": {},
   "outputs": [
    {
     "name": "stderr",
     "output_type": "stream",
     "text": [
      "0it [00:00, ?it/s]"
     ]
    },
    {
     "name": "stdout",
     "output_type": "stream",
     "text": [
      "    ## Start Extract:1422\n",
      "        routeno    : 101-1\n",
      "        startnodenm: 의령버스터미널\n",
      "        Search Node\n"
     ]
    },
    {
     "name": "stderr",
     "output_type": "stream",
     "text": [
      "1it [00:31, 31.25s/it]"
     ]
    },
    {
     "name": "stdout",
     "output_type": "stream",
     "text": [
      "         Error\n",
      "    ## Start Extract:1423\n",
      "        routeno    : 101-3\n",
      "        startnodenm: 의령버스터미널\n",
      "        Search Node\n"
     ]
    },
    {
     "name": "stderr",
     "output_type": "stream",
     "text": [
      "2it [01:03, 32.07s/it]"
     ]
    },
    {
     "name": "stdout",
     "output_type": "stream",
     "text": [
      "         Error\n",
      "    ## Start Extract:1424\n",
      "        routeno    : 101-2\n",
      "        startnodenm: 의령버스터미널\n",
      "        Search Node\n"
     ]
    },
    {
     "name": "stderr",
     "output_type": "stream",
     "text": [
      "3it [01:29, 29.06s/it]"
     ]
    },
    {
     "name": "stdout",
     "output_type": "stream",
     "text": [
      "         Error\n",
      "    ## Start Extract:1425\n",
      "        routeno    : 888\n",
      "        startnodenm: 의령버스터미널\n",
      "        Search Node\n"
     ]
    },
    {
     "name": "stderr",
     "output_type": "stream",
     "text": [
      "4it [01:56, 28.28s/it]"
     ]
    },
    {
     "name": "stdout",
     "output_type": "stream",
     "text": [
      "         Error\n",
      "    ## Start Extract:1426\n",
      "        routeno    : 888\n",
      "        startnodenm: 시외버스터미널\n",
      "        Search Node\n"
     ]
    },
    {
     "name": "stderr",
     "output_type": "stream",
     "text": [
      "4it [02:23, 36.00s/it]\n"
     ]
    },
    {
     "ename": "KeyboardInterrupt",
     "evalue": "",
     "output_type": "error",
     "traceback": [
      "\u001b[1;31m---------------------------------------------------------------------------\u001b[0m",
      "\u001b[1;31mNoSuchElementException\u001b[0m                    Traceback (most recent call last)",
      "Cell \u001b[1;32mIn[5], line 182\u001b[0m\n\u001b[0;32m    181\u001b[0m \u001b[38;5;28;01mfor\u001b[39;00m j \u001b[38;5;129;01min\u001b[39;00m \u001b[38;5;28mrange\u001b[39m(\u001b[38;5;241m1\u001b[39m, \u001b[38;5;241m11\u001b[39m):\n\u001b[1;32m--> 182\u001b[0m     check_routeno \u001b[38;5;241m=\u001b[39m \u001b[43mdriver\u001b[49m\u001b[38;5;241;43m.\u001b[39;49m\u001b[43mfind_element\u001b[49m\u001b[43m(\u001b[49m\n\u001b[0;32m    183\u001b[0m \u001b[43m        \u001b[49m\u001b[43mBy\u001b[49m\u001b[38;5;241;43m.\u001b[39;49m\u001b[43mCSS_SELECTOR\u001b[49m\u001b[43m,\u001b[49m\u001b[43m \u001b[49m\n\u001b[0;32m    184\u001b[0m \u001b[43m        \u001b[49m\u001b[38;5;124;43mf\u001b[39;49m\u001b[38;5;124;43m\"\u001b[39;49m\u001b[38;5;124;43m#divBusLineList > div.pop_box > table > tbody > tr:nth-child(\u001b[39;49m\u001b[38;5;132;43;01m{\u001b[39;49;00m\u001b[43mj\u001b[49m\u001b[38;5;132;43;01m}\u001b[39;49;00m\u001b[38;5;124;43m) > td:nth-child(2)\u001b[39;49m\u001b[38;5;124;43m\"\u001b[39;49m\n\u001b[0;32m    185\u001b[0m \u001b[43m        \u001b[49m\u001b[43m)\u001b[49m\u001b[38;5;241m.\u001b[39mtext\n\u001b[0;32m    187\u001b[0m     check_startnodem \u001b[38;5;241m=\u001b[39m driver\u001b[38;5;241m.\u001b[39mfind_element(\n\u001b[0;32m    188\u001b[0m         By\u001b[38;5;241m.\u001b[39mCSS_SELECTOR, \n\u001b[0;32m    189\u001b[0m         \u001b[38;5;124mf\u001b[39m\u001b[38;5;124m\"\u001b[39m\u001b[38;5;124m#divBusLineList > div.pop_box > table > tbody > tr:nth-child(\u001b[39m\u001b[38;5;132;01m{\u001b[39;00mj\u001b[38;5;132;01m}\u001b[39;00m\u001b[38;5;124m) > td:nth-child(4)\u001b[39m\u001b[38;5;124m\"\u001b[39m\n\u001b[0;32m    190\u001b[0m         )\u001b[38;5;241m.\u001b[39mtext\u001b[38;5;241m.\u001b[39msplit(\u001b[38;5;124m\"\u001b[39m\u001b[38;5;124m - \u001b[39m\u001b[38;5;124m\"\u001b[39m)[\u001b[38;5;241m0\u001b[39m]\n",
      "File \u001b[1;32mc:\\Users\\jihoo\\anaconda3\\envs\\gyeongn\\Lib\\site-packages\\selenium\\webdriver\\remote\\webdriver.py:748\u001b[0m, in \u001b[0;36mWebDriver.find_element\u001b[1;34m(self, by, value)\u001b[0m\n\u001b[0;32m    746\u001b[0m     value \u001b[38;5;241m=\u001b[39m \u001b[38;5;124mf\u001b[39m\u001b[38;5;124m'\u001b[39m\u001b[38;5;124m[name=\u001b[39m\u001b[38;5;124m\"\u001b[39m\u001b[38;5;132;01m{\u001b[39;00mvalue\u001b[38;5;132;01m}\u001b[39;00m\u001b[38;5;124m\"\u001b[39m\u001b[38;5;124m]\u001b[39m\u001b[38;5;124m'\u001b[39m\n\u001b[1;32m--> 748\u001b[0m \u001b[38;5;28;01mreturn\u001b[39;00m \u001b[38;5;28;43mself\u001b[39;49m\u001b[38;5;241;43m.\u001b[39;49m\u001b[43mexecute\u001b[49m\u001b[43m(\u001b[49m\u001b[43mCommand\u001b[49m\u001b[38;5;241;43m.\u001b[39;49m\u001b[43mFIND_ELEMENT\u001b[49m\u001b[43m,\u001b[49m\u001b[43m \u001b[49m\u001b[43m{\u001b[49m\u001b[38;5;124;43m\"\u001b[39;49m\u001b[38;5;124;43musing\u001b[39;49m\u001b[38;5;124;43m\"\u001b[39;49m\u001b[43m:\u001b[49m\u001b[43m \u001b[49m\u001b[43mby\u001b[49m\u001b[43m,\u001b[49m\u001b[43m \u001b[49m\u001b[38;5;124;43m\"\u001b[39;49m\u001b[38;5;124;43mvalue\u001b[39;49m\u001b[38;5;124;43m\"\u001b[39;49m\u001b[43m:\u001b[49m\u001b[43m \u001b[49m\u001b[43mvalue\u001b[49m\u001b[43m}\u001b[49m\u001b[43m)\u001b[49m[\u001b[38;5;124m\"\u001b[39m\u001b[38;5;124mvalue\u001b[39m\u001b[38;5;124m\"\u001b[39m]\n",
      "File \u001b[1;32mc:\\Users\\jihoo\\anaconda3\\envs\\gyeongn\\Lib\\site-packages\\selenium\\webdriver\\remote\\webdriver.py:354\u001b[0m, in \u001b[0;36mWebDriver.execute\u001b[1;34m(self, driver_command, params)\u001b[0m\n\u001b[0;32m    353\u001b[0m \u001b[38;5;28;01mif\u001b[39;00m response:\n\u001b[1;32m--> 354\u001b[0m     \u001b[38;5;28;43mself\u001b[39;49m\u001b[38;5;241;43m.\u001b[39;49m\u001b[43merror_handler\u001b[49m\u001b[38;5;241;43m.\u001b[39;49m\u001b[43mcheck_response\u001b[49m\u001b[43m(\u001b[49m\u001b[43mresponse\u001b[49m\u001b[43m)\u001b[49m\n\u001b[0;32m    355\u001b[0m     response[\u001b[38;5;124m\"\u001b[39m\u001b[38;5;124mvalue\u001b[39m\u001b[38;5;124m\"\u001b[39m] \u001b[38;5;241m=\u001b[39m \u001b[38;5;28mself\u001b[39m\u001b[38;5;241m.\u001b[39m_unwrap_value(response\u001b[38;5;241m.\u001b[39mget(\u001b[38;5;124m\"\u001b[39m\u001b[38;5;124mvalue\u001b[39m\u001b[38;5;124m\"\u001b[39m, \u001b[38;5;28;01mNone\u001b[39;00m))\n",
      "File \u001b[1;32mc:\\Users\\jihoo\\anaconda3\\envs\\gyeongn\\Lib\\site-packages\\selenium\\webdriver\\remote\\errorhandler.py:229\u001b[0m, in \u001b[0;36mErrorHandler.check_response\u001b[1;34m(self, response)\u001b[0m\n\u001b[0;32m    228\u001b[0m     \u001b[38;5;28;01mraise\u001b[39;00m exception_class(message, screen, stacktrace, alert_text)  \u001b[38;5;66;03m# type: ignore[call-arg]  # mypy is not smart enough here\u001b[39;00m\n\u001b[1;32m--> 229\u001b[0m \u001b[38;5;28;01mraise\u001b[39;00m exception_class(message, screen, stacktrace)\n",
      "\u001b[1;31mNoSuchElementException\u001b[0m: Message: no such element: Unable to locate element: {\"method\":\"css selector\",\"selector\":\"#divBusLineList > div.pop_box > table > tbody > tr:nth-child(1) > td:nth-child(2)\"}\n  (Session info: chrome=126.0.6478.127); For documentation on this error, please visit: https://www.selenium.dev/documentation/webdriver/troubleshooting/errors#no-such-element-exception\nStacktrace:\n\tGetHandleVerifier [0x00007FF770F0EEA2+31554]\n\t(No symbol) [0x00007FF770E87ED9]\n\t(No symbol) [0x00007FF770D4872A]\n\t(No symbol) [0x00007FF770D98434]\n\t(No symbol) [0x00007FF770D9853C]\n\t(No symbol) [0x00007FF770DDF6A7]\n\t(No symbol) [0x00007FF770DBD06F]\n\t(No symbol) [0x00007FF770DDC977]\n\t(No symbol) [0x00007FF770DBCDD3]\n\t(No symbol) [0x00007FF770D8A33B]\n\t(No symbol) [0x00007FF770D8AED1]\n\tGetHandleVerifier [0x00007FF771218B1D+3217341]\n\tGetHandleVerifier [0x00007FF771265AE3+3532675]\n\tGetHandleVerifier [0x00007FF77125B0E0+3489152]\n\tGetHandleVerifier [0x00007FF770FBE776+750614]\n\t(No symbol) [0x00007FF770E9375F]\n\t(No symbol) [0x00007FF770E8EB14]\n\t(No symbol) [0x00007FF770E8ECA2]\n\t(No symbol) [0x00007FF770E7E16F]\n\tBaseThreadInitThunk [0x00007FF824457344+20]\n\tRtlUserThreadStart [0x00007FF8252C26B1+33]\n",
      "\nDuring handling of the above exception, another exception occurred:\n",
      "\u001b[1;31mTimeoutError\u001b[0m                              Traceback (most recent call last)",
      "File \u001b[1;32mc:\\Users\\jihoo\\anaconda3\\envs\\gyeongn\\Lib\\socket.py:838\u001b[0m, in \u001b[0;36mcreate_connection\u001b[1;34m(address, timeout, source_address, all_errors)\u001b[0m\n\u001b[0;32m    837\u001b[0m     sock\u001b[38;5;241m.\u001b[39mbind(source_address)\n\u001b[1;32m--> 838\u001b[0m \u001b[43msock\u001b[49m\u001b[38;5;241;43m.\u001b[39;49m\u001b[43mconnect\u001b[49m\u001b[43m(\u001b[49m\u001b[43msa\u001b[49m\u001b[43m)\u001b[49m\n\u001b[0;32m    839\u001b[0m \u001b[38;5;66;03m# Break explicitly a reference cycle\u001b[39;00m\n",
      "\u001b[1;31mTimeoutError\u001b[0m: timed out",
      "\nDuring handling of the above exception, another exception occurred:\n",
      "\u001b[1;31mKeyboardInterrupt\u001b[0m                         Traceback (most recent call last)",
      "Cell \u001b[1;32mIn[5], line 234\u001b[0m\n\u001b[0;32m    230\u001b[0m     driver\u001b[38;5;241m.\u001b[39mquit()\n\u001b[0;32m    232\u001b[0m \u001b[38;5;28;01mexcept\u001b[39;00m:\n\u001b[0;32m    233\u001b[0m     \u001b[38;5;66;03m## 창닫기\u001b[39;00m\n\u001b[1;32m--> 234\u001b[0m     \u001b[43mdriver\u001b[49m\u001b[38;5;241;43m.\u001b[39;49m\u001b[43mquit\u001b[49m\u001b[43m(\u001b[49m\u001b[43m)\u001b[49m   \n\u001b[0;32m    235\u001b[0m     \u001b[38;5;28mprint\u001b[39m(\u001b[38;5;124m\"\u001b[39m\u001b[38;5;124m         Error\u001b[39m\u001b[38;5;124m\"\u001b[39m)           \n",
      "File \u001b[1;32mc:\\Users\\jihoo\\anaconda3\\envs\\gyeongn\\Lib\\site-packages\\selenium\\webdriver\\chromium\\webdriver.py:193\u001b[0m, in \u001b[0;36mChromiumDriver.quit\u001b[1;34m(self)\u001b[0m\n\u001b[0;32m    191\u001b[0m     \u001b[38;5;28;01mpass\u001b[39;00m\n\u001b[0;32m    192\u001b[0m \u001b[38;5;28;01mfinally\u001b[39;00m:\n\u001b[1;32m--> 193\u001b[0m     \u001b[38;5;28;43mself\u001b[39;49m\u001b[38;5;241;43m.\u001b[39;49m\u001b[43mservice\u001b[49m\u001b[38;5;241;43m.\u001b[39;49m\u001b[43mstop\u001b[49m\u001b[43m(\u001b[49m\u001b[43m)\u001b[49m\n",
      "File \u001b[1;32mc:\\Users\\jihoo\\anaconda3\\envs\\gyeongn\\Lib\\site-packages\\selenium\\webdriver\\common\\service.py:146\u001b[0m, in \u001b[0;36mService.stop\u001b[1;34m(self)\u001b[0m\n\u001b[0;32m    144\u001b[0m \u001b[38;5;28;01mif\u001b[39;00m \u001b[38;5;28mself\u001b[39m\u001b[38;5;241m.\u001b[39mprocess \u001b[38;5;129;01mis\u001b[39;00m \u001b[38;5;129;01mnot\u001b[39;00m \u001b[38;5;28;01mNone\u001b[39;00m:\n\u001b[0;32m    145\u001b[0m     \u001b[38;5;28;01mtry\u001b[39;00m:\n\u001b[1;32m--> 146\u001b[0m         \u001b[38;5;28;43mself\u001b[39;49m\u001b[38;5;241;43m.\u001b[39;49m\u001b[43msend_remote_shutdown_command\u001b[49m\u001b[43m(\u001b[49m\u001b[43m)\u001b[49m\n\u001b[0;32m    147\u001b[0m     \u001b[38;5;28;01mexcept\u001b[39;00m \u001b[38;5;167;01mTypeError\u001b[39;00m:\n\u001b[0;32m    148\u001b[0m         \u001b[38;5;28;01mpass\u001b[39;00m\n",
      "File \u001b[1;32mc:\\Users\\jihoo\\anaconda3\\envs\\gyeongn\\Lib\\site-packages\\selenium\\webdriver\\common\\service.py:131\u001b[0m, in \u001b[0;36mService.send_remote_shutdown_command\u001b[1;34m(self)\u001b[0m\n\u001b[0;32m    128\u001b[0m     \u001b[38;5;28;01mreturn\u001b[39;00m\n\u001b[0;32m    130\u001b[0m \u001b[38;5;28;01mfor\u001b[39;00m _ \u001b[38;5;129;01min\u001b[39;00m \u001b[38;5;28mrange\u001b[39m(\u001b[38;5;241m30\u001b[39m):\n\u001b[1;32m--> 131\u001b[0m     \u001b[38;5;28;01mif\u001b[39;00m \u001b[38;5;129;01mnot\u001b[39;00m \u001b[38;5;28;43mself\u001b[39;49m\u001b[38;5;241;43m.\u001b[39;49m\u001b[43mis_connectable\u001b[49m\u001b[43m(\u001b[49m\u001b[43m)\u001b[49m:\n\u001b[0;32m    132\u001b[0m         \u001b[38;5;28;01mbreak\u001b[39;00m\n\u001b[0;32m    133\u001b[0m     sleep(\u001b[38;5;241m1\u001b[39m)\n",
      "File \u001b[1;32mc:\\Users\\jihoo\\anaconda3\\envs\\gyeongn\\Lib\\site-packages\\selenium\\webdriver\\common\\service.py:120\u001b[0m, in \u001b[0;36mService.is_connectable\u001b[1;34m(self)\u001b[0m\n\u001b[0;32m    117\u001b[0m \u001b[38;5;28;01mdef\u001b[39;00m \u001b[38;5;21mis_connectable\u001b[39m(\u001b[38;5;28mself\u001b[39m) \u001b[38;5;241m-\u001b[39m\u001b[38;5;241m>\u001b[39m \u001b[38;5;28mbool\u001b[39m:\n\u001b[0;32m    118\u001b[0m \u001b[38;5;250m    \u001b[39m\u001b[38;5;124;03m\"\"\"Establishes a socket connection to determine if the service running\u001b[39;00m\n\u001b[0;32m    119\u001b[0m \u001b[38;5;124;03m    on the port is accessible.\"\"\"\u001b[39;00m\n\u001b[1;32m--> 120\u001b[0m     \u001b[38;5;28;01mreturn\u001b[39;00m \u001b[43mutils\u001b[49m\u001b[38;5;241;43m.\u001b[39;49m\u001b[43mis_connectable\u001b[49m\u001b[43m(\u001b[49m\u001b[38;5;28;43mself\u001b[39;49m\u001b[38;5;241;43m.\u001b[39;49m\u001b[43mport\u001b[49m\u001b[43m)\u001b[49m\n",
      "File \u001b[1;32mc:\\Users\\jihoo\\anaconda3\\envs\\gyeongn\\Lib\\site-packages\\selenium\\webdriver\\common\\utils.py:101\u001b[0m, in \u001b[0;36mis_connectable\u001b[1;34m(port, host)\u001b[0m\n\u001b[0;32m     99\u001b[0m socket_ \u001b[38;5;241m=\u001b[39m \u001b[38;5;28;01mNone\u001b[39;00m\n\u001b[0;32m    100\u001b[0m \u001b[38;5;28;01mtry\u001b[39;00m:\n\u001b[1;32m--> 101\u001b[0m     socket_ \u001b[38;5;241m=\u001b[39m \u001b[43msocket\u001b[49m\u001b[38;5;241;43m.\u001b[39;49m\u001b[43mcreate_connection\u001b[49m\u001b[43m(\u001b[49m\u001b[43m(\u001b[49m\u001b[43mhost\u001b[49m\u001b[43m,\u001b[49m\u001b[43m \u001b[49m\u001b[43mport\u001b[49m\u001b[43m)\u001b[49m\u001b[43m,\u001b[49m\u001b[43m \u001b[49m\u001b[38;5;241;43m1\u001b[39;49m\u001b[43m)\u001b[49m\n\u001b[0;32m    102\u001b[0m     result \u001b[38;5;241m=\u001b[39m \u001b[38;5;28;01mTrue\u001b[39;00m\n\u001b[0;32m    103\u001b[0m \u001b[38;5;28;01mexcept\u001b[39;00m _is_connectable_exceptions:\n",
      "File \u001b[1;32mc:\\Users\\jihoo\\anaconda3\\envs\\gyeongn\\Lib\\socket.py:845\u001b[0m, in \u001b[0;36mcreate_connection\u001b[1;34m(address, timeout, source_address, all_errors)\u001b[0m\n\u001b[0;32m    843\u001b[0m \u001b[38;5;28;01mexcept\u001b[39;00m error \u001b[38;5;28;01mas\u001b[39;00m exc:\n\u001b[0;32m    844\u001b[0m     \u001b[38;5;28;01mif\u001b[39;00m \u001b[38;5;129;01mnot\u001b[39;00m all_errors:\n\u001b[1;32m--> 845\u001b[0m         \u001b[43mexceptions\u001b[49m\u001b[38;5;241;43m.\u001b[39;49m\u001b[43mclear\u001b[49m\u001b[43m(\u001b[49m\u001b[43m)\u001b[49m  \u001b[38;5;66;03m# raise only the last error\u001b[39;00m\n\u001b[0;32m    846\u001b[0m     exceptions\u001b[38;5;241m.\u001b[39mappend(exc)\n\u001b[0;32m    847\u001b[0m     \u001b[38;5;28;01mif\u001b[39;00m sock \u001b[38;5;129;01mis\u001b[39;00m \u001b[38;5;129;01mnot\u001b[39;00m \u001b[38;5;28;01mNone\u001b[39;00m:\n",
      "\u001b[1;31mKeyboardInterrupt\u001b[0m: "
     ]
    }
   ],
   "source": [
    "## 도시명 입력\n",
    "city_name = \"의령군\" \n",
    "input_values = busroute_usage[busroute_usage[\"city_name\"] == city_name][[\"routeno\", \"startnodenm\"]] \n",
    "findtime = 100000\n",
    "\n",
    "route_usage_data = {}\n",
    "\n",
    "if city_name == \"창원시\":\n",
    "    region_button_selector = \"48123_48127_48125_48120_48121_48129\"\n",
    "    \n",
    "elif city_name == \"진주시\":\n",
    "    region_button_selector = \"48170\"\n",
    "    \n",
    "elif city_name == \"통영시\":\n",
    "    region_button_selector = \"48220\"\n",
    "    \n",
    "elif city_name == \"사천시\":\n",
    "    region_button_selector = \"48240\"\n",
    "    \n",
    "elif city_name == \"김해시\":\n",
    "    region_button_selector = \"48250\"\n",
    "    \n",
    "elif city_name == \"밀양시\":\n",
    "    region_button_selector = \"48270\"\n",
    "        \n",
    "elif city_name == \"거제시\":\n",
    "    region_button_selector = \"48310\"\n",
    "    \n",
    "elif city_name == \"양산시\":\n",
    "    region_button_selector = \"48330\"\n",
    "    \n",
    "elif city_name == \"의령군\":\n",
    "    region_button_selector = \"48720\"\n",
    "    \n",
    "elif city_name == \"함안군\":\n",
    "    region_button_selector = \"48730\"\n",
    "    \n",
    "elif city_name == \"창녕군\":\n",
    "    region_button_selector = \"48740\"\n",
    "    \n",
    "elif city_name == \"고성군\":\n",
    "    region_button_selector = \"48820\"\n",
    "    \n",
    "elif city_name == \"남해군\":\n",
    "    region_button_selector = \"48840\"\n",
    "    \n",
    "elif city_name == \"하동군\":\n",
    "    region_button_selector = \"48850\"\n",
    "    \n",
    "elif city_name == \"산청군\":\n",
    "    region_button_selector = \"48860\"\n",
    "    \n",
    "elif city_name == \"함양군\":\n",
    "    region_button_selector = \"48870\"\n",
    "\n",
    "elif city_name == \"거창군\":\n",
    "    region_button_selector = \"48880\"\n",
    "    \n",
    "elif city_name == \"합천군\":\n",
    "    region_button_selector = \"48890\"\n",
    "    \n",
    "else:\n",
    "    raise ValueError(f\"Unknown city_name: {city_name}\")\n",
    "\n",
    "### 반복문 시작 #########################################################################################\n",
    "route_usage_data[f\"{city_name}\"] = {}\n",
    "first_i = input_values.index[0] + 1 \n",
    "\n",
    "for i, input_value in tqdm(input_values.iterrows()):\n",
    "    routeno = input_value[\"routeno\"]\n",
    "    startnodenm = input_value[\"startnodenm\"]\n",
    "    print(f\"    ## Start Extract:{i+1}\")\n",
    "    print(f\"        routeno    : {routeno}\")\n",
    "    print(f\"        startnodenm: {startnodenm}\")\n",
    "\n",
    "    options = Options()\n",
    "    options.add_experimental_option(\"excludeSwitches\", [\"enable-automation\"])\n",
    "    driver = wb.Chrome(options = options)\n",
    "\n",
    "    ## 교통카드빅데이터 종합정보시스템 -> 노선별 이용량 조회 url\n",
    "    driver.get(\"https://stcis.go.kr/pivotIndi/wpsPivotIndicator.do?siteGb=P&indiClss=IC03&indiSel=IC0301\")\n",
    "\n",
    "    ## 클릭 함수\n",
    "    def driver_clickable_processor(css_selector_value):\n",
    "        click = WebDriverWait(driver, findtime).until(\n",
    "            EC.element_to_be_clickable((By.CSS_SELECTOR, css_selector_value))\n",
    "        )    \n",
    "        driver.execute_script(\"arguments[0].scrollIntoView();\", click)\n",
    "        driver.execute_script(\"arguments[0].click();\", click)    \n",
    "        \n",
    "        return click\n",
    "\n",
    "    ## 텍스트 추출 함수 \n",
    "    def driver_extract_text_processor(css_selector_value):\n",
    "        element = WebDriverWait(driver, findtime).until(\n",
    "                        EC.presence_of_element_located((\n",
    "                            By.CSS_SELECTOR, \n",
    "                            css_selector_value\n",
    "                            ))\n",
    "                    )\n",
    "        return element.text\n",
    "\n",
    "    ## 기간선택 -> 월 클릭\n",
    "    driver_clickable_processor(\"#divRdoDate > li:nth-child(2)\")\n",
    "\n",
    "    ## 공간선택 -> 검색명에 city_name 입력 후 검색 클릭\n",
    "    click = driver_clickable_processor(\"#searchRouteSpaceNm\")\n",
    "    click.send_keys(f\"{city_name}\")\n",
    "\n",
    "    ## 검색 버튼 클릭\n",
    "    click = driver_clickable_processor(\"#space4 > li.box_flex > button\")\n",
    "\n",
    "    ## 시도 박스 클릭\n",
    "    dropdown = Select(driver.find_element(By.XPATH, '//*[@id=\"searchPopZoneSd\"]'))\n",
    "    dropdown.select_by_index(14)\n",
    "\n",
    "    ## 지역 버튼 클릭 > 지역마다 클릭 버튼이 다름\n",
    "    dropdown = Select(driver.find_element(By.XPATH, '//*[@id=\"searchPopZoneSgg\"]'))\n",
    "    dropdown.select_by_value(region_button_selector)\n",
    "    \n",
    "    ## 노선명 입력칸 클릭 -> 노선번호(명) 입력\n",
    "    print(\"        Search Node\")\n",
    "    route_name_input = driver_clickable_processor(\"#popupSearchRouteNo\")\n",
    "    route_name_input.send_keys(f\"{routeno}\")\n",
    "\n",
    "    ## 검색 버튼 클릭\n",
    "    search_button = driver_clickable_processor(\"#route_space1 > li.box_flex > button\")\n",
    "\n",
    "    ## 노선명과 기종점이 같은지 확인\n",
    "    routeno_len = int(WebDriverWait(driver, findtime).until(\n",
    "        EC.element_to_be_clickable((By.CLASS_NAME, 'pop_box'))\n",
    "    ).text.split()[2])\n",
    "\n",
    "    try:\n",
    "        WebDriverWait(driver, findtime).until(\n",
    "            EC.presence_of_element_located((By.CSS_SELECTOR, \"#divBusLineList > div.pop_box > table > tbody\"))\n",
    "        )\n",
    "\n",
    "        ## 검색결과 한개인 경우\n",
    "        if routeno_len == 1:\n",
    "            check_routeno = driver.find_element(\n",
    "                By.CSS_SELECTOR, \n",
    "                \"#divBusLineList > div.pop_box > table > tbody > tr > td:nth-child(2)\"\n",
    "                ).text\n",
    "\n",
    "            check_startnodem = driver.find_element(\n",
    "                By.CSS_SELECTOR, \n",
    "                \"#divBusLineList > div.pop_box > table > tbody > tr > td:nth-child(4)\"\n",
    "                ).text.split(\" - \")[0]\n",
    "\n",
    "            ## 노선명과 기종점이 일치할 경우 체크 박스 클릭\n",
    "            if check_routeno == str(routeno): ## and check_startnodem == startnodenm\n",
    "                check_click = driver_clickable_processor(\"#divBusLineList > div.pop_box > table > tbody > tr > td:nth-child(1) > div > label > div\")\n",
    "                select_button = driver_clickable_processor(\"#popupBusLine > div:nth-child(4) > button\")\n",
    "                \n",
    "                ## 첫번째만 실행 이용자유형, 시간대 체크 표시 없애기\n",
    "                # if i == first_i:\n",
    "                type_no_check = driver_clickable_processor(\"#divChkDmn > li:nth-child(8) > label > div\")            \n",
    "                time_no_check = driver_clickable_processor(\"#divChkDmn > li:nth-child(9) > label > div\")\n",
    "            \n",
    "                ## 검색결과조회 버튼 클릭\n",
    "                search_click = driver_clickable_processor(\"#btnSearch > button\")\n",
    "                            \n",
    "                ## 경고 메세지 \"확인\" 클릭\n",
    "                try:\n",
    "                    WebDriverWait(driver, findtime).until(\n",
    "                        EC.alert_is_present()\n",
    "                    )\n",
    "                    alert = driver.switch_to.alert\n",
    "                    alert.accept()  # '확인' 클릭\n",
    "                except Exception as e:\n",
    "                    print(f\"팝업 처리 오류: {e}\")\n",
    "                \n",
    "                ## 노선 이용량 추출\n",
    "                print(\"        Start Extraction1\")\n",
    "                route_usage_element = driver_extract_text_processor(\"#pivotGrid > div > div:nth-child(2) > div.wj-cells > div:nth-child(2) > div\")\n",
    "                route_usage_int = int(route_usage_element.replace(\",\", \"\"))\n",
    "                print(\"        Done Extraction1\")\n",
    "        ## 검색결과 여러 개인 경우\n",
    "        else:         \n",
    "            for j in range(1, 11):\n",
    "                check_routeno = driver.find_element(\n",
    "                    By.CSS_SELECTOR, \n",
    "                    f\"#divBusLineList > div.pop_box > table > tbody > tr:nth-child({j}) > td:nth-child(2)\"\n",
    "                    ).text\n",
    "\n",
    "                check_startnodem = driver.find_element(\n",
    "                    By.CSS_SELECTOR, \n",
    "                    f\"#divBusLineList > div.pop_box > table > tbody > tr:nth-child({j}) > td:nth-child(4)\"\n",
    "                    ).text.split(\" - \")[0]\n",
    "\n",
    "                ## 노선명과 기종점이 일치할 경우 체크 박스 클릭\n",
    "                if check_routeno == str(routeno): ## and check_startnodem == startnodenm:\n",
    "                    driver_clickable_processor(f\"#divBusLineList > div.pop_box > table > tbody > tr:nth-child({j}) > td:nth-child(1) > div > label > div\")\n",
    "            \n",
    "                # for-loop 중단\n",
    "                break\n",
    "            \n",
    "            # 선택버튼 클릭\n",
    "            select_button = driver_clickable_processor(\"#popupBusLine > div:nth-child(4) > button\")\n",
    "                    \n",
    "            ## 첫번째만 실행 이용자유형, 시간대 체크 표시 없애기\n",
    "            # if i == first_i:\n",
    "            type_no_check = driver_clickable_processor(\"#divChkDmn > li:nth-child(8) > label > div\")            \n",
    "            time_no_check = driver_clickable_processor(\"#divChkDmn > li:nth-child(9) > label > div\")\n",
    "\n",
    "            ## 검색결과조회 버튼 클릭\n",
    "            search_click = driver_clickable_processor(\"#btnSearch > button\")\n",
    "            \n",
    "            ## 경고 메세지 \"확인\" 클릭\n",
    "            try:\n",
    "                WebDriverWait(driver, findtime).until(\n",
    "                    EC.alert_is_present()\n",
    "                )\n",
    "                alert = driver.switch_to.alert\n",
    "                alert.accept()  # '확인' 클릭\n",
    "            except Exception as e:\n",
    "                print(f\"팝업 처리 오류: {e}\")\n",
    "            \n",
    "            ## 노선 이용량 추출\n",
    "            print(\"        Start Extraction\")\n",
    "            route_usage_element = driver_extract_text_processor(\"#pivotGrid > div > div:nth-child(2) > div.wj-cells > div:nth-child(2) > div\")\n",
    "            route_usage_int = int(route_usage_element.replace(\",\", \"\"))\n",
    "            print(\"        Done Extraction\")\n",
    "            \n",
    "        print(f\"        Save Usage : {route_usage_int}\")\n",
    "        route_usage_data[f\"{city_name}\"][f\"{routeno}\"] = route_usage_int\n",
    "        \n",
    "        ## 창닫기\n",
    "        driver.quit()\n",
    " \n",
    "    except:\n",
    "        ## 창닫기\n",
    "        driver.quit()   \n",
    "        print(\"         Error\")           "
   ]
  },
  {
   "cell_type": "code",
   "execution_count": null,
   "metadata": {},
   "outputs": [],
   "source": [
    "route_usage_data"
   ]
  },
  {
   "cell_type": "code",
   "execution_count": 24,
   "metadata": {},
   "outputs": [
    {
     "data": {
      "text/plain": [
       "{'사천시': {'100': 793, '102': 1385}}"
      ]
     },
     "execution_count": 24,
     "metadata": {},
     "output_type": "execute_result"
    }
   ],
   "source": [
    "import pickle\n",
    "\n",
    "with open(f'../data/버스이용데이터/{city_name}_usage.pkl', 'wb') as f: \n",
    "   pickle.dump(route_usage_data, f)"
   ]
  },
  {
   "cell_type": "code",
   "execution_count": null,
   "metadata": {},
   "outputs": [],
   "source": []
  }
 ],
 "metadata": {
  "kernelspec": {
   "display_name": "gyeongn",
   "language": "python",
   "name": "python3"
  },
  "language_info": {
   "codemirror_mode": {
    "name": "ipython",
    "version": 3
   },
   "file_extension": ".py",
   "mimetype": "text/x-python",
   "name": "python",
   "nbconvert_exporter": "python",
   "pygments_lexer": "ipython3",
   "version": "3.12.4"
  }
 },
 "nbformat": 4,
 "nbformat_minor": 2
}
