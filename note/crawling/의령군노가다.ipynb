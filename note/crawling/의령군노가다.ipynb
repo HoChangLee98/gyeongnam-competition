{
 "cells": [
  {
   "cell_type": "markdown",
   "metadata": {},
   "source": [
    "## 의령군 노가다"
   ]
  },
  {
   "cell_type": "code",
   "execution_count": 6,
   "metadata": {},
   "outputs": [],
   "source": [
    "import pandas as pd\n",
    "import pickle\n",
    "import warnings\n",
    "warnings.filterwarnings(\"ignore\")"
   ]
  },
  {
   "cell_type": "code",
   "execution_count": 7,
   "metadata": {},
   "outputs": [],
   "source": [
    "# # 데이터 로드\n",
    "with open('../data/버스정보데이터/의령군_inform.pkl', 'rb') as f:\n",
    "\tdata = pickle.load(f)"
   ]
  },
  {
   "cell_type": "code",
   "execution_count": 8,
   "metadata": {},
   "outputs": [
    {
     "data": {
      "text/plain": [
       "{'의령군': {'101-1': {'노선정류장수': None, '노선거리(km)': None, '굴곡도': None},\n",
       "  '101-3': {'노선정류장수': None, '노선거리(km)': None, '굴곡도': None},\n",
       "  '101-2': {'노선정류장수': None, '노선거리(km)': None, '굴곡도': None},\n",
       "  '888': {'노선정류장수': None, '노선거리(km)': None, '굴곡도': None},\n",
       "  '2-20': {'노선정류장수': None, '노선거리(km)': None, '굴곡도': None},\n",
       "  '2-51': {'노선정류장수': None, '노선거리(km)': None, '굴곡도': None},\n",
       "  '2-50': {'노선정류장수': None, '노선거리(km)': None, '굴곡도': None},\n",
       "  '2-91': {'노선정류장수': None, '노선거리(km)': None, '굴곡도': None},\n",
       "  '2-39': {'노선정류장수': None, '노선거리(km)': None, '굴곡도': None},\n",
       "  '2-52': {'노선정류장수': None, '노선거리(km)': None, '굴곡도': None},\n",
       "  '2-37': {'노선정류장수': None, '노선거리(km)': None, '굴곡도': None},\n",
       "  '2-38': {'노선정류장수': None, '노선거리(km)': None, '굴곡도': None},\n",
       "  '2-30': {'노선정류장수': None, '노선거리(km)': None, '굴곡도': None},\n",
       "  '2-31': {'노선정류장수': 53, '노선거리(km)': 36.6, '굴곡도': 1.6},\n",
       "  '2-32': {'노선정류장수': None, '노선거리(km)': None, '굴곡도': None},\n",
       "  '2-36': {'노선정류장수': None, '노선거리(km)': None, '굴곡도': None},\n",
       "  '2-34': {'노선정류장수': None, '노선거리(km)': None, '굴곡도': None},\n",
       "  '2-35': {'노선정류장수': None, '노선거리(km)': None, '굴곡도': None},\n",
       "  '2-33': {'노선정류장수': None, '노선거리(km)': None, '굴곡도': None},\n",
       "  '2-70': {'노선정류장수': None, '노선거리(km)': None, '굴곡도': None},\n",
       "  '2-10': {'노선정류장수': None, '노선거리(km)': None, '굴곡도': None},\n",
       "  '2-11': {'노선정류장수': None, '노선거리(km)': None, '굴곡도': None},\n",
       "  '2-63': {'노선정류장수': None, '노선거리(km)': None, '굴곡도': None},\n",
       "  '2-62': {'노선정류장수': None, '노선거리(km)': None, '굴곡도': None},\n",
       "  '3-10': {'노선정류장수': None, '노선거리(km)': None, '굴곡도': None},\n",
       "  '3-32': {'노선정류장수': None, '노선거리(km)': None, '굴곡도': None},\n",
       "  '3-31': {'노선정류장수': None, '노선거리(km)': None, '굴곡도': None},\n",
       "  '3-23': {'노선정류장수': None, '노선거리(km)': None, '굴곡도': None},\n",
       "  '3-21': {'노선정류장수': 53, '노선거리(km)': 36.6, '굴곡도': 1.6},\n",
       "  '3-20': {'노선정류장수': None, '노선거리(km)': None, '굴곡도': None},\n",
       "  '3-22': {'노선정류장수': None, '노선거리(km)': None, '굴곡도': None},\n",
       "  '2-14': {'노선정류장수': None, '노선거리(km)': None, '굴곡도': None},\n",
       "  '2-15': {'노선정류장수': None, '노선거리(km)': None, '굴곡도': None},\n",
       "  '2-60': {'노선정류장수': None, '노선거리(km)': None, '굴곡도': None},\n",
       "  '2-40': {'노선정류장수': None, '노선거리(km)': None, '굴곡도': None},\n",
       "  '2-41': {'노선정류장수': None, '노선거리(km)': None, '굴곡도': None},\n",
       "  '3-11': {'노선정류장수': None, '노선거리(km)': None, '굴곡도': None},\n",
       "  '3-30': {'노선정류장수': None, '노선거리(km)': None, '굴곡도': None},\n",
       "  '3-33': {'노선정류장수': None, '노선거리(km)': None, '굴곡도': None},\n",
       "  '2-12': {'노선정류장수': None, '노선거리(km)': None, '굴곡도': None},\n",
       "  '2-13': {'노선정류장수': None, '노선거리(km)': None, '굴곡도': None},\n",
       "  '2-21': {'노선정류장수': None, '노선거리(km)': None, '굴곡도': None},\n",
       "  '2-22': {'노선정류장수': None, '노선거리(km)': None, '굴곡도': None},\n",
       "  '4-10': {'노선정류장수': None, '노선거리(km)': None, '굴곡도': None},\n",
       "  '2-74': {'노선정류장수': None, '노선거리(km)': None, '굴곡도': None},\n",
       "  '2-75': {'노선정류장수': None, '노선거리(km)': None, '굴곡도': None},\n",
       "  '4-11': {'노선정류장수': None, '노선거리(km)': None, '굴곡도': None},\n",
       "  '2-61': {'노선정류장수': None, '노선거리(km)': None, '굴곡도': None},\n",
       "  '4-20': {'노선정류장수': None, '노선거리(km)': None, '굴곡도': None},\n",
       "  '4-21': {'노선정류장수': None, '노선거리(km)': None, '굴곡도': None}}}"
      ]
     },
     "execution_count": 8,
     "metadata": {},
     "output_type": "execute_result"
    }
   ],
   "source": [
    "data"
   ]
  },
  {
   "cell_type": "code",
   "execution_count": 9,
   "metadata": {},
   "outputs": [],
   "source": [
    "data = {'의령군': {'101-1': {'노선정류장수': 19, '노선거리(km)': None, '굴곡도': None},\n",
    "  '101-3': {'노선정류장수': 20, '노선거리(km)': None, '굴곡도': None},\n",
    "  '101-2': {'노선정류장수': 23, '노선거리(km)': None, '굴곡도': None},\n",
    "  '888': {'노선정류장수': 57, '노선거리(km)': None, '굴곡도': None},\n",
    "  '2-20': {'노선정류장수': 48, '노선거리(km)': None, '굴곡도': None},\n",
    "  '2-51': {'노선정류장수': 35, '노선거리(km)': None, '굴곡도': None},\n",
    "  '2-50': {'노선정류장수': 31, '노선거리(km)': None, '굴곡도': None},\n",
    "  '2-91': {'노선정류장수': 15, '노선거리(km)': None, '굴곡도': None},\n",
    "  '2-39': {'노선정류장수': 44, '노선거리(km)': None, '굴곡도': None},\n",
    "  '2-52': {'노선정류장수': 5, '노선거리(km)': None, '굴곡도': None},\n",
    "  '2-37': {'노선정류장수': 36, '노선거리(km)': None, '굴곡도': None},\n",
    "  '2-38': {'노선정류장수': 44, '노선거리(km)': None, '굴곡도': None},\n",
    "  '2-30': {'노선정류장수': 36, '노선거리(km)': None, '굴곡도': None},\n",
    "  '2-31': {'노선정류장수': 53, '노선거리(km)': 36.6, '굴곡도': 1.6},\n",
    "  '2-32': {'노선정류장수': 47, '노선거리(km)': None, '굴곡도': None},\n",
    "  '2-36': {'노선정류장수': 57, '노선거리(km)': None, '굴곡도': None},\n",
    "  '2-34': {'노선정류장수': 43, '노선거리(km)': None, '굴곡도': None},\n",
    "  '2-35': {'노선정류장수': 53, '노선거리(km)': None, '굴곡도': None},\n",
    "  '2-33': {'노선정류장수': 46, '노선거리(km)': None, '굴곡도': None},\n",
    "  '2-70': {'노선정류장수': 11, '노선거리(km)': None, '굴곡도': None},\n",
    "  '2-10': {'노선정류장수': 23, '노선거리(km)': None, '굴곡도': None},\n",
    "  '2-11': {'노선정류장수': 34, '노선거리(km)': None, '굴곡도': None},\n",
    "  '2-63': {'노선정류장수': 33, '노선거리(km)': None, '굴곡도': None},\n",
    "  '2-62': {'노선정류장수': 26, '노선거리(km)': None, '굴곡도': None},\n",
    "  '3-10': {'노선정류장수': 29, '노선거리(km)': None, '굴곡도': None},\n",
    "  '3-32': {'노선정류장수': 16, '노선거리(km)': None, '굴곡도': None},\n",
    "  '3-31': {'노선정류장수': 11, '노선거리(km)': None, '굴곡도': None},\n",
    "  '3-23': {'노선정류장수': 38, '노선거리(km)': None, '굴곡도': None},\n",
    "  '3-21': {'노선정류장수': 53, '노선거리(km)': 36.6, '굴곡도': 1.6},\n",
    "  '3-20': {'노선정류장수': 51, '노선거리(km)': None, '굴곡도': None},\n",
    "  '3-22': {'노선정류장수': 40, '노선거리(km)': None, '굴곡도': None},\n",
    "  '2-14': {'노선정류장수': 58, '노선거리(km)': None, '굴곡도': None},\n",
    "  '2-15': {'노선정류장수': 76, '노선거리(km)': None, '굴곡도': None},\n",
    "  '2-60': {'노선정류장수': 44, '노선거리(km)': None, '굴곡도': None},\n",
    "  '2-40': {'노선정류장수': 20, '노선거리(km)': None, '굴곡도': None},\n",
    "  '2-41': {'노선정류장수': 29, '노선거리(km)': None, '굴곡도': None},\n",
    "  '3-11': {'노선정류장수': 12, '노선거리(km)': None, '굴곡도': None},\n",
    "  '3-30': {'노선정류장수': 14, '노선거리(km)': None, '굴곡도': None},\n",
    "  '3-33': {'노선정류장수': 11, '노선거리(km)': None, '굴곡도': None},\n",
    "  '2-12': {'노선정류장수': 37, '노선거리(km)': None, '굴곡도': None},\n",
    "  '2-13': {'노선정류장수': 41, '노선거리(km)': None, '굴곡도': None},\n",
    "  '2-21': {'노선정류장수': 27, '노선거리(km)': None, '굴곡도': None},\n",
    "  '2-22': {'노선정류장수': 45, '노선거리(km)': None, '굴곡도': None},\n",
    "  '4-10': {'노선정류장수': 51, '노선거리(km)': None, '굴곡도': None},\n",
    "  '2-74': {'노선정류장수': 7, '노선거리(km)': None, '굴곡도': None},\n",
    "  '2-75': {'노선정류장수': 6, '노선거리(km)': None, '굴곡도': None},\n",
    "  '4-11': {'노선정류장수': 51, '노선거리(km)': None, '굴곡도': None},\n",
    "  '2-61': {'노선정류장수': 17, '노선거리(km)': None, '굴곡도': None},\n",
    "  '4-20': {'노선정류장수': 8, '노선거리(km)': None, '굴곡도': None},\n",
    "  '4-21': {'노선정류장수': 15, '노선거리(km)': None, '굴곡도': None}}}"
   ]
  },
  {
   "cell_type": "code",
   "execution_count": 11,
   "metadata": {},
   "outputs": [],
   "source": [
    "import pickle\n",
    "\n",
    "with open(f'../data/버스정보데이터/의령군_inform.pkl', 'wb') as f: \n",
    "\tpickle.dump(data, f)"
   ]
  },
  {
   "cell_type": "code",
   "execution_count": null,
   "metadata": {},
   "outputs": [],
   "source": []
  },
  {
   "cell_type": "code",
   "execution_count": null,
   "metadata": {},
   "outputs": [],
   "source": []
  },
  {
   "cell_type": "code",
   "execution_count": null,
   "metadata": {},
   "outputs": [],
   "source": []
  },
  {
   "cell_type": "code",
   "execution_count": null,
   "metadata": {},
   "outputs": [],
   "source": []
  },
  {
   "cell_type": "code",
   "execution_count": null,
   "metadata": {},
   "outputs": [],
   "source": []
  },
  {
   "cell_type": "code",
   "execution_count": null,
   "metadata": {},
   "outputs": [],
   "source": []
  }
 ],
 "metadata": {
  "kernelspec": {
   "display_name": "gyeongn",
   "language": "python",
   "name": "python3"
  },
  "language_info": {
   "codemirror_mode": {
    "name": "ipython",
    "version": 3
   },
   "file_extension": ".py",
   "mimetype": "text/x-python",
   "name": "python",
   "nbconvert_exporter": "python",
   "pygments_lexer": "ipython3",
   "version": "3.12.4"
  }
 },
 "nbformat": 4,
 "nbformat_minor": 2
}
