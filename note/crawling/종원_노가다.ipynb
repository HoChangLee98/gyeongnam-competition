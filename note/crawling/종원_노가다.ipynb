{
 "cells": [
  {
   "cell_type": "code",
   "execution_count": 23,
   "metadata": {},
   "outputs": [],
   "source": [
    "import seaborn as sns\n",
    "import pandas as pd\n",
    "import numpy as np\n",
    "import pickle"
   ]
  },
  {
   "cell_type": "code",
   "execution_count": 24,
   "metadata": {},
   "outputs": [],
   "source": [
    "with open(\"../../data/버스기본데이터/노선경유지데이터.pkl\", \"rb\") as f:\n",
    "    loaded_dict = pickle.load(f)\n",
    "list_data = []"
   ]
  },
  {
   "cell_type": "markdown",
   "metadata": {},
   "source": [
    "### 첫번째 지역(창원)만"
   ]
  },
  {
   "cell_type": "code",
   "execution_count": 25,
   "metadata": {},
   "outputs": [],
   "source": [
    "bus_stop = pd.DataFrame(columns=[\"rigeon1\", \"nodeid1\", \"routeid1\"])\n",
    "\n",
    "\n",
    "for a in range(1):\n",
    "    i = list(loaded_dict.keys())[a]\n",
    "    for j in loaded_dict[i].keys():\n",
    "        for k in range(len(loaded_dict[i][j])):\n",
    "            bus_stop = pd.concat([bus_stop, pd.DataFrame({\"rigeon1\": [i], \"nodeid1\": [loaded_dict[i][j][k][\"nodeid\"]], \"routeid1\": [[]]})], ignore_index=True)\n",
    "\n",
    "    bus_stop.drop_duplicates(['nodeid1'], inplace=True)\n",
    "\n",
    "    def update_routeid(row):\n",
    "        for j in loaded_dict[i].keys():\n",
    "            for k in range(len(loaded_dict[i][j])):\n",
    "                if row['nodeid1'] == loaded_dict[i][j][k][\"nodeid\"]:\n",
    "                    row['routeid1'].append(loaded_dict[i][j][k][\"routeid\"])\n",
    "        return row\n",
    "\n",
    "    bus_stop = bus_stop.apply(update_routeid, axis=1)\n"
   ]
  },
  {
   "cell_type": "markdown",
   "metadata": {},
   "source": [
    "### 진주지역"
   ]
  },
  {
   "cell_type": "code",
   "execution_count": 26,
   "metadata": {},
   "outputs": [],
   "source": [
    "for a in range(1, 2):\n",
    "    i = list(loaded_dict.keys())[a]\n",
    "    for j in loaded_dict[i].keys():\n",
    "        if j in (\"JJB381134420\", \"JJB381238020\"):\n",
    "            bus_stop = pd.concat([bus_stop, pd.DataFrame({\"rigeon1\": [i], \"nodeid1\": [loaded_dict[i][j][\"nodeid\"]], \"routeid1\": [[]]})], ignore_index=True)\n",
    "        else: \n",
    "            for k in range(len(loaded_dict[i][j])):\n",
    "                bus_stop = pd.concat([bus_stop, pd.DataFrame({\"rigeon1\": [i], \"nodeid1\": [loaded_dict[i][j][k][\"nodeid\"]], \"routeid1\": [[]]})], ignore_index=True)\n",
    "\n",
    "    bus_stop.drop_duplicates(['nodeid1'], inplace=True)\n",
    "\n",
    "    def update_routeid(row):\n",
    "        for j in loaded_dict[i].keys():\n",
    "            if j in (\"JJB381134420\", \"JJB381238020\"):\n",
    "               if row['nodeid1'] == loaded_dict[i][j][\"nodeid\"]:\n",
    "                    row['routeid1'].append(loaded_dict[i][j][\"routeid\"])\n",
    "            else:\n",
    "                for k in range(len(loaded_dict[i][j])):\n",
    "                   if row['nodeid1'] == loaded_dict[i][j][k][\"nodeid\"]:\n",
    "                        row['routeid1'].append(loaded_dict[i][j][k][\"routeid\"])\n",
    "        return row\n",
    "\n",
    "    bus_stop = bus_stop.apply(update_routeid, axis=1)"
   ]
  },
  {
   "cell_type": "markdown",
   "metadata": {},
   "source": [
    "### 세 번째 부터 마지막"
   ]
  },
  {
   "cell_type": "code",
   "execution_count": 27,
   "metadata": {},
   "outputs": [],
   "source": [
    "for a in range(2, 18):\n",
    "    i = list(loaded_dict.keys())[a]\n",
    "    for j in loaded_dict[i].keys():\n",
    "        for k in range(len(loaded_dict[i][j])):\n",
    "            bus_stop = pd.concat([bus_stop, pd.DataFrame({\"rigeon1\": [i], \"nodeid1\": [loaded_dict[i][j][k][\"nodeid\"]], \"routeid1\": [[]]})], ignore_index=True)\n",
    "\n",
    "    bus_stop.drop_duplicates(['nodeid1'], inplace=True)\n",
    "\n",
    "    def update_routeid(row):\n",
    "        for j in loaded_dict[i].keys():\n",
    "            for k in range(len(loaded_dict[i][j])):\n",
    "                if row['nodeid1'] == loaded_dict[i][j][k][\"nodeid\"]:\n",
    "                    row['routeid1'].append(loaded_dict[i][j][k][\"routeid\"])\n",
    "        return row\n",
    "\n",
    "    bus_stop = bus_stop.apply(update_routeid, axis=1)\n"
   ]
  },
  {
   "cell_type": "code",
   "execution_count": 29,
   "metadata": {},
   "outputs": [
    {
     "data": {
      "text/html": [
       "<div>\n",
       "<style scoped>\n",
       "    .dataframe tbody tr th:only-of-type {\n",
       "        vertical-align: middle;\n",
       "    }\n",
       "\n",
       "    .dataframe tbody tr th {\n",
       "        vertical-align: top;\n",
       "    }\n",
       "\n",
       "    .dataframe thead th {\n",
       "        text-align: right;\n",
       "    }\n",
       "</style>\n",
       "<table border=\"1\" class=\"dataframe\">\n",
       "  <thead>\n",
       "    <tr style=\"text-align: right;\">\n",
       "      <th></th>\n",
       "      <th>rigeon1</th>\n",
       "      <th>nodeid1</th>\n",
       "      <th>routeid1</th>\n",
       "    </tr>\n",
       "  </thead>\n",
       "  <tbody>\n",
       "    <tr>\n",
       "      <th>0</th>\n",
       "      <td>38010</td>\n",
       "      <td>CWB379003142</td>\n",
       "      <td>[CWB379000010, CWB379000030, CWB379000310, CWB...</td>\n",
       "    </tr>\n",
       "    <tr>\n",
       "      <th>1</th>\n",
       "      <td>38010</td>\n",
       "      <td>CWB379000045</td>\n",
       "      <td>[CWB379000010, CWB379000030, CWB379000310, CWB...</td>\n",
       "    </tr>\n",
       "    <tr>\n",
       "      <th>2</th>\n",
       "      <td>38010</td>\n",
       "      <td>CWB379000041</td>\n",
       "      <td>[CWB379000010, CWB379000310, CWB379000360, CWB...</td>\n",
       "    </tr>\n",
       "    <tr>\n",
       "      <th>3</th>\n",
       "      <td>38010</td>\n",
       "      <td>CWB379000022</td>\n",
       "      <td>[CWB379000010, CWB379000310, CWB379000360, CWB...</td>\n",
       "    </tr>\n",
       "    <tr>\n",
       "      <th>4</th>\n",
       "      <td>38010</td>\n",
       "      <td>CWB379000027</td>\n",
       "      <td>[CWB379000010, CWB379000310, CWB379000360, CWB...</td>\n",
       "    </tr>\n",
       "    <tr>\n",
       "      <th>...</th>\n",
       "      <td>...</td>\n",
       "      <td>...</td>\n",
       "      <td>...</td>\n",
       "    </tr>\n",
       "    <tr>\n",
       "      <th>21477</th>\n",
       "      <td>38400</td>\n",
       "      <td>TSB398000860</td>\n",
       "      <td>[TSB398000162, TSB398000163]</td>\n",
       "    </tr>\n",
       "    <tr>\n",
       "      <th>21481</th>\n",
       "      <td>38400</td>\n",
       "      <td>TSB398000859</td>\n",
       "      <td>[TSB398000162, TSB398000163]</td>\n",
       "    </tr>\n",
       "    <tr>\n",
       "      <th>21602</th>\n",
       "      <td>38400</td>\n",
       "      <td>TSB398000697</td>\n",
       "      <td>[TSB398000168]</td>\n",
       "    </tr>\n",
       "    <tr>\n",
       "      <th>21603</th>\n",
       "      <td>38400</td>\n",
       "      <td>TSB398000696</td>\n",
       "      <td>[TSB398000168]</td>\n",
       "    </tr>\n",
       "    <tr>\n",
       "      <th>21604</th>\n",
       "      <td>38400</td>\n",
       "      <td>TSB398000695</td>\n",
       "      <td>[TSB398000168]</td>\n",
       "    </tr>\n",
       "  </tbody>\n",
       "</table>\n",
       "<p>18654 rows × 3 columns</p>\n",
       "</div>"
      ],
      "text/plain": [
       "      rigeon1       nodeid1                                           routeid1\n",
       "0       38010  CWB379003142  [CWB379000010, CWB379000030, CWB379000310, CWB...\n",
       "1       38010  CWB379000045  [CWB379000010, CWB379000030, CWB379000310, CWB...\n",
       "2       38010  CWB379000041  [CWB379000010, CWB379000310, CWB379000360, CWB...\n",
       "3       38010  CWB379000022  [CWB379000010, CWB379000310, CWB379000360, CWB...\n",
       "4       38010  CWB379000027  [CWB379000010, CWB379000310, CWB379000360, CWB...\n",
       "...       ...           ...                                                ...\n",
       "21477   38400  TSB398000860                       [TSB398000162, TSB398000163]\n",
       "21481   38400  TSB398000859                       [TSB398000162, TSB398000163]\n",
       "21602   38400  TSB398000697                                     [TSB398000168]\n",
       "21603   38400  TSB398000696                                     [TSB398000168]\n",
       "21604   38400  TSB398000695                                     [TSB398000168]\n",
       "\n",
       "[18654 rows x 3 columns]"
      ]
     },
     "execution_count": 29,
     "metadata": {},
     "output_type": "execute_result"
    }
   ],
   "source": [
    "bus_stop"
   ]
  },
  {
   "cell_type": "code",
   "execution_count": 28,
   "metadata": {},
   "outputs": [],
   "source": [
    "bus_stop.to_csv(\"../../data/정류소_노선.csv\", index = False)"
   ]
  }
 ],
 "metadata": {
  "kernelspec": {
   "display_name": "Python 3",
   "language": "python",
   "name": "python3"
  },
  "language_info": {
   "codemirror_mode": {
    "name": "ipython",
    "version": 3
   },
   "file_extension": ".py",
   "mimetype": "text/x-python",
   "name": "python",
   "nbconvert_exporter": "python",
   "pygments_lexer": "ipython3",
   "version": "3.12.4"
  }
 },
 "nbformat": 4,
 "nbformat_minor": 2
}
