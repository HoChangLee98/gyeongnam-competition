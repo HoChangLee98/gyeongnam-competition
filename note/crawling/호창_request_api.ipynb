{
 "cells": [
  {
   "cell_type": "markdown",
   "metadata": {},
   "source": [
    "### Geocoder API 2.0 레퍼런스\n",
    "* 주소 -> 좌표"
   ]
  },
  {
   "cell_type": "code",
   "execution_count": 1,
   "metadata": {},
   "outputs": [
    {
     "name": "stdout",
     "output_type": "stream",
     "text": [
      "127.101313354 37.402352535\n"
     ]
    }
   ],
   "source": [
    "import sys\n",
    "\n",
    "## src 경로 추가\n",
    "sys.path.append(\"../src/\") \n",
    "\n",
    "## utils.py에 작성되어있는 모든 함수 호출 가능\n",
    "from utils import * \n",
    "\n",
    "## utils.py내에 address2coordinate 함수 사용\n",
    "long, lat = address2coordinate(\n",
    "    address=\"판교로 242\"\n",
    ")\n",
    "\n",
    "print(long, lat)"
   ]
  }
 ],
 "metadata": {
  "kernelspec": {
   "display_name": "gyeongn",
   "language": "python",
   "name": "python3"
  },
  "language_info": {
   "codemirror_mode": {
    "name": "ipython",
    "version": 3
   },
   "file_extension": ".py",
   "mimetype": "text/x-python",
   "name": "python",
   "nbconvert_exporter": "python",
   "pygments_lexer": "ipython3",
   "version": "3.12.4"
  }
 },
 "nbformat": 4,
 "nbformat_minor": 2
}
