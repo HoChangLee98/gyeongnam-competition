{
 "cells": [
  {
   "cell_type": "code",
   "execution_count": 1,
   "metadata": {},
   "outputs": [],
   "source": [
    "import pandas as pd\n",
    "import warnings\n",
    "warnings.filterwarnings('ignore')"
   ]
  },
  {
   "cell_type": "code",
   "execution_count": 5,
   "metadata": {},
   "outputs": [],
   "source": [
    "busroute_usage = pd.read_csv(\n",
    "    filepath_or_buffer=\"../../data/버스기본데이터/gyeongn_busroute_total.csv\"\n",
    "    )"
   ]
  },
  {
   "cell_type": "code",
   "execution_count": 6,
   "metadata": {},
   "outputs": [
    {
     "data": {
      "text/plain": [
       "array(['10', '11', '11-2', '22', '23', '22-1', '23-1', '20', '24-1', '40',\n",
       "       '40-1', '40-2', '40-3', '41', '41-1', '41-2', '42', '42-2', '58',\n",
       "       '50', '55', '51', '52', '53', '53-1', '54', '44', '70', '130',\n",
       "       '71', '71-1', '통학2', '131', '131-1', '113', '39', '38', '35',\n",
       "       '35-1', '37', '36', '36-1', '30-1', '31-1', '31', '30', '33', '32',\n",
       "       '34', '61', '61-1', '62', '62-1', '63', '67', '65', '60', '60-1',\n",
       "       '17-1', '17', '100', '101', '110', '111', '100-2', '112', '130-2',\n",
       "       '114', '102', '120', '43', '43-1', '120-1', '54-1', '116', '104',\n",
       "       '103', '16', '16-1', '16-2', '150', '152', '16-4', '20-1', '140',\n",
       "       '141', '151', '통학7', '120-2', '2000', '14', '10-3', '10-2', '16-3',\n",
       "       '20-2', '32-1', '55-1', '300', '310', '152-1', '33-1', '11-3',\n",
       "       '132', '132-2', '132-6', '통학1', '134', '301', '133', '132-3',\n",
       "       '132-4', '3000', '4000', '25', '25-1', '16-5', '12-1', '14-1',\n",
       "       '24-2', '25-2', '30-2', '67-1', '152-2', '통학1-1', '132-7', '통학3',\n",
       "       '통학4', '통학5', '통학6', '통학8', '50-2', '통학10', '통학9', '25-3', '통학2-1',\n",
       "       '거제5', '거제1', '거제1-1', '거제2-1', '거제2', '거제2-2', '거제3', '거제3-3',\n",
       "       '거제3-2', '거제3-1', '거제4', '거제4-2', '거제4-3', '거제4-1', '거제4-4',\n",
       "       '거제4-5', '거제4-6', '둔덕1', '둔덕2', '남부3', '남부2', '남부4', '남부1', '둔덕3'],\n",
       "      dtype=object)"
      ]
     },
     "execution_count": 6,
     "metadata": {},
     "output_type": "execute_result"
    }
   ],
   "source": [
    "busroute_usage[busroute_usage[\"city_name\"] == \"거제시\"][\"routeno\"].unique()"
   ]
  },
  {
   "cell_type": "code",
   "execution_count": 24,
   "metadata": {},
   "outputs": [],
   "source": [
    "# none_city_list = ['함양군', '고성군', '남해군']\n",
    "# for city_name in none_city_list:\n",
    "#     route_inform_data = {}\n",
    "#     route_inform_data[f\"{city_name}\"] = {}\n",
    "#     for routeno in busroute_usage[busroute_usage[\"city_name\"] == f\"{city_name}\"][\"routeno\"].unique():    \n",
    "#         route_inform_data[f\"{city_name}\"][f\"{routeno}\"] = {}\n",
    "#         route_inform_data[f\"{city_name}\"][f\"{routeno}\"][\"노선정류장수\"] = None\n",
    "#         route_inform_data[f\"{city_name}\"][f\"{routeno}\"][\"노선거리(km)\"] = None\n",
    "#         route_inform_data[f\"{city_name}\"][f\"{routeno}\"][\"굴곡도\"] = None\n",
    "        \n",
    "#     # 데이터 로드\n",
    "#     with open(f'../data/버스정보데이터/{city_name}_inform.pkl', 'wb') as f:\n",
    "#         pickle.dump(route_inform_data, f)"
   ]
  },
  {
   "cell_type": "code",
   "execution_count": 9,
   "metadata": {},
   "outputs": [],
   "source": [
    "## 거제시\n",
    "city_name = \"거제시\"\n",
    "route_usage_data = {}\n",
    "route_usage_data[f\"{city_name}\"] = {}\n",
    "for routeno in busroute_usage[busroute_usage[\"city_name\"] == f\"{city_name}\"][\"routeno\"].unique():    \n",
    "    route_usage_data[f\"{city_name}\"][f\"{routeno}\"] = None\n",
    "    \n",
    "## 데이터 저장\n",
    "import pickle\n",
    "with open(f'../../data/버스이용데이터/{city_name}_usage.pkl', 'wb') as f:\n",
    "    pickle.dump(route_usage_data, f)"
   ]
  },
  {
   "cell_type": "code",
   "execution_count": 4,
   "metadata": {},
   "outputs": [],
   "source": [
    "# ## 고성군\n",
    "# city_name = \"고성군\"\n",
    "# route_usage_data = {}\n",
    "# route_usage_data[f\"{city_name}\"] = {}\n",
    "# for routeno in busroute_usage[busroute_usage[\"city_name\"] == f\"{city_name}\"][\"routeno\"].unique():    \n",
    "#     route_usage_data[f\"{city_name}\"][f\"{routeno}\"] = None"
   ]
  },
  {
   "cell_type": "code",
   "execution_count": 6,
   "metadata": {},
   "outputs": [
    {
     "data": {
      "text/plain": [
       "25"
      ]
     },
     "execution_count": 6,
     "metadata": {},
     "output_type": "execute_result"
    }
   ],
   "source": [
    "len(busroute_usage[busroute_usage[\"city_name\"] == f\"{city_name}\"][\"routeno\"].unique())"
   ]
  },
  {
   "cell_type": "code",
   "execution_count": 5,
   "metadata": {},
   "outputs": [
    {
     "data": {
      "text/plain": [
       "{'고성군': {'000': None,\n",
       "  '111': None,\n",
       "  '222': None,\n",
       "  '767': None,\n",
       "  '753': None,\n",
       "  '999': None,\n",
       "  '000-1': None,\n",
       "  '333': None,\n",
       "  '111-1': None,\n",
       "  '989': None,\n",
       "  '999-1': None,\n",
       "  '777': None,\n",
       "  '212': None,\n",
       "  '111-2': None,\n",
       "  '989-1': None,\n",
       "  '999-2': None,\n",
       "  '225': None,\n",
       "  '557': None,\n",
       "  '553': None,\n",
       "  '657': None,\n",
       "  '233': None,\n",
       "  '333-1': None,\n",
       "  '333-2': None,\n",
       "  '756': None,\n",
       "  '770': None}}"
      ]
     },
     "execution_count": 5,
     "metadata": {},
     "output_type": "execute_result"
    }
   ],
   "source": [
    "route_usage_data"
   ]
  },
  {
   "cell_type": "code",
   "execution_count": 8,
   "metadata": {},
   "outputs": [],
   "source": [
    "# ## 데이터 로드\n",
    "# import pickle\n",
    "# with open(f'../data/버스이용데이터/{city_name}_usage.pkl', 'wb') as f:\n",
    "#     pickle.dump(route_usage_data, f)"
   ]
  },
  {
   "cell_type": "code",
   "execution_count": 9,
   "metadata": {},
   "outputs": [],
   "source": [
    "# route_inform_data = {\"남해군\" : {\n",
    "#     \"010\" : None, \"011\" : None, \"012\" : None, \"013\" : None, \"014\" : None, \"015\" : None, \n",
    "#     \"020\" : None, \"030\" : 1117, \"040\" : 60, \"050\" : None, \"060\" : None, \n",
    "#     \"101\" : 197, \"102\" : 83, \n",
    "#     \"201\" : 197, \"202\" : 83, \"203\" : 45, \"204\" : 45, \n",
    "#     \"301\" : 65, \"302\" : 127, \"303\" : 62, \"304\" : None, \"305\" : None, \n",
    "#     \"401\" : 125, \"402\" : 384, \"403\" : 34, \"404\" : 118, \"405\" : 134, \"406\" : 127, \"407\" : 102, \"408\" : 134,\n",
    "#     \"802-1\" : 206, \"803-1\" : 206, \"803\" : 206, \"804\" : 206, \"805-1\" : 206,\n",
    "#     \"801\" : 206, \"804-1\" : 206, \"801-1\" : 206, \"802\" : 206, \"805\" : 206,\n",
    "#     \"700\" : 311, \"701\" : 311, \"601\" : 314, \"602\" : 314, \"603\" : 314,\n",
    "#     \"501\" : 781, \"500\" : 781, \"502\" : 781, \"503\" : 781, \"504\" : 781,\n",
    "# }}"
   ]
  },
  {
   "cell_type": "code",
   "execution_count": 12,
   "metadata": {},
   "outputs": [],
   "source": [
    "import pickle\n",
    "# with open(f'../data/버스정보데이터/남해군_inform.pkl', 'wb') as f: \n",
    "#     pickle.dump(route_inform_data, f)"
   ]
  },
  {
   "cell_type": "code",
   "execution_count": 19,
   "metadata": {},
   "outputs": [],
   "source": [
    "# # 데이터 로드\n",
    "# with open('../data/버스정보데이터/거창군_inform.pkl', 'rb') as f:\n",
    "# \tdata = pickle.load(f)"
   ]
  }
 ],
 "metadata": {
  "kernelspec": {
   "display_name": "gyeongn",
   "language": "python",
   "name": "python3"
  },
  "language_info": {
   "codemirror_mode": {
    "name": "ipython",
    "version": 3
   },
   "file_extension": ".py",
   "mimetype": "text/x-python",
   "name": "python",
   "nbconvert_exporter": "python",
   "pygments_lexer": "ipython3",
   "version": "3.12.4"
  }
 },
 "nbformat": 4,
 "nbformat_minor": 2
}
