{
 "cells": [
  {
   "cell_type": "markdown",
   "metadata": {},
   "source": [
    "### 버스 노선별 정류장수, 거리, 굴곡도"
   ]
  },
  {
   "cell_type": "code",
   "execution_count": 1,
   "metadata": {},
   "outputs": [],
   "source": [
    "import pandas as pd\n",
    "import warnings\n",
    "warnings.filterwarnings('ignore')"
   ]
  },
  {
   "cell_type": "code",
   "execution_count": 2,
   "metadata": {},
   "outputs": [],
   "source": [
    "busroute_usage = pd.read_csv(\n",
    "    filepath_or_buffer=\"../data/gyeongn_busroute_total.csv\"\n",
    "    )"
   ]
  },
  {
   "cell_type": "markdown",
   "metadata": {},
   "source": [
    "### 웹 크롤링"
   ]
  },
  {
   "cell_type": "code",
   "execution_count": 3,
   "metadata": {},
   "outputs": [],
   "source": [
    "from selenium import webdriver as wb\n",
    "from selenium.webdriver.common.by import By\n",
    "from selenium.webdriver.support.ui import WebDriverWait\n",
    "from selenium.webdriver.support import expected_conditions as EC\n",
    "from selenium.webdriver.chrome.options import Options\n",
    "from selenium.webdriver.support.ui import Select\n",
    "from tqdm import tqdm"
   ]
  },
  {
   "cell_type": "code",
   "execution_count": 5,
   "metadata": {},
   "outputs": [
    {
     "name": "stderr",
     "output_type": "stream",
     "text": [
      "0it [00:00, ?it/s]"
     ]
    },
    {
     "name": "stdout",
     "output_type": "stream",
     "text": [
      "    ## Start Extract:681\n",
      "        routeno    : 100\n",
      "        startnodenm: 삼포교통차고지\n",
      "        Start Extraction1\n",
      "        Done Extraction1\n",
      "        Save Usage:\n",
      "            노선정류장수: 31\n",
      "            노선거리(km): 8.7\n",
      "            굴곡도:       6.5\n"
     ]
    },
    {
     "name": "stderr",
     "output_type": "stream",
     "text": [
      "1it [00:14, 14.27s/it]"
     ]
    },
    {
     "name": "stdout",
     "output_type": "stream",
     "text": [
      "    ## Start Extract:682\n",
      "        routeno    : 101\n",
      "        startnodenm: 삼포교통차고지\n",
      "        Start Extraction1\n",
      "        Done Extraction1\n",
      "        Save Usage:\n",
      "            노선정류장수: 42\n",
      "            노선거리(km): 12.5\n",
      "            굴곡도:       6.6\n"
     ]
    },
    {
     "name": "stderr",
     "output_type": "stream",
     "text": [
      "2it [00:26, 13.29s/it]"
     ]
    },
    {
     "name": "stdout",
     "output_type": "stream",
     "text": [
      "    ## Start Extract:683\n",
      "        routeno    : 102\n",
      "        startnodenm: 삼포교통차고지\n",
      "        Start Extraction1\n",
      "        Done Extraction1\n",
      "        Save Usage:\n",
      "            노선정류장수: 49\n",
      "            노선거리(km): 17.4\n",
      "            굴곡도:       2.9\n"
     ]
    },
    {
     "name": "stderr",
     "output_type": "stream",
     "text": [
      "3it [00:39, 12.94s/it]"
     ]
    },
    {
     "name": "stdout",
     "output_type": "stream",
     "text": [
      "    ## Start Extract:684\n",
      "        routeno    : 110\n",
      "        startnodenm: 삼포교통차고지\n",
      "        Start Extraction1\n",
      "        Done Extraction1\n",
      "        Save Usage:\n",
      "            노선정류장수: 111\n",
      "            노선거리(km): 44.3\n",
      "            굴곡도:       1.6\n"
     ]
    },
    {
     "name": "stderr",
     "output_type": "stream",
     "text": [
      "4it [00:52, 12.85s/it]"
     ]
    },
    {
     "name": "stdout",
     "output_type": "stream",
     "text": [
      "    ## Start Extract:685\n",
      "        routeno    : 111\n",
      "        startnodenm: 삼포교통차고지\n",
      "        Start Extraction1\n",
      "        Done Extraction1\n",
      "        Save Usage:\n",
      "            노선정류장수: 123\n",
      "            노선거리(km): 53.0\n",
      "            굴곡도:       2.0\n"
     ]
    },
    {
     "name": "stderr",
     "output_type": "stream",
     "text": [
      "5it [01:04, 12.69s/it]"
     ]
    },
    {
     "name": "stdout",
     "output_type": "stream",
     "text": [
      "    ## Start Extract:686\n",
      "        routeno    : 112\n",
      "        startnodenm: 삼포교통차고지\n",
      "        Start Extraction1\n",
      "        Done Extraction1\n",
      "        Save Usage:\n",
      "            노선정류장수: 116\n",
      "            노선거리(km): 62.7\n",
      "            굴곡도:       2.4\n"
     ]
    },
    {
     "name": "stderr",
     "output_type": "stream",
     "text": [
      "6it [01:16, 12.51s/it]"
     ]
    },
    {
     "name": "stdout",
     "output_type": "stream",
     "text": [
      "    ## Start Extract:687\n",
      "        routeno    : 130\n",
      "        startnodenm: 삼포교통차고지\n",
      "        Start Extraction1\n",
      "        Done Extraction1\n",
      "        Save Usage:\n",
      "            노선정류장수: 94\n",
      "            노선거리(km): 50.0\n",
      "            굴곡도:       2.2\n"
     ]
    },
    {
     "name": "stderr",
     "output_type": "stream",
     "text": [
      "7it [01:28, 12.40s/it]"
     ]
    },
    {
     "name": "stdout",
     "output_type": "stream",
     "text": [
      "    ## Start Extract:688\n",
      "        routeno    : 132\n",
      "        startnodenm: 삼포교통차고지\n",
      "        Start Extraction1\n",
      "        Done Extraction1\n",
      "        Save Usage:\n",
      "            노선정류장수: 98\n",
      "            노선거리(km): 53.0\n",
      "            굴곡도:       2.2\n"
     ]
    },
    {
     "name": "stderr",
     "output_type": "stream",
     "text": [
      "8it [01:40, 12.24s/it]"
     ]
    },
    {
     "name": "stdout",
     "output_type": "stream",
     "text": [
      "    ## Start Extract:689\n",
      "        routeno    : 132-1\n",
      "        startnodenm: 삼포교통차고지\n",
      "         Error\n"
     ]
    },
    {
     "name": "stderr",
     "output_type": "stream",
     "text": [
      "9it [01:48, 10.79s/it]"
     ]
    },
    {
     "name": "stdout",
     "output_type": "stream",
     "text": [
      "    ## Start Extract:690\n",
      "        routeno    : 140\n",
      "        startnodenm: 삼포교통차고지\n",
      "        Start Extraction1\n",
      "        Done Extraction1\n",
      "        Save Usage:\n",
      "            노선정류장수: 65\n",
      "            노선거리(km): 27.2\n",
      "            굴곡도:       1.9\n"
     ]
    },
    {
     "name": "stderr",
     "output_type": "stream",
     "text": [
      "10it [02:04, 12.30s/it]"
     ]
    },
    {
     "name": "stdout",
     "output_type": "stream",
     "text": [
      "    ## Start Extract:691\n",
      "        routeno    : 141\n",
      "        startnodenm: 삼포교통차고지\n",
      "        Start Extraction1\n",
      "        Done Extraction1\n",
      "        Save Usage:\n",
      "            노선정류장수: 66\n",
      "            노선거리(km): 28.4\n",
      "            굴곡도:       2.2\n"
     ]
    },
    {
     "name": "stderr",
     "output_type": "stream",
     "text": [
      "11it [02:16, 12.25s/it]"
     ]
    },
    {
     "name": "stdout",
     "output_type": "stream",
     "text": [
      "    ## Start Extract:692\n",
      "        routeno    : 142\n",
      "        startnodenm: 삼포교통차고지\n",
      "        Start Extraction1\n",
      "        Done Extraction1\n",
      "        Save Usage:\n",
      "            노선정류장수: 91\n",
      "            노선거리(km): 39.3\n",
      "            굴곡도:       1.8\n"
     ]
    },
    {
     "name": "stderr",
     "output_type": "stream",
     "text": [
      "12it [02:28, 12.18s/it]"
     ]
    },
    {
     "name": "stdout",
     "output_type": "stream",
     "text": [
      "    ## Start Extract:693\n",
      "        routeno    : 143\n",
      "        startnodenm: 삼포교통차고지\n",
      "        Start Extraction1\n",
      "        Done Extraction1\n",
      "        Save Usage:\n",
      "            노선정류장수: 96\n",
      "            노선거리(km): 42.9\n",
      "            굴곡도:       2.1\n"
     ]
    },
    {
     "name": "stderr",
     "output_type": "stream",
     "text": [
      "13it [02:40, 12.12s/it]"
     ]
    },
    {
     "name": "stdout",
     "output_type": "stream",
     "text": [
      "    ## Start Extract:694\n",
      "        routeno    : 144\n",
      "        startnodenm: 삼포교통차고지\n",
      "        Start Extraction1\n",
      "        Done Extraction1\n",
      "        Save Usage:\n",
      "            노선정류장수: 73\n",
      "            노선거리(km): 32.9\n",
      "            굴곡도:       2.2\n"
     ]
    },
    {
     "name": "stderr",
     "output_type": "stream",
     "text": [
      "14it [02:52, 12.13s/it]"
     ]
    },
    {
     "name": "stdout",
     "output_type": "stream",
     "text": [
      "    ## Start Extract:695\n",
      "        routeno    : 313\n",
      "        startnodenm: 곤양터미널\n",
      "        Start Extraction1\n",
      "        Done Extraction1\n",
      "        Save Usage:\n",
      "            노선정류장수: 82\n",
      "            노선거리(km): 56.5\n",
      "            굴곡도:       1.9\n"
     ]
    },
    {
     "name": "stderr",
     "output_type": "stream",
     "text": [
      "15it [03:04, 12.08s/it]"
     ]
    },
    {
     "name": "stdout",
     "output_type": "stream",
     "text": [
      "    ## Start Extract:696\n",
      "        routeno    : 190\n",
      "        startnodenm: 삼포교통차고지\n",
      "        Start Extraction\n",
      "        Done Extraction\n",
      "        Save Usage:\n",
      "            노선정류장수: 62\n",
      "            노선거리(km): 27.8\n",
      "            굴곡도:       1.9\n"
     ]
    },
    {
     "name": "stderr",
     "output_type": "stream",
     "text": [
      "16it [03:15, 11.86s/it]"
     ]
    },
    {
     "name": "stdout",
     "output_type": "stream",
     "text": [
      "    ## Start Extract:697\n",
      "        routeno    : 190-1\n",
      "        startnodenm: 삼포교통차고지\n"
     ]
    }
   ],
   "source": [
    "city_name = \"사천시\" \n",
    "input_values = busroute_usage[busroute_usage[\"city_name\"] == city_name][[\"routeno\", \"startnodenm\"]] \n",
    "findtime = 100000\n",
    "route_inform_data = {}\n",
    "\n",
    "\n",
    "if city_name == \"창원시\":\n",
    "    region_button_selector = \"48123_48127_48125_48120_48121_48129\"\n",
    "    \n",
    "elif city_name == \"진주시\":\n",
    "    region_button_selector = \"48170\"\n",
    "    \n",
    "elif city_name == \"통영시\":\n",
    "    region_button_selector = \"48220\"\n",
    "    \n",
    "elif city_name == \"사천시\":\n",
    "    region_button_selector = \"48240\"\n",
    "    \n",
    "elif city_name == \"김해시\":\n",
    "    region_button_selector = \"48250\"\n",
    "    \n",
    "elif city_name == \"밀양시\":\n",
    "    region_button_selector = \"48270\"\n",
    "        \n",
    "elif city_name == \"거제시\":\n",
    "    region_button_selector = \"48310\"\n",
    "    \n",
    "elif city_name == \"양산시\":\n",
    "    region_button_selector = \"48330\"\n",
    "    \n",
    "elif city_name == \"의령군\":\n",
    "    region_button_selector = \"48720\"\n",
    "    \n",
    "elif city_name == \"함안군\":\n",
    "    region_button_selector = \"48730\"\n",
    "    \n",
    "elif city_name == \"창녕군\":\n",
    "    region_button_selector = \"48740\"\n",
    "    \n",
    "elif city_name == \"고성군\":\n",
    "    region_button_selector = \"48820\"\n",
    "    \n",
    "elif city_name == \"남해군\":\n",
    "    region_button_selector = \"48840\"\n",
    "    \n",
    "elif city_name == \"하동군\":\n",
    "    region_button_selector = \"48850\"\n",
    "    \n",
    "elif city_name == \"산청군\":\n",
    "    region_button_selector = \"48860\"\n",
    "    \n",
    "elif city_name == \"함양군\":\n",
    "    region_button_selector = \"48870\"\n",
    "\n",
    "elif city_name == \"거창군\":\n",
    "    region_button_selector = \"48880\"\n",
    "    \n",
    "elif city_name == \"합천군\":\n",
    "    region_button_selector = \"48890\"\n",
    "\n",
    "else:\n",
    "    raise ValueError(f\"Unknown city_name: {city_name}\")\n",
    "\n",
    "### 반복문 시작 #########################################################################################\n",
    "route_inform_data[f\"{city_name}\"] = {}\n",
    "\n",
    "for i, input_value in tqdm(input_values.iterrows()):\n",
    "    routeno = input_value[\"routeno\"]\n",
    "    startnodenm = input_value[\"startnodenm\"]\n",
    "    print(f\"    ## Start Extract:{i+1}\")\n",
    "    print(f\"        routeno    : {routeno}\")\n",
    "    print(f\"        startnodenm: {startnodenm}\")\n",
    "\n",
    "    options = Options()\n",
    "    options.add_experimental_option(\"excludeSwitches\", [\"enable-automation\"])\n",
    "    driver = wb.Chrome(options = options)\n",
    "\n",
    "\n",
    "    ## 교통카드빅데이터 종합정보시스템 -> 노선별 굴곡도 조회 url\n",
    "    driver.get(\"https://stcis.go.kr/pivotIndi/wpsPivotIndicator.do?siteGb=P&indiClss=IC05&indiSel=IC0507\")\n",
    "\n",
    "    ## 클릭 함수\n",
    "    def driver_clickable_processor(css_selector_value):\n",
    "        click = WebDriverWait(driver, findtime).until(\n",
    "            EC.element_to_be_clickable((By.CSS_SELECTOR, css_selector_value))\n",
    "        )    \n",
    "        driver.execute_script(\"arguments[0].scrollIntoView();\", click)\n",
    "        driver.execute_script(\"arguments[0].click();\", click)    \n",
    "        \n",
    "        return click\n",
    "\n",
    "    ## 텍스트 추출 함수 \n",
    "    def driver_extract_text_processor(css_selector_value):\n",
    "        element = WebDriverWait(driver, findtime).until(\n",
    "                        EC.presence_of_element_located((\n",
    "                            By.CSS_SELECTOR, \n",
    "                            css_selector_value\n",
    "                            ))\n",
    "                    )\n",
    "        return element.text\n",
    "    \n",
    "    ## 굴곡도 메뉴 클릭\n",
    "    search_menu = WebDriverWait(driver, findtime).until(\n",
    "        EC.element_to_be_clickable((By.CSS_SELECTOR, \"#ulListIndiSel > li:nth-child(4)\"))\n",
    "    )\n",
    "    driver.execute_script(\"arguments[0].scrollIntoView();\", search_menu)\n",
    "    driver.execute_script(\"arguments[0].click();\", search_menu)\n",
    "\n",
    "    ## 시도 박스 클릭\n",
    "    WebDriverWait(driver, findtime).until(EC.presence_of_element_located((By.XPATH, '//*[@id=\"searchPopZoneSd\"]')))\n",
    "    dropdown = Select(driver.find_element(By.XPATH, '//*[@id=\"searchPopZoneSd\"]'))\n",
    "    dropdown.select_by_index(14)\n",
    "\n",
    "    ## 지역 버튼 클릭 > 지역마다 클릭 버튼이 다름\n",
    "    WebDriverWait(driver, findtime).until(EC.presence_of_element_located((By.XPATH, '//*[@id=\"searchPopZoneSgg\"]')))\n",
    "    dropdown = Select(driver.find_element(By.XPATH, '//*[@id=\"searchPopZoneSgg\"]'))\n",
    "    dropdown.select_by_value(region_button_selector)\n",
    "\n",
    "    ## 노선명 입력칸 클릭 -> 노선번호(명) 입력\n",
    "    route_name_input = driver_clickable_processor(\"#popupSearchRouteNo\")\n",
    "    route_name_input.send_keys(f\"{routeno}\")\n",
    "\n",
    "\n",
    "    ## 검색 버튼 클릭\n",
    "    search_button = driver_clickable_processor(\"#route_space1 > li.box_flex > button\")\n",
    "\n",
    "\n",
    "    ## 노선명과 기종점이 같은지 확인\n",
    "    routeno_len = int(WebDriverWait(driver, findtime).until(\n",
    "        EC.element_to_be_clickable((By.CLASS_NAME, 'pop_box'))\n",
    "    ).text.split()[2])\n",
    "\n",
    "\n",
    "    try:\n",
    "        WebDriverWait(driver, findtime).until(\n",
    "            EC.presence_of_element_located((By.CSS_SELECTOR, \"#divBusLineList > div.pop_box > table > tbody\"))\n",
    "        )\n",
    "\n",
    "        ## 검색결과 한개인 경우\n",
    "        if routeno_len == 1:\n",
    "            check_routeno = driver.find_element(\n",
    "                By.CSS_SELECTOR, \n",
    "                \"#divBusLineList > div.pop_box > table > tbody > tr > td:nth-child(2)\"\n",
    "                ).text\n",
    "\n",
    "            check_startnodem = driver.find_element(\n",
    "                By.CSS_SELECTOR, \n",
    "                \"#divBusLineList > div.pop_box > table > tbody > tr > td:nth-child(4)\"\n",
    "                ).text.split(\" - \")[0]\n",
    "\n",
    "            ## 노선명과 기종점이 일치할 경우 체크 박스 클릭\n",
    "            if check_routeno == str(routeno): ## and check_startnodem == startnodenm\n",
    "                check_click = driver_clickable_processor(\"#divBusLineList > div.pop_box > table > tbody > tr > td:nth-child(1) > div > label > div\")\n",
    "                select_button = driver_clickable_processor(\"#popupBusLine > div:nth-child(4) > button\")\n",
    "                        \n",
    "                ## 검색결과조회 버튼 클릭\n",
    "                search_click = driver_clickable_processor(\"#btnSearch > button\")\n",
    "                            \n",
    "                ## 노선 정류장수, 노선거리, 굴곡도 추출\n",
    "                print(\"        Start Extraction1\")\n",
    "                \n",
    "                ## 노선 정류장수\n",
    "                route_len = driver_extract_text_processor(\"#rgrstyReportResult > table > tbody > tr:nth-child(2) > td:nth-child(3)\")\n",
    "                if route_len:\n",
    "                    route_len = int(route_len.replace(\",\", \"\"))\n",
    "                else:\n",
    "                    route_len = None\n",
    "                \n",
    "                ## 노선거리\n",
    "                route_dis = driver_extract_text_processor(\"#rgrstyReportResult > table > tbody > tr:nth-child(2) > td:nth-child(4)\")\n",
    "                if route_dis == \"~\":\n",
    "                    route_dis = None\n",
    "                else:\n",
    "                    route_dis = float(route_dis.replace(\",\", \"\"))\n",
    "\n",
    "                ## 굴곡도\n",
    "                route_cra = driver_extract_text_processor(\"#rgrstyReportResult > table > tbody > tr:nth-child(2) > td:nth-child(5)\")\n",
    "                if route_cra:\n",
    "                    route_cra = float(route_cra.replace(\",\", \"\"))\n",
    "                else:\n",
    "                    route_cra = None\n",
    "                \n",
    "                print(\"        Done Extraction1\")\n",
    "\n",
    "        ## 검색결과 여러 개인 경우\n",
    "        else:         \n",
    "            for j in range(1, 11):\n",
    "                check_routeno = driver.find_element(\n",
    "                    By.CSS_SELECTOR, \n",
    "                    f\"#divBusLineList > div.pop_box > table > tbody > tr:nth-child({j}) > td:nth-child(2)\"\n",
    "                    ).text\n",
    "\n",
    "                check_startnodem = driver.find_element(\n",
    "                    By.CSS_SELECTOR, \n",
    "                    f\"#divBusLineList > div.pop_box > table > tbody > tr:nth-child({j}) > td:nth-child(4)\"\n",
    "                    ).text.split(\" - \")[0]\n",
    "\n",
    "                ## 노선명과 기종점이 일치할 경우 체크 박스 클릭\n",
    "                if check_routeno == str(routeno): ## and check_startnodem == startnodenm:\n",
    "                    driver_clickable_processor(f\"#divBusLineList > div.pop_box > table > tbody > tr:nth-child({j}) > td:nth-child(1) > div > label > div\")\n",
    "            \n",
    "                # for-loop 중단\n",
    "                break\n",
    "            \n",
    "            # 선택버튼 클릭\n",
    "            select_button = driver_clickable_processor(\"#popupBusLine > div:nth-child(4) > button\")\n",
    "                    \n",
    "            ## 검색결과조회 버튼 클릭\n",
    "            search_click = driver_clickable_processor(\"#btnSearch > button\")\n",
    "            \n",
    "            ## 노선 정류장수, 노선거리, 굴곡도 추출\n",
    "            print(\"        Start Extraction\")\n",
    "            \n",
    "            ## 노선 정류장수\n",
    "            route_len = driver_extract_text_processor(\"#rgrstyReportResult > table > tbody > tr:nth-child(2) > td:nth-child(3)\")\n",
    "            if route_len:\n",
    "                route_len = int(route_len.replace(\",\", \"\"))\n",
    "            else:\n",
    "                route_len = None\n",
    "            \n",
    "            ## 노선거리\n",
    "            route_dis = driver_extract_text_processor(\"#rgrstyReportResult > table > tbody > tr:nth-child(2) > td:nth-child(4)\")\n",
    "            if route_dis == \"~\":\n",
    "                route_dis = None\n",
    "            else:\n",
    "                route_dis = float(route_dis.replace(\",\", \"\"))\n",
    "\n",
    "            ## 굴곡도\n",
    "            route_cra = driver_extract_text_processor(\"#rgrstyReportResult > table > tbody > tr:nth-child(2) > td:nth-child(5)\")\n",
    "            if route_cra:\n",
    "                route_cra = float(route_cra.replace(\",\", \"\"))\n",
    "            else:\n",
    "                route_cra = None\n",
    "            \n",
    "            print(\"        Done Extraction\")\n",
    "            \n",
    "        print(\"        Save Usage:\")\n",
    "        print(f\"            노선정류장수: {route_len}\")\n",
    "        print(f\"            노선거리(km): {route_dis}\")\n",
    "        print(f\"            굴곡도:       {route_cra}\")\n",
    "        \n",
    "        route_inform_data[f\"{city_name}\"][f\"{routeno}\"] = {}\n",
    "        route_inform_data[f\"{city_name}\"][f\"{routeno}\"][\"노선정류장수\"] = route_len\n",
    "        route_inform_data[f\"{city_name}\"][f\"{routeno}\"][\"노선거리(km)\"] = route_dis\n",
    "        route_inform_data[f\"{city_name}\"][f\"{routeno}\"][\"굴곡도\"] = route_cra\n",
    "        \n",
    "        \n",
    "        ## 창닫기\n",
    "        driver.quit()\n",
    "\n",
    "    except:\n",
    "        ## 빈칸 넣기\n",
    "        route_inform_data[f\"{city_name}\"][f\"{routeno}\"] = {}\n",
    "        route_inform_data[f\"{city_name}\"][f\"{routeno}\"][\"노선정류장수\"] = route_len\n",
    "        route_inform_data[f\"{city_name}\"][f\"{routeno}\"][\"노선거리(km)\"] = route_dis\n",
    "        route_inform_data[f\"{city_name}\"][f\"{routeno}\"][\"굴곡도\"] = route_cra\n",
    "        \n",
    "        ## 창닫기\n",
    "        print(\"         Error\")           \n",
    "        driver.quit()"
   ]
  },
  {
   "cell_type": "code",
   "execution_count": null,
   "metadata": {},
   "outputs": [],
   "source": [
    "route_inform_data"
   ]
  },
  {
   "cell_type": "code",
   "execution_count": null,
   "metadata": {},
   "outputs": [],
   "source": [
    "import pickle\n",
    "\n",
    "with open(f'../data/버스이용데이터/{city_name}_inform.pkl', 'wb') as f: \n",
    "\tpickle.dump(route_inform_data, f)"
   ]
  }
 ],
 "metadata": {
  "kernelspec": {
   "display_name": "gyeongn",
   "language": "python",
   "name": "python3"
  },
  "language_info": {
   "codemirror_mode": {
    "name": "ipython",
    "version": 3
   },
   "file_extension": ".py",
   "mimetype": "text/x-python",
   "name": "python",
   "nbconvert_exporter": "python",
   "pygments_lexer": "ipython3",
   "version": "3.12.4"
  }
 },
 "nbformat": 4,
 "nbformat_minor": 2
}
