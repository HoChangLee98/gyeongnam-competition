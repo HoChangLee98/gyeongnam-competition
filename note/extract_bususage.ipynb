{
 "cells": [
  {
   "cell_type": "markdown",
   "metadata": {},
   "source": [
    "# 실행 전 requirements.txt 터미널에서 받아주세요!\n",
    "\n",
    "### 버스 노선 데이터 노선별 이용량 추출\n",
    "교통카드빅데이터 통합 정보 시스템: https://stcis.go.kr/pivotIndi/wpsPivotIndicator.do?siteGb=P&indiClss=IC03&indiSel=IC0301\n"
   ]
  },
  {
   "cell_type": "code",
   "execution_count": 1,
   "metadata": {},
   "outputs": [],
   "source": [
    "import pandas as pd\n",
    "import warnings\n",
    "warnings.filterwarnings('ignore')"
   ]
  },
  {
   "cell_type": "code",
   "execution_count": 2,
   "metadata": {},
   "outputs": [],
   "source": [
    "busroute_usage = pd.read_csv(\n",
    "    filepath_or_buffer=\"../data/gyeongn_busroute_total.csv\"\n",
    "    )"
   ]
  },
  {
   "cell_type": "code",
   "execution_count": 3,
   "metadata": {},
   "outputs": [
    {
     "name": "stdout",
     "output_type": "stream",
     "text": [
      "<class 'pandas.core.frame.DataFrame'>\n",
      "RangeIndex: 2513 entries, 0 to 2512\n",
      "Data columns (total 12 columns):\n",
      " #   Column            Non-Null Count  Dtype  \n",
      "---  ------            --------------  -----  \n",
      " 0   city_name         2513 non-null   object \n",
      " 1   city_code         2513 non-null   int64  \n",
      " 2   routeid           2513 non-null   object \n",
      " 3   routeno           2513 non-null   object \n",
      " 4   routetp           2513 non-null   object \n",
      " 5   startnodenm       2513 non-null   object \n",
      " 6   endnodenm         2513 non-null   object \n",
      " 7   startvehicletime  1413 non-null   float64\n",
      " 8   endvehicletime    1334 non-null   float64\n",
      " 9   intervaltime      1056 non-null   float64\n",
      " 10  intervalsattime   159 non-null    float64\n",
      " 11  intervalsuntime   152 non-null    float64\n",
      "dtypes: float64(5), int64(1), object(6)\n",
      "memory usage: 235.7+ KB\n"
     ]
    }
   ],
   "source": [
    "busroute_usage.info()"
   ]
  },
  {
   "cell_type": "code",
   "execution_count": 4,
   "metadata": {},
   "outputs": [
    {
     "data": {
      "text/plain": [
       "array(['창원시', '진주시', '통영시', '사천시', '김해시', '밀양시', '거제시', '양산시', '의령군',\n",
       "       '함안군', '창녕군', '고성군', '남해군', '하동군', '산청군', '함양군', '거창군', '합천군'],\n",
       "      dtype=object)"
      ]
     },
     "execution_count": 4,
     "metadata": {},
     "output_type": "execute_result"
    }
   ],
   "source": [
    "busroute_usage[\"city_name\"].unique()"
   ]
  },
  {
   "cell_type": "code",
   "execution_count": 5,
   "metadata": {},
   "outputs": [
    {
     "data": {
      "text/plain": [
       "city_name\n",
       "진주시    300\n",
       "거제시    279\n",
       "통영시    216\n",
       "함안군    209\n",
       "밀양시    189\n",
       "창원시    164\n",
       "합천군    149\n",
       "거창군    141\n",
       "양산시    115\n",
       "창녕군    115\n",
       "고성군    112\n",
       "김해시     98\n",
       "남해군     89\n",
       "의령군     74\n",
       "함양군     73\n",
       "산청군     66\n",
       "하동군     64\n",
       "사천시     60\n",
       "Name: count, dtype: int64"
      ]
     },
     "execution_count": 5,
     "metadata": {},
     "output_type": "execute_result"
    }
   ],
   "source": [
    "busroute_usage[\"city_name\"].value_counts()"
   ]
  },
  {
   "cell_type": "markdown",
   "metadata": {},
   "source": [
    "#### 웹에서 파일 다운로드하는 크롤러 만들기"
   ]
  },
  {
   "cell_type": "code",
   "execution_count": 16,
   "metadata": {},
   "outputs": [],
   "source": [
    "from selenium import webdriver as wb\n",
    "from selenium.webdriver.common.by import By\n",
    "from selenium.webdriver.support.ui import WebDriverWait\n",
    "from selenium.webdriver.support import expected_conditions as EC\n",
    "from selenium.webdriver.chrome.options import Options\n",
    "from selenium.webdriver.support.ui import Select\n",
    "from tqdm import tqdm\n",
    "import time"
   ]
  },
  {
   "cell_type": "code",
   "execution_count": 17,
   "metadata": {},
   "outputs": [
    {
     "name": "stderr",
     "output_type": "stream",
     "text": [
      "0it [00:00, ?it/s]"
     ]
    },
    {
     "name": "stdout",
     "output_type": "stream",
     "text": [
      "    ## Start Extract:2085\n",
      "        routeno    : 5\n",
      "        startnodenm: 산청시외버스터미널\n",
      "        Search Node\n"
     ]
    },
    {
     "name": "stderr",
     "output_type": "stream",
     "text": [
      "1it [02:39, 159.00s/it]"
     ]
    },
    {
     "name": "stdout",
     "output_type": "stream",
     "text": [
      "         Error\n",
      "    ## Start Extract:2086\n",
      "        routeno    : 11\n",
      "        startnodenm: 산청시외버스터미널\n",
      "        Search Node\n"
     ]
    },
    {
     "name": "stderr",
     "output_type": "stream",
     "text": [
      "2it [03:13, 86.01s/it] "
     ]
    },
    {
     "name": "stdout",
     "output_type": "stream",
     "text": [
      "         Error\n",
      "    ## Start Extract:2087\n",
      "        routeno    : 55\n",
      "        startnodenm: 산청시외버스터미널\n",
      "        Search Node\n"
     ]
    },
    {
     "name": "stderr",
     "output_type": "stream",
     "text": [
      "3it [03:25, 52.10s/it]"
     ]
    },
    {
     "name": "stdout",
     "output_type": "stream",
     "text": [
      "         Error\n",
      "    ## Start Extract:2088\n",
      "        routeno    : 21\n",
      "        startnodenm: 산청시외버스터미널\n",
      "        Search Node\n"
     ]
    },
    {
     "name": "stderr",
     "output_type": "stream",
     "text": [
      "4it [03:48, 40.50s/it]"
     ]
    },
    {
     "name": "stdout",
     "output_type": "stream",
     "text": [
      "         Error\n",
      "    ## Start Extract:2089\n",
      "        routeno    : 51\n",
      "        startnodenm: 산청시외버스터미널\n",
      "        Search Node\n"
     ]
    },
    {
     "name": "stderr",
     "output_type": "stream",
     "text": [
      "5it [04:00, 30.19s/it]"
     ]
    },
    {
     "name": "stdout",
     "output_type": "stream",
     "text": [
      "         Error\n",
      "    ## Start Extract:2090\n",
      "        routeno    : 4\n",
      "        startnodenm: 산청시외버스터미널\n",
      "        Search Node\n"
     ]
    },
    {
     "name": "stderr",
     "output_type": "stream",
     "text": [
      "6it [05:08, 43.25s/it]"
     ]
    },
    {
     "name": "stdout",
     "output_type": "stream",
     "text": [
      "         Error\n",
      "    ## Start Extract:2091\n",
      "        routeno    : 62\n",
      "        startnodenm: 산청시외버스터미널\n",
      "        Search Node\n"
     ]
    },
    {
     "name": "stderr",
     "output_type": "stream",
     "text": [
      "7it [05:20, 32.99s/it]"
     ]
    },
    {
     "name": "stdout",
     "output_type": "stream",
     "text": [
      "         Error\n",
      "    ## Start Extract:2092\n",
      "        routeno    : 48\n",
      "        startnodenm: 산청시외버스터미널\n",
      "        Search Node\n"
     ]
    },
    {
     "name": "stderr",
     "output_type": "stream",
     "text": [
      "8it [05:32, 26.34s/it]"
     ]
    },
    {
     "name": "stdout",
     "output_type": "stream",
     "text": [
      "         Error\n",
      "    ## Start Extract:2093\n",
      "        routeno    : 50\n",
      "        startnodenm: 산청시외버스터미널\n",
      "        Search Node\n"
     ]
    },
    {
     "name": "stderr",
     "output_type": "stream",
     "text": [
      "9it [05:45, 22.08s/it]"
     ]
    },
    {
     "name": "stdout",
     "output_type": "stream",
     "text": [
      "         Error\n",
      "    ## Start Extract:2094\n",
      "        routeno    : 13\n",
      "        startnodenm: 산청시외버스터미널\n",
      "        Search Node\n"
     ]
    },
    {
     "name": "stderr",
     "output_type": "stream",
     "text": [
      "10it [06:01, 20.28s/it]"
     ]
    },
    {
     "name": "stdout",
     "output_type": "stream",
     "text": [
      "         Error\n",
      "    ## Start Extract:2095\n",
      "        routeno    : 40\n",
      "        startnodenm: 산청시외버스터미널\n",
      "        Search Node\n",
      "        Save Usage : 959\n"
     ]
    },
    {
     "name": "stderr",
     "output_type": "stream",
     "text": [
      "11it [06:13, 17.67s/it]"
     ]
    },
    {
     "name": "stdout",
     "output_type": "stream",
     "text": [
      "    ## Start Extract:2096\n",
      "        routeno    : 60\n",
      "        startnodenm: 산청시외버스터미널\n",
      "        Search Node\n"
     ]
    },
    {
     "name": "stderr",
     "output_type": "stream",
     "text": [
      "12it [06:26, 16.29s/it]"
     ]
    },
    {
     "name": "stdout",
     "output_type": "stream",
     "text": [
      "         Error\n",
      "    ## Start Extract:2097\n",
      "        routeno    : 14\n",
      "        startnodenm: 산청시외버스터미널\n",
      "        Search Node\n",
      "        Save Usage : 959\n"
     ]
    },
    {
     "name": "stderr",
     "output_type": "stream",
     "text": [
      "13it [06:38, 14.95s/it]"
     ]
    },
    {
     "name": "stdout",
     "output_type": "stream",
     "text": [
      "    ## Start Extract:2098\n",
      "        routeno    : 6\n",
      "        startnodenm: 산청시외버스터미널\n",
      "        Search Node\n"
     ]
    },
    {
     "name": "stderr",
     "output_type": "stream",
     "text": [
      "14it [07:17, 22.26s/it]"
     ]
    },
    {
     "name": "stdout",
     "output_type": "stream",
     "text": [
      "         Error\n",
      "    ## Start Extract:2099\n",
      "        routeno    : 12\n",
      "        startnodenm: 산청시외버스터미널\n",
      "        Search Node\n"
     ]
    },
    {
     "name": "stderr",
     "output_type": "stream",
     "text": [
      "15it [07:33, 20.43s/it]"
     ]
    },
    {
     "name": "stdout",
     "output_type": "stream",
     "text": [
      "         Error\n",
      "    ## Start Extract:2100\n",
      "        routeno    : 26\n",
      "        startnodenm: 산청시외버스터미널\n",
      "        Search Node\n"
     ]
    },
    {
     "name": "stderr",
     "output_type": "stream",
     "text": [
      "16it [07:45, 17.88s/it]"
     ]
    },
    {
     "name": "stdout",
     "output_type": "stream",
     "text": [
      "         Error\n",
      "    ## Start Extract:2101\n",
      "        routeno    : 23\n",
      "        startnodenm: 산청시외버스터미널\n",
      "        Search Node\n"
     ]
    },
    {
     "name": "stderr",
     "output_type": "stream",
     "text": [
      "17it [07:58, 16.16s/it]"
     ]
    },
    {
     "name": "stdout",
     "output_type": "stream",
     "text": [
      "         Error\n",
      "    ## Start Extract:2102\n",
      "        routeno    : 53\n",
      "        startnodenm: 산청시외버스터미널\n",
      "        Search Node\n"
     ]
    },
    {
     "name": "stderr",
     "output_type": "stream",
     "text": [
      "18it [08:09, 14.77s/it]"
     ]
    },
    {
     "name": "stdout",
     "output_type": "stream",
     "text": [
      "         Error\n",
      "    ## Start Extract:2103\n",
      "        routeno    : 32\n",
      "        startnodenm: 산청시외버스터미널\n",
      "        Search Node\n"
     ]
    },
    {
     "name": "stderr",
     "output_type": "stream",
     "text": [
      "19it [08:22, 14.17s/it]"
     ]
    },
    {
     "name": "stdout",
     "output_type": "stream",
     "text": [
      "         Error\n",
      "    ## Start Extract:2104\n",
      "        routeno    : 54\n",
      "        startnodenm: 산청시외버스터미널\n",
      "        Search Node\n"
     ]
    },
    {
     "name": "stderr",
     "output_type": "stream",
     "text": [
      "20it [08:34, 13.59s/it]"
     ]
    },
    {
     "name": "stdout",
     "output_type": "stream",
     "text": [
      "         Error\n",
      "    ## Start Extract:2105\n",
      "        routeno    : 2\n",
      "        startnodenm: 산청시외버스터미널\n",
      "        Search Node\n",
      "        Save Usage : 959\n"
     ]
    },
    {
     "name": "stderr",
     "output_type": "stream",
     "text": [
      "21it [09:33, 27.12s/it]"
     ]
    },
    {
     "name": "stdout",
     "output_type": "stream",
     "text": [
      "    ## Start Extract:2106\n",
      "        routeno    : 25\n",
      "        startnodenm: 산청시외버스터미널\n",
      "        Search Node\n"
     ]
    },
    {
     "name": "stderr",
     "output_type": "stream",
     "text": [
      "22it [09:45, 22.54s/it]"
     ]
    },
    {
     "name": "stdout",
     "output_type": "stream",
     "text": [
      "         Error\n",
      "    ## Start Extract:2107\n",
      "        routeno    : 10\n",
      "        startnodenm: 산청시외버스터미널\n",
      "        Search Node\n"
     ]
    },
    {
     "name": "stderr",
     "output_type": "stream",
     "text": [
      "23it [10:03, 21.20s/it]"
     ]
    },
    {
     "name": "stdout",
     "output_type": "stream",
     "text": [
      "         Error\n",
      "    ## Start Extract:2108\n",
      "        routeno    : 24\n",
      "        startnodenm: 산청시외버스터미널\n",
      "        Search Node\n"
     ]
    },
    {
     "name": "stderr",
     "output_type": "stream",
     "text": [
      "24it [10:15, 18.54s/it]"
     ]
    },
    {
     "name": "stdout",
     "output_type": "stream",
     "text": [
      "         Error\n",
      "    ## Start Extract:2109\n",
      "        routeno    : 1\n",
      "        startnodenm: 산청시외버스터미널\n",
      "        Search Node\n",
      "        Start Extraction\n",
      "        Done Extraction\n",
      "        Save Usage : 8796\n"
     ]
    },
    {
     "name": "stderr",
     "output_type": "stream",
     "text": [
      "25it [11:21, 32.80s/it]"
     ]
    },
    {
     "name": "stdout",
     "output_type": "stream",
     "text": [
      "    ## Start Extract:2110\n",
      "        routeno    : 74\n",
      "        startnodenm: 원지버스정류소\n",
      "        Search Node\n"
     ]
    },
    {
     "name": "stderr",
     "output_type": "stream",
     "text": [
      "26it [11:30, 25.60s/it]"
     ]
    },
    {
     "name": "stdout",
     "output_type": "stream",
     "text": [
      "         Error\n",
      "    ## Start Extract:2111\n",
      "        routeno    : 56\n",
      "        startnodenm: 산청시외버스터미널\n",
      "        Search Node\n"
     ]
    },
    {
     "name": "stderr",
     "output_type": "stream",
     "text": [
      "27it [11:42, 21.50s/it]"
     ]
    },
    {
     "name": "stdout",
     "output_type": "stream",
     "text": [
      "         Error\n",
      "    ## Start Extract:2112\n",
      "        routeno    : 8\n",
      "        startnodenm: 산청시외버스터미널\n",
      "        Search Node\n"
     ]
    },
    {
     "name": "stderr",
     "output_type": "stream",
     "text": [
      "28it [12:08, 22.81s/it]"
     ]
    },
    {
     "name": "stdout",
     "output_type": "stream",
     "text": [
      "         Error\n",
      "    ## Start Extract:2113\n",
      "        routeno    : 72\n",
      "        startnodenm: 원지버스정류소\n",
      "        Search Node\n"
     ]
    },
    {
     "name": "stderr",
     "output_type": "stream",
     "text": [
      "29it [12:20, 19.59s/it]"
     ]
    },
    {
     "name": "stdout",
     "output_type": "stream",
     "text": [
      "         Error\n",
      "    ## Start Extract:2114\n",
      "        routeno    : 22\n",
      "        startnodenm: 산청시외버스터미널\n",
      "        Search Node\n"
     ]
    },
    {
     "name": "stderr",
     "output_type": "stream",
     "text": [
      "30it [12:32, 17.25s/it]"
     ]
    },
    {
     "name": "stdout",
     "output_type": "stream",
     "text": [
      "         Error\n",
      "    ## Start Extract:2115\n",
      "        routeno    : 20\n",
      "        startnodenm: 산청시외버스터미널\n",
      "        Search Node\n"
     ]
    },
    {
     "name": "stderr",
     "output_type": "stream",
     "text": [
      "31it [12:44, 15.79s/it]"
     ]
    },
    {
     "name": "stdout",
     "output_type": "stream",
     "text": [
      "         Error\n",
      "    ## Start Extract:2116\n",
      "        routeno    : 70\n",
      "        startnodenm: 원지버스정류소\n",
      "        Search Node\n"
     ]
    },
    {
     "name": "stderr",
     "output_type": "stream",
     "text": [
      "32it [12:56, 14.53s/it]"
     ]
    },
    {
     "name": "stdout",
     "output_type": "stream",
     "text": [
      "         Error\n",
      "    ## Start Extract:2117\n",
      "        routeno    : 33\n",
      "        startnodenm: 산청시외버스터미널\n",
      "        Search Node\n"
     ]
    },
    {
     "name": "stderr",
     "output_type": "stream",
     "text": [
      "33it [13:07, 13.64s/it]"
     ]
    },
    {
     "name": "stdout",
     "output_type": "stream",
     "text": [
      "         Error\n",
      "    ## Start Extract:2118\n",
      "        routeno    : 66\n",
      "        startnodenm: 산청시외버스터미널\n",
      "        Search Node\n"
     ]
    },
    {
     "name": "stderr",
     "output_type": "stream",
     "text": [
      "34it [13:19, 13.07s/it]"
     ]
    },
    {
     "name": "stdout",
     "output_type": "stream",
     "text": [
      "         Error\n",
      "    ## Start Extract:2119\n",
      "        routeno    : 7\n",
      "        startnodenm: 산청시외버스터미널\n",
      "        Search Node\n"
     ]
    },
    {
     "name": "stderr",
     "output_type": "stream",
     "text": [
      "35it [13:42, 15.99s/it]"
     ]
    },
    {
     "name": "stdout",
     "output_type": "stream",
     "text": [
      "         Error\n",
      "    ## Start Extract:2120\n",
      "        routeno    : 64\n",
      "        startnodenm: 산청시외버스터미널\n",
      "        Search Node\n"
     ]
    },
    {
     "name": "stderr",
     "output_type": "stream",
     "text": [
      "36it [13:53, 14.66s/it]"
     ]
    },
    {
     "name": "stdout",
     "output_type": "stream",
     "text": [
      "         Error\n",
      "    ## Start Extract:2121\n",
      "        routeno    : 41\n",
      "        startnodenm: 산청시외버스터미널\n",
      "        Search Node\n"
     ]
    },
    {
     "name": "stderr",
     "output_type": "stream",
     "text": [
      "37it [14:05, 13.90s/it]"
     ]
    },
    {
     "name": "stdout",
     "output_type": "stream",
     "text": [
      "         Error\n",
      "    ## Start Extract:2122\n",
      "        routeno    : 57\n",
      "        startnodenm: 산청시외버스터미널\n",
      "        Search Node\n"
     ]
    },
    {
     "name": "stderr",
     "output_type": "stream",
     "text": [
      "38it [14:17, 13.27s/it]"
     ]
    },
    {
     "name": "stdout",
     "output_type": "stream",
     "text": [
      "         Error\n",
      "    ## Start Extract:2123\n",
      "        routeno    : 80\n",
      "        startnodenm: 원지버스정류소\n",
      "        Search Node\n"
     ]
    },
    {
     "name": "stderr",
     "output_type": "stream",
     "text": [
      "39it [14:29, 12.74s/it]"
     ]
    },
    {
     "name": "stdout",
     "output_type": "stream",
     "text": [
      "         Error\n",
      "    ## Start Extract:2124\n",
      "        routeno    : 93\n",
      "        startnodenm: 원지버스정류소\n",
      "        Search Node\n"
     ]
    },
    {
     "name": "stderr",
     "output_type": "stream",
     "text": [
      "40it [14:40, 12.37s/it]"
     ]
    },
    {
     "name": "stdout",
     "output_type": "stream",
     "text": [
      "         Error\n",
      "    ## Start Extract:2125\n",
      "        routeno    : 65\n",
      "        startnodenm: 원지버스정류소\n",
      "        Search Node\n"
     ]
    },
    {
     "name": "stderr",
     "output_type": "stream",
     "text": [
      "41it [14:52, 12.30s/it]"
     ]
    },
    {
     "name": "stdout",
     "output_type": "stream",
     "text": [
      "         Error\n",
      "    ## Start Extract:2126\n",
      "        routeno    : 94\n",
      "        startnodenm: 원지버스정류소\n",
      "        Search Node\n"
     ]
    },
    {
     "name": "stderr",
     "output_type": "stream",
     "text": [
      "42it [15:04, 12.13s/it]"
     ]
    },
    {
     "name": "stdout",
     "output_type": "stream",
     "text": [
      "         Error\n",
      "    ## Start Extract:2127\n",
      "        routeno    : 61\n",
      "        startnodenm: 원지버스정류소\n",
      "        Search Node\n"
     ]
    },
    {
     "name": "stderr",
     "output_type": "stream",
     "text": [
      "43it [15:15, 11.92s/it]"
     ]
    },
    {
     "name": "stdout",
     "output_type": "stream",
     "text": [
      "         Error\n",
      "    ## Start Extract:2128\n",
      "        routeno    : 95\n",
      "        startnodenm: 원지버스정류소\n",
      "        Search Node\n"
     ]
    },
    {
     "name": "stderr",
     "output_type": "stream",
     "text": [
      "44it [15:27, 11.77s/it]"
     ]
    },
    {
     "name": "stdout",
     "output_type": "stream",
     "text": [
      "         Error\n",
      "    ## Start Extract:2129\n",
      "        routeno    : 82\n",
      "        startnodenm: 원지버스정류소\n",
      "        Search Node\n"
     ]
    },
    {
     "name": "stderr",
     "output_type": "stream",
     "text": [
      "45it [15:38, 11.72s/it]"
     ]
    },
    {
     "name": "stdout",
     "output_type": "stream",
     "text": [
      "         Error\n",
      "    ## Start Extract:2130\n",
      "        routeno    : 67\n",
      "        startnodenm: 원지버스정류소\n",
      "        Search Node\n"
     ]
    },
    {
     "name": "stderr",
     "output_type": "stream",
     "text": [
      "46it [15:50, 11.69s/it]"
     ]
    },
    {
     "name": "stdout",
     "output_type": "stream",
     "text": [
      "         Error\n",
      "    ## Start Extract:2131\n",
      "        routeno    : 84\n",
      "        startnodenm: 원지버스정류소\n",
      "        Search Node\n"
     ]
    },
    {
     "name": "stderr",
     "output_type": "stream",
     "text": [
      "47it [16:01, 11.60s/it]"
     ]
    },
    {
     "name": "stdout",
     "output_type": "stream",
     "text": [
      "         Error\n",
      "    ## Start Extract:2132\n",
      "        routeno    : 68\n",
      "        startnodenm: 원지버스정류소\n",
      "        Search Node\n"
     ]
    },
    {
     "name": "stderr",
     "output_type": "stream",
     "text": [
      "48it [16:13, 11.51s/it]"
     ]
    },
    {
     "name": "stdout",
     "output_type": "stream",
     "text": [
      "         Error\n",
      "    ## Start Extract:2133\n",
      "        routeno    : 85\n",
      "        startnodenm: 원지버스정류소\n",
      "        Search Node\n"
     ]
    },
    {
     "name": "stderr",
     "output_type": "stream",
     "text": [
      "49it [16:24, 11.49s/it]"
     ]
    },
    {
     "name": "stdout",
     "output_type": "stream",
     "text": [
      "         Error\n",
      "    ## Start Extract:2134\n",
      "        routeno    : 31\n",
      "        startnodenm: 생초시외버스정류소\n",
      "        Search Node\n"
     ]
    },
    {
     "name": "stderr",
     "output_type": "stream",
     "text": [
      "50it [16:37, 11.75s/it]"
     ]
    },
    {
     "name": "stdout",
     "output_type": "stream",
     "text": [
      "         Error\n",
      "    ## Start Extract:2135\n",
      "        routeno    : 71\n",
      "        startnodenm: 원지버스정류소\n",
      "        Search Node\n"
     ]
    },
    {
     "name": "stderr",
     "output_type": "stream",
     "text": [
      "51it [16:48, 11.72s/it]"
     ]
    },
    {
     "name": "stdout",
     "output_type": "stream",
     "text": [
      "         Error\n",
      "    ## Start Extract:2136\n",
      "        routeno    : 91\n",
      "        startnodenm: 원지버스정류소\n",
      "        Search Node\n"
     ]
    },
    {
     "name": "stderr",
     "output_type": "stream",
     "text": [
      "52it [17:00, 11.84s/it]"
     ]
    },
    {
     "name": "stdout",
     "output_type": "stream",
     "text": [
      "         Error\n",
      "    ## Start Extract:2137\n",
      "        routeno    : 34\n",
      "        startnodenm: 생초시외버스정류소\n",
      "        Search Node\n",
      "        Save Usage : 8796\n"
     ]
    },
    {
     "name": "stderr",
     "output_type": "stream",
     "text": [
      "53it [17:12, 11.74s/it]"
     ]
    },
    {
     "name": "stdout",
     "output_type": "stream",
     "text": [
      "    ## Start Extract:2138\n",
      "        routeno    : 73\n",
      "        startnodenm: 원지버스정류소\n",
      "        Search Node\n"
     ]
    },
    {
     "name": "stderr",
     "output_type": "stream",
     "text": [
      "54it [17:24, 11.94s/it]"
     ]
    },
    {
     "name": "stdout",
     "output_type": "stream",
     "text": [
      "         Error\n",
      "    ## Start Extract:2139\n",
      "        routeno    : 90\n",
      "        startnodenm: 원지버스정류소\n",
      "        Search Node\n"
     ]
    },
    {
     "name": "stderr",
     "output_type": "stream",
     "text": [
      "55it [17:37, 12.11s/it]"
     ]
    },
    {
     "name": "stdout",
     "output_type": "stream",
     "text": [
      "         Error\n",
      "    ## Start Extract:2140\n",
      "        routeno    : 3\n",
      "        startnodenm: 원지정류소\n",
      "        Search Node\n",
      "        Save Usage : 8796\n"
     ]
    },
    {
     "name": "stderr",
     "output_type": "stream",
     "text": [
      "56it [18:13, 19.26s/it]"
     ]
    },
    {
     "name": "stdout",
     "output_type": "stream",
     "text": [
      "    ## Start Extract:2141\n",
      "        routeno    : 81\n",
      "        startnodenm: 원지버스정류소\n",
      "        Search Node\n"
     ]
    },
    {
     "name": "stderr",
     "output_type": "stream",
     "text": [
      "57it [18:24, 16.98s/it]"
     ]
    },
    {
     "name": "stdout",
     "output_type": "stream",
     "text": [
      "         Error\n",
      "    ## Start Extract:2142\n",
      "        routeno    : 49\n",
      "        startnodenm: 차황면\n",
      "        Search Node\n"
     ]
    },
    {
     "name": "stderr",
     "output_type": "stream",
     "text": [
      "58it [18:36, 15.38s/it]"
     ]
    },
    {
     "name": "stdout",
     "output_type": "stream",
     "text": [
      "         Error\n",
      "    ## Start Extract:2143\n",
      "        routeno    : 52\n",
      "        startnodenm: 산청시외버스터미널\n",
      "        Search Node\n"
     ]
    },
    {
     "name": "stderr",
     "output_type": "stream",
     "text": [
      "59it [18:48, 14.23s/it]"
     ]
    },
    {
     "name": "stdout",
     "output_type": "stream",
     "text": [
      "         Error\n",
      "    ## Start Extract:2144\n",
      "        routeno    : 47\n",
      "        startnodenm: 차황면\n",
      "        Search Node\n"
     ]
    },
    {
     "name": "stderr",
     "output_type": "stream",
     "text": [
      "60it [18:59, 13.38s/it]"
     ]
    },
    {
     "name": "stdout",
     "output_type": "stream",
     "text": [
      "         Error\n",
      "    ## Start Extract:2145\n",
      "        routeno    : 75\n",
      "        startnodenm: 원지버스정류소\n",
      "        Search Node\n"
     ]
    },
    {
     "name": "stderr",
     "output_type": "stream",
     "text": [
      "61it [19:11, 12.93s/it]"
     ]
    },
    {
     "name": "stdout",
     "output_type": "stream",
     "text": [
      "         Error\n",
      "    ## Start Extract:2146\n",
      "        routeno    : 83\n",
      "        startnodenm: 원지버스정류소\n",
      "        Search Node\n"
     ]
    },
    {
     "name": "stderr",
     "output_type": "stream",
     "text": [
      "62it [19:22, 12.51s/it]"
     ]
    },
    {
     "name": "stdout",
     "output_type": "stream",
     "text": [
      "         Error\n",
      "    ## Start Extract:2147\n",
      "        routeno    : 63\n",
      "        startnodenm: 원지버스정류소\n",
      "        Search Node\n"
     ]
    },
    {
     "name": "stderr",
     "output_type": "stream",
     "text": [
      "63it [19:34, 12.14s/it]"
     ]
    },
    {
     "name": "stdout",
     "output_type": "stream",
     "text": [
      "         Error\n",
      "    ## Start Extract:2148\n",
      "        routeno    : 59\n",
      "        startnodenm: 차황면\n",
      "        Search Node\n"
     ]
    },
    {
     "name": "stderr",
     "output_type": "stream",
     "text": [
      "64it [19:45, 11.96s/it]"
     ]
    },
    {
     "name": "stdout",
     "output_type": "stream",
     "text": [
      "         Error\n",
      "    ## Start Extract:2149\n",
      "        routeno    : 58\n",
      "        startnodenm: 상법\n",
      "        Search Node\n"
     ]
    },
    {
     "name": "stderr",
     "output_type": "stream",
     "text": [
      "65it [19:57, 11.82s/it]"
     ]
    },
    {
     "name": "stdout",
     "output_type": "stream",
     "text": [
      "         Error\n",
      "    ## Start Extract:2150\n",
      "        routeno    : 92\n",
      "        startnodenm: 원지버스정류소\n",
      "        Search Node\n"
     ]
    },
    {
     "name": "stderr",
     "output_type": "stream",
     "text": [
      "66it [20:08, 18.31s/it]"
     ]
    },
    {
     "name": "stdout",
     "output_type": "stream",
     "text": [
      "         Error\n"
     ]
    },
    {
     "name": "stderr",
     "output_type": "stream",
     "text": [
      "\n"
     ]
    }
   ],
   "source": [
    "## 도시명 입력\n",
    "city_name = \"산청군\" \n",
    "input_values = busroute_usage[busroute_usage[\"city_name\"] == city_name][[\"routeno\", \"startnodenm\"]] \n",
    "findtime = 100000\n",
    "\n",
    "route_usage_data = {}\n",
    "\n",
    "if city_name == \"창원시\":\n",
    "    region_button_selector = \"48123_48127_48125_48120_48121_48129\"\n",
    "    \n",
    "elif city_name == \"진주시\":\n",
    "    region_button_selector = \"48170\"\n",
    "    \n",
    "elif city_name == \"통영시\":\n",
    "    region_button_selector = \"48220\"\n",
    "    \n",
    "elif city_name == \"사천시\":\n",
    "    region_button_selector = \"48240\"\n",
    "    \n",
    "elif city_name == \"김해시\":\n",
    "    region_button_selector = \"48250\"\n",
    "    \n",
    "elif city_name == \"밀양시\":\n",
    "    region_button_selector = \"48270\"\n",
    "        \n",
    "elif city_name == \"거제시\":\n",
    "    region_button_selector = \"48310\"\n",
    "    \n",
    "elif city_name == \"양산시\":\n",
    "    region_button_selector = \"48330\"\n",
    "    \n",
    "elif city_name == \"의령군\":\n",
    "    region_button_selector = \"48720\"\n",
    "    \n",
    "elif city_name == \"함안군\":\n",
    "    region_button_selector = \"48730\"\n",
    "    \n",
    "elif city_name == \"창녕군\":\n",
    "    region_button_selector = \"48740\"\n",
    "    \n",
    "elif city_name == \"고성군\":\n",
    "    region_button_selector = \"48820\"\n",
    "    \n",
    "elif city_name == \"남해군\":\n",
    "    region_button_selector = \"48840\"\n",
    "    \n",
    "elif city_name == \"하동군\":\n",
    "    region_button_selector = \"48850\"\n",
    "    \n",
    "elif city_name == \"산청군\":\n",
    "    region_button_selector = \"48860\"\n",
    "    \n",
    "elif city_name == \"함양군\":\n",
    "    region_button_selector = \"48870\"\n",
    "\n",
    "elif city_name == \"거창군\":\n",
    "    region_button_selector = \"48880\"\n",
    "    \n",
    "elif city_name == \"합천군\":\n",
    "    region_button_selector = \"48890\"\n",
    "    \n",
    "else:\n",
    "    raise ValueError(f\"Unknown city_name: {city_name}\")\n",
    "\n",
    "### 반복문 시작 #########################################################################################\n",
    "route_usage_data[f\"{city_name}\"] = {}\n",
    "first_i = input_values.index[0] + 1 \n",
    "\n",
    "for i, input_value in tqdm(input_values.iterrows()):\n",
    "    routeno = input_value[\"routeno\"]\n",
    "    startnodenm = input_value[\"startnodenm\"]\n",
    "    print(f\"    ## Start Extract:{i+1}\")\n",
    "    print(f\"        routeno    : {routeno}\")\n",
    "    print(f\"        startnodenm: {startnodenm}\")\n",
    "\n",
    "    options = Options()\n",
    "    options.add_experimental_option(\"excludeSwitches\", [\"enable-automation\"])\n",
    "    driver = wb.Chrome(options = options)\n",
    "\n",
    "    ## 교통카드빅데이터 종합정보시스템 -> 노선별 이용량 조회 url\n",
    "    driver.get(\"https://stcis.go.kr/pivotIndi/wpsPivotIndicator.do?siteGb=P&indiClss=IC03&indiSel=IC0301\")\n",
    "\n",
    "    ## 클릭 함수\n",
    "    def driver_clickable_processor(css_selector_value):\n",
    "        click = WebDriverWait(driver, findtime).until(\n",
    "            EC.element_to_be_clickable((By.CSS_SELECTOR, css_selector_value))\n",
    "        )    \n",
    "        driver.execute_script(\"arguments[0].scrollIntoView();\", click)\n",
    "        driver.execute_script(\"arguments[0].click();\", click)    \n",
    "        \n",
    "        return click\n",
    "\n",
    "    ## 텍스트 추출 함수 \n",
    "    def driver_extract_text_processor(css_selector_value):\n",
    "        element = WebDriverWait(driver, findtime).until(\n",
    "                        EC.presence_of_element_located((\n",
    "                            By.CSS_SELECTOR, \n",
    "                            css_selector_value\n",
    "                            ))\n",
    "                    )\n",
    "        return element.text\n",
    "\n",
    "    ## 기간선택 -> 월 클릭\n",
    "    driver_clickable_processor(\"#divRdoDate > li:nth-child(2)\")\n",
    "\n",
    "    ## 공간선택 -> 검색명에 city_name 입력 후 검색 클릭\n",
    "    click = driver_clickable_processor(\"#searchRouteSpaceNm\")\n",
    "    click.send_keys(f\"{city_name}\")\n",
    "\n",
    "    ## 검색 버튼 클릭\n",
    "    click = driver_clickable_processor(\"#space4 > li.box_flex > button\")\n",
    "\n",
    "    ## 시도 박스 클릭\n",
    "    time.sleep(1)\n",
    "    dropdown = Select(driver.find_element(By.XPATH, '//*[@id=\"searchPopZoneSd\"]'))\n",
    "    dropdown.select_by_value(\"48\")\n",
    "\n",
    "    ## 지역 버튼 클릭 > 지역마다 클릭 버튼이 다름\n",
    "    dropdown = Select(driver.find_element(By.XPATH, '//*[@id=\"searchPopZoneSgg\"]'))\n",
    "    dropdown.select_by_value(region_button_selector)\n",
    "    \n",
    "    ## 노선명 입력칸 클릭 -> 노선번호(명) 입력\n",
    "    print(\"        Search Node\")\n",
    "    route_name_input = driver_clickable_processor(\"#popupSearchRouteNo\")\n",
    "    route_name_input.send_keys(f\"{routeno}\")\n",
    "\n",
    "    ## 검색 버튼 클릭\n",
    "    search_button = driver_clickable_processor(\"#route_space1 > li.box_flex > button\")\n",
    "\n",
    "    ## 노선명과 기종점이 같은지 확인\n",
    "    routeno_len = int(WebDriverWait(driver, findtime).until(\n",
    "        EC.element_to_be_clickable((By.CLASS_NAME, 'pop_box'))\n",
    "    ).text.split()[2])\n",
    "\n",
    "    try:\n",
    "        WebDriverWait(driver, findtime).until(\n",
    "            EC.presence_of_element_located((By.CSS_SELECTOR, \"#divBusLineList > div.pop_box > table > tbody\"))\n",
    "        )\n",
    "\n",
    "        ## 검색결과 한개인 경우\n",
    "        if routeno_len == 1:\n",
    "            check_routeno = driver.find_element(\n",
    "                By.CSS_SELECTOR, \n",
    "                \"#divBusLineList > div.pop_box > table > tbody > tr > td:nth-child(2)\"\n",
    "                ).text\n",
    "\n",
    "            check_startnodem = driver.find_element(\n",
    "                By.CSS_SELECTOR, \n",
    "                \"#divBusLineList > div.pop_box > table > tbody > tr > td:nth-child(4)\"\n",
    "                ).text.split(\" - \")[0]\n",
    "\n",
    "            ## 노선명과 기종점이 일치할 경우 체크 박스 클릭\n",
    "            if check_routeno == str(routeno): ## and check_startnodem == startnodenm\n",
    "                check_click = driver_clickable_processor(\"#divBusLineList > div.pop_box > table > tbody > tr > td:nth-child(1) > div > label > div\")\n",
    "                select_button = driver_clickable_processor(\"#popupBusLine > div:nth-child(4) > button\")\n",
    "                \n",
    "                ## 첫번째만 실행 이용자유형, 시간대 체크 표시 없애기\n",
    "                # if i == first_i:\n",
    "                type_no_check = driver_clickable_processor(\"#divChkDmn > li:nth-child(8) > label > div\")            \n",
    "                time_no_check = driver_clickable_processor(\"#divChkDmn > li:nth-child(9) > label > div\")\n",
    "            \n",
    "                ## 검색결과조회 버튼 클릭\n",
    "                search_click = driver_clickable_processor(\"#btnSearch > button\")\n",
    "                            \n",
    "                ## 경고 메세지 \"확인\" 클릭\n",
    "                try:\n",
    "                    WebDriverWait(driver, findtime).until(\n",
    "                        EC.alert_is_present()\n",
    "                    )\n",
    "                    alert = driver.switch_to.alert\n",
    "                    alert.accept()  # '확인' 클릭\n",
    "                except Exception as e:\n",
    "                    print(f\"팝업 처리 오류: {e}\")\n",
    "                \n",
    "                ## 노선 이용량 추출\n",
    "                print(\"        Start Extraction1\")\n",
    "                route_usage_element = driver_extract_text_processor(\"#pivotGrid > div > div:nth-child(2) > div.wj-cells > div:nth-child(2) > div\")\n",
    "                route_usage_int = int(route_usage_element.replace(\",\", \"\"))\n",
    "                print(\"        Done Extraction1\")\n",
    "                \n",
    "        ## 검색결과 여러 개인 경우\n",
    "        else:\n",
    "            breaker = False         \n",
    "            for k in range(4, 13):\n",
    "                for j in range(1, 11):\n",
    "                    WebDriverWait(driver, findtime).until(\n",
    "                        EC.presence_of_element_located((\n",
    "                            By.CSS_SELECTOR, \n",
    "                            f\"#divBusLineList > div.pop_box > table > tbody > tr:nth-child({j}) > td:nth-child(2)\"\n",
    "                            )))\n",
    "\n",
    "                    check_routeno = driver.find_element(\n",
    "                        By.CSS_SELECTOR, \n",
    "                        f\"#divBusLineList > div.pop_box > table > tbody > tr:nth-child({j}) > td:nth-child(2)\"\n",
    "                        ).text\n",
    "\n",
    "                    check_startnodem = driver.find_element(\n",
    "                        By.CSS_SELECTOR, \n",
    "                        f\"#divBusLineList > div.pop_box > table > tbody > tr:nth-child({j}) > td:nth-child(4)\"\n",
    "                        ).text.split(\" - \")[0]\n",
    "            \n",
    "                    # 모든 <li> 요소 찾기\n",
    "                    li_elements = WebDriverWait(driver, findtime).until(\n",
    "                        EC.presence_of_all_elements_located((By.CSS_SELECTOR, \"#divBusLineList > div.tbl_paging > ul > li\"))\n",
    "                    )\n",
    "                    num_of_li_elements = len(li_elements)\n",
    "\n",
    "                    ## 노선명과 기종점이 일치할 경우 체크 박스 클릭\n",
    "                    if check_routeno == str(routeno): ## and check_startnodem == startnodenm:\n",
    "                        driver_clickable_processor(\n",
    "                            f\"#divBusLineList > div.pop_box > table > tbody > tr:nth-child({j}) > td:nth-child(1) > div > label > div\"\n",
    "                            )\n",
    "                        # for-loop 중단\n",
    "                        breaker = True\n",
    "                        break\n",
    "                    else: \n",
    "                        continue\n",
    "                    \n",
    "                if breaker == True or k == 12:\n",
    "                    break\n",
    "\n",
    "                if num_of_li_elements == 14:\n",
    "                    driver_clickable_processor(f\"#divBusLineList > div.tbl_paging > ul > li:nth-child({k}) > a\")\n",
    "                else:\n",
    "                    driver_clickable_processor(f\"#divBusLineList > div.tbl_paging > ul > li:nth-child({k-2}) > a\")    \n",
    "                time.sleep(2)  \n",
    "                \n",
    "            \n",
    "            # 선택버튼 클릭\n",
    "            select_button = driver_clickable_processor(\"#popupBusLine > div:nth-child(4) > button\")\n",
    "                    \n",
    "            ## 첫번째만 실행 이용자유형, 시간대 체크 표시 없애기\n",
    "            # if i == first_i:\n",
    "            type_no_check = driver_clickable_processor(\"#divChkDmn > li:nth-child(8) > label > div\")            \n",
    "            time_no_check = driver_clickable_processor(\"#divChkDmn > li:nth-child(9) > label > div\")\n",
    "\n",
    "            ## 검색결과조회 버튼 클릭\n",
    "            search_click = driver_clickable_processor(\"#btnSearch > button\")\n",
    "            \n",
    "            ## 경고 메세지 \"확인\" 클릭\n",
    "            try:\n",
    "                WebDriverWait(driver, findtime).until(\n",
    "                    EC.alert_is_present()\n",
    "                )\n",
    "                alert = driver.switch_to.alert\n",
    "                alert.accept()  # '확인' 클릭\n",
    "            except Exception as e:\n",
    "                print(f\"팝업 처리 오류: {e}\")\n",
    "            \n",
    "            ## 노선 이용량 추출\n",
    "            print(\"        Start Extraction\")\n",
    "            route_usage_element = driver_extract_text_processor(\"#pivotGrid > div > div:nth-child(2) > div.wj-cells > div:nth-child(2) > div\")\n",
    "            route_usage_int = int(route_usage_element.replace(\",\", \"\"))\n",
    "            print(\"        Done Extraction\")\n",
    "            \n",
    "        print(f\"        Save Usage : {route_usage_int}\")\n",
    "        route_usage_data[f\"{city_name}\"][f\"{routeno}\"] = route_usage_int\n",
    "        \n",
    "        ## 창닫기\n",
    "        driver.quit()\n",
    " \n",
    "    except:\n",
    "        ## 빈칸 넣기\n",
    "        route_usage_data[f\"{city_name}\"][f\"{routeno}\"] = None\n",
    "        \n",
    "        ## 창닫기\n",
    "        print(\"         Error\")           \n",
    "        driver.quit()"
   ]
  },
  {
   "cell_type": "code",
   "execution_count": 18,
   "metadata": {},
   "outputs": [
    {
     "data": {
      "text/plain": [
       "{'산청군': {'5': None,\n",
       "  '11': None,\n",
       "  '55': None,\n",
       "  '21': None,\n",
       "  '51': None,\n",
       "  '4': None,\n",
       "  '62': None,\n",
       "  '48': None,\n",
       "  '50': None,\n",
       "  '13': None,\n",
       "  '40': 959,\n",
       "  '60': None,\n",
       "  '14': 959,\n",
       "  '6': None,\n",
       "  '12': None,\n",
       "  '26': None,\n",
       "  '23': None,\n",
       "  '53': None,\n",
       "  '32': None,\n",
       "  '54': None,\n",
       "  '2': 959,\n",
       "  '25': None,\n",
       "  '10': None,\n",
       "  '24': None,\n",
       "  '1': 8796,\n",
       "  '74': None,\n",
       "  '56': None,\n",
       "  '8': None,\n",
       "  '72': None,\n",
       "  '22': None,\n",
       "  '20': None,\n",
       "  '70': None,\n",
       "  '33': None,\n",
       "  '66': None,\n",
       "  '7': None,\n",
       "  '64': None,\n",
       "  '41': None,\n",
       "  '57': None,\n",
       "  '80': None,\n",
       "  '93': None,\n",
       "  '65': None,\n",
       "  '94': None,\n",
       "  '61': None,\n",
       "  '95': None,\n",
       "  '82': None,\n",
       "  '67': None,\n",
       "  '84': None,\n",
       "  '68': None,\n",
       "  '85': None,\n",
       "  '31': None,\n",
       "  '71': None,\n",
       "  '91': None,\n",
       "  '34': 8796,\n",
       "  '73': None,\n",
       "  '90': None,\n",
       "  '3': 8796,\n",
       "  '81': None,\n",
       "  '49': None,\n",
       "  '52': None,\n",
       "  '47': None,\n",
       "  '75': None,\n",
       "  '83': None,\n",
       "  '63': None,\n",
       "  '59': None,\n",
       "  '58': None,\n",
       "  '92': None}}"
      ]
     },
     "execution_count": 18,
     "metadata": {},
     "output_type": "execute_result"
    }
   ],
   "source": [
    "route_usage_data"
   ]
  },
  {
   "cell_type": "markdown",
   "metadata": {},
   "source": [
    "### 결측값 채우기"
   ]
  },
  {
   "cell_type": "code",
   "execution_count": 13,
   "metadata": {},
   "outputs": [],
   "source": []
  },
  {
   "cell_type": "code",
   "execution_count": 14,
   "metadata": {},
   "outputs": [
    {
     "data": {
      "text/plain": [
       "{'사천시': {'100': 793,\n",
       "  '101': 1385,\n",
       "  '102': 1085,\n",
       "  '110': 15598,\n",
       "  '111': 2309,\n",
       "  '112': 537,\n",
       "  '130': 1545,\n",
       "  '132': 541,\n",
       "  '132-1': None,\n",
       "  '140': 892,\n",
       "  '141': 831,\n",
       "  '142': 2074,\n",
       "  '143': 636,\n",
       "  '144': 290,\n",
       "  '313': 292,\n",
       "  '190': 604,\n",
       "  '190-1': 555,\n",
       "  '191': 383,\n",
       "  '191-1': 385,\n",
       "  '192': 236,\n",
       "  '193': 284,\n",
       "  '193-1': 161,\n",
       "  '194': 4323,\n",
       "  '200': 217,\n",
       "  '200-1': 332,\n",
       "  '201': 193,\n",
       "  '201-1': 294,\n",
       "  '220': 2866,\n",
       "  '221': 607,\n",
       "  '230': 5016,\n",
       "  '230-1': 4455,\n",
       "  '310': 409,\n",
       "  '311': 411,\n",
       "  '260': 38,\n",
       "  '192-1': 293,\n",
       "  '160': 531,\n",
       "  '380': 85,\n",
       "  '161': 252,\n",
       "  '370': 148,\n",
       "  '316': 709,\n",
       "  '206': 83,\n",
       "  '312': 178,\n",
       "  '266': 85,\n",
       "  '113': 6300,\n",
       "  '104': 880,\n",
       "  '105': 1260,\n",
       "  '106': 317,\n",
       "  '145': 41,\n",
       "  '209': 878,\n",
       "  '229': 1119,\n",
       "  '103': 61,\n",
       "  '222': 130,\n",
       "  '223': 328,\n",
       "  '228': 814,\n",
       "  '363': 154,\n",
       "  '500': 1573,\n",
       "  '501': 959}}"
      ]
     },
     "execution_count": 14,
     "metadata": {},
     "output_type": "execute_result"
    }
   ],
   "source": [
    "route_usage_data"
   ]
  },
  {
   "cell_type": "markdown",
   "metadata": {},
   "source": [
    "### pickle 저장"
   ]
  },
  {
   "cell_type": "code",
   "execution_count": 19,
   "metadata": {},
   "outputs": [],
   "source": [
    "import pickle\n",
    "\n",
    "with open(f'../data/버스이용데이터/{city_name}_usage.pkl', 'wb') as f: \n",
    "\tpickle.dump(route_usage_data, f)"
   ]
  }
 ],
 "metadata": {
  "kernelspec": {
   "display_name": "gyeongn",
   "language": "python",
   "name": "python3"
  },
  "language_info": {
   "codemirror_mode": {
    "name": "ipython",
    "version": 3
   },
   "file_extension": ".py",
   "mimetype": "text/x-python",
   "name": "python",
   "nbconvert_exporter": "python",
   "pygments_lexer": "ipython3",
   "version": "3.12.4"
  }
 },
 "nbformat": 4,
 "nbformat_minor": 2
}
