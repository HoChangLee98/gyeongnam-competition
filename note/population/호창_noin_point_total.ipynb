{
 "cells": [
  {
   "cell_type": "code",
   "execution_count": 1,
   "metadata": {},
   "outputs": [],
   "source": [
    "import pandas as pd\n",
    "import warnings\n",
    "warnings.filterwarnings(\"ignore\")\n",
    "import geopandas as gpd\n",
    "import glob\n",
    "import os\n",
    "from shapely.geometry import Polygon\n",
    "from shapely.geometry import Point"
   ]
  },
  {
   "cell_type": "markdown",
   "metadata": {},
   "source": [
    "### 노인 인구 밀집 지역- 경남"
   ]
  },
  {
   "cell_type": "code",
   "execution_count": 2,
   "metadata": {},
   "outputs": [],
   "source": [
    "# Shapefile 파일이 있는 디렉토리 경로\n",
    "directory_path = \"../../data/경남 노인 인구 분포/\"\n",
    "\n",
    "# Shapefile 파일 경로를 모두 가져오기\n",
    "shapefile_paths = glob.glob(os.path.join(directory_path, \"**/*.shp\"))\n",
    "\n",
    "gdfs = []\n",
    "\n",
    "# 각 Shapefile을 읽어 리스트에 추가\n",
    "for shapefile in shapefile_paths:\n",
    "    gdf = gpd.read_file(shapefile, encoding=\"utf-8\")\n",
    "    gdfs.append(gdf)\n",
    "\n",
    "# 모든 GeoDataFrame을 하나로 병합\n",
    "merged_gdf = gpd.GeoDataFrame(pd.concat(gdfs, ignore_index=True))\n",
    "\n",
    "\n",
    "merged_gdf['val'] = merged_gdf['val'].fillna(0)\n",
    "merged_gdf = merged_gdf[merged_gdf[\"val\"].apply(lambda x: x != 0.0)]\n",
    "merged_gdf = merged_gdf.to_crs(epsg=5179)"
   ]
  },
  {
   "cell_type": "code",
   "execution_count": 3,
   "metadata": {},
   "outputs": [],
   "source": [
    "merged_gdf['point'] = merged_gdf['geometry'].centroid.apply(lambda centroid: Point(centroid.x, centroid.y))"
   ]
  },
  {
   "cell_type": "code",
   "execution_count": 17,
   "metadata": {},
   "outputs": [],
   "source": [
    "merged_gdf[\"경도\"] = gpd.GeoDataFrame(\n",
    "     merged_gdf[[\"point\"]], \n",
    "     geometry=\"point\"\n",
    "     ).to_crs(epsg=4236).point.x\n",
    "\n",
    "merged_gdf[\"위도\"] = gpd.GeoDataFrame(\n",
    "     merged_gdf[[\"point\"]], \n",
    "     geometry=\"point\"\n",
    "     ).to_crs(epsg=4236).point.y"
   ]
  },
  {
   "cell_type": "code",
   "execution_count": 20,
   "metadata": {},
   "outputs": [],
   "source": [
    "# merged_gdf.to_csv(\"../../data/노인인구분포중심점.csv\", index=False)"
   ]
  }
 ],
 "metadata": {
  "kernelspec": {
   "display_name": "gyeongn",
   "language": "python",
   "name": "python3"
  },
  "language_info": {
   "codemirror_mode": {
    "name": "ipython",
    "version": 3
   },
   "file_extension": ".py",
   "mimetype": "text/x-python",
   "name": "python",
   "nbconvert_exporter": "python",
   "pygments_lexer": "ipython3",
   "version": "3.12.4"
  }
 },
 "nbformat": 4,
 "nbformat_minor": 2
}
