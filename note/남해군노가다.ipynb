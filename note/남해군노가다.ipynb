{
 "cells": [
  {
   "cell_type": "markdown",
   "metadata": {},
   "source": [
    "## 남해군 노가다"
   ]
  },
  {
   "cell_type": "code",
   "execution_count": 6,
   "metadata": {},
   "outputs": [],
   "source": [
    "import pandas as pd\n",
    "import pickle\n",
    "import warnings\n",
    "warnings.filterwarnings(\"ignore\")"
   ]
  },
  {
   "cell_type": "code",
   "execution_count": 7,
   "metadata": {},
   "outputs": [],
   "source": [
    "# # 데이터 로드\n",
    "with open('../data/버스정보데이터/남해군_inform.pkl', 'rb') as f:\n",
    "\tdata = pickle.load(f)"
   ]
  },
  {
   "cell_type": "code",
   "execution_count": 8,
   "metadata": {},
   "outputs": [
    {
     "data": {
      "text/plain": [
       "{'남해군': {'102': {'노선정류장수': None, '노선거리(km)': None, '굴곡도': None},\n",
       "  '404': {'노선정류장수': None, '노선거리(km)': None, '굴곡도': None},\n",
       "  '402': {'노선정류장수': None, '노선거리(km)': None, '굴곡도': None},\n",
       "  '101': {'노선정류장수': None, '노선거리(km)': None, '굴곡도': None},\n",
       "  '601': {'노선정류장수': None, '노선거리(km)': None, '굴곡도': None},\n",
       "  '201': {'노선정류장수': None, '노선거리(km)': None, '굴곡도': None},\n",
       "  '501': {'노선정류장수': None, '노선거리(km)': None, '굴곡도': None},\n",
       "  '408': {'노선정류장수': None, '노선거리(km)': None, '굴곡도': None},\n",
       "  '701': {'노선정류장수': None, '노선거리(km)': None, '굴곡도': None},\n",
       "  '700': {'노선정류장수': None, '노선거리(km)': None, '굴곡도': None},\n",
       "  '303': {'노선정류장수': None, '노선거리(km)': None, '굴곡도': None},\n",
       "  '401': {'노선정류장수': None, '노선거리(km)': None, '굴곡도': None},\n",
       "  '403': {'노선정류장수': None, '노선거리(km)': None, '굴곡도': None},\n",
       "  '405': {'노선정류장수': None, '노선거리(km)': None, '굴곡도': None},\n",
       "  '500': {'노선정류장수': None, '노선거리(km)': None, '굴곡도': None},\n",
       "  '602': {'노선정류장수': None, '노선거리(km)': None, '굴곡도': None},\n",
       "  '802-1': {'노선정류장수': None, '노선거리(km)': None, '굴곡도': None},\n",
       "  '803-1': {'노선정류장수': None, '노선거리(km)': None, '굴곡도': None},\n",
       "  '803': {'노선정류장수': None, '노선거리(km)': None, '굴곡도': None},\n",
       "  '804': {'노선정류장수': None, '노선거리(km)': None, '굴곡도': None},\n",
       "  '406': {'노선정류장수': None, '노선거리(km)': None, '굴곡도': None},\n",
       "  '407': {'노선정류장수': None, '노선거리(km)': None, '굴곡도': None},\n",
       "  '302': {'노선정류장수': None, '노선거리(km)': None, '굴곡도': None},\n",
       "  '804-1': {'노선정류장수': None, '노선거리(km)': None, '굴곡도': None},\n",
       "  '801-1': {'노선정류장수': None, '노선거리(km)': None, '굴곡도': None},\n",
       "  '801': {'노선정류장수': None, '노선거리(km)': None, '굴곡도': None},\n",
       "  '305': {'노선정류장수': None, '노선거리(km)': None, '굴곡도': None},\n",
       "  '202': {'노선정류장수': None, '노선거리(km)': None, '굴곡도': None},\n",
       "  '203': {'노선정류장수': None, '노선거리(km)': None, '굴곡도': None},\n",
       "  '204': {'노선정류장수': None, '노선거리(km)': None, '굴곡도': None},\n",
       "  '301': {'노선정류장수': None, '노선거리(km)': None, '굴곡도': None},\n",
       "  '304': {'노선정류장수': None, '노선거리(km)': None, '굴곡도': None},\n",
       "  '502': {'노선정류장수': None, '노선거리(km)': None, '굴곡도': None},\n",
       "  '503': {'노선정류장수': None, '노선거리(km)': None, '굴곡도': None},\n",
       "  '504': {'노선정류장수': None, '노선거리(km)': None, '굴곡도': None},\n",
       "  '603': {'노선정류장수': None, '노선거리(km)': None, '굴곡도': None},\n",
       "  '802': {'노선정류장수': None, '노선거리(km)': None, '굴곡도': None},\n",
       "  '805': {'노선정류장수': None, '노선거리(km)': None, '굴곡도': None},\n",
       "  '805-1': {'노선정류장수': None, '노선거리(km)': None, '굴곡도': None},\n",
       "  '010': {'노선정류장수': None, '노선거리(km)': None, '굴곡도': None},\n",
       "  '011': {'노선정류장수': None, '노선거리(km)': None, '굴곡도': None},\n",
       "  '012': {'노선정류장수': None, '노선거리(km)': None, '굴곡도': None},\n",
       "  '013': {'노선정류장수': None, '노선거리(km)': None, '굴곡도': None},\n",
       "  '014': {'노선정류장수': None, '노선거리(km)': None, '굴곡도': None},\n",
       "  '015': {'노선정류장수': None, '노선거리(km)': None, '굴곡도': None},\n",
       "  '020': {'노선정류장수': None, '노선거리(km)': None, '굴곡도': None},\n",
       "  '030': {'노선정류장수': None, '노선거리(km)': None, '굴곡도': None},\n",
       "  '040': {'노선정류장수': None, '노선거리(km)': None, '굴곡도': None},\n",
       "  '050': {'노선정류장수': None, '노선거리(km)': None, '굴곡도': None},\n",
       "  '060': {'노선정류장수': None, '노선거리(km)': None, '굴곡도': None}}}"
      ]
     },
     "execution_count": 8,
     "metadata": {},
     "output_type": "execute_result"
    }
   ],
   "source": [
    "data"
   ]
  },
  {
   "cell_type": "code",
   "execution_count": 9,
   "metadata": {},
   "outputs": [],
   "source": [
    "data = {'남해군': {'102': {'노선정류장수': 40, '노선거리(km)': None, '굴곡도': None},\n",
    "  '404': {'노선정류장수': 38, '노선거리(km)': None, '굴곡도': None},\n",
    "  '402': {'노선정류장수': 39, '노선거리(km)': None, '굴곡도': None},\n",
    "  '101': {'노선정류장수': 40, '노선거리(km)': None, '굴곡도': None},\n",
    "  '601': {'노선정류장수': 47, '노선거리(km)': None, '굴곡도': None},\n",
    "  '201': {'노선정류장수': 24, '노선거리(km)': None, '굴곡도': None},\n",
    "  '501': {'노선정류장수': 33, '노선거리(km)': None, '굴곡도': None},\n",
    "  '408': {'노선정류장수': 29, '노선거리(km)': None, '굴곡도': None},\n",
    "  '701': {'노선정류장수': 63, '노선거리(km)': None, '굴곡도': None},\n",
    "  '700': {'노선정류장수': 23, '노선거리(km)': None, '굴곡도': None},\n",
    "  '303': {'노선정류장수': 31, '노선거리(km)': None, '굴곡도': None},\n",
    "  '401': {'노선정류장수': 37, '노선거리(km)': None, '굴곡도': None},\n",
    "  '403': {'노선정류장수': 35, '노선거리(km)': None, '굴곡도': None},\n",
    "  '405': {'노선정류장수': 34, '노선거리(km)': None, '굴곡도': None},\n",
    "  '500': {'노선정류장수': 31, '노선거리(km)': None, '굴곡도': None},\n",
    "  '602': {'노선정류장수': 52, '노선거리(km)': None, '굴곡도': None},\n",
    "  '802-1': {'노선정류장수': 21, '노선거리(km)': None, '굴곡도': None},\n",
    "  '803-1': {'노선정류장수': 20, '노선거리(km)': None, '굴곡도': None},\n",
    "  '803': {'노선정류장수': 26, '노선거리(km)': None, '굴곡도': None},\n",
    "  '804': {'노선정류장수': 2, '노선거리(km)': None, '굴곡도': None},\n",
    "  '406': {'노선정류장수': 30, '노선거리(km)': None, '굴곡도': None},\n",
    "  '407': {'노선정류장수': 40, '노선거리(km)': None, '굴곡도': None},\n",
    "  '302': {'노선정류장수': 29, '노선거리(km)': None, '굴곡도': None},\n",
    "  '804-1': {'노선정류장수': 25, '노선거리(km)': None, '굴곡도': None},\n",
    "  '801-1': {'노선정류장수': 20, '노선거리(km)': None, '굴곡도': None},\n",
    "  '801': {'노선정류장수': 17, '노선거리(km)': None, '굴곡도': None},\n",
    "  '305': {'노선정류장수': 21, '노선거리(km)': None, '굴곡도': None},\n",
    "  '202': {'노선정류장수': 14, '노선거리(km)': None, '굴곡도': None},\n",
    "  '203': {'노선정류장수': 14, '노선거리(km)': None, '굴곡도': None},\n",
    "  '204': {'노선정류장수': 15, '노선거리(km)': None, '굴곡도': None},\n",
    "  '301': {'노선정류장수': 16, '노선거리(km)': None, '굴곡도': None},\n",
    "  '304': {'노선정류장수': 19, '노선거리(km)': None, '굴곡도': None},\n",
    "  '502': {'노선정류장수': 39, '노선거리(km)': None, '굴곡도': None},\n",
    "  '503': {'노선정류장수': 36, '노선거리(km)': None, '굴곡도': None},\n",
    "  '504': {'노선정류장수': 36, '노선거리(km)': None, '굴곡도': None},\n",
    "  '603': {'노선정류장수': 51, '노선거리(km)': None, '굴곡도': None},\n",
    "  '802': {'노선정류장수': 23, '노선거리(km)': None, '굴곡도': None},\n",
    "  '805': {'노선정류장수': 16, '노선거리(km)': None, '굴곡도': None},\n",
    "  '805-1': {'노선정류장수': 13, '노선거리(km)': None, '굴곡도': None},\n",
    "  '010': {'노선정류장수': 5, '노선거리(km)': None, '굴곡도': None},\n",
    "  '011': {'노선정류장수': 14, '노선거리(km)': None, '굴곡도': None},\n",
    "  '012': {'노선정류장수': 37, '노선거리(km)': None, '굴곡도': None},\n",
    "  '013': {'노선정류장수': 17, '노선거리(km)': None, '굴곡도': None},\n",
    "  '014': {'노선정류장수': 21, '노선거리(km)': None, '굴곡도': None},\n",
    "  '015': {'노선정류장수': 21, '노선거리(km)': None, '굴곡도': None},\n",
    "  '020': {'노선정류장수': 80, '노선거리(km)': None, '굴곡도': None},\n",
    "  '030': {'노선정류장수': 45, '노선거리(km)': None, '굴곡도': None},\n",
    "  '040': {'노선정류장수': 28, '노선거리(km)': None, '굴곡도': None},\n",
    "  '050': {'노선정류장수': 25, '노선거리(km)': None, '굴곡도': None},\n",
    "  '060': {'노선정류장수': 30, '노선거리(km)': None, '굴곡도': None}}}"
   ]
  },
  {
   "cell_type": "code",
   "execution_count": 10,
   "metadata": {},
   "outputs": [],
   "source": [
    "import pickle\n",
    "\n",
    "with open(f'../data/버스정보데이터/남해군_inform.pkl', 'wb') as f: \n",
    "\tpickle.dump(data, f)"
   ]
  },
  {
   "cell_type": "code",
   "execution_count": null,
   "metadata": {},
   "outputs": [],
   "source": []
  },
  {
   "cell_type": "code",
   "execution_count": null,
   "metadata": {},
   "outputs": [],
   "source": []
  },
  {
   "cell_type": "code",
   "execution_count": null,
   "metadata": {},
   "outputs": [],
   "source": []
  },
  {
   "cell_type": "code",
   "execution_count": null,
   "metadata": {},
   "outputs": [],
   "source": []
  },
  {
   "cell_type": "code",
   "execution_count": null,
   "metadata": {},
   "outputs": [],
   "source": []
  },
  {
   "cell_type": "code",
   "execution_count": null,
   "metadata": {},
   "outputs": [],
   "source": []
  }
 ],
 "metadata": {
  "kernelspec": {
   "display_name": "gyeongn",
   "language": "python",
   "name": "python3"
  },
  "language_info": {
   "codemirror_mode": {
    "name": "ipython",
    "version": 3
   },
   "file_extension": ".py",
   "mimetype": "text/x-python",
   "name": "python",
   "nbconvert_exporter": "python",
   "pygments_lexer": "ipython3",
   "version": "3.12.4"
  }
 },
 "nbformat": 4,
 "nbformat_minor": 2
}
