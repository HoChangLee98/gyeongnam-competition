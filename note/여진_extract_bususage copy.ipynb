{
 "cells": [
  {
   "cell_type": "markdown",
   "metadata": {},
   "source": [
    "# 실행 전 requirements.txt 터미널에서 받아주세요!\n",
    "\n",
    "### 버스 노선 데이터 노선별 이용량 추출\n",
    "교통카드빅데이터 통합 정보 시스템: https://stcis.go.kr/pivotIndi/wpsPivotIndicator.do?siteGb=P&indiClss=IC03&indiSel=IC0301\n"
   ]
  },
  {
   "cell_type": "code",
   "execution_count": 1,
   "metadata": {},
   "outputs": [],
   "source": [
    "import pandas as pd\n",
    "import warnings\n",
    "warnings.filterwarnings('ignore')"
   ]
  },
  {
   "cell_type": "code",
   "execution_count": 2,
   "metadata": {},
   "outputs": [],
   "source": [
    "busroute_usage = pd.read_csv(\n",
    "    filepath_or_buffer=\"../data/gyeongn_busroute_total.csv\"\n",
    "    )"
   ]
  },
  {
   "cell_type": "code",
   "execution_count": 3,
   "metadata": {},
   "outputs": [
    {
     "name": "stdout",
     "output_type": "stream",
     "text": [
      "<class 'pandas.core.frame.DataFrame'>\n",
      "RangeIndex: 2513 entries, 0 to 2512\n",
      "Data columns (total 12 columns):\n",
      " #   Column            Non-Null Count  Dtype  \n",
      "---  ------            --------------  -----  \n",
      " 0   city_name         2513 non-null   object \n",
      " 1   city_code         2513 non-null   int64  \n",
      " 2   routeid           2513 non-null   object \n",
      " 3   routeno           2513 non-null   object \n",
      " 4   routetp           2513 non-null   object \n",
      " 5   startnodenm       2513 non-null   object \n",
      " 6   endnodenm         2513 non-null   object \n",
      " 7   startvehicletime  1413 non-null   float64\n",
      " 8   endvehicletime    1334 non-null   float64\n",
      " 9   intervaltime      1056 non-null   float64\n",
      " 10  intervalsattime   159 non-null    float64\n",
      " 11  intervalsuntime   152 non-null    float64\n",
      "dtypes: float64(5), int64(1), object(6)\n",
      "memory usage: 235.7+ KB\n"
     ]
    }
   ],
   "source": [
    "busroute_usage.info()"
   ]
  },
  {
   "cell_type": "code",
   "execution_count": 4,
   "metadata": {},
   "outputs": [
    {
     "data": {
      "text/plain": [
       "array(['창원시', '진주시', '통영시', '사천시', '김해시', '밀양시', '거제시', '양산시', '의령군',\n",
       "       '함안군', '창녕군', '고성군', '남해군', '하동군', '산청군', '함양군', '거창군', '합천군'],\n",
       "      dtype=object)"
      ]
     },
     "execution_count": 4,
     "metadata": {},
     "output_type": "execute_result"
    }
   ],
   "source": [
    "busroute_usage[\"city_name\"].unique()"
   ]
  },
  {
   "cell_type": "code",
   "execution_count": 5,
   "metadata": {},
   "outputs": [
    {
     "data": {
      "text/plain": [
       "city_name\n",
       "진주시    300\n",
       "거제시    279\n",
       "통영시    216\n",
       "함안군    209\n",
       "밀양시    189\n",
       "창원시    164\n",
       "합천군    149\n",
       "거창군    141\n",
       "양산시    115\n",
       "창녕군    115\n",
       "고성군    112\n",
       "김해시     98\n",
       "남해군     89\n",
       "의령군     74\n",
       "함양군     73\n",
       "산청군     66\n",
       "하동군     64\n",
       "사천시     60\n",
       "Name: count, dtype: int64"
      ]
     },
     "execution_count": 5,
     "metadata": {},
     "output_type": "execute_result"
    }
   ],
   "source": [
    "busroute_usage[\"city_name\"].value_counts()"
   ]
  },
  {
   "cell_type": "markdown",
   "metadata": {},
   "source": [
    "#### 웹에서 파일 다운로드하는 크롤러 만들기"
   ]
  },
  {
   "cell_type": "code",
   "execution_count": 6,
   "metadata": {},
   "outputs": [],
   "source": [
    "from selenium import webdriver as wb\n",
    "from selenium.webdriver.common.by import By\n",
    "from selenium.webdriver.support.ui import WebDriverWait\n",
    "from selenium.webdriver.support import expected_conditions as EC\n",
    "from selenium.webdriver.chrome.options import Options\n",
    "from selenium.webdriver.support.ui import Select\n",
    "from tqdm import tqdm"
   ]
  },
  {
   "cell_type": "code",
   "execution_count": 7,
   "metadata": {},
   "outputs": [
    {
     "name": "stderr",
     "output_type": "stream",
     "text": [
      "0it [00:00, ?it/s]"
     ]
    },
    {
     "name": "stdout",
     "output_type": "stream",
     "text": [
      "    ## Start Extract:1422\n",
      "        routeno    : 101-1\n",
      "        startnodenm: 의령버스터미널\n",
      "        Search Node\n",
      "         Error\n"
     ]
    },
    {
     "name": "stderr",
     "output_type": "stream",
     "text": [
      "1it [00:23, 23.88s/it]"
     ]
    },
    {
     "name": "stdout",
     "output_type": "stream",
     "text": [
      "    ## Start Extract:1423\n",
      "        routeno    : 101-3\n",
      "        startnodenm: 의령버스터미널\n",
      "        Search Node\n",
      "         Error\n"
     ]
    },
    {
     "name": "stderr",
     "output_type": "stream",
     "text": [
      "2it [01:03, 32.93s/it]"
     ]
    },
    {
     "name": "stdout",
     "output_type": "stream",
     "text": [
      "    ## Start Extract:1424\n",
      "        routeno    : 101-2\n",
      "        startnodenm: 의령버스터미널\n",
      "        Search Node\n",
      "         Error\n"
     ]
    },
    {
     "name": "stderr",
     "output_type": "stream",
     "text": [
      "3it [01:36, 33.33s/it]"
     ]
    },
    {
     "name": "stdout",
     "output_type": "stream",
     "text": [
      "    ## Start Extract:1425\n",
      "        routeno    : 888\n",
      "        startnodenm: 의령버스터미널\n",
      "        Search Node\n",
      "         Error\n"
     ]
    },
    {
     "name": "stderr",
     "output_type": "stream",
     "text": [
      "4it [02:00, 29.35s/it]"
     ]
    },
    {
     "name": "stdout",
     "output_type": "stream",
     "text": [
      "    ## Start Extract:1426\n",
      "        routeno    : 888\n",
      "        startnodenm: 시외버스터미널\n",
      "        Search Node\n",
      "         Error\n"
     ]
    },
    {
     "name": "stderr",
     "output_type": "stream",
     "text": [
      "5it [02:29, 29.33s/it]"
     ]
    },
    {
     "name": "stdout",
     "output_type": "stream",
     "text": [
      "    ## Start Extract:1427\n",
      "        routeno    : 2-20\n",
      "        startnodenm: 의령버스터미널\n",
      "        Search Node\n",
      "         Error\n"
     ]
    },
    {
     "name": "stderr",
     "output_type": "stream",
     "text": [
      "6it [03:11, 33.51s/it]"
     ]
    },
    {
     "name": "stdout",
     "output_type": "stream",
     "text": [
      "    ## Start Extract:1428\n",
      "        routeno    : 2-20\n",
      "        startnodenm: 함안버스터미널\n",
      "        Search Node\n",
      "         Error\n"
     ]
    },
    {
     "name": "stderr",
     "output_type": "stream",
     "text": [
      "7it [03:39, 31.94s/it]"
     ]
    },
    {
     "name": "stdout",
     "output_type": "stream",
     "text": [
      "    ## Start Extract:1429\n",
      "        routeno    : 2-51\n",
      "        startnodenm: 의령버스터미널\n",
      "        Search Node\n",
      "         Error\n"
     ]
    },
    {
     "name": "stderr",
     "output_type": "stream",
     "text": [
      "8it [04:02, 29.10s/it]"
     ]
    },
    {
     "name": "stdout",
     "output_type": "stream",
     "text": [
      "    ## Start Extract:1430\n",
      "        routeno    : 2-50\n",
      "        startnodenm: 천곡\n",
      "        Search Node\n",
      "         Error\n"
     ]
    },
    {
     "name": "stderr",
     "output_type": "stream",
     "text": [
      "9it [04:24, 26.70s/it]"
     ]
    },
    {
     "name": "stdout",
     "output_type": "stream",
     "text": [
      "    ## Start Extract:1431\n",
      "        routeno    : 2-91\n",
      "        startnodenm: 의령버스터미널\n",
      "        Search Node\n",
      "         Error\n"
     ]
    },
    {
     "name": "stderr",
     "output_type": "stream",
     "text": [
      "10it [04:44, 24.64s/it]"
     ]
    },
    {
     "name": "stdout",
     "output_type": "stream",
     "text": [
      "    ## Start Extract:1432\n",
      "        routeno    : 2-91\n",
      "        startnodenm: 군북버스터미널\n",
      "        Search Node\n",
      "         Error\n"
     ]
    },
    {
     "name": "stderr",
     "output_type": "stream",
     "text": [
      "11it [05:06, 24.03s/it]"
     ]
    },
    {
     "name": "stdout",
     "output_type": "stream",
     "text": [
      "    ## Start Extract:1433\n",
      "        routeno    : 2-39\n",
      "        startnodenm: 의령버스터미널\n",
      "        Search Node\n",
      "         Error\n"
     ]
    },
    {
     "name": "stderr",
     "output_type": "stream",
     "text": [
      "12it [05:38, 26.43s/it]"
     ]
    },
    {
     "name": "stdout",
     "output_type": "stream",
     "text": [
      "    ## Start Extract:1434\n",
      "        routeno    : 2-52\n",
      "        startnodenm: 의령버스터미널\n",
      "        Search Node\n",
      "         Error\n"
     ]
    },
    {
     "name": "stderr",
     "output_type": "stream",
     "text": [
      "13it [06:06, 26.89s/it]"
     ]
    },
    {
     "name": "stdout",
     "output_type": "stream",
     "text": [
      "    ## Start Extract:1435\n",
      "        routeno    : 2-51\n",
      "        startnodenm: 천곡\n",
      "        Search Node\n",
      "         Error\n"
     ]
    },
    {
     "name": "stderr",
     "output_type": "stream",
     "text": [
      "14it [06:30, 25.91s/it]"
     ]
    },
    {
     "name": "stdout",
     "output_type": "stream",
     "text": [
      "    ## Start Extract:1436\n",
      "        routeno    : 2-50\n",
      "        startnodenm: 의령버스터미널\n",
      "        Search Node\n",
      "         Error\n"
     ]
    },
    {
     "name": "stderr",
     "output_type": "stream",
     "text": [
      "15it [07:00, 27.10s/it]"
     ]
    },
    {
     "name": "stdout",
     "output_type": "stream",
     "text": [
      "    ## Start Extract:1437\n",
      "        routeno    : 2-37\n",
      "        startnodenm: 의령버스터미널\n",
      "        Search Node\n",
      "         Error\n"
     ]
    },
    {
     "name": "stderr",
     "output_type": "stream",
     "text": [
      "16it [07:23, 25.97s/it]"
     ]
    },
    {
     "name": "stdout",
     "output_type": "stream",
     "text": [
      "    ## Start Extract:1438\n",
      "        routeno    : 2-37\n",
      "        startnodenm: 다현마을\n"
     ]
    },
    {
     "name": "stderr",
     "output_type": "stream",
     "text": [
      "16it [07:40, 28.78s/it]\n"
     ]
    },
    {
     "ename": "KeyboardInterrupt",
     "evalue": "",
     "output_type": "error",
     "traceback": [
      "\u001b[1;31m---------------------------------------------------------------------------\u001b[0m",
      "\u001b[1;31mKeyboardInterrupt\u001b[0m                         Traceback (most recent call last)",
      "Cell \u001b[1;32mIn[7], line 115\u001b[0m\n\u001b[0;32m    113\u001b[0m \u001b[38;5;66;03m## 시도 박스 클릭\u001b[39;00m\n\u001b[0;32m    114\u001b[0m dropdown \u001b[38;5;241m=\u001b[39m Select(driver\u001b[38;5;241m.\u001b[39mfind_element(By\u001b[38;5;241m.\u001b[39mXPATH, \u001b[38;5;124m'\u001b[39m\u001b[38;5;124m//*[@id=\u001b[39m\u001b[38;5;124m\"\u001b[39m\u001b[38;5;124msearchPopZoneSd\u001b[39m\u001b[38;5;124m\"\u001b[39m\u001b[38;5;124m]\u001b[39m\u001b[38;5;124m'\u001b[39m))\n\u001b[1;32m--> 115\u001b[0m \u001b[43mdropdown\u001b[49m\u001b[38;5;241;43m.\u001b[39;49m\u001b[43mselect_by_index\u001b[49m\u001b[43m(\u001b[49m\u001b[38;5;241;43m14\u001b[39;49m\u001b[43m)\u001b[49m\n\u001b[0;32m    117\u001b[0m \u001b[38;5;66;03m## 지역 버튼 클릭 > 지역마다 클릭 버튼이 다름\u001b[39;00m\n\u001b[0;32m    118\u001b[0m dropdown \u001b[38;5;241m=\u001b[39m Select(driver\u001b[38;5;241m.\u001b[39mfind_element(By\u001b[38;5;241m.\u001b[39mXPATH, \u001b[38;5;124m'\u001b[39m\u001b[38;5;124m//*[@id=\u001b[39m\u001b[38;5;124m\"\u001b[39m\u001b[38;5;124msearchPopZoneSgg\u001b[39m\u001b[38;5;124m\"\u001b[39m\u001b[38;5;124m]\u001b[39m\u001b[38;5;124m'\u001b[39m))\n",
      "File \u001b[1;32mc:\\Users\\jihoo\\anaconda3\\envs\\gyeongn\\Lib\\site-packages\\selenium\\webdriver\\support\\select.py:98\u001b[0m, in \u001b[0;36mSelect.select_by_index\u001b[1;34m(self, index)\u001b[0m\n\u001b[0;32m     96\u001b[0m \u001b[38;5;28;01mfor\u001b[39;00m opt \u001b[38;5;129;01min\u001b[39;00m \u001b[38;5;28mself\u001b[39m\u001b[38;5;241m.\u001b[39moptions:\n\u001b[0;32m     97\u001b[0m     \u001b[38;5;28;01mif\u001b[39;00m opt\u001b[38;5;241m.\u001b[39mget_attribute(\u001b[38;5;124m\"\u001b[39m\u001b[38;5;124mindex\u001b[39m\u001b[38;5;124m\"\u001b[39m) \u001b[38;5;241m==\u001b[39m match:\n\u001b[1;32m---> 98\u001b[0m         \u001b[38;5;28;43mself\u001b[39;49m\u001b[38;5;241;43m.\u001b[39;49m\u001b[43m_set_selected\u001b[49m\u001b[43m(\u001b[49m\u001b[43mopt\u001b[49m\u001b[43m)\u001b[49m\n\u001b[0;32m     99\u001b[0m         \u001b[38;5;28;01mreturn\u001b[39;00m\n\u001b[0;32m    100\u001b[0m \u001b[38;5;28;01mraise\u001b[39;00m NoSuchElementException(\u001b[38;5;124mf\u001b[39m\u001b[38;5;124m\"\u001b[39m\u001b[38;5;124mCould not locate element with index \u001b[39m\u001b[38;5;132;01m{\u001b[39;00mindex\u001b[38;5;132;01m}\u001b[39;00m\u001b[38;5;124m\"\u001b[39m)\n",
      "File \u001b[1;32mc:\\Users\\jihoo\\anaconda3\\envs\\gyeongn\\Lib\\site-packages\\selenium\\webdriver\\support\\select.py:214\u001b[0m, in \u001b[0;36mSelect._set_selected\u001b[1;34m(self, option)\u001b[0m\n\u001b[0;32m    212\u001b[0m \u001b[38;5;28;01mif\u001b[39;00m \u001b[38;5;129;01mnot\u001b[39;00m option\u001b[38;5;241m.\u001b[39mis_enabled():\n\u001b[0;32m    213\u001b[0m     \u001b[38;5;28;01mraise\u001b[39;00m \u001b[38;5;167;01mNotImplementedError\u001b[39;00m(\u001b[38;5;124m\"\u001b[39m\u001b[38;5;124mYou may not select a disabled option\u001b[39m\u001b[38;5;124m\"\u001b[39m)\n\u001b[1;32m--> 214\u001b[0m \u001b[43moption\u001b[49m\u001b[38;5;241;43m.\u001b[39;49m\u001b[43mclick\u001b[49m\u001b[43m(\u001b[49m\u001b[43m)\u001b[49m\n",
      "File \u001b[1;32mc:\\Users\\jihoo\\anaconda3\\envs\\gyeongn\\Lib\\site-packages\\selenium\\webdriver\\remote\\webelement.py:94\u001b[0m, in \u001b[0;36mWebElement.click\u001b[1;34m(self)\u001b[0m\n\u001b[0;32m     92\u001b[0m \u001b[38;5;28;01mdef\u001b[39;00m \u001b[38;5;21mclick\u001b[39m(\u001b[38;5;28mself\u001b[39m) \u001b[38;5;241m-\u001b[39m\u001b[38;5;241m>\u001b[39m \u001b[38;5;28;01mNone\u001b[39;00m:\n\u001b[0;32m     93\u001b[0m \u001b[38;5;250m    \u001b[39m\u001b[38;5;124;03m\"\"\"Clicks the element.\"\"\"\u001b[39;00m\n\u001b[1;32m---> 94\u001b[0m     \u001b[38;5;28;43mself\u001b[39;49m\u001b[38;5;241;43m.\u001b[39;49m\u001b[43m_execute\u001b[49m\u001b[43m(\u001b[49m\u001b[43mCommand\u001b[49m\u001b[38;5;241;43m.\u001b[39;49m\u001b[43mCLICK_ELEMENT\u001b[49m\u001b[43m)\u001b[49m\n",
      "File \u001b[1;32mc:\\Users\\jihoo\\anaconda3\\envs\\gyeongn\\Lib\\site-packages\\selenium\\webdriver\\remote\\webelement.py:395\u001b[0m, in \u001b[0;36mWebElement._execute\u001b[1;34m(self, command, params)\u001b[0m\n\u001b[0;32m    393\u001b[0m     params \u001b[38;5;241m=\u001b[39m {}\n\u001b[0;32m    394\u001b[0m params[\u001b[38;5;124m\"\u001b[39m\u001b[38;5;124mid\u001b[39m\u001b[38;5;124m\"\u001b[39m] \u001b[38;5;241m=\u001b[39m \u001b[38;5;28mself\u001b[39m\u001b[38;5;241m.\u001b[39m_id\n\u001b[1;32m--> 395\u001b[0m \u001b[38;5;28;01mreturn\u001b[39;00m \u001b[38;5;28;43mself\u001b[39;49m\u001b[38;5;241;43m.\u001b[39;49m\u001b[43m_parent\u001b[49m\u001b[38;5;241;43m.\u001b[39;49m\u001b[43mexecute\u001b[49m\u001b[43m(\u001b[49m\u001b[43mcommand\u001b[49m\u001b[43m,\u001b[49m\u001b[43m \u001b[49m\u001b[43mparams\u001b[49m\u001b[43m)\u001b[49m\n",
      "File \u001b[1;32mc:\\Users\\jihoo\\anaconda3\\envs\\gyeongn\\Lib\\site-packages\\selenium\\webdriver\\remote\\webdriver.py:352\u001b[0m, in \u001b[0;36mWebDriver.execute\u001b[1;34m(self, driver_command, params)\u001b[0m\n\u001b[0;32m    349\u001b[0m     \u001b[38;5;28;01melif\u001b[39;00m \u001b[38;5;124m\"\u001b[39m\u001b[38;5;124msessionId\u001b[39m\u001b[38;5;124m\"\u001b[39m \u001b[38;5;129;01mnot\u001b[39;00m \u001b[38;5;129;01min\u001b[39;00m params:\n\u001b[0;32m    350\u001b[0m         params[\u001b[38;5;124m\"\u001b[39m\u001b[38;5;124msessionId\u001b[39m\u001b[38;5;124m\"\u001b[39m] \u001b[38;5;241m=\u001b[39m \u001b[38;5;28mself\u001b[39m\u001b[38;5;241m.\u001b[39msession_id\n\u001b[1;32m--> 352\u001b[0m response \u001b[38;5;241m=\u001b[39m \u001b[38;5;28;43mself\u001b[39;49m\u001b[38;5;241;43m.\u001b[39;49m\u001b[43mcommand_executor\u001b[49m\u001b[38;5;241;43m.\u001b[39;49m\u001b[43mexecute\u001b[49m\u001b[43m(\u001b[49m\u001b[43mdriver_command\u001b[49m\u001b[43m,\u001b[49m\u001b[43m \u001b[49m\u001b[43mparams\u001b[49m\u001b[43m)\u001b[49m\n\u001b[0;32m    353\u001b[0m \u001b[38;5;28;01mif\u001b[39;00m response:\n\u001b[0;32m    354\u001b[0m     \u001b[38;5;28mself\u001b[39m\u001b[38;5;241m.\u001b[39merror_handler\u001b[38;5;241m.\u001b[39mcheck_response(response)\n",
      "File \u001b[1;32mc:\\Users\\jihoo\\anaconda3\\envs\\gyeongn\\Lib\\site-packages\\selenium\\webdriver\\remote\\remote_connection.py:302\u001b[0m, in \u001b[0;36mRemoteConnection.execute\u001b[1;34m(self, command, params)\u001b[0m\n\u001b[0;32m    300\u001b[0m trimmed \u001b[38;5;241m=\u001b[39m \u001b[38;5;28mself\u001b[39m\u001b[38;5;241m.\u001b[39m_trim_large_entries(params)\n\u001b[0;32m    301\u001b[0m LOGGER\u001b[38;5;241m.\u001b[39mdebug(\u001b[38;5;124m\"\u001b[39m\u001b[38;5;132;01m%s\u001b[39;00m\u001b[38;5;124m \u001b[39m\u001b[38;5;132;01m%s\u001b[39;00m\u001b[38;5;124m \u001b[39m\u001b[38;5;132;01m%s\u001b[39;00m\u001b[38;5;124m\"\u001b[39m, command_info[\u001b[38;5;241m0\u001b[39m], url, \u001b[38;5;28mstr\u001b[39m(trimmed))\n\u001b[1;32m--> 302\u001b[0m \u001b[38;5;28;01mreturn\u001b[39;00m \u001b[38;5;28;43mself\u001b[39;49m\u001b[38;5;241;43m.\u001b[39;49m\u001b[43m_request\u001b[49m\u001b[43m(\u001b[49m\u001b[43mcommand_info\u001b[49m\u001b[43m[\u001b[49m\u001b[38;5;241;43m0\u001b[39;49m\u001b[43m]\u001b[49m\u001b[43m,\u001b[49m\u001b[43m \u001b[49m\u001b[43murl\u001b[49m\u001b[43m,\u001b[49m\u001b[43m \u001b[49m\u001b[43mbody\u001b[49m\u001b[38;5;241;43m=\u001b[39;49m\u001b[43mdata\u001b[49m\u001b[43m)\u001b[49m\n",
      "File \u001b[1;32mc:\\Users\\jihoo\\anaconda3\\envs\\gyeongn\\Lib\\site-packages\\selenium\\webdriver\\remote\\remote_connection.py:322\u001b[0m, in \u001b[0;36mRemoteConnection._request\u001b[1;34m(self, method, url, body)\u001b[0m\n\u001b[0;32m    319\u001b[0m     body \u001b[38;5;241m=\u001b[39m \u001b[38;5;28;01mNone\u001b[39;00m\n\u001b[0;32m    321\u001b[0m \u001b[38;5;28;01mif\u001b[39;00m \u001b[38;5;28mself\u001b[39m\u001b[38;5;241m.\u001b[39mkeep_alive:\n\u001b[1;32m--> 322\u001b[0m     response \u001b[38;5;241m=\u001b[39m \u001b[38;5;28;43mself\u001b[39;49m\u001b[38;5;241;43m.\u001b[39;49m\u001b[43m_conn\u001b[49m\u001b[38;5;241;43m.\u001b[39;49m\u001b[43mrequest\u001b[49m\u001b[43m(\u001b[49m\u001b[43mmethod\u001b[49m\u001b[43m,\u001b[49m\u001b[43m \u001b[49m\u001b[43murl\u001b[49m\u001b[43m,\u001b[49m\u001b[43m \u001b[49m\u001b[43mbody\u001b[49m\u001b[38;5;241;43m=\u001b[39;49m\u001b[43mbody\u001b[49m\u001b[43m,\u001b[49m\u001b[43m \u001b[49m\u001b[43mheaders\u001b[49m\u001b[38;5;241;43m=\u001b[39;49m\u001b[43mheaders\u001b[49m\u001b[43m)\u001b[49m\n\u001b[0;32m    323\u001b[0m     statuscode \u001b[38;5;241m=\u001b[39m response\u001b[38;5;241m.\u001b[39mstatus\n\u001b[0;32m    324\u001b[0m \u001b[38;5;28;01melse\u001b[39;00m:\n",
      "File \u001b[1;32mc:\\Users\\jihoo\\anaconda3\\envs\\gyeongn\\Lib\\site-packages\\urllib3\\_request_methods.py:144\u001b[0m, in \u001b[0;36mRequestMethods.request\u001b[1;34m(self, method, url, body, fields, headers, json, **urlopen_kw)\u001b[0m\n\u001b[0;32m    136\u001b[0m     \u001b[38;5;28;01mreturn\u001b[39;00m \u001b[38;5;28mself\u001b[39m\u001b[38;5;241m.\u001b[39mrequest_encode_url(\n\u001b[0;32m    137\u001b[0m         method,\n\u001b[0;32m    138\u001b[0m         url,\n\u001b[1;32m   (...)\u001b[0m\n\u001b[0;32m    141\u001b[0m         \u001b[38;5;241m*\u001b[39m\u001b[38;5;241m*\u001b[39murlopen_kw,\n\u001b[0;32m    142\u001b[0m     )\n\u001b[0;32m    143\u001b[0m \u001b[38;5;28;01melse\u001b[39;00m:\n\u001b[1;32m--> 144\u001b[0m     \u001b[38;5;28;01mreturn\u001b[39;00m \u001b[38;5;28;43mself\u001b[39;49m\u001b[38;5;241;43m.\u001b[39;49m\u001b[43mrequest_encode_body\u001b[49m\u001b[43m(\u001b[49m\n\u001b[0;32m    145\u001b[0m \u001b[43m        \u001b[49m\u001b[43mmethod\u001b[49m\u001b[43m,\u001b[49m\u001b[43m \u001b[49m\u001b[43murl\u001b[49m\u001b[43m,\u001b[49m\u001b[43m \u001b[49m\u001b[43mfields\u001b[49m\u001b[38;5;241;43m=\u001b[39;49m\u001b[43mfields\u001b[49m\u001b[43m,\u001b[49m\u001b[43m \u001b[49m\u001b[43mheaders\u001b[49m\u001b[38;5;241;43m=\u001b[39;49m\u001b[43mheaders\u001b[49m\u001b[43m,\u001b[49m\u001b[43m \u001b[49m\u001b[38;5;241;43m*\u001b[39;49m\u001b[38;5;241;43m*\u001b[39;49m\u001b[43murlopen_kw\u001b[49m\n\u001b[0;32m    146\u001b[0m \u001b[43m    \u001b[49m\u001b[43m)\u001b[49m\n",
      "File \u001b[1;32mc:\\Users\\jihoo\\anaconda3\\envs\\gyeongn\\Lib\\site-packages\\urllib3\\_request_methods.py:279\u001b[0m, in \u001b[0;36mRequestMethods.request_encode_body\u001b[1;34m(self, method, url, fields, headers, encode_multipart, multipart_boundary, **urlopen_kw)\u001b[0m\n\u001b[0;32m    275\u001b[0m     extra_kw[\u001b[38;5;124m\"\u001b[39m\u001b[38;5;124mheaders\u001b[39m\u001b[38;5;124m\"\u001b[39m]\u001b[38;5;241m.\u001b[39msetdefault(\u001b[38;5;124m\"\u001b[39m\u001b[38;5;124mContent-Type\u001b[39m\u001b[38;5;124m\"\u001b[39m, content_type)\n\u001b[0;32m    277\u001b[0m extra_kw\u001b[38;5;241m.\u001b[39mupdate(urlopen_kw)\n\u001b[1;32m--> 279\u001b[0m \u001b[38;5;28;01mreturn\u001b[39;00m \u001b[38;5;28;43mself\u001b[39;49m\u001b[38;5;241;43m.\u001b[39;49m\u001b[43murlopen\u001b[49m\u001b[43m(\u001b[49m\u001b[43mmethod\u001b[49m\u001b[43m,\u001b[49m\u001b[43m \u001b[49m\u001b[43murl\u001b[49m\u001b[43m,\u001b[49m\u001b[43m \u001b[49m\u001b[38;5;241;43m*\u001b[39;49m\u001b[38;5;241;43m*\u001b[39;49m\u001b[43mextra_kw\u001b[49m\u001b[43m)\u001b[49m\n",
      "File \u001b[1;32mc:\\Users\\jihoo\\anaconda3\\envs\\gyeongn\\Lib\\site-packages\\urllib3\\poolmanager.py:443\u001b[0m, in \u001b[0;36mPoolManager.urlopen\u001b[1;34m(self, method, url, redirect, **kw)\u001b[0m\n\u001b[0;32m    441\u001b[0m     response \u001b[38;5;241m=\u001b[39m conn\u001b[38;5;241m.\u001b[39murlopen(method, url, \u001b[38;5;241m*\u001b[39m\u001b[38;5;241m*\u001b[39mkw)\n\u001b[0;32m    442\u001b[0m \u001b[38;5;28;01melse\u001b[39;00m:\n\u001b[1;32m--> 443\u001b[0m     response \u001b[38;5;241m=\u001b[39m \u001b[43mconn\u001b[49m\u001b[38;5;241;43m.\u001b[39;49m\u001b[43murlopen\u001b[49m\u001b[43m(\u001b[49m\u001b[43mmethod\u001b[49m\u001b[43m,\u001b[49m\u001b[43m \u001b[49m\u001b[43mu\u001b[49m\u001b[38;5;241;43m.\u001b[39;49m\u001b[43mrequest_uri\u001b[49m\u001b[43m,\u001b[49m\u001b[43m \u001b[49m\u001b[38;5;241;43m*\u001b[39;49m\u001b[38;5;241;43m*\u001b[39;49m\u001b[43mkw\u001b[49m\u001b[43m)\u001b[49m\n\u001b[0;32m    445\u001b[0m redirect_location \u001b[38;5;241m=\u001b[39m redirect \u001b[38;5;129;01mand\u001b[39;00m response\u001b[38;5;241m.\u001b[39mget_redirect_location()\n\u001b[0;32m    446\u001b[0m \u001b[38;5;28;01mif\u001b[39;00m \u001b[38;5;129;01mnot\u001b[39;00m redirect_location:\n",
      "File \u001b[1;32mc:\\Users\\jihoo\\anaconda3\\envs\\gyeongn\\Lib\\site-packages\\urllib3\\connectionpool.py:789\u001b[0m, in \u001b[0;36mHTTPConnectionPool.urlopen\u001b[1;34m(self, method, url, body, headers, retries, redirect, assert_same_host, timeout, pool_timeout, release_conn, chunked, body_pos, preload_content, decode_content, **response_kw)\u001b[0m\n\u001b[0;32m    786\u001b[0m response_conn \u001b[38;5;241m=\u001b[39m conn \u001b[38;5;28;01mif\u001b[39;00m \u001b[38;5;129;01mnot\u001b[39;00m release_conn \u001b[38;5;28;01melse\u001b[39;00m \u001b[38;5;28;01mNone\u001b[39;00m\n\u001b[0;32m    788\u001b[0m \u001b[38;5;66;03m# Make the request on the HTTPConnection object\u001b[39;00m\n\u001b[1;32m--> 789\u001b[0m response \u001b[38;5;241m=\u001b[39m \u001b[38;5;28;43mself\u001b[39;49m\u001b[38;5;241;43m.\u001b[39;49m\u001b[43m_make_request\u001b[49m\u001b[43m(\u001b[49m\n\u001b[0;32m    790\u001b[0m \u001b[43m    \u001b[49m\u001b[43mconn\u001b[49m\u001b[43m,\u001b[49m\n\u001b[0;32m    791\u001b[0m \u001b[43m    \u001b[49m\u001b[43mmethod\u001b[49m\u001b[43m,\u001b[49m\n\u001b[0;32m    792\u001b[0m \u001b[43m    \u001b[49m\u001b[43murl\u001b[49m\u001b[43m,\u001b[49m\n\u001b[0;32m    793\u001b[0m \u001b[43m    \u001b[49m\u001b[43mtimeout\u001b[49m\u001b[38;5;241;43m=\u001b[39;49m\u001b[43mtimeout_obj\u001b[49m\u001b[43m,\u001b[49m\n\u001b[0;32m    794\u001b[0m \u001b[43m    \u001b[49m\u001b[43mbody\u001b[49m\u001b[38;5;241;43m=\u001b[39;49m\u001b[43mbody\u001b[49m\u001b[43m,\u001b[49m\n\u001b[0;32m    795\u001b[0m \u001b[43m    \u001b[49m\u001b[43mheaders\u001b[49m\u001b[38;5;241;43m=\u001b[39;49m\u001b[43mheaders\u001b[49m\u001b[43m,\u001b[49m\n\u001b[0;32m    796\u001b[0m \u001b[43m    \u001b[49m\u001b[43mchunked\u001b[49m\u001b[38;5;241;43m=\u001b[39;49m\u001b[43mchunked\u001b[49m\u001b[43m,\u001b[49m\n\u001b[0;32m    797\u001b[0m \u001b[43m    \u001b[49m\u001b[43mretries\u001b[49m\u001b[38;5;241;43m=\u001b[39;49m\u001b[43mretries\u001b[49m\u001b[43m,\u001b[49m\n\u001b[0;32m    798\u001b[0m \u001b[43m    \u001b[49m\u001b[43mresponse_conn\u001b[49m\u001b[38;5;241;43m=\u001b[39;49m\u001b[43mresponse_conn\u001b[49m\u001b[43m,\u001b[49m\n\u001b[0;32m    799\u001b[0m \u001b[43m    \u001b[49m\u001b[43mpreload_content\u001b[49m\u001b[38;5;241;43m=\u001b[39;49m\u001b[43mpreload_content\u001b[49m\u001b[43m,\u001b[49m\n\u001b[0;32m    800\u001b[0m \u001b[43m    \u001b[49m\u001b[43mdecode_content\u001b[49m\u001b[38;5;241;43m=\u001b[39;49m\u001b[43mdecode_content\u001b[49m\u001b[43m,\u001b[49m\n\u001b[0;32m    801\u001b[0m \u001b[43m    \u001b[49m\u001b[38;5;241;43m*\u001b[39;49m\u001b[38;5;241;43m*\u001b[39;49m\u001b[43mresponse_kw\u001b[49m\u001b[43m,\u001b[49m\n\u001b[0;32m    802\u001b[0m \u001b[43m\u001b[49m\u001b[43m)\u001b[49m\n\u001b[0;32m    804\u001b[0m \u001b[38;5;66;03m# Everything went great!\u001b[39;00m\n\u001b[0;32m    805\u001b[0m clean_exit \u001b[38;5;241m=\u001b[39m \u001b[38;5;28;01mTrue\u001b[39;00m\n",
      "File \u001b[1;32mc:\\Users\\jihoo\\anaconda3\\envs\\gyeongn\\Lib\\site-packages\\urllib3\\connectionpool.py:536\u001b[0m, in \u001b[0;36mHTTPConnectionPool._make_request\u001b[1;34m(self, conn, method, url, body, headers, retries, timeout, chunked, response_conn, preload_content, decode_content, enforce_content_length)\u001b[0m\n\u001b[0;32m    534\u001b[0m \u001b[38;5;66;03m# Receive the response from the server\u001b[39;00m\n\u001b[0;32m    535\u001b[0m \u001b[38;5;28;01mtry\u001b[39;00m:\n\u001b[1;32m--> 536\u001b[0m     response \u001b[38;5;241m=\u001b[39m \u001b[43mconn\u001b[49m\u001b[38;5;241;43m.\u001b[39;49m\u001b[43mgetresponse\u001b[49m\u001b[43m(\u001b[49m\u001b[43m)\u001b[49m\n\u001b[0;32m    537\u001b[0m \u001b[38;5;28;01mexcept\u001b[39;00m (BaseSSLError, \u001b[38;5;167;01mOSError\u001b[39;00m) \u001b[38;5;28;01mas\u001b[39;00m e:\n\u001b[0;32m    538\u001b[0m     \u001b[38;5;28mself\u001b[39m\u001b[38;5;241m.\u001b[39m_raise_timeout(err\u001b[38;5;241m=\u001b[39me, url\u001b[38;5;241m=\u001b[39murl, timeout_value\u001b[38;5;241m=\u001b[39mread_timeout)\n",
      "File \u001b[1;32mc:\\Users\\jihoo\\anaconda3\\envs\\gyeongn\\Lib\\site-packages\\urllib3\\connection.py:464\u001b[0m, in \u001b[0;36mHTTPConnection.getresponse\u001b[1;34m(self)\u001b[0m\n\u001b[0;32m    461\u001b[0m \u001b[38;5;28;01mfrom\u001b[39;00m \u001b[38;5;21;01m.\u001b[39;00m\u001b[38;5;21;01mresponse\u001b[39;00m \u001b[38;5;28;01mimport\u001b[39;00m HTTPResponse\n\u001b[0;32m    463\u001b[0m \u001b[38;5;66;03m# Get the response from http.client.HTTPConnection\u001b[39;00m\n\u001b[1;32m--> 464\u001b[0m httplib_response \u001b[38;5;241m=\u001b[39m \u001b[38;5;28;43msuper\u001b[39;49m\u001b[43m(\u001b[49m\u001b[43m)\u001b[49m\u001b[38;5;241;43m.\u001b[39;49m\u001b[43mgetresponse\u001b[49m\u001b[43m(\u001b[49m\u001b[43m)\u001b[49m\n\u001b[0;32m    466\u001b[0m \u001b[38;5;28;01mtry\u001b[39;00m:\n\u001b[0;32m    467\u001b[0m     assert_header_parsing(httplib_response\u001b[38;5;241m.\u001b[39mmsg)\n",
      "File \u001b[1;32mc:\\Users\\jihoo\\anaconda3\\envs\\gyeongn\\Lib\\http\\client.py:1428\u001b[0m, in \u001b[0;36mHTTPConnection.getresponse\u001b[1;34m(self)\u001b[0m\n\u001b[0;32m   1426\u001b[0m \u001b[38;5;28;01mtry\u001b[39;00m:\n\u001b[0;32m   1427\u001b[0m     \u001b[38;5;28;01mtry\u001b[39;00m:\n\u001b[1;32m-> 1428\u001b[0m         \u001b[43mresponse\u001b[49m\u001b[38;5;241;43m.\u001b[39;49m\u001b[43mbegin\u001b[49m\u001b[43m(\u001b[49m\u001b[43m)\u001b[49m\n\u001b[0;32m   1429\u001b[0m     \u001b[38;5;28;01mexcept\u001b[39;00m \u001b[38;5;167;01mConnectionError\u001b[39;00m:\n\u001b[0;32m   1430\u001b[0m         \u001b[38;5;28mself\u001b[39m\u001b[38;5;241m.\u001b[39mclose()\n",
      "File \u001b[1;32mc:\\Users\\jihoo\\anaconda3\\envs\\gyeongn\\Lib\\http\\client.py:331\u001b[0m, in \u001b[0;36mHTTPResponse.begin\u001b[1;34m(self)\u001b[0m\n\u001b[0;32m    329\u001b[0m \u001b[38;5;66;03m# read until we get a non-100 response\u001b[39;00m\n\u001b[0;32m    330\u001b[0m \u001b[38;5;28;01mwhile\u001b[39;00m \u001b[38;5;28;01mTrue\u001b[39;00m:\n\u001b[1;32m--> 331\u001b[0m     version, status, reason \u001b[38;5;241m=\u001b[39m \u001b[38;5;28;43mself\u001b[39;49m\u001b[38;5;241;43m.\u001b[39;49m\u001b[43m_read_status\u001b[49m\u001b[43m(\u001b[49m\u001b[43m)\u001b[49m\n\u001b[0;32m    332\u001b[0m     \u001b[38;5;28;01mif\u001b[39;00m status \u001b[38;5;241m!=\u001b[39m CONTINUE:\n\u001b[0;32m    333\u001b[0m         \u001b[38;5;28;01mbreak\u001b[39;00m\n",
      "File \u001b[1;32mc:\\Users\\jihoo\\anaconda3\\envs\\gyeongn\\Lib\\http\\client.py:292\u001b[0m, in \u001b[0;36mHTTPResponse._read_status\u001b[1;34m(self)\u001b[0m\n\u001b[0;32m    291\u001b[0m \u001b[38;5;28;01mdef\u001b[39;00m \u001b[38;5;21m_read_status\u001b[39m(\u001b[38;5;28mself\u001b[39m):\n\u001b[1;32m--> 292\u001b[0m     line \u001b[38;5;241m=\u001b[39m \u001b[38;5;28mstr\u001b[39m(\u001b[38;5;28;43mself\u001b[39;49m\u001b[38;5;241;43m.\u001b[39;49m\u001b[43mfp\u001b[49m\u001b[38;5;241;43m.\u001b[39;49m\u001b[43mreadline\u001b[49m\u001b[43m(\u001b[49m\u001b[43m_MAXLINE\u001b[49m\u001b[43m \u001b[49m\u001b[38;5;241;43m+\u001b[39;49m\u001b[43m \u001b[49m\u001b[38;5;241;43m1\u001b[39;49m\u001b[43m)\u001b[49m, \u001b[38;5;124m\"\u001b[39m\u001b[38;5;124miso-8859-1\u001b[39m\u001b[38;5;124m\"\u001b[39m)\n\u001b[0;32m    293\u001b[0m     \u001b[38;5;28;01mif\u001b[39;00m \u001b[38;5;28mlen\u001b[39m(line) \u001b[38;5;241m>\u001b[39m _MAXLINE:\n\u001b[0;32m    294\u001b[0m         \u001b[38;5;28;01mraise\u001b[39;00m LineTooLong(\u001b[38;5;124m\"\u001b[39m\u001b[38;5;124mstatus line\u001b[39m\u001b[38;5;124m\"\u001b[39m)\n",
      "File \u001b[1;32mc:\\Users\\jihoo\\anaconda3\\envs\\gyeongn\\Lib\\socket.py:708\u001b[0m, in \u001b[0;36mSocketIO.readinto\u001b[1;34m(self, b)\u001b[0m\n\u001b[0;32m    706\u001b[0m \u001b[38;5;28;01mwhile\u001b[39;00m \u001b[38;5;28;01mTrue\u001b[39;00m:\n\u001b[0;32m    707\u001b[0m     \u001b[38;5;28;01mtry\u001b[39;00m:\n\u001b[1;32m--> 708\u001b[0m         \u001b[38;5;28;01mreturn\u001b[39;00m \u001b[38;5;28;43mself\u001b[39;49m\u001b[38;5;241;43m.\u001b[39;49m\u001b[43m_sock\u001b[49m\u001b[38;5;241;43m.\u001b[39;49m\u001b[43mrecv_into\u001b[49m\u001b[43m(\u001b[49m\u001b[43mb\u001b[49m\u001b[43m)\u001b[49m\n\u001b[0;32m    709\u001b[0m     \u001b[38;5;28;01mexcept\u001b[39;00m timeout:\n\u001b[0;32m    710\u001b[0m         \u001b[38;5;28mself\u001b[39m\u001b[38;5;241m.\u001b[39m_timeout_occurred \u001b[38;5;241m=\u001b[39m \u001b[38;5;28;01mTrue\u001b[39;00m\n",
      "\u001b[1;31mKeyboardInterrupt\u001b[0m: "
     ]
    }
   ],
   "source": [
    "## 도시명 입력\n",
    "city_name = \"의령군\" \n",
    "input_values = busroute_usage[busroute_usage[\"city_name\"] == city_name][[\"routeno\", \"startnodenm\"]] \n",
    "findtime = 100000\n",
    "\n",
    "route_usage_data = {}\n",
    "\n",
    "if city_name == \"창원시\":\n",
    "    region_button_selector = \"48123_48127_48125_48120_48121_48129\"\n",
    "    \n",
    "elif city_name == \"진주시\":\n",
    "    region_button_selector = \"48170\"\n",
    "    \n",
    "elif city_name == \"통영시\":\n",
    "    region_button_selector = \"48220\"\n",
    "    \n",
    "elif city_name == \"사천시\":\n",
    "    region_button_selector = \"48240\"\n",
    "    \n",
    "elif city_name == \"김해시\":\n",
    "    region_button_selector = \"48250\"\n",
    "    \n",
    "elif city_name == \"밀양시\":\n",
    "    region_button_selector = \"48270\"\n",
    "        \n",
    "elif city_name == \"거제시\":\n",
    "    region_button_selector = \"48310\"\n",
    "    \n",
    "elif city_name == \"양산시\":\n",
    "    region_button_selector = \"48330\"\n",
    "    \n",
    "elif city_name == \"의령군\":\n",
    "    region_button_selector = \"48720\"\n",
    "    \n",
    "elif city_name == \"함안군\":\n",
    "    region_button_selector = \"48730\"\n",
    "    \n",
    "elif city_name == \"창녕군\":\n",
    "    region_button_selector = \"48740\"\n",
    "    \n",
    "elif city_name == \"고성군\":\n",
    "    region_button_selector = \"48820\"\n",
    "    \n",
    "elif city_name == \"남해군\":\n",
    "    region_button_selector = \"48840\"\n",
    "    \n",
    "elif city_name == \"하동군\":\n",
    "    region_button_selector = \"48850\"\n",
    "    \n",
    "elif city_name == \"산청군\":\n",
    "    region_button_selector = \"48860\"\n",
    "    \n",
    "elif city_name == \"함양군\":\n",
    "    region_button_selector = \"48870\"\n",
    "\n",
    "elif city_name == \"거창군\":\n",
    "    region_button_selector = \"48880\"\n",
    "    \n",
    "elif city_name == \"합천군\":\n",
    "    region_button_selector = \"48890\"\n",
    "    \n",
    "else:\n",
    "    raise ValueError(f\"Unknown city_name: {city_name}\")\n",
    "\n",
    "### 반복문 시작 #########################################################################################\n",
    "route_usage_data[f\"{city_name}\"] = {}\n",
    "first_i = input_values.index[0] + 1 \n",
    "\n",
    "for i, input_value in tqdm(input_values.iterrows()):\n",
    "    routeno = input_value[\"routeno\"]\n",
    "    startnodenm = input_value[\"startnodenm\"]\n",
    "    print(f\"    ## Start Extract:{i+1}\")\n",
    "    print(f\"        routeno    : {routeno}\")\n",
    "    print(f\"        startnodenm: {startnodenm}\")\n",
    "\n",
    "    options = Options()\n",
    "    options.add_experimental_option(\"excludeSwitches\", [\"enable-automation\"])\n",
    "    driver = wb.Chrome(options = options)\n",
    "\n",
    "    ## 교통카드빅데이터 종합정보시스템 -> 노선별 이용량 조회 url\n",
    "    driver.get(\"https://stcis.go.kr/pivotIndi/wpsPivotIndicator.do?siteGb=P&indiClss=IC03&indiSel=IC0301\")\n",
    "\n",
    "    ## 클릭 함수\n",
    "    def driver_clickable_processor(css_selector_value):\n",
    "        click = WebDriverWait(driver, findtime).until(\n",
    "            EC.element_to_be_clickable((By.CSS_SELECTOR, css_selector_value))\n",
    "        )    \n",
    "        driver.execute_script(\"arguments[0].scrollIntoView();\", click)\n",
    "        driver.execute_script(\"arguments[0].click();\", click)    \n",
    "        \n",
    "        return click\n",
    "\n",
    "    ## 텍스트 추출 함수 \n",
    "    def driver_extract_text_processor(css_selector_value):\n",
    "        element = WebDriverWait(driver, findtime).until(\n",
    "                        EC.presence_of_element_located((\n",
    "                            By.CSS_SELECTOR, \n",
    "                            css_selector_value\n",
    "                            ))\n",
    "                    )\n",
    "        return element.text\n",
    "\n",
    "    ## 기간선택 -> 월 클릭\n",
    "    driver_clickable_processor(\"#divRdoDate > li:nth-child(2)\")\n",
    "\n",
    "    ## 공간선택 -> 검색명에 city_name 입력 후 검색 클릭\n",
    "    click = driver_clickable_processor(\"#searchRouteSpaceNm\")\n",
    "    click.send_keys(f\"{city_name}\")\n",
    "\n",
    "    ## 검색 버튼 클릭\n",
    "    click = driver_clickable_processor(\"#space4 > li.box_flex > button\")\n",
    "\n",
    "    ## 시도 박스 클릭\n",
    "    dropdown = Select(driver.find_element(By.XPATH, '//*[@id=\"searchPopZoneSd\"]'))\n",
    "    dropdown.select_by_index(14)\n",
    "\n",
    "    ## 지역 버튼 클릭 > 지역마다 클릭 버튼이 다름\n",
    "    dropdown = Select(driver.find_element(By.XPATH, '//*[@id=\"searchPopZoneSgg\"]'))\n",
    "    dropdown.select_by_value(region_button_selector)\n",
    "    \n",
    "    ## 노선명 입력칸 클릭 -> 노선번호(명) 입력\n",
    "    print(\"        Search Node\")\n",
    "    route_name_input = driver_clickable_processor(\"#popupSearchRouteNo\")\n",
    "    route_name_input.send_keys(f\"{routeno}\")\n",
    "\n",
    "    ## 검색 버튼 클릭\n",
    "    search_button = driver_clickable_processor(\"#route_space1 > li.box_flex > button\")\n",
    "\n",
    "    ## 노선명과 기종점이 같은지 확인\n",
    "    routeno_len = int(WebDriverWait(driver, findtime).until(\n",
    "        EC.element_to_be_clickable((By.CLASS_NAME, 'pop_box'))\n",
    "    ).text.split()[2])\n",
    "\n",
    "    try:\n",
    "        WebDriverWait(driver, findtime).until(\n",
    "            EC.presence_of_element_located((By.CSS_SELECTOR, \"#divBusLineList > div.pop_box > table > tbody\"))\n",
    "        )\n",
    "\n",
    "        ## 검색결과 한개인 경우\n",
    "        if routeno_len == 1:\n",
    "            check_routeno = driver.find_element(\n",
    "                By.CSS_SELECTOR, \n",
    "                \"#divBusLineList > div.pop_box > table > tbody > tr > td:nth-child(2)\"\n",
    "                ).text\n",
    "\n",
    "            check_startnodem = driver.find_element(\n",
    "                By.CSS_SELECTOR, \n",
    "                \"#divBusLineList > div.pop_box > table > tbody > tr > td:nth-child(4)\"\n",
    "                ).text.split(\" - \")[0]\n",
    "\n",
    "            ## 노선명과 기종점이 일치할 경우 체크 박스 클릭\n",
    "            if check_routeno == str(routeno): ## and check_startnodem == startnodenm\n",
    "                check_click = driver_clickable_processor(\"#divBusLineList > div.pop_box > table > tbody > tr > td:nth-child(1) > div > label > div\")\n",
    "                select_button = driver_clickable_processor(\"#popupBusLine > div:nth-child(4) > button\")\n",
    "                \n",
    "                ## 첫번째만 실행 이용자유형, 시간대 체크 표시 없애기\n",
    "                # if i == first_i:\n",
    "                type_no_check = driver_clickable_processor(\"#divChkDmn > li:nth-child(8) > label > div\")            \n",
    "                time_no_check = driver_clickable_processor(\"#divChkDmn > li:nth-child(9) > label > div\")\n",
    "            \n",
    "                ## 검색결과조회 버튼 클릭\n",
    "                search_click = driver_clickable_processor(\"#btnSearch > button\")\n",
    "                            \n",
    "                ## 경고 메세지 \"확인\" 클릭\n",
    "                try:\n",
    "                    WebDriverWait(driver, findtime).until(\n",
    "                        EC.alert_is_present()\n",
    "                    )\n",
    "                    alert = driver.switch_to.alert\n",
    "                    alert.accept()  # '확인' 클릭\n",
    "                except Exception as e:\n",
    "                    print(f\"팝업 처리 오류: {e}\")\n",
    "                \n",
    "                ## 노선 이용량 추출\n",
    "                print(\"        Start Extraction1\")\n",
    "                route_usage_element = driver_extract_text_processor(\"#pivotGrid > div > div:nth-child(2) > div.wj-cells > div:nth-child(2) > div\")\n",
    "                route_usage_int = int(route_usage_element.replace(\",\", \"\"))\n",
    "                print(\"        Done Extraction1\")\n",
    "                \n",
    "        ## 검색결과 여러 개인 경우\n",
    "        else:         \n",
    "            for j in range(1, 11):\n",
    "                check_routeno = driver.find_element(\n",
    "                    By.CSS_SELECTOR, \n",
    "                    f\"#divBusLineList > div.pop_box > table > tbody > tr:nth-child({j}) > td:nth-child(2)\"\n",
    "                    ).text\n",
    "\n",
    "                check_startnodem = driver.find_element(\n",
    "                    By.CSS_SELECTOR, \n",
    "                    f\"#divBusLineList > div.pop_box > table > tbody > tr:nth-child({j}) > td:nth-child(4)\"\n",
    "                    ).text.split(\" - \")[0]\n",
    "\n",
    "                ## 노선명과 기종점이 일치할 경우 체크 박스 클릭\n",
    "                if check_routeno == str(routeno): ## and check_startnodem == startnodenm:\n",
    "                    driver_clickable_processor(f\"#divBusLineList > div.pop_box > table > tbody > tr:nth-child({j}) > td:nth-child(1) > div > label > div\")\n",
    "            \n",
    "                # for-loop 중단\n",
    "                break\n",
    "            \n",
    "            # 선택버튼 클릭\n",
    "            select_button = driver_clickable_processor(\"#popupBusLine > div:nth-child(4) > button\")\n",
    "                    \n",
    "            ## 첫번째만 실행 이용자유형, 시간대 체크 표시 없애기\n",
    "            # if i == first_i:\n",
    "            type_no_check = driver_clickable_processor(\"#divChkDmn > li:nth-child(8) > label > div\")            \n",
    "            time_no_check = driver_clickable_processor(\"#divChkDmn > li:nth-child(9) > label > div\")\n",
    "\n",
    "            ## 검색결과조회 버튼 클릭\n",
    "            search_click = driver_clickable_processor(\"#btnSearch > button\")\n",
    "            \n",
    "            ## 경고 메세지 \"확인\" 클릭\n",
    "            try:\n",
    "                WebDriverWait(driver, findtime).until(\n",
    "                    EC.alert_is_present()\n",
    "                )\n",
    "                alert = driver.switch_to.alert\n",
    "                alert.accept()  # '확인' 클릭\n",
    "            except Exception as e:\n",
    "                print(f\"팝업 처리 오류: {e}\")\n",
    "            \n",
    "            ## 노선 이용량 추출\n",
    "            print(\"        Start Extraction\")\n",
    "            route_usage_element = driver_extract_text_processor(\"#pivotGrid > div > div:nth-child(2) > div.wj-cells > div:nth-child(2) > div\")\n",
    "            route_usage_int = int(route_usage_element.replace(\",\", \"\"))\n",
    "            print(\"        Done Extraction\")\n",
    "            \n",
    "        print(f\"        Save Usage : {route_usage_int}\")\n",
    "        route_usage_data[f\"{city_name}\"][f\"{routeno}\"] = route_usage_int\n",
    "        \n",
    "        ## 창닫기\n",
    "        driver.quit()\n",
    " \n",
    "    except:\n",
    "        ## 빈칸 넣기\n",
    "        route_usage_data[f\"{city_name}\"][f\"{routeno}\"] = None\n",
    "        \n",
    "        ## 창닫기\n",
    "        print(\"         Error\")           \n",
    "        driver.quit()"
   ]
  },
  {
   "cell_type": "code",
   "execution_count": 18,
   "metadata": {},
   "outputs": [
    {
     "data": {
      "text/plain": [
       "{'산청군': {'5': None,\n",
       "  '11': None,\n",
       "  '55': None,\n",
       "  '21': None,\n",
       "  '51': None,\n",
       "  '4': None,\n",
       "  '62': None,\n",
       "  '48': None,\n",
       "  '50': None,\n",
       "  '13': None,\n",
       "  '40': 959,\n",
       "  '60': None,\n",
       "  '14': 959,\n",
       "  '6': None,\n",
       "  '12': None,\n",
       "  '26': None,\n",
       "  '23': None,\n",
       "  '53': None,\n",
       "  '32': None,\n",
       "  '54': None,\n",
       "  '2': 959,\n",
       "  '25': None,\n",
       "  '10': None,\n",
       "  '24': None,\n",
       "  '1': 8796,\n",
       "  '74': None,\n",
       "  '56': None,\n",
       "  '8': None,\n",
       "  '72': None,\n",
       "  '22': None,\n",
       "  '20': None,\n",
       "  '70': None,\n",
       "  '33': None,\n",
       "  '66': None,\n",
       "  '7': None,\n",
       "  '64': None,\n",
       "  '41': None,\n",
       "  '57': None,\n",
       "  '80': None,\n",
       "  '93': None,\n",
       "  '65': None,\n",
       "  '94': None,\n",
       "  '61': None,\n",
       "  '95': None,\n",
       "  '82': None,\n",
       "  '67': None,\n",
       "  '84': None,\n",
       "  '68': None,\n",
       "  '85': None,\n",
       "  '31': None,\n",
       "  '71': None,\n",
       "  '91': None,\n",
       "  '34': 8796,\n",
       "  '73': None,\n",
       "  '90': None,\n",
       "  '3': 8796,\n",
       "  '81': None,\n",
       "  '49': None,\n",
       "  '52': None,\n",
       "  '47': None,\n",
       "  '75': None,\n",
       "  '83': None,\n",
       "  '63': None,\n",
       "  '59': None,\n",
       "  '58': None,\n",
       "  '92': None}}"
      ]
     },
     "execution_count": 18,
     "metadata": {},
     "output_type": "execute_result"
    }
   ],
   "source": [
    "route_usage_data"
   ]
  },
  {
   "cell_type": "markdown",
   "metadata": {},
   "source": [
    "### 결측값 채우기"
   ]
  },
  {
   "cell_type": "code",
   "execution_count": 13,
   "metadata": {},
   "outputs": [],
   "source": []
  },
  {
   "cell_type": "code",
   "execution_count": 14,
   "metadata": {},
   "outputs": [
    {
     "data": {
      "text/plain": [
       "{'사천시': {'100': 793,\n",
       "  '101': 1385,\n",
       "  '102': 1085,\n",
       "  '110': 15598,\n",
       "  '111': 2309,\n",
       "  '112': 537,\n",
       "  '130': 1545,\n",
       "  '132': 541,\n",
       "  '132-1': None,\n",
       "  '140': 892,\n",
       "  '141': 831,\n",
       "  '142': 2074,\n",
       "  '143': 636,\n",
       "  '144': 290,\n",
       "  '313': 292,\n",
       "  '190': 604,\n",
       "  '190-1': 555,\n",
       "  '191': 383,\n",
       "  '191-1': 385,\n",
       "  '192': 236,\n",
       "  '193': 284,\n",
       "  '193-1': 161,\n",
       "  '194': 4323,\n",
       "  '200': 217,\n",
       "  '200-1': 332,\n",
       "  '201': 193,\n",
       "  '201-1': 294,\n",
       "  '220': 2866,\n",
       "  '221': 607,\n",
       "  '230': 5016,\n",
       "  '230-1': 4455,\n",
       "  '310': 409,\n",
       "  '311': 411,\n",
       "  '260': 38,\n",
       "  '192-1': 293,\n",
       "  '160': 531,\n",
       "  '380': 85,\n",
       "  '161': 252,\n",
       "  '370': 148,\n",
       "  '316': 709,\n",
       "  '206': 83,\n",
       "  '312': 178,\n",
       "  '266': 85,\n",
       "  '113': 6300,\n",
       "  '104': 880,\n",
       "  '105': 1260,\n",
       "  '106': 317,\n",
       "  '145': 41,\n",
       "  '209': 878,\n",
       "  '229': 1119,\n",
       "  '103': 61,\n",
       "  '222': 130,\n",
       "  '223': 328,\n",
       "  '228': 814,\n",
       "  '363': 154,\n",
       "  '500': 1573,\n",
       "  '501': 959}}"
      ]
     },
     "execution_count": 14,
     "metadata": {},
     "output_type": "execute_result"
    }
   ],
   "source": [
    "route_usage_data"
   ]
  },
  {
   "cell_type": "markdown",
   "metadata": {},
   "source": [
    "### pickle 저장"
   ]
  },
  {
   "cell_type": "code",
   "execution_count": 19,
   "metadata": {},
   "outputs": [],
   "source": [
    "import pickle\n",
    "\n",
    "with open(f'../data/버스이용데이터/{city_name}_usage.pkl', 'wb') as f: \n",
    "\tpickle.dump(route_usage_data, f)"
   ]
  }
 ],
 "metadata": {
  "kernelspec": {
   "display_name": "gyeongn",
   "language": "python",
   "name": "python3"
  },
  "language_info": {
   "codemirror_mode": {
    "name": "ipython",
    "version": 3
   },
   "file_extension": ".py",
   "mimetype": "text/x-python",
   "name": "python",
   "nbconvert_exporter": "python",
   "pygments_lexer": "ipython3",
   "version": "3.12.4"
  }
 },
 "nbformat": 4,
 "nbformat_minor": 2
}
