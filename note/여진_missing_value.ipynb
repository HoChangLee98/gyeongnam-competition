{
 "cells": [
  {
   "cell_type": "markdown",
   "metadata": {},
   "source": [
    "## 이용량 결측치 처리"
   ]
  },
  {
   "cell_type": "markdown",
   "metadata": {},
   "source": [
    "#### 노선 이용량을 활용성 지수로 변환\n",
    "* 이용량 결측치 처리 과정에서 더 정확하게 분석하고 시각화한 후 예측\n",
    "* 예측 성능 검증 진행"
   ]
  },
  {
   "cell_type": "code",
   "execution_count": 270,
   "metadata": {},
   "outputs": [],
   "source": [
    "import pandas as pd\n",
    "import warnings\n",
    "warnings.filterwarnings(\"ignore\")"
   ]
  },
  {
   "cell_type": "code",
   "execution_count": 271,
   "metadata": {},
   "outputs": [],
   "source": [
    "meta_data = pd.read_csv(\"../data/total_data.csv\")\n",
    "data = pd.read_csv(\"../data/여진_total_busdata.csv\")"
   ]
  },
  {
   "cell_type": "code",
   "execution_count": 272,
   "metadata": {},
   "outputs": [],
   "source": [
    "data[\"총인구수\"] = meta_data[\"총인구수\"]\n",
    "data[\"노인(수)\"] = meta_data[\"노인(수)\"]\n",
    "data[\"총인구수\"] = data[\"총인구수\"].apply(lambda x: int(x.replace(\",\", \"\")))\n",
    "data[\"노인(수)\"] = data[\"노인(수)\"].apply(lambda x: int(x.replace(\",\", \"\")))"
   ]
  },
  {
   "cell_type": "code",
   "execution_count": 273,
   "metadata": {},
   "outputs": [
    {
     "data": {
      "text/html": [
       "<div>\n",
       "<style scoped>\n",
       "    .dataframe tbody tr th:only-of-type {\n",
       "        vertical-align: middle;\n",
       "    }\n",
       "\n",
       "    .dataframe tbody tr th {\n",
       "        vertical-align: top;\n",
       "    }\n",
       "\n",
       "    .dataframe thead th {\n",
       "        text-align: right;\n",
       "    }\n",
       "</style>\n",
       "<table border=\"1\" class=\"dataframe\">\n",
       "  <thead>\n",
       "    <tr style=\"text-align: right;\">\n",
       "      <th></th>\n",
       "      <th>city_name</th>\n",
       "      <th>routeno</th>\n",
       "      <th>routetp</th>\n",
       "      <th>startnodenm</th>\n",
       "      <th>endnodenm</th>\n",
       "      <th>startvehicletime</th>\n",
       "      <th>endvehicletime</th>\n",
       "      <th>intervaltime</th>\n",
       "      <th>intervalsattime</th>\n",
       "      <th>intervalsuntime</th>\n",
       "      <th>...</th>\n",
       "      <th>노선정류장수</th>\n",
       "      <th>노선거리(km)</th>\n",
       "      <th>굴곡도</th>\n",
       "      <th>start</th>\n",
       "      <th>end</th>\n",
       "      <th>total_operating_time</th>\n",
       "      <th>interval_avg</th>\n",
       "      <th>num_bus</th>\n",
       "      <th>총인구수</th>\n",
       "      <th>노인(수)</th>\n",
       "    </tr>\n",
       "  </thead>\n",
       "  <tbody>\n",
       "    <tr>\n",
       "      <th>0</th>\n",
       "      <td>창원시</td>\n",
       "      <td>1</td>\n",
       "      <td>마을버스</td>\n",
       "      <td>신전</td>\n",
       "      <td>창원역</td>\n",
       "      <td>540.0</td>\n",
       "      <td>2210.0</td>\n",
       "      <td>40.0</td>\n",
       "      <td>40.0</td>\n",
       "      <td>40.0</td>\n",
       "      <td>...</td>\n",
       "      <td>105</td>\n",
       "      <td>55.9</td>\n",
       "      <td>2.0</td>\n",
       "      <td>340.0</td>\n",
       "      <td>1330.0</td>\n",
       "      <td>990.0</td>\n",
       "      <td>40.000000</td>\n",
       "      <td>24</td>\n",
       "      <td>1003731</td>\n",
       "      <td>276574</td>\n",
       "    </tr>\n",
       "    <tr>\n",
       "      <th>1</th>\n",
       "      <td>창원시</td>\n",
       "      <td>2</td>\n",
       "      <td>마을버스</td>\n",
       "      <td>유등</td>\n",
       "      <td>창원역</td>\n",
       "      <td>725.0</td>\n",
       "      <td>2150.0</td>\n",
       "      <td>170.0</td>\n",
       "      <td>170.0</td>\n",
       "      <td>170.0</td>\n",
       "      <td>...</td>\n",
       "      <td>83</td>\n",
       "      <td>53.5</td>\n",
       "      <td>1.7</td>\n",
       "      <td>445.0</td>\n",
       "      <td>1310.0</td>\n",
       "      <td>865.0</td>\n",
       "      <td>170.000000</td>\n",
       "      <td>5</td>\n",
       "      <td>1003731</td>\n",
       "      <td>276574</td>\n",
       "    </tr>\n",
       "    <tr>\n",
       "      <th>2</th>\n",
       "      <td>창원시</td>\n",
       "      <td>3</td>\n",
       "      <td>마을버스</td>\n",
       "      <td>상리</td>\n",
       "      <td>진영시외주차장</td>\n",
       "      <td>750.0</td>\n",
       "      <td>1655.0</td>\n",
       "      <td>220.0</td>\n",
       "      <td>220.0</td>\n",
       "      <td>220.0</td>\n",
       "      <td>...</td>\n",
       "      <td>74</td>\n",
       "      <td>43.8</td>\n",
       "      <td>2.6</td>\n",
       "      <td>470.0</td>\n",
       "      <td>1015.0</td>\n",
       "      <td>545.0</td>\n",
       "      <td>220.000000</td>\n",
       "      <td>2</td>\n",
       "      <td>1003731</td>\n",
       "      <td>276574</td>\n",
       "    </tr>\n",
       "    <tr>\n",
       "      <th>3</th>\n",
       "      <td>창원시</td>\n",
       "      <td>7</td>\n",
       "      <td>마을버스</td>\n",
       "      <td>창원역</td>\n",
       "      <td>자여입구</td>\n",
       "      <td>620.0</td>\n",
       "      <td>2310.0</td>\n",
       "      <td>11.0</td>\n",
       "      <td>15.0</td>\n",
       "      <td>15.0</td>\n",
       "      <td>...</td>\n",
       "      <td>35</td>\n",
       "      <td>21.1</td>\n",
       "      <td>1.0</td>\n",
       "      <td>380.0</td>\n",
       "      <td>1390.0</td>\n",
       "      <td>1010.0</td>\n",
       "      <td>12.142857</td>\n",
       "      <td>83</td>\n",
       "      <td>1003731</td>\n",
       "      <td>276574</td>\n",
       "    </tr>\n",
       "    <tr>\n",
       "      <th>4</th>\n",
       "      <td>창원시</td>\n",
       "      <td>8</td>\n",
       "      <td>마을버스</td>\n",
       "      <td>창원역</td>\n",
       "      <td>삼성창원병원종점(8)</td>\n",
       "      <td>600.0</td>\n",
       "      <td>2240.0</td>\n",
       "      <td>17.0</td>\n",
       "      <td>17.0</td>\n",
       "      <td>17.0</td>\n",
       "      <td>...</td>\n",
       "      <td>39</td>\n",
       "      <td>8.8</td>\n",
       "      <td>1.8</td>\n",
       "      <td>360.0</td>\n",
       "      <td>1360.0</td>\n",
       "      <td>1000.0</td>\n",
       "      <td>17.000000</td>\n",
       "      <td>58</td>\n",
       "      <td>1003731</td>\n",
       "      <td>276574</td>\n",
       "    </tr>\n",
       "  </tbody>\n",
       "</table>\n",
       "<p>5 rows × 21 columns</p>\n",
       "</div>"
      ],
      "text/plain": [
       "  city_name routeno routetp startnodenm    endnodenm  startvehicletime  \\\n",
       "0       창원시       1    마을버스          신전          창원역             540.0   \n",
       "1       창원시       2    마을버스          유등          창원역             725.0   \n",
       "2       창원시       3    마을버스          상리      진영시외주차장             750.0   \n",
       "3       창원시       7    마을버스         창원역         자여입구             620.0   \n",
       "4       창원시       8    마을버스         창원역  삼성창원병원종점(8)             600.0   \n",
       "\n",
       "   endvehicletime  intervaltime  intervalsattime  intervalsuntime  ...  \\\n",
       "0          2210.0          40.0             40.0             40.0  ...   \n",
       "1          2150.0         170.0            170.0            170.0  ...   \n",
       "2          1655.0         220.0            220.0            220.0  ...   \n",
       "3          2310.0          11.0             15.0             15.0  ...   \n",
       "4          2240.0          17.0             17.0             17.0  ...   \n",
       "\n",
       "   노선정류장수  노선거리(km)  굴곡도  start     end  total_operating_time  interval_avg  \\\n",
       "0     105      55.9  2.0  340.0  1330.0                 990.0     40.000000   \n",
       "1      83      53.5  1.7  445.0  1310.0                 865.0    170.000000   \n",
       "2      74      43.8  2.6  470.0  1015.0                 545.0    220.000000   \n",
       "3      35      21.1  1.0  380.0  1390.0                1010.0     12.142857   \n",
       "4      39       8.8  1.8  360.0  1360.0                1000.0     17.000000   \n",
       "\n",
       "   num_bus     총인구수   노인(수)  \n",
       "0       24  1003731  276574  \n",
       "1        5  1003731  276574  \n",
       "2        2  1003731  276574  \n",
       "3       83  1003731  276574  \n",
       "4       58  1003731  276574  \n",
       "\n",
       "[5 rows x 21 columns]"
      ]
     },
     "execution_count": 273,
     "metadata": {},
     "output_type": "execute_result"
    }
   ],
   "source": [
    "data.head()"
   ]
  },
  {
   "cell_type": "code",
   "execution_count": 274,
   "metadata": {},
   "outputs": [
    {
     "data": {
      "text/plain": [
       "Index(['city_name', 'routeno', 'routetp', 'startnodenm', 'endnodenm',\n",
       "       'startvehicletime', 'endvehicletime', 'intervaltime', 'intervalsattime',\n",
       "       'intervalsuntime', 'usage', '노선정류장수', '노선거리(km)', '굴곡도', 'start', 'end',\n",
       "       'total_operating_time', 'interval_avg', 'num_bus', '총인구수', '노인(수)'],\n",
       "      dtype='object')"
      ]
     },
     "execution_count": 274,
     "metadata": {},
     "output_type": "execute_result"
    }
   ],
   "source": [
    "data.columns"
   ]
  },
  {
   "cell_type": "code",
   "execution_count": 275,
   "metadata": {},
   "outputs": [],
   "source": [
    "use_col = [ \n",
    "    'city_name',\n",
    "    'routetp',\n",
    "    '노선정류장수', \n",
    "    '노선거리(km)', \n",
    "    '굴곡도', \n",
    "    'total_operating_time', \n",
    "    'interval_avg', \n",
    "    'num_bus', \n",
    "    '총인구수', \n",
    "    '노인(수)', \n",
    "    'usage'\n",
    "    ]"
   ]
  },
  {
   "cell_type": "code",
   "execution_count": 276,
   "metadata": {},
   "outputs": [
    {
     "data": {
      "text/html": [
       "<div>\n",
       "<style scoped>\n",
       "    .dataframe tbody tr th:only-of-type {\n",
       "        vertical-align: middle;\n",
       "    }\n",
       "\n",
       "    .dataframe tbody tr th {\n",
       "        vertical-align: top;\n",
       "    }\n",
       "\n",
       "    .dataframe thead th {\n",
       "        text-align: right;\n",
       "    }\n",
       "</style>\n",
       "<table border=\"1\" class=\"dataframe\">\n",
       "  <thead>\n",
       "    <tr style=\"text-align: right;\">\n",
       "      <th></th>\n",
       "      <th>city_name</th>\n",
       "      <th>routetp</th>\n",
       "      <th>노선정류장수</th>\n",
       "      <th>노선거리(km)</th>\n",
       "      <th>굴곡도</th>\n",
       "      <th>total_operating_time</th>\n",
       "      <th>interval_avg</th>\n",
       "      <th>num_bus</th>\n",
       "      <th>총인구수</th>\n",
       "      <th>노인(수)</th>\n",
       "      <th>usage</th>\n",
       "    </tr>\n",
       "  </thead>\n",
       "  <tbody>\n",
       "    <tr>\n",
       "      <th>0</th>\n",
       "      <td>창원시</td>\n",
       "      <td>마을버스</td>\n",
       "      <td>105</td>\n",
       "      <td>55.9</td>\n",
       "      <td>2.0</td>\n",
       "      <td>990.0</td>\n",
       "      <td>40.000000</td>\n",
       "      <td>24</td>\n",
       "      <td>1003731</td>\n",
       "      <td>276574</td>\n",
       "      <td>33931.0</td>\n",
       "    </tr>\n",
       "    <tr>\n",
       "      <th>1</th>\n",
       "      <td>창원시</td>\n",
       "      <td>마을버스</td>\n",
       "      <td>83</td>\n",
       "      <td>53.5</td>\n",
       "      <td>1.7</td>\n",
       "      <td>865.0</td>\n",
       "      <td>170.000000</td>\n",
       "      <td>5</td>\n",
       "      <td>1003731</td>\n",
       "      <td>276574</td>\n",
       "      <td>2558.0</td>\n",
       "    </tr>\n",
       "    <tr>\n",
       "      <th>2</th>\n",
       "      <td>창원시</td>\n",
       "      <td>마을버스</td>\n",
       "      <td>74</td>\n",
       "      <td>43.8</td>\n",
       "      <td>2.6</td>\n",
       "      <td>545.0</td>\n",
       "      <td>220.000000</td>\n",
       "      <td>2</td>\n",
       "      <td>1003731</td>\n",
       "      <td>276574</td>\n",
       "      <td>299.0</td>\n",
       "    </tr>\n",
       "    <tr>\n",
       "      <th>3</th>\n",
       "      <td>창원시</td>\n",
       "      <td>마을버스</td>\n",
       "      <td>35</td>\n",
       "      <td>21.1</td>\n",
       "      <td>1.0</td>\n",
       "      <td>1010.0</td>\n",
       "      <td>12.142857</td>\n",
       "      <td>83</td>\n",
       "      <td>1003731</td>\n",
       "      <td>276574</td>\n",
       "      <td>63612.0</td>\n",
       "    </tr>\n",
       "    <tr>\n",
       "      <th>4</th>\n",
       "      <td>창원시</td>\n",
       "      <td>마을버스</td>\n",
       "      <td>39</td>\n",
       "      <td>8.8</td>\n",
       "      <td>1.8</td>\n",
       "      <td>1000.0</td>\n",
       "      <td>17.000000</td>\n",
       "      <td>58</td>\n",
       "      <td>1003731</td>\n",
       "      <td>276574</td>\n",
       "      <td>68306.0</td>\n",
       "    </tr>\n",
       "  </tbody>\n",
       "</table>\n",
       "</div>"
      ],
      "text/plain": [
       "  city_name routetp  노선정류장수  노선거리(km)  굴곡도  total_operating_time  \\\n",
       "0       창원시    마을버스     105      55.9  2.0                 990.0   \n",
       "1       창원시    마을버스      83      53.5  1.7                 865.0   \n",
       "2       창원시    마을버스      74      43.8  2.6                 545.0   \n",
       "3       창원시    마을버스      35      21.1  1.0                1010.0   \n",
       "4       창원시    마을버스      39       8.8  1.8                1000.0   \n",
       "\n",
       "   interval_avg  num_bus     총인구수   노인(수)    usage  \n",
       "0     40.000000       24  1003731  276574  33931.0  \n",
       "1    170.000000        5  1003731  276574   2558.0  \n",
       "2    220.000000        2  1003731  276574    299.0  \n",
       "3     12.142857       83  1003731  276574  63612.0  \n",
       "4     17.000000       58  1003731  276574  68306.0  "
      ]
     },
     "execution_count": 276,
     "metadata": {},
     "output_type": "execute_result"
    }
   ],
   "source": [
    "data = data[use_col]\n",
    "data.head()"
   ]
  },
  {
   "cell_type": "code",
   "execution_count": 277,
   "metadata": {},
   "outputs": [
    {
     "data": {
      "text/plain": [
       "routetp\n",
       "농어촌(일반)버스    1119\n",
       "일반버스          988\n",
       "지선버스          209\n",
       "간선버스           88\n",
       "좌석버스           58\n",
       "마을버스           48\n",
       "심야버스            2\n",
       "급행버스            1\n",
       "Name: count, dtype: int64"
      ]
     },
     "execution_count": 277,
     "metadata": {},
     "output_type": "execute_result"
    }
   ],
   "source": [
    "data['routetp'].value_counts()"
   ]
  },
  {
   "cell_type": "markdown",
   "metadata": {},
   "source": [
    "### split to train/valid/test set"
   ]
  },
  {
   "cell_type": "code",
   "execution_count": 278,
   "metadata": {},
   "outputs": [],
   "source": [
    "from sklearn.model_selection import train_test_split\n",
    "data_train = data[~data['usage'].isna()]\n",
    "data_test = data[data['usage'].isna()]\n",
    "\n",
    "train_set, valid_set = train_test_split(\n",
    "    data_train, \n",
    "    test_size=0.2, \n",
    "    random_state=0\n",
    "    )"
   ]
  },
  {
   "cell_type": "code",
   "execution_count": 279,
   "metadata": {},
   "outputs": [
    {
     "data": {
      "text/plain": [
       "city_name               0\n",
       "routetp                 0\n",
       "노선정류장수                  0\n",
       "노선거리(km)                0\n",
       "굴곡도                     0\n",
       "total_operating_time    0\n",
       "interval_avg            0\n",
       "num_bus                 0\n",
       "총인구수                    0\n",
       "노인(수)                   0\n",
       "usage                   0\n",
       "dtype: int64"
      ]
     },
     "execution_count": 279,
     "metadata": {},
     "output_type": "execute_result"
    }
   ],
   "source": [
    "train_set.isna().sum()\n",
    "valid_set.isna().sum()"
   ]
  },
  {
   "cell_type": "markdown",
   "metadata": {},
   "source": [
    "### 범주형 변수 전처리 (One-hot Encoding)"
   ]
  },
  {
   "cell_type": "markdown",
   "metadata": {},
   "source": [
    "#### routetp "
   ]
  },
  {
   "cell_type": "code",
   "execution_count": 280,
   "metadata": {},
   "outputs": [],
   "source": [
    "from sklearn.preprocessing import OneHotEncoder\n",
    "import numpy as np\n",
    "\n",
    "routetp = train_set['routetp']\n",
    "v_routetp = valid_set['routetp']\n",
    "\n",
    "# 전체 데이터에서 고유한 범주를 추출\n",
    "all_routetp = np.unique(data['routetp'])\n",
    "\n",
    "ohe = OneHotEncoder(\n",
    "    categories=[all_routetp],\n",
    "    sparse_output=False\n",
    "    )\n",
    "ohe.fit(routetp.values.reshape(-1,1))\n",
    "\n",
    "dense_matrix_tr = ohe.transform(routetp.values.reshape(-1,1)) #train_set\n",
    "dense_matrix_val = ohe.transform(v_routetp.values.reshape(-1,1)) #valid_set"
   ]
  },
  {
   "cell_type": "code",
   "execution_count": 281,
   "metadata": {},
   "outputs": [
    {
     "data": {
      "text/plain": [
       "array(['간선버스', '급행버스', '농어촌(일반)버스', '마을버스', '심야버스', '일반버스', '좌석버스',\n",
       "       '지선버스'], dtype=object)"
      ]
     },
     "execution_count": 281,
     "metadata": {},
     "output_type": "execute_result"
    }
   ],
   "source": [
    "ohe.categories_[0]"
   ]
  },
  {
   "cell_type": "code",
   "execution_count": 282,
   "metadata": {},
   "outputs": [],
   "source": [
    "# train_set, dense_matrix_tr 데이터 합치기\n",
    "\n",
    "train_set = pd.concat([train_set.reset_index(drop=True),\n",
    "pd.DataFrame(dense_matrix_tr, columns=ohe.categories_[0])],\n",
    "axis=1)"
   ]
  },
  {
   "cell_type": "code",
   "execution_count": 283,
   "metadata": {},
   "outputs": [],
   "source": [
    "# valid_set, dense_matrix_val 데이터 합치기\n",
    "\n",
    "valid_set = pd.concat([valid_set.reset_index(drop=True), \n",
    "pd.DataFrame(dense_matrix_val, columns=ohe.categories_[0])], axis=1)"
   ]
  },
  {
   "cell_type": "code",
   "execution_count": 284,
   "metadata": {},
   "outputs": [
    {
     "data": {
      "text/plain": [
       "city_name               0\n",
       "routetp                 0\n",
       "노선정류장수                  0\n",
       "노선거리(km)                0\n",
       "굴곡도                     0\n",
       "total_operating_time    0\n",
       "interval_avg            0\n",
       "num_bus                 0\n",
       "총인구수                    0\n",
       "노인(수)                   0\n",
       "usage                   0\n",
       "간선버스                    0\n",
       "급행버스                    0\n",
       "농어촌(일반)버스               0\n",
       "마을버스                    0\n",
       "심야버스                    0\n",
       "일반버스                    0\n",
       "좌석버스                    0\n",
       "지선버스                    0\n",
       "dtype: int64"
      ]
     },
     "execution_count": 284,
     "metadata": {},
     "output_type": "execute_result"
    }
   ],
   "source": [
    "train_set.isna().sum()\n",
    "valid_set.isna().sum()"
   ]
  },
  {
   "cell_type": "markdown",
   "metadata": {},
   "source": [
    "#### city_name"
   ]
  },
  {
   "cell_type": "code",
   "execution_count": 285,
   "metadata": {},
   "outputs": [],
   "source": [
    "t_city = train_set['city_name']\n",
    "v_city = valid_set['city_name']\n",
    "\n",
    "# 전체 데이터에서 고유한 범주를 추출\n",
    "all_city = np.unique(data['city_name'])\n",
    "\n",
    "ohe = OneHotEncoder(\n",
    "    categories=[all_city],\n",
    "    sparse_output=False\n",
    "    )\n",
    "ohe.fit(t_city.values.reshape(-1,1))\n",
    "\n",
    "dense_matrix_tr = ohe.transform(t_city.values.reshape(-1,1)) #train_set\n",
    "dense_matrix_val = ohe.transform(v_city.values.reshape(-1,1)) #valid_set"
   ]
  },
  {
   "cell_type": "code",
   "execution_count": 286,
   "metadata": {},
   "outputs": [
    {
     "data": {
      "text/plain": [
       "array(['거제시', '거창군', '고성군', '김해시', '남해군', '밀양시', '사천시', '산청군', '양산시',\n",
       "       '의령군', '진주시', '창녕군', '창원시', '통영시', '하동군', '함안군', '함양군', '합천군'],\n",
       "      dtype=object)"
      ]
     },
     "execution_count": 286,
     "metadata": {},
     "output_type": "execute_result"
    }
   ],
   "source": [
    "ohe.categories_[0]"
   ]
  },
  {
   "cell_type": "code",
   "execution_count": 287,
   "metadata": {},
   "outputs": [],
   "source": [
    "# train_set, dense_matrix_tr 데이터 합치기\n",
    "\n",
    "train_set = pd.concat([train_set.reset_index(drop=True),\n",
    "pd.DataFrame(dense_matrix_tr, columns=ohe.categories_[0])],\n",
    "axis=1)"
   ]
  },
  {
   "cell_type": "code",
   "execution_count": 288,
   "metadata": {},
   "outputs": [],
   "source": [
    "# valid_set, dense_matrix_val 데이터 합치기\n",
    "\n",
    "valid_set = pd.concat([valid_set.reset_index(drop=True), \n",
    "pd.DataFrame(dense_matrix_val, columns=ohe.categories_[0])], axis=1)"
   ]
  },
  {
   "cell_type": "code",
   "execution_count": 289,
   "metadata": {},
   "outputs": [],
   "source": [
    "train_set = train_set.drop(columns=['routetp','city_name'])\n",
    "valid_set = valid_set.drop(columns=['routetp','city_name'])"
   ]
  },
  {
   "cell_type": "code",
   "execution_count": 290,
   "metadata": {},
   "outputs": [
    {
     "data": {
      "text/plain": [
       "노선정류장수                  0\n",
       "노선거리(km)                0\n",
       "굴곡도                     0\n",
       "total_operating_time    0\n",
       "interval_avg            0\n",
       "num_bus                 0\n",
       "총인구수                    0\n",
       "노인(수)                   0\n",
       "usage                   0\n",
       "간선버스                    0\n",
       "급행버스                    0\n",
       "농어촌(일반)버스               0\n",
       "마을버스                    0\n",
       "심야버스                    0\n",
       "일반버스                    0\n",
       "좌석버스                    0\n",
       "지선버스                    0\n",
       "거제시                     0\n",
       "거창군                     0\n",
       "고성군                     0\n",
       "김해시                     0\n",
       "남해군                     0\n",
       "밀양시                     0\n",
       "사천시                     0\n",
       "산청군                     0\n",
       "양산시                     0\n",
       "의령군                     0\n",
       "진주시                     0\n",
       "창녕군                     0\n",
       "창원시                     0\n",
       "통영시                     0\n",
       "하동군                     0\n",
       "함안군                     0\n",
       "함양군                     0\n",
       "합천군                     0\n",
       "dtype: int64"
      ]
     },
     "execution_count": 290,
     "metadata": {},
     "output_type": "execute_result"
    }
   ],
   "source": [
    "train_set.isna().sum()\n",
    "valid_set.isna().sum()"
   ]
  },
  {
   "cell_type": "markdown",
   "metadata": {},
   "source": [
    "### 연속형 변수 전처리"
   ]
  },
  {
   "cell_type": "code",
   "execution_count": 291,
   "metadata": {},
   "outputs": [],
   "source": [
    "col = [ \n",
    "    '노선정류장수', \n",
    "    '노선거리(km)', \n",
    "    '굴곡도', \n",
    "    'total_operating_time', \n",
    "    'interval_avg', \n",
    "    'num_bus', \n",
    "    '총인구수', \n",
    "    '노인(수)'\n",
    "    ]"
   ]
  },
  {
   "cell_type": "markdown",
   "metadata": {},
   "source": [
    "#### MICE 성능비교"
   ]
  },
  {
   "cell_type": "code",
   "execution_count": 294,
   "metadata": {},
   "outputs": [],
   "source": [
    "#from impyute.imputation.cs import mice\n",
    "from sklearn.experimental import enable_iterative_imputer\n",
    "from sklearn.impute import IterativeImputer\n",
    "from sklearn.model_selection import train_test_split\n",
    "from sklearn.metrics import mean_squared_error"
   ]
  },
  {
   "cell_type": "markdown",
   "metadata": {},
   "source": [
    "#### 정량적 (통계적 수치)"
   ]
  },
  {
   "cell_type": "code",
   "execution_count": 295,
   "metadata": {},
   "outputs": [],
   "source": [
    "# rmse 함수\n",
    "def imputer_validate_processor(\n",
    "    train_set,\n",
    "    valid_set, \n",
    "    y_name = \"usage\"\n",
    "    ):\n",
    "        \n",
    "    y_valid_true = valid_set[y_name]\n",
    "    valid_set[\"usage\"] = np.array(np.nan)\n",
    "\n",
    "    imputer = IterativeImputer(random_state=0)\n",
    "    imputer.fit(train_set)\n",
    "    imputer_valid_set = pd.DataFrame(imputer.transform(valid_set))\n",
    "\n",
    "    imputer_valid_set.columns = valid_set.columns\n",
    "    imputer_valid_set[\"usage\"] = imputer_valid_set[\"usage\"].round(0)\n",
    "\n",
    "    return {\"y_valid_true\" : y_valid_true, \n",
    "            \"y_valid_pred\" : imputer_valid_set[\"usage\"], \n",
    "            \"rmse\" : mean_squared_error(y_valid_true, imputer_valid_set[\"usage\"], squared=False)}\n",
    "    "
   ]
  },
  {
   "cell_type": "code",
   "execution_count": null,
   "metadata": {},
   "outputs": [],
   "source": [
    "# minmaxscaler 사용\n",
    "from sklearn.preprocessing import MinMaxScaler\n",
    "minmax_t = train_set.copy()\n",
    "minmax_v = valid_set.copy()\n",
    "\n",
    "scaler = MinMaxScaler()\n",
    "scaler.fit(train_set[col])\n",
    "\n",
    "minmax_t[col] = scaler.transform(train_set[col])\n",
    "minmax_v[col] = scaler.transform(valid_set[col])\n",
    "\n",
    "result_minmax = imputer_validate_processor(minmax_t, minmax_v)\n",
    "result_minmax[\"rmse\"]"
   ]
  },
  {
   "cell_type": "code",
   "execution_count": 301,
   "metadata": {},
   "outputs": [
    {
     "data": {
      "text/plain": [
       "<matplotlib.legend.Legend at 0x22345f35670>"
      ]
     },
     "execution_count": 301,
     "metadata": {},
     "output_type": "execute_result"
    },
    {
     "data": {
      "image/png": "[encoded data removed]",
      "text/plain": [
       "<Figure size 640x480 with 1 Axes>"
      ]
     },
     "metadata": {},
     "output_type": "display_data"
    }
   ],
   "source": [
    "import seaborn as sns\n",
    "import matplotlib.pyplot as plt\n",
    "sns.kdeplot(result_minmax[\"y_valid_true\"], color=\"r\", label=\"True\")\n",
    "sns.kdeplot(result_minmax[\"y_valid_pred\"], color=\"b\", label=\"Pred\")\n",
    "plt.legend()"
   ]
  },
  {
   "cell_type": "code",
   "execution_count": 302,
   "metadata": {},
   "outputs": [
    {
     "data": {
      "text/plain": [
       "np.float64(23340.572851448083)"
      ]
     },
     "execution_count": 302,
     "metadata": {},
     "output_type": "execute_result"
    }
   ],
   "source": [
    "# standardaxscaler 사용\n",
    "from sklearn.preprocessing import StandardScaler\n",
    "Standard_t = train_set.copy()\n",
    "Standard_v = valid_set.copy()\n",
    "\n",
    "scaler = StandardScaler()\n",
    "scaler.fit(train_set[col])\n",
    "\n",
    "Standard_t[col] = scaler.transform(train_set[col])\n",
    "Standard_v[col] = scaler.transform(valid_set[col])\n",
    "\n",
    "result_standard = imputer_validate_processor(Standard_t, Standard_v)\n",
    "result_standard['rmse']"
   ]
  },
  {
   "cell_type": "code",
   "execution_count": 304,
   "metadata": {},
   "outputs": [
    {
     "data": {
      "text/plain": [
       "<matplotlib.legend.Legend at 0x22345d8a3c0>"
      ]
     },
     "execution_count": 304,
     "metadata": {},
     "output_type": "execute_result"
    },
    {
     "data": {
      "image/png": "[encoded data removed]",
      "text/plain": [
       "<Figure size 640x480 with 1 Axes>"
      ]
     },
     "metadata": {},
     "output_type": "display_data"
    }
   ],
   "source": [
    "import seaborn as sns\n",
    "import matplotlib.pyplot as plt\n",
    "sns.kdeplot(result_standard[\"y_valid_true\"], color=\"r\", label=\"True\")\n",
    "sns.kdeplot(result_standard[\"y_valid_pred\"], color=\"b\", label=\"Pred\")\n",
    "plt.legend()"
   ]
  },
  {
   "cell_type": "markdown",
   "metadata": {},
   "source": [
    "### 데이터 전처리\n",
    "\n",
    "* https://scikit-learn.org/stable/modules/preprocessing.html#non-linear-transformation\n",
    "\n",
    "* https://wikidocs.net/87190\n",
    "\n",
    "* 범주형 변수 전처리: \n",
    "  1. Infrequent categories\n",
    "     * OneHotEncoder: \n",
    "     * OrdinalEncoder:\n",
    "     * LabelEncoder: \n",
    "  2. Target Encoder\n",
    "     * y값이 범주형 변수의 영향을 받을 경우(`city_name` 이나 `routetp`의 경우 괜찮을지도)\n",
    "\n",
    "* 연속형 변수 전처리:\n",
    "  1. MaxAbsScaler\n",
    "  2. MinMaxScaler\n",
    "      * 매우 다른 스케일의 범위를 0과 1사이로 변환\n",
    "  3. PowerTransformer: \n",
    "      * Box-Cox transformer\n",
    "  4. QuantileTransformer\n",
    "  5. RobustScaler\n",
    "      * 특성들이 같은 스케일을 갖게 되지만 평균대신 중앙값을 사용 ==> 극단값에 영향을 받지 않음\n",
    "  6. StandardScaler\n",
    "      * 각 특성의 평균을 0, 분산을 1로 변경하여 모든 특성이 같은 크기를 가지게 함\n",
    "  7. SplineTransformer"
   ]
  },
  {
   "cell_type": "code",
   "execution_count": 22,
   "metadata": {},
   "outputs": [],
   "source": [
    "from sklearn.preprocessing import OneHotEncoder, RobustScaler, MinMaxScaler, StandardScaler"
   ]
  }
 ],
 "metadata": {
  "kernelspec": {
   "display_name": "Python 3",
   "language": "python",
   "name": "python3"
  },
  "language_info": {
   "codemirror_mode": {
    "name": "ipython",
    "version": 3
   },
   "file_extension": ".py",
   "mimetype": "text/x-python",
   "name": "python",
   "nbconvert_exporter": "python",
   "pygments_lexer": "ipython3",
   "version": "3.12.4"
  }
 },
 "nbformat": 4,
 "nbformat_minor": 2
}
