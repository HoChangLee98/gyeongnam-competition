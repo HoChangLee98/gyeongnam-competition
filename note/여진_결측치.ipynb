{
 "cells": [
  {
   "cell_type": "markdown",
   "metadata": {},
   "source": [
    "## 추가 변수 생성 및 결측치 처리"
   ]
  },
  {
   "cell_type": "code",
   "execution_count": 14,
   "metadata": {},
   "outputs": [],
   "source": [
    "import pandas as pd\n",
    "import pickle\n",
    "import warnings\n",
    "warnings.filterwarnings(\"ignore\")"
   ]
  },
  {
   "cell_type": "code",
   "execution_count": 15,
   "metadata": {},
   "outputs": [],
   "source": [
    "## total_busdata \n",
    "total_busdata = pd.read_csv(\n",
    "    filepath_or_buffer=\"../data/total_busdata.csv\"\n",
    "    )"
   ]
  },
  {
   "cell_type": "markdown",
   "metadata": {},
   "source": [
    "### 첫차, 막차시간 변수 결측값 처리"
   ]
  },
  {
   "cell_type": "code",
   "execution_count": 16,
   "metadata": {},
   "outputs": [],
   "source": [
    "# 시간 변환 함수 정의\n",
    "\n",
    "# to minutes\n",
    "def convert_to_minutes(time):\n",
    "    if pd.isna(time):  # NaN 값인지 확인\n",
    "        return time  # NaN 값을 그대로 반환\n",
    "    hours = int(time // 100)\n",
    "    minutes = int(time % 100)\n",
    "    return hours * 60 + minutes\n",
    "\n",
    "# to hours\n",
    "def convert_to_hours_minutes(minutes):\n",
    "    hours = int(minutes // 60)\n",
    "    remaining_minutes = int(minutes % 60)\n",
    "    return hours * 100 + remaining_minutes\n"
   ]
  },
  {
   "cell_type": "code",
   "execution_count": 17,
   "metadata": {},
   "outputs": [],
   "source": [
    "# startvehicletime 과 endvehicletime 변수의 시간 변환 값을 각각 start, end 변수에 넣음\n",
    "\n",
    "total_busdata['start'] = total_busdata['startvehicletime'].apply(convert_to_minutes)\n",
    "total_busdata['end'] = total_busdata['endvehicletime'].apply(convert_to_minutes)"
   ]
  },
  {
   "cell_type": "code",
   "execution_count": 18,
   "metadata": {},
   "outputs": [],
   "source": [
    "# start, end 열의 평균 \n",
    "mean_start = total_busdata['start'].mean()\n",
    "mean_end = total_busdata['end'].mean()\n",
    "\n",
    "# start, end 열의 결측값에 평균 대입\n",
    "total_busdata['start'] = total_busdata['start'].fillna(mean_start)\n",
    "total_busdata['end'] = total_busdata['end'].fillna(mean_end)\n",
    "\n",
    "# start, end 열의 평균을 원래 시간 형태로 변환\n",
    "mean_start = convert_to_hours_minutes(mean_start)\n",
    "mean_end = convert_to_hours_minutes(mean_end)"
   ]
  },
  {
   "cell_type": "code",
   "execution_count": 19,
   "metadata": {},
   "outputs": [],
   "source": [
    "# startvehicletime과 endvehicletime의 결측값에 대입\n",
    "total_busdata['startvehicletime'] = total_busdata['startvehicletime'].fillna(mean_start)\n",
    "total_busdata['endvehicletime'] = total_busdata['endvehicletime'].fillna(mean_end)"
   ]
  },
  {
   "cell_type": "markdown",
   "metadata": {},
   "source": [
    "### 배차간격 결측값 처리"
   ]
  },
  {
   "cell_type": "code",
   "execution_count": 20,
   "metadata": {},
   "outputs": [],
   "source": [
    "# 배차간격 결측값 : 시,군 전체 평균을 결측값에 넣음\n",
    "intervaltime_avg = total_busdata['intervaltime'].mean()\n",
    "total_busdata['intervaltime'] = total_busdata['intervaltime'].fillna(intervaltime_avg)\n",
    "\n",
    "intervalsattime_avg = total_busdata['intervalsattime'].mean()\n",
    "total_busdata['intervalsattime'] = total_busdata['intervalsattime'].fillna(intervalsattime_avg)\n",
    "\n",
    "intervalsuntime_avg = total_busdata['intervalsuntime'].mean()\n",
    "total_busdata['intervalsuntime'] = total_busdata['intervalsuntime'].fillna(intervalsuntime_avg)\n",
    "\n",
    "total_busdata[['intervaltime','intervalsattime','intervalsuntime']]= total_busdata[['intervaltime','intervalsattime','intervalsuntime']].round(1)"
   ]
  },
  {
   "cell_type": "markdown",
   "metadata": {},
   "source": [
    "### 버스대수 변수 생성"
   ]
  },
  {
   "cell_type": "code",
   "execution_count": 21,
   "metadata": {},
   "outputs": [],
   "source": [
    "# 총 운행 시간 계산 (분 단위)\n",
    "total_busdata['total_operating_time'] = total_busdata['end'] - total_busdata['start']\n",
    "\n",
    "# 평균 배차 간격 변수\n",
    "total_busdata['interval_avg'] = (total_busdata['intervaltime']*5+total_busdata['intervalsattime']+total_busdata['intervalsuntime']) / 7\n",
    "\n",
    "# 필요한 버스 대수 \n",
    "total_busdata['num_bus'] = total_busdata['total_operating_time'] / total_busdata['interval_avg']\n",
    "total_busdata['num_bus'] = total_busdata['num_bus'].astype(int)\n"
   ]
  },
  {
   "cell_type": "markdown",
   "metadata": {},
   "source": [
    "### 굴곡도 결측치 처리"
   ]
  },
  {
   "cell_type": "code",
   "execution_count": 22,
   "metadata": {},
   "outputs": [],
   "source": [
    "curve_avg = total_busdata['굴곡도'].mean()\n",
    "total_busdata['굴곡도'] = total_busdata['굴곡도'].fillna(curve_avg)\n",
    "total_busdata['굴곡도'] = total_busdata['굴곡도'].round(1)"
   ]
  },
  {
   "cell_type": "markdown",
   "metadata": {},
   "source": [
    "### 노선정류장수 결측치 처리 (시, 군별로)"
   ]
  },
  {
   "cell_type": "code",
   "execution_count": 23,
   "metadata": {},
   "outputs": [],
   "source": [
    "## 함양군 <- 진주시\n",
    "jj_mean = total_busdata[total_busdata[\"city_name\"] == \"진주시\"][\"노선거리(km)\"].mean()\n",
    "hy_index = total_busdata[total_busdata[\"city_name\"] == \"함양군\"][\"노선거리(km)\"].index\n",
    "for i in hy_index:\n",
    "    total_busdata.loc[i, \"노선거리(km)\"] = jj_mean\n",
    "\n",
    "## 고성군 <- 창녕군\n",
    "cn_mean = total_busdata[total_busdata[\"city_name\"] == \"창녕군\"][\"노선거리(km)\"].mean()\n",
    "gs_index = total_busdata[total_busdata[\"city_name\"] == \"고성군\"][\"노선거리(km)\"].index\n",
    "for i in gs_index:\n",
    "    total_busdata.loc[i, \"노선거리(km)\"] = cn_mean\n",
    "\n",
    "## 남해군 <- 통영시\n",
    "ty_mean = total_busdata[total_busdata[\"city_name\"] == \"통영시\"][\"노선거리(km)\"].mean()\n",
    "nh_index = total_busdata[total_busdata[\"city_name\"] == \"남해군\"][\"노선거리(km)\"].index\n",
    "for i in nh_index:\n",
    "    total_busdata.loc[i, \"노선거리(km)\"] = ty_mean"
   ]
  },
  {
   "cell_type": "code",
   "execution_count": 24,
   "metadata": {},
   "outputs": [],
   "source": [
    "total_busdata['노선정류장수'] = total_busdata.groupby('city_name')['노선정류장수'].transform(lambda x: x.fillna(x.mean()))\n",
    "total_busdata['노선거리(km)'] = total_busdata.groupby('city_name')['노선거리(km)'].transform(lambda x: x.fillna(x.mean()))\n",
    "\n",
    "\n",
    "total_busdata['노선정류장수'] = total_busdata['노선정류장수'].astype(int)\n",
    "total_busdata['노선거리(km)'] = total_busdata['노선거리(km)']"
   ]
  },
  {
   "cell_type": "code",
   "execution_count": 25,
   "metadata": {},
   "outputs": [
    {
     "data": {
      "text/plain": [
       "city_name               0\n",
       "routeno                 0\n",
       "routetp                 0\n",
       "startnodenm             0\n",
       "endnodenm               0\n",
       "startvehicletime        0\n",
       "endvehicletime          0\n",
       "intervaltime            0\n",
       "intervalsattime         0\n",
       "intervalsuntime         0\n",
       "노선정류장수                  0\n",
       "노선거리(km)                0\n",
       "굴곡도                     0\n",
       "start                   0\n",
       "end                     0\n",
       "total_operating_time    0\n",
       "interval_avg            0\n",
       "num_bus                 0\n",
       "dtype: int64"
      ]
     },
     "execution_count": 25,
     "metadata": {},
     "output_type": "execute_result"
    }
   ],
   "source": [
    "total_busdata.drop(columns=['usage']).isnull().sum()"
   ]
  },
  {
   "cell_type": "code",
   "execution_count": 26,
   "metadata": {},
   "outputs": [],
   "source": [
    "total_busdata.to_csv(\"../data/여진_total_busdata.csv\", index=False)"
   ]
  },
  {
   "cell_type": "markdown",
   "metadata": {},
   "source": [
    "#### 결측치 종류\n",
    "\n",
    "1. Missing completely at random (MCAR) - 완전 무작위 결측\n",
    "결측값의 발생이 다른 변수와 상관이 없는 경우\n",
    "ex) 전산오류, 통신문제 등으로 데이터 누락\n",
    "\n",
    "2. Missing at random (MAR) - 무작위 결측\n",
    "결측값의 발생이 특정 변수와 관련이 있으나 얻고자 하는 결과와는 상관이 없는 경우\n",
    "\n",
    "3. Not missing at random (NMAR) - 비무작위 결측\n",
    "결측값 발생이 다른 변수와 상관이 있는 경우\n",
    "\n"
   ]
  },
  {
   "cell_type": "markdown",
   "metadata": {},
   "source": [
    "#### 결측치 대체 방법\n",
    "\n",
    "1. 아무것도 하지 않기\n",
    "\n",
    "2. 데이터 제거 \n",
    "\n",
    "3. 중앙값, 평균값, 최빈값, 0, 상수값으로 대체\n",
    "\n",
    "4. K-NN(K-Nearest Neighbor) 대체 \n",
    "각 데이터 포인트의 가장 가까운 k개의 이웃을 찾아서 결측값을 예측하는 방식\n",
    "유클리드 거리를 사용하여 각 노선의 길이, 정류장 수, 첫차 시간, 막차 시간 등 모든 특징을 포함한 거리 계산을 통해 결측값을 대체\n",
    "-> 결측값이 있는 노선과 가장 유사한 3개의 노선을 찾아 그들의 값을 기반으로 결측값을 예측 \n",
    "\n",
    "<1>\n",
    "#from impyute.imputation.cs import fast_knn\n",
    "\n",
    "#np_imputed = fast_knn(df.values, k=5)\n",
    "#df_imputed = pd.DataFrame(np_imputed)\n",
    "\n",
    "<2>\n",
    "\n",
    "import pandas as pd\n",
    "from sklearn.impute import KNNImputer\n",
    "from sklearn.preprocessing import MinMaxScaler\n",
    "\n",
    "#데이터 정규화\n",
    "scaler = MinMaxScaler()\n",
    "total_busdata_scaled = scaler.fit_transform(total_busdata)\n",
    "\n",
    "#KNNImputer 생성 (k=3 사용)\n",
    "imputer = KNNImputer(n_neighbors=3)\n",
    "\n",
    "#결측값 대체\n",
    "total_busdata_filled = imputer.fit_transform(total_busdata_scaled)\n",
    "\n",
    "#정규화된 데이터를 원래 스케일로 되돌림\n",
    "total_busdata_filled = scaler.inverse_transform(total_busdata_filled)\n",
    "\n",
    "#대체된 값을 원래 데이터프레임에 반영\n",
    "total_busdata['usage'] = total_busdata_filled[:, 0]\n",
    "\n",
    "\n",
    "5. MICE(Multivariate Imputation by Chained Equation)\n",
    "\n",
    "#from impyute.imputation.cs import mice\n",
    "\n",
    "#np_imputed=mice(df.values)\n",
    "#df_imputed = pd.DataFrame(np_immputed)\n",
    "\n",
    "6. 딥러닝을 이용한 Imputation (범주형이나 숫자가 아닌 자료형에 효과적)\n",
    "#import datawig\n",
    "\n",
    "#imputer = datawig.SimpleImputer(\n",
    "#input_columns = ['X_1', 'X_2', 'X_3'], # impute에 사용할 col 지정\n",
    "#output_column = 'X_5') # 컬럼 X_5의 결측치를 채운다\n",
    "\n",
    "#imputer.fit(train_df=df_null, num_epochs=50)\n",
    "\n",
    "#df_null_only = df_null[df_null['X_5'].isnull()]\n",
    "\n",
    "#np_imputed = imputer.predict(df_null_only)\n",
    "#df_imputed = pd.DataFrame(np_imputed)\n",
    "\n"
   ]
  },
  {
   "cell_type": "code",
   "execution_count": null,
   "metadata": {},
   "outputs": [],
   "source": []
  },
  {
   "cell_type": "code",
   "execution_count": null,
   "metadata": {},
   "outputs": [],
   "source": []
  },
  {
   "cell_type": "code",
   "execution_count": null,
   "metadata": {},
   "outputs": [],
   "source": []
  },
  {
   "cell_type": "code",
   "execution_count": null,
   "metadata": {},
   "outputs": [],
   "source": []
  }
 ],
 "metadata": {
  "kernelspec": {
   "display_name": "gyeongn",
   "language": "python",
   "name": "python3"
  },
  "language_info": {
   "codemirror_mode": {
    "name": "ipython",
    "version": 3
   },
   "file_extension": ".py",
   "mimetype": "text/x-python",
   "name": "python",
   "nbconvert_exporter": "python",
   "pygments_lexer": "ipython3",
   "version": "3.12.4"
  }
 },
 "nbformat": 4,
 "nbformat_minor": 2
}
