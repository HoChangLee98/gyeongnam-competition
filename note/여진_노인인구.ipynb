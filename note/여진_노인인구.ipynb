{
 "cells": [
  {
   "cell_type": "markdown",
   "metadata": {},
   "source": [
    "## 노인 인구수 데이터 merge"
   ]
  },
  {
   "cell_type": "code",
   "execution_count": 2,
   "metadata": {},
   "outputs": [],
   "source": [
    "import pandas as pd\n",
    "import numpy as np\n",
    "import pickle\n",
    "import warnings\n",
    "warnings.filterwarnings(\"ignore\")"
   ]
  },
  {
   "cell_type": "code",
   "execution_count": 3,
   "metadata": {},
   "outputs": [],
   "source": [
    "## total_busdata \n",
    "total = pd.read_csv(\n",
    "    filepath_or_buffer=\"../data/여진_total_busdata.csv\"\n",
    "    )"
   ]
  },
  {
   "cell_type": "code",
   "execution_count": 4,
   "metadata": {},
   "outputs": [],
   "source": [
    "## total_busdata \n",
    "pop = pd.read_csv(\n",
    "    filepath_or_buffer=\"../data/노인인구.csv\",\n",
    "    encoding=\"cp949\"\n",
    "    )"
   ]
  },
  {
   "cell_type": "code",
   "execution_count": 5,
   "metadata": {},
   "outputs": [],
   "source": [
    "pop = pop.drop(index=[0,2,3,4,5,6]).reset_index()\n",
    "pop = pop[['행정구역','2024년06월_계_총인구수', '2024년06월_계_연령구간인구수']]"
   ]
  },
  {
   "cell_type": "code",
   "execution_count": 6,
   "metadata": {},
   "outputs": [
    {
     "data": {
      "text/plain": [
       "0     창원시\n",
       "1     진주시\n",
       "2     통영시\n",
       "3     사천시\n",
       "4     김해시\n",
       "5     밀양시\n",
       "6     거제시\n",
       "7     양산시\n",
       "8     의령군\n",
       "9     함안군\n",
       "10    창녕군\n",
       "11    고성군\n",
       "12    남해군\n",
       "13    하동군\n",
       "14    산청군\n",
       "15    함양군\n",
       "16    거창군\n",
       "17    합천군\n",
       "Name: 행정구역, dtype: object"
      ]
     },
     "execution_count": 6,
     "metadata": {},
     "output_type": "execute_result"
    }
   ],
   "source": [
    "pop['행정구역'].apply(lambda x: x.split()[2])"
   ]
  },
  {
   "cell_type": "code",
   "execution_count": 7,
   "metadata": {},
   "outputs": [
    {
     "data": {
      "text/html": [
       "<div>\n",
       "<style scoped>\n",
       "    .dataframe tbody tr th:only-of-type {\n",
       "        vertical-align: middle;\n",
       "    }\n",
       "\n",
       "    .dataframe tbody tr th {\n",
       "        vertical-align: top;\n",
       "    }\n",
       "\n",
       "    .dataframe thead th {\n",
       "        text-align: right;\n",
       "    }\n",
       "</style>\n",
       "<table border=\"1\" class=\"dataframe\">\n",
       "  <thead>\n",
       "    <tr style=\"text-align: right;\">\n",
       "      <th></th>\n",
       "      <th>행정구역</th>\n",
       "      <th>2024년06월_계_총인구수</th>\n",
       "      <th>2024년06월_계_연령구간인구수</th>\n",
       "    </tr>\n",
       "  </thead>\n",
       "  <tbody>\n",
       "    <tr>\n",
       "      <th>0</th>\n",
       "      <td>창원시</td>\n",
       "      <td>1,003,731</td>\n",
       "      <td>276,574</td>\n",
       "    </tr>\n",
       "    <tr>\n",
       "      <th>1</th>\n",
       "      <td>진주시</td>\n",
       "      <td>339,744</td>\n",
       "      <td>96,776</td>\n",
       "    </tr>\n",
       "    <tr>\n",
       "      <th>2</th>\n",
       "      <td>통영시</td>\n",
       "      <td>119,349</td>\n",
       "      <td>41,425</td>\n",
       "    </tr>\n",
       "    <tr>\n",
       "      <th>3</th>\n",
       "      <td>사천시</td>\n",
       "      <td>108,865</td>\n",
       "      <td>37,272</td>\n",
       "    </tr>\n",
       "    <tr>\n",
       "      <th>4</th>\n",
       "      <td>김해시</td>\n",
       "      <td>532,132</td>\n",
       "      <td>119,824</td>\n",
       "    </tr>\n",
       "    <tr>\n",
       "      <th>5</th>\n",
       "      <td>밀양시</td>\n",
       "      <td>101,253</td>\n",
       "      <td>45,759</td>\n",
       "    </tr>\n",
       "    <tr>\n",
       "      <th>6</th>\n",
       "      <td>거제시</td>\n",
       "      <td>232,973</td>\n",
       "      <td>52,643</td>\n",
       "    </tr>\n",
       "    <tr>\n",
       "      <th>7</th>\n",
       "      <td>양산시</td>\n",
       "      <td>356,268</td>\n",
       "      <td>90,708</td>\n",
       "    </tr>\n",
       "    <tr>\n",
       "      <th>8</th>\n",
       "      <td>의령군</td>\n",
       "      <td>25,257</td>\n",
       "      <td>13,664</td>\n",
       "    </tr>\n",
       "    <tr>\n",
       "      <th>9</th>\n",
       "      <td>함안군</td>\n",
       "      <td>59,408</td>\n",
       "      <td>24,473</td>\n",
       "    </tr>\n",
       "    <tr>\n",
       "      <th>10</th>\n",
       "      <td>창녕군</td>\n",
       "      <td>56,487</td>\n",
       "      <td>27,807</td>\n",
       "    </tr>\n",
       "    <tr>\n",
       "      <th>11</th>\n",
       "      <td>고성군</td>\n",
       "      <td>48,660</td>\n",
       "      <td>23,282</td>\n",
       "    </tr>\n",
       "    <tr>\n",
       "      <th>12</th>\n",
       "      <td>남해군</td>\n",
       "      <td>40,303</td>\n",
       "      <td>21,606</td>\n",
       "    </tr>\n",
       "    <tr>\n",
       "      <th>13</th>\n",
       "      <td>하동군</td>\n",
       "      <td>41,154</td>\n",
       "      <td>21,796</td>\n",
       "    </tr>\n",
       "    <tr>\n",
       "      <th>14</th>\n",
       "      <td>산청군</td>\n",
       "      <td>33,514</td>\n",
       "      <td>18,315</td>\n",
       "    </tr>\n",
       "    <tr>\n",
       "      <th>15</th>\n",
       "      <td>함양군</td>\n",
       "      <td>36,503</td>\n",
       "      <td>18,205</td>\n",
       "    </tr>\n",
       "    <tr>\n",
       "      <th>16</th>\n",
       "      <td>거창군</td>\n",
       "      <td>59,867</td>\n",
       "      <td>24,876</td>\n",
       "    </tr>\n",
       "    <tr>\n",
       "      <th>17</th>\n",
       "      <td>합천군</td>\n",
       "      <td>40,756</td>\n",
       "      <td>23,160</td>\n",
       "    </tr>\n",
       "  </tbody>\n",
       "</table>\n",
       "</div>"
      ],
      "text/plain": [
       "   행정구역 2024년06월_계_총인구수 2024년06월_계_연령구간인구수\n",
       "0   창원시       1,003,731            276,574\n",
       "1   진주시         339,744             96,776\n",
       "2   통영시         119,349             41,425\n",
       "3   사천시         108,865             37,272\n",
       "4   김해시         532,132            119,824\n",
       "5   밀양시         101,253             45,759\n",
       "6   거제시         232,973             52,643\n",
       "7   양산시         356,268             90,708\n",
       "8   의령군          25,257             13,664\n",
       "9   함안군          59,408             24,473\n",
       "10  창녕군          56,487             27,807\n",
       "11  고성군          48,660             23,282\n",
       "12  남해군          40,303             21,606\n",
       "13  하동군          41,154             21,796\n",
       "14  산청군          33,514             18,315\n",
       "15  함양군          36,503             18,205\n",
       "16  거창군          59,867             24,876\n",
       "17  합천군          40,756             23,160"
      ]
     },
     "execution_count": 7,
     "metadata": {},
     "output_type": "execute_result"
    }
   ],
   "source": [
    "for i in range(0,18):\n",
    "    pop['행정구역'][i] = pop['행정구역'].str.split()[i][2]\n",
    "\n",
    "pop"
   ]
  },
  {
   "cell_type": "code",
   "execution_count": 8,
   "metadata": {},
   "outputs": [],
   "source": [
    "total = total[['city_name','usage','노선정류장수', '노선거리(km)', '굴곡도']]"
   ]
  },
  {
   "cell_type": "code",
   "execution_count": 9,
   "metadata": {},
   "outputs": [],
   "source": [
    "pop.rename(columns={\"행정구역\" : \"city_name\"}, inplace=True)"
   ]
  },
  {
   "cell_type": "code",
   "execution_count": 10,
   "metadata": {},
   "outputs": [],
   "source": [
    "total_data = pd.merge(total, pop, how=\"left\", on=\"city_name\")"
   ]
  },
  {
   "cell_type": "code",
   "execution_count": 11,
   "metadata": {},
   "outputs": [],
   "source": [
    "total_data.rename(columns={\"2024년06월_계_총인구수\" : \"총인구수\", \n",
    "                           \"2024년06월_계_연령구간인구수\" : \"노인(수)\"}, inplace=True)"
   ]
  },
  {
   "cell_type": "code",
   "execution_count": 12,
   "metadata": {},
   "outputs": [],
   "source": [
    "total_data.to_csv(\"../data/total_data.csv\", index=False)"
   ]
  }
 ],
 "metadata": {
  "kernelspec": {
   "display_name": "gyeongn",
   "language": "python",
   "name": "python3"
  },
  "language_info": {
   "codemirror_mode": {
    "name": "ipython",
    "version": 3
   },
   "file_extension": ".py",
   "mimetype": "text/x-python",
   "name": "python",
   "nbconvert_exporter": "python",
   "pygments_lexer": "ipython3",
   "version": "3.12.4"
  }
 },
 "nbformat": 4,
 "nbformat_minor": 2
}
