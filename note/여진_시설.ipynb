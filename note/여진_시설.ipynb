{
 "cells": [
  {
   "cell_type": "markdown",
   "metadata": {},
   "source": [
    "## 시설 data"
   ]
  },
  {
   "cell_type": "code",
   "execution_count": 13,
   "metadata": {},
   "outputs": [],
   "source": [
    "import requests\n",
    "import pandas as pd\n",
    "import warnings\n",
    "warnings.filterwarnings(\"ignore\")"
   ]
  },
  {
   "cell_type": "code",
   "execution_count": 14,
   "metadata": {},
   "outputs": [],
   "source": [
    "public = pd.read_csv(\n",
    "    filepath_or_buffer = \"../data/공공시설.csv\"\n",
    "    )\n",
    "convenience_facility = pd.read_csv(\n",
    "    filepath_or_buffer = \"../data/생활편익시설.csv\"\n",
    "    )\n",
    "infrastructure = pd.read_csv(\n",
    "    filepath_or_buffer = \"../data/생활인프라시설.csv\"\n",
    "    )\n",
    "medical = pd.read_csv(\n",
    "    filepath_or_buffer = \"../data/의료복지시설.csv\"\n",
    "    )\n",
    "sales = pd.read_csv(\n",
    "    filepath_or_buffer = \"../data/판매시설.csv\"\n",
    "    )\n"
   ]
  },
  {
   "cell_type": "code",
   "execution_count": 15,
   "metadata": {},
   "outputs": [],
   "source": [
    "public['시설구분'] = '공공시설'\n",
    "convenience_facility['시설구분'] = '생활편익시설'\n",
    "infrastructure['시설구분'] = '생활인프라시설'\n",
    "medical['시설구분'] = '의료복지시설'\n",
    "sales['시설구분']='판매시설'"
   ]
  },
  {
   "cell_type": "code",
   "execution_count": 16,
   "metadata": {},
   "outputs": [
    {
     "data": {
      "text/plain": [
       "<bound method NDFrame.head of        시설구분        시설명                         주소          경도         위도\n",
       "0      공공시설      거제소방서             경상남도 거제시 진목로 1  128.686163  34.896160\n",
       "1      공공시설      거창소방서     경상남도 거창군 거창읍 거함대로 3324  127.923447  35.677620\n",
       "2      공공시설      고성소방서    경상남도 고성군 고성읍 남해안대로 2670  128.331066  34.981093\n",
       "3      공공시설    김해동부소방서         경상남도 김해시 김해대로 2507  128.901162  35.228565\n",
       "4      공공시설    김해서부소방서           경상남도 김해시 장유로 341  128.817396  35.196597\n",
       "...     ...        ...                        ...         ...        ...\n",
       "12694  판매시설     장성중앙시장      경상남도 하동군 경서대로 2427-14  127.891709  35.113547\n",
       "12695  판매시설       홍천시장       경상남도 하동군 횡천면 문화2길 24  127.810894  35.109159\n",
       "12696  판매시설  제주시동문재래시장  경상남도 진주시 대곡면 진의로 1079번길 6  128.168556  35.263701\n",
       "12697  판매시설    동문시장(주)   경상남도 함양군 마천면 천왕봉로 1144-2  127.662681  35.395649\n",
       "12698  판매시설     화북종합시장     경상남도 창녕군 이방면 이방대학로35-1         NaN        NaN\n",
       "\n",
       "[12699 rows x 5 columns]>"
      ]
     },
     "execution_count": 16,
     "metadata": {},
     "output_type": "execute_result"
    }
   ],
   "source": [
    "data = pd.concat([public, convenience_facility, infrastructure, medical, sales], axis=0).reset_index(drop=[True])\n",
    "data = data[['시설구분','시설명','주소','경도','위도']]\n",
    "data.head"
   ]
  },
  {
   "cell_type": "code",
   "execution_count": 17,
   "metadata": {},
   "outputs": [],
   "source": [
    "data.to_csv(\"../data/시설.csv\", index=False)"
   ]
  }
 ],
 "metadata": {
  "kernelspec": {
   "display_name": "gyeongn",
   "language": "python",
   "name": "python3"
  },
  "language_info": {
   "codemirror_mode": {
    "name": "ipython",
    "version": 3
   },
   "file_extension": ".py",
   "mimetype": "text/x-python",
   "name": "python",
   "nbconvert_exporter": "python",
   "pygments_lexer": "ipython3",
   "version": "3.12.4"
  }
 },
 "nbformat": 4,
 "nbformat_minor": 2
}
