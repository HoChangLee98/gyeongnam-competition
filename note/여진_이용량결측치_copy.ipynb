{
 "cells": [
  {
   "cell_type": "markdown",
   "metadata": {},
   "source": [
    "## 이용량 결측치 처리"
   ]
  },
  {
   "cell_type": "markdown",
   "metadata": {},
   "source": [
    "#### 노선 이용량을 활용성 지수로 변환\n",
    "* 이용량 결측치 처리 과정에서 더 정확하게 분석하고 시각화한 후 예측\n",
    "* 예측 성능 검증 진행"
   ]
  },
  {
   "cell_type": "code",
   "execution_count": 169,
   "metadata": {},
   "outputs": [],
   "source": [
    "import pandas as pd\n",
    "import warnings\n",
    "warnings.filterwarnings(\"ignore\")"
   ]
  },
  {
   "cell_type": "code",
   "execution_count": 170,
   "metadata": {},
   "outputs": [],
   "source": [
    "meta_data = pd.read_csv(\"../data/total_data.csv\")\n",
    "data = pd.read_csv(\"../data/여진_total_busdata.csv\")"
   ]
  },
  {
   "cell_type": "code",
   "execution_count": 171,
   "metadata": {},
   "outputs": [],
   "source": [
    "data[\"총인구수\"] = meta_data[\"총인구수\"]\n",
    "data[\"노인(수)\"] = meta_data[\"노인(수)\"]\n",
    "data[\"총인구수\"] = data[\"총인구수\"].apply(lambda x: int(x.replace(\",\", \"\")))\n",
    "data[\"노인(수)\"] = data[\"노인(수)\"].apply(lambda x: int(x.replace(\",\", \"\")))"
   ]
  },
  {
   "cell_type": "code",
   "execution_count": 172,
   "metadata": {},
   "outputs": [],
   "source": [
    "data = data[data['city_name'] != '산청군']"
   ]
  },
  {
   "cell_type": "code",
   "execution_count": 173,
   "metadata": {},
   "outputs": [
    {
     "data": {
      "text/plain": [
       "Index(['city_name', 'routeno', 'routetp', 'startnodenm', 'endnodenm',\n",
       "       'startvehicletime', 'endvehicletime', 'intervaltime', 'intervalsattime',\n",
       "       'intervalsuntime', 'usage', '노선정류장수', '노선거리(km)', '굴곡도', 'start', 'end',\n",
       "       'total_operating_time', 'interval_avg', 'num_bus', '총인구수', '노인(수)'],\n",
       "      dtype='object')"
      ]
     },
     "execution_count": 173,
     "metadata": {},
     "output_type": "execute_result"
    }
   ],
   "source": [
    "data.columns"
   ]
  },
  {
   "cell_type": "code",
   "execution_count": 174,
   "metadata": {},
   "outputs": [],
   "source": [
    "use_col = [ \n",
    "    'city_name',\n",
    "    'routetp',\n",
    "    '노선정류장수', \n",
    "    '노선거리(km)', \n",
    "    '굴곡도', \n",
    "    'total_operating_time', \n",
    "    'interval_avg', \n",
    "    'num_bus', \n",
    "    '총인구수', \n",
    "    '노인(수)', \n",
    "    'usage'\n",
    "    ]"
   ]
  },
  {
   "cell_type": "code",
   "execution_count": 175,
   "metadata": {},
   "outputs": [
    {
     "data": {
      "text/html": [
       "<div>\n",
       "<style scoped>\n",
       "    .dataframe tbody tr th:only-of-type {\n",
       "        vertical-align: middle;\n",
       "    }\n",
       "\n",
       "    .dataframe tbody tr th {\n",
       "        vertical-align: top;\n",
       "    }\n",
       "\n",
       "    .dataframe thead th {\n",
       "        text-align: right;\n",
       "    }\n",
       "</style>\n",
       "<table border=\"1\" class=\"dataframe\">\n",
       "  <thead>\n",
       "    <tr style=\"text-align: right;\">\n",
       "      <th></th>\n",
       "      <th>city_name</th>\n",
       "      <th>routetp</th>\n",
       "      <th>노선정류장수</th>\n",
       "      <th>노선거리(km)</th>\n",
       "      <th>굴곡도</th>\n",
       "      <th>total_operating_time</th>\n",
       "      <th>interval_avg</th>\n",
       "      <th>num_bus</th>\n",
       "      <th>총인구수</th>\n",
       "      <th>노인(수)</th>\n",
       "      <th>usage</th>\n",
       "    </tr>\n",
       "  </thead>\n",
       "  <tbody>\n",
       "    <tr>\n",
       "      <th>0</th>\n",
       "      <td>창원시</td>\n",
       "      <td>마을버스</td>\n",
       "      <td>105</td>\n",
       "      <td>55.9</td>\n",
       "      <td>2.0</td>\n",
       "      <td>990.0</td>\n",
       "      <td>40.000000</td>\n",
       "      <td>24</td>\n",
       "      <td>1003731</td>\n",
       "      <td>276574</td>\n",
       "      <td>33931.0</td>\n",
       "    </tr>\n",
       "    <tr>\n",
       "      <th>1</th>\n",
       "      <td>창원시</td>\n",
       "      <td>마을버스</td>\n",
       "      <td>83</td>\n",
       "      <td>53.5</td>\n",
       "      <td>1.7</td>\n",
       "      <td>865.0</td>\n",
       "      <td>170.000000</td>\n",
       "      <td>5</td>\n",
       "      <td>1003731</td>\n",
       "      <td>276574</td>\n",
       "      <td>2558.0</td>\n",
       "    </tr>\n",
       "    <tr>\n",
       "      <th>2</th>\n",
       "      <td>창원시</td>\n",
       "      <td>마을버스</td>\n",
       "      <td>74</td>\n",
       "      <td>43.8</td>\n",
       "      <td>2.6</td>\n",
       "      <td>545.0</td>\n",
       "      <td>220.000000</td>\n",
       "      <td>2</td>\n",
       "      <td>1003731</td>\n",
       "      <td>276574</td>\n",
       "      <td>299.0</td>\n",
       "    </tr>\n",
       "    <tr>\n",
       "      <th>3</th>\n",
       "      <td>창원시</td>\n",
       "      <td>마을버스</td>\n",
       "      <td>35</td>\n",
       "      <td>21.1</td>\n",
       "      <td>1.0</td>\n",
       "      <td>1010.0</td>\n",
       "      <td>12.142857</td>\n",
       "      <td>83</td>\n",
       "      <td>1003731</td>\n",
       "      <td>276574</td>\n",
       "      <td>63612.0</td>\n",
       "    </tr>\n",
       "    <tr>\n",
       "      <th>4</th>\n",
       "      <td>창원시</td>\n",
       "      <td>마을버스</td>\n",
       "      <td>39</td>\n",
       "      <td>8.8</td>\n",
       "      <td>1.8</td>\n",
       "      <td>1000.0</td>\n",
       "      <td>17.000000</td>\n",
       "      <td>58</td>\n",
       "      <td>1003731</td>\n",
       "      <td>276574</td>\n",
       "      <td>68306.0</td>\n",
       "    </tr>\n",
       "  </tbody>\n",
       "</table>\n",
       "</div>"
      ],
      "text/plain": [
       "  city_name routetp  노선정류장수  노선거리(km)  굴곡도  total_operating_time  \\\n",
       "0       창원시    마을버스     105      55.9  2.0                 990.0   \n",
       "1       창원시    마을버스      83      53.5  1.7                 865.0   \n",
       "2       창원시    마을버스      74      43.8  2.6                 545.0   \n",
       "3       창원시    마을버스      35      21.1  1.0                1010.0   \n",
       "4       창원시    마을버스      39       8.8  1.8                1000.0   \n",
       "\n",
       "   interval_avg  num_bus     총인구수   노인(수)    usage  \n",
       "0     40.000000       24  1003731  276574  33931.0  \n",
       "1    170.000000        5  1003731  276574   2558.0  \n",
       "2    220.000000        2  1003731  276574    299.0  \n",
       "3     12.142857       83  1003731  276574  63612.0  \n",
       "4     17.000000       58  1003731  276574  68306.0  "
      ]
     },
     "execution_count": 175,
     "metadata": {},
     "output_type": "execute_result"
    }
   ],
   "source": [
    "df = data[use_col]\n",
    "df.head()"
   ]
  },
  {
   "cell_type": "code",
   "execution_count": 176,
   "metadata": {},
   "outputs": [
    {
     "data": {
      "text/plain": [
       "routetp\n",
       "농어촌(일반)버스    1053\n",
       "일반버스          988\n",
       "지선버스          209\n",
       "간선버스           88\n",
       "좌석버스           58\n",
       "마을버스           48\n",
       "심야버스            2\n",
       "급행버스            1\n",
       "Name: count, dtype: int64"
      ]
     },
     "execution_count": 176,
     "metadata": {},
     "output_type": "execute_result"
    }
   ],
   "source": [
    "df['routetp'].value_counts()"
   ]
  },
  {
   "cell_type": "markdown",
   "metadata": {},
   "source": [
    "### y log 변환"
   ]
  },
  {
   "cell_type": "code",
   "execution_count": 177,
   "metadata": {},
   "outputs": [],
   "source": [
    "df_train = df[~df['usage'].isna()].reset_index()\n",
    "df_test = df[df['usage'].isna()].reset_index()\n",
    "\n",
    "import numpy as np\n",
    "df_train['usage'] = np.log1p(df_train['usage'])"
   ]
  },
  {
   "cell_type": "markdown",
   "metadata": {},
   "source": [
    "### 범주형 변수 전처리 (One-hot Encoding)"
   ]
  },
  {
   "cell_type": "markdown",
   "metadata": {},
   "source": [
    "#### routetp "
   ]
  },
  {
   "cell_type": "code",
   "execution_count": 178,
   "metadata": {},
   "outputs": [],
   "source": [
    "from sklearn.preprocessing import OneHotEncoder\n",
    "import numpy as np\n",
    "\n",
    "t_routetp = df_train['routetp']\n",
    "v_routetp = df_test['routetp']\n",
    "\n",
    "# 전체 데이터에서 고유한 범주를 추출\n",
    "all_routetp = np.unique(df['routetp'])\n",
    "\n",
    "ohe = OneHotEncoder(\n",
    "    categories=[all_routetp],\n",
    "    sparse_output=False\n",
    "    )\n",
    "ohe.fit(t_routetp.values.reshape(-1,1))\n",
    "\n",
    "dense_matrix_tr = ohe.transform(t_routetp.values.reshape(-1,1)) #df_train\n",
    "dense_matrix_val = ohe.transform(v_routetp.values.reshape(-1,1)) #df_test"
   ]
  },
  {
   "cell_type": "code",
   "execution_count": 179,
   "metadata": {},
   "outputs": [],
   "source": [
    "# tdata_train, dense_matrix_tr 데이터 합치기\n",
    "df_train = pd.concat([\n",
    "    df_train.reset_index(drop=True),\n",
    "    pd.DataFrame(dense_matrix_tr, columns=ohe.categories_[0])],\n",
    "    axis=1\n",
    "    )"
   ]
  },
  {
   "cell_type": "code",
   "execution_count": 180,
   "metadata": {},
   "outputs": [],
   "source": [
    "# data_test, dense_matrix_val 데이터 합치기\n",
    "df_test = pd.concat([\n",
    "    df_test.reset_index(drop=True), \n",
    "    pd.DataFrame(dense_matrix_val, columns=ohe.categories_[0])], \n",
    "    axis=1\n",
    "    )"
   ]
  },
  {
   "cell_type": "markdown",
   "metadata": {},
   "source": [
    "#### city_name"
   ]
  },
  {
   "cell_type": "code",
   "execution_count": 181,
   "metadata": {},
   "outputs": [],
   "source": [
    "t_city = df_train['city_name']\n",
    "v_city = df_test['city_name']\n",
    "\n",
    "# 전체 데이터에서 고유한 범주를 추출\n",
    "all_city = np.unique(df['city_name'])\n",
    "\n",
    "ohe = OneHotEncoder(\n",
    "    categories=[all_city],\n",
    "    sparse_output=False\n",
    "    )\n",
    "ohe.fit(t_city.values.reshape(-1,1))\n",
    "\n",
    "dense_matrix_tr = ohe.transform(t_city.values.reshape(-1,1)) #df_train\n",
    "dense_matrix_val = ohe.transform(v_city.values.reshape(-1,1)) #df_test"
   ]
  },
  {
   "cell_type": "code",
   "execution_count": 182,
   "metadata": {},
   "outputs": [],
   "source": [
    "# df_train, dense_matrix_tr 데이터 합치기\n",
    "df_train = pd.concat([\n",
    "    df_train.reset_index(drop=True),\n",
    "    pd.DataFrame(dense_matrix_tr, columns=ohe.categories_[0])],\n",
    "    axis=1\n",
    "    )"
   ]
  },
  {
   "cell_type": "code",
   "execution_count": 183,
   "metadata": {},
   "outputs": [],
   "source": [
    "# df_test, dense_matrix_val 데이터 합치기\n",
    "df_test = pd.concat([\n",
    "    df_test.reset_index(drop=True), \n",
    "    pd.DataFrame(dense_matrix_val, columns=ohe.categories_[0])], \n",
    "    axis=1\n",
    "    )"
   ]
  },
  {
   "cell_type": "code",
   "execution_count": 184,
   "metadata": {},
   "outputs": [],
   "source": [
    "df_train = df_train.drop(columns=['routetp','city_name'])\n",
    "df_test = df_test.drop(columns=['routetp','city_name'])"
   ]
  },
  {
   "cell_type": "code",
   "execution_count": 185,
   "metadata": {},
   "outputs": [
    {
     "data": {
      "text/html": [
       "<div>\n",
       "<style scoped>\n",
       "    .dataframe tbody tr th:only-of-type {\n",
       "        vertical-align: middle;\n",
       "    }\n",
       "\n",
       "    .dataframe tbody tr th {\n",
       "        vertical-align: top;\n",
       "    }\n",
       "\n",
       "    .dataframe thead th {\n",
       "        text-align: right;\n",
       "    }\n",
       "</style>\n",
       "<table border=\"1\" class=\"dataframe\">\n",
       "  <thead>\n",
       "    <tr style=\"text-align: right;\">\n",
       "      <th></th>\n",
       "      <th>index</th>\n",
       "      <th>노선정류장수</th>\n",
       "      <th>노선거리(km)</th>\n",
       "      <th>굴곡도</th>\n",
       "      <th>total_operating_time</th>\n",
       "      <th>interval_avg</th>\n",
       "      <th>num_bus</th>\n",
       "      <th>총인구수</th>\n",
       "      <th>노인(수)</th>\n",
       "      <th>usage</th>\n",
       "      <th>...</th>\n",
       "      <th>양산시</th>\n",
       "      <th>의령군</th>\n",
       "      <th>진주시</th>\n",
       "      <th>창녕군</th>\n",
       "      <th>창원시</th>\n",
       "      <th>통영시</th>\n",
       "      <th>하동군</th>\n",
       "      <th>함안군</th>\n",
       "      <th>함양군</th>\n",
       "      <th>합천군</th>\n",
       "    </tr>\n",
       "  </thead>\n",
       "  <tbody>\n",
       "    <tr>\n",
       "      <th>0</th>\n",
       "      <td>0</td>\n",
       "      <td>105</td>\n",
       "      <td>55.9</td>\n",
       "      <td>2.0</td>\n",
       "      <td>990.0</td>\n",
       "      <td>40.000000</td>\n",
       "      <td>24</td>\n",
       "      <td>1003731</td>\n",
       "      <td>276574</td>\n",
       "      <td>10.432114</td>\n",
       "      <td>...</td>\n",
       "      <td>0.0</td>\n",
       "      <td>0.0</td>\n",
       "      <td>0.0</td>\n",
       "      <td>0.0</td>\n",
       "      <td>1.0</td>\n",
       "      <td>0.0</td>\n",
       "      <td>0.0</td>\n",
       "      <td>0.0</td>\n",
       "      <td>0.0</td>\n",
       "      <td>0.0</td>\n",
       "    </tr>\n",
       "    <tr>\n",
       "      <th>1</th>\n",
       "      <td>1</td>\n",
       "      <td>83</td>\n",
       "      <td>53.5</td>\n",
       "      <td>1.7</td>\n",
       "      <td>865.0</td>\n",
       "      <td>170.000000</td>\n",
       "      <td>5</td>\n",
       "      <td>1003731</td>\n",
       "      <td>276574</td>\n",
       "      <td>7.847372</td>\n",
       "      <td>...</td>\n",
       "      <td>0.0</td>\n",
       "      <td>0.0</td>\n",
       "      <td>0.0</td>\n",
       "      <td>0.0</td>\n",
       "      <td>1.0</td>\n",
       "      <td>0.0</td>\n",
       "      <td>0.0</td>\n",
       "      <td>0.0</td>\n",
       "      <td>0.0</td>\n",
       "      <td>0.0</td>\n",
       "    </tr>\n",
       "    <tr>\n",
       "      <th>2</th>\n",
       "      <td>2</td>\n",
       "      <td>74</td>\n",
       "      <td>43.8</td>\n",
       "      <td>2.6</td>\n",
       "      <td>545.0</td>\n",
       "      <td>220.000000</td>\n",
       "      <td>2</td>\n",
       "      <td>1003731</td>\n",
       "      <td>276574</td>\n",
       "      <td>5.703782</td>\n",
       "      <td>...</td>\n",
       "      <td>0.0</td>\n",
       "      <td>0.0</td>\n",
       "      <td>0.0</td>\n",
       "      <td>0.0</td>\n",
       "      <td>1.0</td>\n",
       "      <td>0.0</td>\n",
       "      <td>0.0</td>\n",
       "      <td>0.0</td>\n",
       "      <td>0.0</td>\n",
       "      <td>0.0</td>\n",
       "    </tr>\n",
       "    <tr>\n",
       "      <th>3</th>\n",
       "      <td>3</td>\n",
       "      <td>35</td>\n",
       "      <td>21.1</td>\n",
       "      <td>1.0</td>\n",
       "      <td>1010.0</td>\n",
       "      <td>12.142857</td>\n",
       "      <td>83</td>\n",
       "      <td>1003731</td>\n",
       "      <td>276574</td>\n",
       "      <td>11.060573</td>\n",
       "      <td>...</td>\n",
       "      <td>0.0</td>\n",
       "      <td>0.0</td>\n",
       "      <td>0.0</td>\n",
       "      <td>0.0</td>\n",
       "      <td>1.0</td>\n",
       "      <td>0.0</td>\n",
       "      <td>0.0</td>\n",
       "      <td>0.0</td>\n",
       "      <td>0.0</td>\n",
       "      <td>0.0</td>\n",
       "    </tr>\n",
       "    <tr>\n",
       "      <th>4</th>\n",
       "      <td>4</td>\n",
       "      <td>39</td>\n",
       "      <td>8.8</td>\n",
       "      <td>1.8</td>\n",
       "      <td>1000.0</td>\n",
       "      <td>17.000000</td>\n",
       "      <td>58</td>\n",
       "      <td>1003731</td>\n",
       "      <td>276574</td>\n",
       "      <td>11.131768</td>\n",
       "      <td>...</td>\n",
       "      <td>0.0</td>\n",
       "      <td>0.0</td>\n",
       "      <td>0.0</td>\n",
       "      <td>0.0</td>\n",
       "      <td>1.0</td>\n",
       "      <td>0.0</td>\n",
       "      <td>0.0</td>\n",
       "      <td>0.0</td>\n",
       "      <td>0.0</td>\n",
       "      <td>0.0</td>\n",
       "    </tr>\n",
       "  </tbody>\n",
       "</table>\n",
       "<p>5 rows × 35 columns</p>\n",
       "</div>"
      ],
      "text/plain": [
       "   index  노선정류장수  노선거리(km)  굴곡도  total_operating_time  interval_avg  num_bus  \\\n",
       "0      0     105      55.9  2.0                 990.0     40.000000       24   \n",
       "1      1      83      53.5  1.7                 865.0    170.000000        5   \n",
       "2      2      74      43.8  2.6                 545.0    220.000000        2   \n",
       "3      3      35      21.1  1.0                1010.0     12.142857       83   \n",
       "4      4      39       8.8  1.8                1000.0     17.000000       58   \n",
       "\n",
       "      총인구수   노인(수)      usage  ...  양산시  의령군  진주시  창녕군  창원시  통영시  하동군  함안군  \\\n",
       "0  1003731  276574  10.432114  ...  0.0  0.0  0.0  0.0  1.0  0.0  0.0  0.0   \n",
       "1  1003731  276574   7.847372  ...  0.0  0.0  0.0  0.0  1.0  0.0  0.0  0.0   \n",
       "2  1003731  276574   5.703782  ...  0.0  0.0  0.0  0.0  1.0  0.0  0.0  0.0   \n",
       "3  1003731  276574  11.060573  ...  0.0  0.0  0.0  0.0  1.0  0.0  0.0  0.0   \n",
       "4  1003731  276574  11.131768  ...  0.0  0.0  0.0  0.0  1.0  0.0  0.0  0.0   \n",
       "\n",
       "   함양군  합천군  \n",
       "0  0.0  0.0  \n",
       "1  0.0  0.0  \n",
       "2  0.0  0.0  \n",
       "3  0.0  0.0  \n",
       "4  0.0  0.0  \n",
       "\n",
       "[5 rows x 35 columns]"
      ]
     },
     "execution_count": 185,
     "metadata": {},
     "output_type": "execute_result"
    }
   ],
   "source": [
    "df_train.head()"
   ]
  },
  {
   "cell_type": "code",
   "execution_count": 186,
   "metadata": {},
   "outputs": [
    {
     "data": {
      "text/html": [
       "<div>\n",
       "<style scoped>\n",
       "    .dataframe tbody tr th:only-of-type {\n",
       "        vertical-align: middle;\n",
       "    }\n",
       "\n",
       "    .dataframe tbody tr th {\n",
       "        vertical-align: top;\n",
       "    }\n",
       "\n",
       "    .dataframe thead th {\n",
       "        text-align: right;\n",
       "    }\n",
       "</style>\n",
       "<table border=\"1\" class=\"dataframe\">\n",
       "  <thead>\n",
       "    <tr style=\"text-align: right;\">\n",
       "      <th></th>\n",
       "      <th>index</th>\n",
       "      <th>노선정류장수</th>\n",
       "      <th>노선거리(km)</th>\n",
       "      <th>굴곡도</th>\n",
       "      <th>total_operating_time</th>\n",
       "      <th>interval_avg</th>\n",
       "      <th>num_bus</th>\n",
       "      <th>총인구수</th>\n",
       "      <th>노인(수)</th>\n",
       "      <th>usage</th>\n",
       "      <th>...</th>\n",
       "      <th>양산시</th>\n",
       "      <th>의령군</th>\n",
       "      <th>진주시</th>\n",
       "      <th>창녕군</th>\n",
       "      <th>창원시</th>\n",
       "      <th>통영시</th>\n",
       "      <th>하동군</th>\n",
       "      <th>함안군</th>\n",
       "      <th>함양군</th>\n",
       "      <th>합천군</th>\n",
       "    </tr>\n",
       "  </thead>\n",
       "  <tbody>\n",
       "    <tr>\n",
       "      <th>0</th>\n",
       "      <td>141</td>\n",
       "      <td>33</td>\n",
       "      <td>15.2</td>\n",
       "      <td>2.5</td>\n",
       "      <td>425.0</td>\n",
       "      <td>94.857143</td>\n",
       "      <td>4</td>\n",
       "      <td>1003731</td>\n",
       "      <td>276574</td>\n",
       "      <td>NaN</td>\n",
       "      <td>...</td>\n",
       "      <td>0.0</td>\n",
       "      <td>0.0</td>\n",
       "      <td>0.0</td>\n",
       "      <td>0.0</td>\n",
       "      <td>1.0</td>\n",
       "      <td>0.0</td>\n",
       "      <td>0.0</td>\n",
       "      <td>0.0</td>\n",
       "      <td>0.0</td>\n",
       "      <td>0.0</td>\n",
       "    </tr>\n",
       "    <tr>\n",
       "      <th>1</th>\n",
       "      <td>142</td>\n",
       "      <td>33</td>\n",
       "      <td>15.1</td>\n",
       "      <td>4.4</td>\n",
       "      <td>445.0</td>\n",
       "      <td>88.857143</td>\n",
       "      <td>5</td>\n",
       "      <td>1003731</td>\n",
       "      <td>276574</td>\n",
       "      <td>NaN</td>\n",
       "      <td>...</td>\n",
       "      <td>0.0</td>\n",
       "      <td>0.0</td>\n",
       "      <td>0.0</td>\n",
       "      <td>0.0</td>\n",
       "      <td>1.0</td>\n",
       "      <td>0.0</td>\n",
       "      <td>0.0</td>\n",
       "      <td>0.0</td>\n",
       "      <td>0.0</td>\n",
       "      <td>0.0</td>\n",
       "    </tr>\n",
       "    <tr>\n",
       "      <th>2</th>\n",
       "      <td>143</td>\n",
       "      <td>35</td>\n",
       "      <td>17.4</td>\n",
       "      <td>2.3</td>\n",
       "      <td>425.0</td>\n",
       "      <td>94.857143</td>\n",
       "      <td>4</td>\n",
       "      <td>1003731</td>\n",
       "      <td>276574</td>\n",
       "      <td>NaN</td>\n",
       "      <td>...</td>\n",
       "      <td>0.0</td>\n",
       "      <td>0.0</td>\n",
       "      <td>0.0</td>\n",
       "      <td>0.0</td>\n",
       "      <td>1.0</td>\n",
       "      <td>0.0</td>\n",
       "      <td>0.0</td>\n",
       "      <td>0.0</td>\n",
       "      <td>0.0</td>\n",
       "      <td>0.0</td>\n",
       "    </tr>\n",
       "    <tr>\n",
       "      <th>3</th>\n",
       "      <td>144</td>\n",
       "      <td>33</td>\n",
       "      <td>15.8</td>\n",
       "      <td>4.4</td>\n",
       "      <td>445.0</td>\n",
       "      <td>88.857143</td>\n",
       "      <td>5</td>\n",
       "      <td>1003731</td>\n",
       "      <td>276574</td>\n",
       "      <td>NaN</td>\n",
       "      <td>...</td>\n",
       "      <td>0.0</td>\n",
       "      <td>0.0</td>\n",
       "      <td>0.0</td>\n",
       "      <td>0.0</td>\n",
       "      <td>1.0</td>\n",
       "      <td>0.0</td>\n",
       "      <td>0.0</td>\n",
       "      <td>0.0</td>\n",
       "      <td>0.0</td>\n",
       "      <td>0.0</td>\n",
       "    </tr>\n",
       "    <tr>\n",
       "      <th>4</th>\n",
       "      <td>145</td>\n",
       "      <td>31</td>\n",
       "      <td>10.8</td>\n",
       "      <td>4.7</td>\n",
       "      <td>137.0</td>\n",
       "      <td>40.000000</td>\n",
       "      <td>3</td>\n",
       "      <td>1003731</td>\n",
       "      <td>276574</td>\n",
       "      <td>NaN</td>\n",
       "      <td>...</td>\n",
       "      <td>0.0</td>\n",
       "      <td>0.0</td>\n",
       "      <td>0.0</td>\n",
       "      <td>0.0</td>\n",
       "      <td>1.0</td>\n",
       "      <td>0.0</td>\n",
       "      <td>0.0</td>\n",
       "      <td>0.0</td>\n",
       "      <td>0.0</td>\n",
       "      <td>0.0</td>\n",
       "    </tr>\n",
       "  </tbody>\n",
       "</table>\n",
       "<p>5 rows × 35 columns</p>\n",
       "</div>"
      ],
      "text/plain": [
       "   index  노선정류장수  노선거리(km)  굴곡도  total_operating_time  interval_avg  num_bus  \\\n",
       "0    141      33      15.2  2.5                 425.0     94.857143        4   \n",
       "1    142      33      15.1  4.4                 445.0     88.857143        5   \n",
       "2    143      35      17.4  2.3                 425.0     94.857143        4   \n",
       "3    144      33      15.8  4.4                 445.0     88.857143        5   \n",
       "4    145      31      10.8  4.7                 137.0     40.000000        3   \n",
       "\n",
       "      총인구수   노인(수)  usage  ...  양산시  의령군  진주시  창녕군  창원시  통영시  하동군  함안군  함양군  \\\n",
       "0  1003731  276574    NaN  ...  0.0  0.0  0.0  0.0  1.0  0.0  0.0  0.0  0.0   \n",
       "1  1003731  276574    NaN  ...  0.0  0.0  0.0  0.0  1.0  0.0  0.0  0.0  0.0   \n",
       "2  1003731  276574    NaN  ...  0.0  0.0  0.0  0.0  1.0  0.0  0.0  0.0  0.0   \n",
       "3  1003731  276574    NaN  ...  0.0  0.0  0.0  0.0  1.0  0.0  0.0  0.0  0.0   \n",
       "4  1003731  276574    NaN  ...  0.0  0.0  0.0  0.0  1.0  0.0  0.0  0.0  0.0   \n",
       "\n",
       "   합천군  \n",
       "0  0.0  \n",
       "1  0.0  \n",
       "2  0.0  \n",
       "3  0.0  \n",
       "4  0.0  \n",
       "\n",
       "[5 rows x 35 columns]"
      ]
     },
     "execution_count": 186,
     "metadata": {},
     "output_type": "execute_result"
    }
   ],
   "source": [
    "df_test.head()"
   ]
  },
  {
   "cell_type": "markdown",
   "metadata": {},
   "source": [
    "### 연속형 변수 전처리"
   ]
  },
  {
   "cell_type": "code",
   "execution_count": 187,
   "metadata": {},
   "outputs": [],
   "source": [
    "col = [ \n",
    "    '노선정류장수', \n",
    "    '노선거리(km)', \n",
    "    '굴곡도', \n",
    "    'total_operating_time', \n",
    "    'interval_avg', \n",
    "    'num_bus', \n",
    "    '총인구수', \n",
    "    '노인(수)'\n",
    "    ]"
   ]
  },
  {
   "cell_type": "code",
   "execution_count": 188,
   "metadata": {},
   "outputs": [],
   "source": [
    "# standardaxscaler 사용\n",
    "from sklearn.preprocessing import MinMaxScaler, StandardScaler\n",
    "\n",
    "scaler = StandardScaler()\n",
    "scaler.fit(df_train[col])\n",
    "\n",
    "df_train[col] = scaler.transform(df_train[col])\n",
    "df_test[col] = scaler.transform(df_test[col])"
   ]
  },
  {
   "cell_type": "markdown",
   "metadata": {},
   "source": [
    "#### MICE 성능비교"
   ]
  },
  {
   "cell_type": "code",
   "execution_count": 189,
   "metadata": {},
   "outputs": [],
   "source": [
    "#from impyute.imputation.cs import mice\n",
    "from sklearn.experimental import enable_iterative_imputer\n",
    "from sklearn.impute import IterativeImputer\n",
    "from sklearn.model_selection import train_test_split\n",
    "from sklearn.metrics import mean_squared_error"
   ]
  },
  {
   "cell_type": "markdown",
   "metadata": {},
   "source": [
    "#### 정량적 (통계적 수치)"
   ]
  },
  {
   "cell_type": "code",
   "execution_count": 190,
   "metadata": {},
   "outputs": [],
   "source": [
    "imputer = IterativeImputer(random_state=0)\n",
    "imputer.fit(df_train.drop(columns=[\"index\"]))\n",
    "\n",
    "impute_test = pd.DataFrame(\n",
    "    imputer.transform(df_test.drop(columns=[\"index\"]))\n",
    "    )\n",
    "impute_test = pd.concat([df_test[\"index\"], impute_test], axis=1, ignore_index=True)\n",
    "impute_test.columns = df_test.columns\n",
    "impute_test = impute_test.set_index(\"index\")\n",
    "impute_test[\"usage\"] = np.expm1(impute_test[\"usage\"]).round(0)\n",
    "usage_min = impute_test[impute_test[\"usage\"] >= 0][\"usage\"].min()\n",
    "impute_test.loc[impute_test[\"usage\"] < 0, \"usage\"] = usage_min"
   ]
  },
  {
   "cell_type": "code",
   "execution_count": 191,
   "metadata": {},
   "outputs": [
    {
     "data": {
      "text/plain": [
       "노선정류장수                  0\n",
       "노선거리(km)                0\n",
       "굴곡도                     0\n",
       "total_operating_time    0\n",
       "interval_avg            0\n",
       "num_bus                 0\n",
       "총인구수                    0\n",
       "노인(수)                   0\n",
       "usage                   0\n",
       "간선버스                    0\n",
       "급행버스                    0\n",
       "농어촌(일반)버스               0\n",
       "마을버스                    0\n",
       "심야버스                    0\n",
       "일반버스                    0\n",
       "좌석버스                    0\n",
       "지선버스                    0\n",
       "거제시                     0\n",
       "거창군                     0\n",
       "고성군                     0\n",
       "김해시                     0\n",
       "남해군                     0\n",
       "밀양시                     0\n",
       "사천시                     0\n",
       "양산시                     0\n",
       "의령군                     0\n",
       "진주시                     0\n",
       "창녕군                     0\n",
       "창원시                     0\n",
       "통영시                     0\n",
       "하동군                     0\n",
       "함안군                     0\n",
       "함양군                     0\n",
       "합천군                     0\n",
       "dtype: int64"
      ]
     },
     "execution_count": 191,
     "metadata": {},
     "output_type": "execute_result"
    }
   ],
   "source": [
    "impute_test.isna().sum()"
   ]
  },
  {
   "cell_type": "code",
   "execution_count": 192,
   "metadata": {},
   "outputs": [
    {
     "data": {
      "text/plain": [
       "count     1271.000000\n",
       "mean      1466.782061\n",
       "std       3929.030961\n",
       "min         44.000000\n",
       "25%        146.000000\n",
       "50%        306.000000\n",
       "75%       1370.000000\n",
       "max      89711.000000\n",
       "Name: usage, dtype: float64"
      ]
     },
     "execution_count": 192,
     "metadata": {},
     "output_type": "execute_result"
    }
   ],
   "source": [
    "impute_test[\"usage\"].describe()"
   ]
  },
  {
   "cell_type": "code",
   "execution_count": 193,
   "metadata": {},
   "outputs": [
    {
     "data": {
      "text/plain": [
       "<matplotlib.legend.Legend at 0x2648bc0f3e0>"
      ]
     },
     "execution_count": 193,
     "metadata": {},
     "output_type": "execute_result"
    },
    {
     "data": {
      "image/png": "[encoded data removed]",
      "text/plain": [
       "<Figure size 640x480 with 1 Axes>"
      ]
     },
     "metadata": {},
     "output_type": "display_data"
    }
   ],
   "source": [
    "import seaborn as sns\n",
    "import matplotlib.pyplot as plt\n",
    "sns.kdeplot(data[\"usage\"], color=\"r\", label=\"Train\")\n",
    "sns.kdeplot(impute_test[\"usage\"], color=\"b\", label=\"Test\")\n",
    "plt.legend()"
   ]
  },
  {
   "cell_type": "code",
   "execution_count": 194,
   "metadata": {},
   "outputs": [],
   "source": [
    "data.loc[impute_test.index, \"usage\"] = impute_test[\"usage\"]"
   ]
  },
  {
   "cell_type": "code",
   "execution_count": 195,
   "metadata": {},
   "outputs": [
    {
     "data": {
      "text/html": [
       "<div>\n",
       "<style scoped>\n",
       "    .dataframe tbody tr th:only-of-type {\n",
       "        vertical-align: middle;\n",
       "    }\n",
       "\n",
       "    .dataframe tbody tr th {\n",
       "        vertical-align: top;\n",
       "    }\n",
       "\n",
       "    .dataframe thead th {\n",
       "        text-align: right;\n",
       "    }\n",
       "</style>\n",
       "<table border=\"1\" class=\"dataframe\">\n",
       "  <thead>\n",
       "    <tr style=\"text-align: right;\">\n",
       "      <th></th>\n",
       "      <th>city_name</th>\n",
       "      <th>routeno</th>\n",
       "      <th>routetp</th>\n",
       "      <th>startnodenm</th>\n",
       "      <th>endnodenm</th>\n",
       "      <th>startvehicletime</th>\n",
       "      <th>endvehicletime</th>\n",
       "      <th>intervaltime</th>\n",
       "      <th>intervalsattime</th>\n",
       "      <th>intervalsuntime</th>\n",
       "      <th>...</th>\n",
       "      <th>노선정류장수</th>\n",
       "      <th>노선거리(km)</th>\n",
       "      <th>굴곡도</th>\n",
       "      <th>start</th>\n",
       "      <th>end</th>\n",
       "      <th>total_operating_time</th>\n",
       "      <th>interval_avg</th>\n",
       "      <th>num_bus</th>\n",
       "      <th>총인구수</th>\n",
       "      <th>노인(수)</th>\n",
       "    </tr>\n",
       "  </thead>\n",
       "  <tbody>\n",
       "  </tbody>\n",
       "</table>\n",
       "<p>0 rows × 21 columns</p>\n",
       "</div>"
      ],
      "text/plain": [
       "Empty DataFrame\n",
       "Columns: [city_name, routeno, routetp, startnodenm, endnodenm, startvehicletime, endvehicletime, intervaltime, intervalsattime, intervalsuntime, usage, 노선정류장수, 노선거리(km), 굴곡도, start, end, total_operating_time, interval_avg, num_bus, 총인구수, 노인(수)]\n",
       "Index: []\n",
       "\n",
       "[0 rows x 21 columns]"
      ]
     },
     "execution_count": 195,
     "metadata": {},
     "output_type": "execute_result"
    }
   ],
   "source": [
    "data[data[\"usage\"].isna()]"
   ]
  },
  {
   "cell_type": "code",
   "execution_count": 196,
   "metadata": {},
   "outputs": [
    {
     "data": {
      "text/plain": [
       "<matplotlib.legend.Legend at 0x2648c001a30>"
      ]
     },
     "execution_count": 196,
     "metadata": {},
     "output_type": "execute_result"
    },
    {
     "data": {
      "image/png": "[encoded data removed]",
      "text/plain": [
       "<Figure size 640x480 with 1 Axes>"
      ]
     },
     "metadata": {},
     "output_type": "display_data"
    }
   ],
   "source": [
    "sns.kdeplot(data[\"usage\"], color=\"r\", label=\"all\")\n",
    "plt.legend()"
   ]
  },
  {
   "cell_type": "code",
   "execution_count": 197,
   "metadata": {},
   "outputs": [],
   "source": [
    "data.to_csv(\"../data/usage.csv\", index=False)"
   ]
  }
 ],
 "metadata": {
  "kernelspec": {
   "display_name": "Python 3",
   "language": "python",
   "name": "python3"
  },
  "language_info": {
   "codemirror_mode": {
    "name": "ipython",
    "version": 3
   },
   "file_extension": ".py",
   "mimetype": "text/x-python",
   "name": "python",
   "nbconvert_exporter": "python",
   "pygments_lexer": "ipython3",
   "version": "3.12.4"
  }
 },
 "nbformat": 4,
 "nbformat_minor": 2
}
