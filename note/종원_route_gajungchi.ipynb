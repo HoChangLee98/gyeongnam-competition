{
 "cells": [
  {
   "cell_type": "code",
   "execution_count": 2,
   "metadata": {},
   "outputs": [],
   "source": [
    "import pandas as pd\n"
   ]
  },
  {
   "cell_type": "code",
   "execution_count": 30,
   "metadata": {},
   "outputs": [],
   "source": [
    "bus_route = pd.read_csv(\"../data/정류소_노선.csv\")\n",
    "bus_weight1 = pd.read_csv(\"../data/usage.csv\")\n",
    "total_data = pd.read_csv(\"../data/busstop.csv\")"
   ]
  },
  {
   "cell_type": "code",
   "execution_count": 2,
   "metadata": {},
   "outputs": [],
   "source": [
    "bus_weight = pd.DataFrame({\"routeid1\" :bus_weight1[\"routeid\"], \"weight\" :bus_weight1[\"usage\"]})\n",
    "\n",
    "# routeid1 열을 explode하여 개별 routeid로 분리\n",
    "exploded_bus_route = bus_route.explode('routeid1').reset_index(drop=True)\n",
    "\n",
    "# bus_route와 bus_weight를 routeid1 기준으로 병합\n",
    "merged_df = pd.merge(exploded_bus_route, bus_weight, on=\"routeid1\", how=\"left\")\n",
    "\n",
    "# nodeid1별로 weight를 합산\n",
    "nodeid1_weight = merged_df.groupby('nodeid1')['weight'].sum().reset_index()\n",
    "\n",
    "\n",
    "## 기존 총데이터에 가중치 추가\n",
    "\n",
    "total_data = pd.merge(total_data, nodeid1_weight, on='nodeid1', how='left') \n",
    "\n",
    "\n",
    "\n",
    "\n",
    "\n",
    "# 결과를 bus_route에 병합하여 가중치 업데이트\n",
    "# 먼저 bus_route를 explode하여 각 nodeid1에 대한 weight를 병합\n",
    "#bus_route_exploded = bus_route.explode('routeid1').reset_index(drop=True)\n",
    "#bus_route_with_weight = pd.merge(bus_route_exploded, bus_weight, on='routeid1', how='left')\n",
    "\n",
    "# 원래 형태로 복구하면서 nodeid1별 weight를 합산\n",
    "#final_result = bus_route_with_weight.groupby(['rigeon1', 'nodeid1']).agg({\n",
    "#    'routeid1': lambda x: list(x),\n",
    "#    'weight': 'sum'\n",
    "#}).reset_index()\n"
   ]
  },
  {
   "cell_type": "code",
   "execution_count": null,
   "metadata": {},
   "outputs": [],
   "source": [
    "total_data"
   ]
  }
 ],
 "metadata": {
  "kernelspec": {
   "display_name": "gyeongn",
   "language": "python",
   "name": "python3"
  },
  "language_info": {
   "codemirror_mode": {
    "name": "ipython",
    "version": 3
   },
   "file_extension": ".py",
   "mimetype": "text/x-python",
   "name": "python",
   "nbconvert_exporter": "python",
   "pygments_lexer": "ipython3",
   "version": "3.12.4"
  }
 },
 "nbformat": 4,
 "nbformat_minor": 2
}
