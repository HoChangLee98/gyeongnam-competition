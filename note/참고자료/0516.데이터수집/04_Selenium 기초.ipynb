{
 "cells": [
  {
   "cell_type": "markdown",
   "id": "51e0465f-84a9-4958-8ad2-ef393faa1ebd",
   "metadata": {},
   "source": [
    "## [04] Selenium 라이브러리 기초\n",
    "\n",
    "### Selenium 및 웹 드라이버 설치\n"
   ]
  },
  {
   "cell_type": "code",
   "execution_count": 1,
   "id": "e4347192-c446-44af-8dec-f920442d5358",
   "metadata": {},
   "outputs": [
    {
     "name": "stdout",
     "output_type": "stream",
     "text": [
      "Collecting selenium\n",
      "  Downloading selenium-4.20.0-py3-none-any.whl (9.5 MB)\n",
      "     ---------------------------------------- 9.5/9.5 MB 12.2 MB/s eta 0:00:00\n",
      "Requirement already satisfied: urllib3[socks]<3,>=1.26 in c:\\users\\ghckd\\anaconda3\\lib\\site-packages (from selenium) (1.26.11)\n",
      "Collecting trio-websocket~=0.9\n",
      "  Downloading trio_websocket-0.11.1-py3-none-any.whl (17 kB)\n",
      "Requirement already satisfied: certifi>=2021.10.8 in c:\\users\\ghckd\\anaconda3\\lib\\site-packages (from selenium) (2023.11.17)\n",
      "Collecting trio~=0.17\n",
      "  Downloading trio-0.25.0-py3-none-any.whl (467 kB)\n",
      "     ------------------------------------- 467.2/467.2 kB 30.5 MB/s eta 0:00:00\n",
      "Collecting typing_extensions>=4.9.0\n",
      "  Downloading typing_extensions-4.11.0-py3-none-any.whl (34 kB)\n",
      "Collecting outcome\n",
      "  Downloading outcome-1.3.0.post0-py2.py3-none-any.whl (10 kB)\n",
      "Requirement already satisfied: idna in c:\\users\\ghckd\\anaconda3\\lib\\site-packages (from trio~=0.17->selenium) (3.3)\n",
      "Requirement already satisfied: cffi>=1.14 in c:\\users\\ghckd\\anaconda3\\lib\\site-packages (from trio~=0.17->selenium) (1.15.1)\n",
      "Collecting sniffio>=1.3.0\n",
      "  Downloading sniffio-1.3.1-py3-none-any.whl (10 kB)\n",
      "Collecting attrs>=23.2.0\n",
      "  Downloading attrs-23.2.0-py3-none-any.whl (60 kB)\n",
      "     ---------------------------------------- 60.8/60.8 kB ? eta 0:00:00\n",
      "Requirement already satisfied: sortedcontainers in c:\\users\\ghckd\\anaconda3\\lib\\site-packages (from trio~=0.17->selenium) (2.4.0)\n",
      "Collecting exceptiongroup\n",
      "  Downloading exceptiongroup-1.2.1-py3-none-any.whl (16 kB)\n",
      "Collecting wsproto>=0.14\n",
      "  Downloading wsproto-1.2.0-py3-none-any.whl (24 kB)\n",
      "Requirement already satisfied: PySocks!=1.5.7,<2.0,>=1.5.6 in c:\\users\\ghckd\\anaconda3\\lib\\site-packages (from urllib3[socks]<3,>=1.26->selenium) (1.7.1)\n",
      "Requirement already satisfied: pycparser in c:\\users\\ghckd\\anaconda3\\lib\\site-packages (from cffi>=1.14->trio~=0.17->selenium) (2.21)\n",
      "Collecting h11<1,>=0.9.0\n",
      "  Using cached h11-0.14.0-py3-none-any.whl (58 kB)\n",
      "Installing collected packages: typing_extensions, sniffio, h11, exceptiongroup, attrs, wsproto, outcome, trio, trio-websocket, selenium\n",
      "  Attempting uninstall: typing_extensions\n",
      "    Found existing installation: typing_extensions 4.3.0\n",
      "    Uninstalling typing_extensions-4.3.0:\n",
      "      Successfully uninstalled typing_extensions-4.3.0\n",
      "  Attempting uninstall: sniffio\n",
      "    Found existing installation: sniffio 1.2.0\n",
      "    Uninstalling sniffio-1.2.0:\n",
      "      Successfully uninstalled sniffio-1.2.0\n",
      "  Attempting uninstall: attrs\n",
      "    Found existing installation: attrs 21.4.0\n",
      "    Uninstalling attrs-21.4.0:\n",
      "      Successfully uninstalled attrs-21.4.0\n",
      "Successfully installed attrs-23.2.0 exceptiongroup-1.2.1 h11-0.14.0 outcome-1.3.0.post0 selenium-4.20.0 sniffio-1.3.1 trio-0.25.0 trio-websocket-0.11.1 typing_extensions-4.11.0 wsproto-1.2.0\n"
     ]
    }
   ],
   "source": [
    "! pip install selenium"
   ]
  },
  {
   "cell_type": "code",
   "execution_count": 2,
   "id": "d6988272-a1c9-4e4e-abcf-032f554c0cf9",
   "metadata": {},
   "outputs": [],
   "source": [
    "### 웹 드라이버 객체 생성\n",
    "from selenium import webdriver as wb\n",
    "from selenium.webdriver.common.by import By\n",
    "driver = wb.Chrome()"
   ]
  },
  {
   "cell_type": "markdown",
   "id": "171399e8-5602-49e9-ac16-f5dc1037a270",
   "metadata": {},
   "source": [
    "### selenium 실행"
   ]
  },
  {
   "cell_type": "code",
   "execution_count": 3,
   "id": "4a96d859-7d4d-479c-8335-aa61d91b1ef1",
   "metadata": {},
   "outputs": [],
   "source": [
    "driver.get(\"https://www.busan.go.kr/index\")"
   ]
  },
  {
   "cell_type": "code",
   "execution_count": 5,
   "id": "96b3db0d-d113-4c92-a223-05dd50bdbe07",
   "metadata": {},
   "outputs": [
    {
     "data": {
      "text/plain": [
       "True"
      ]
     },
     "execution_count": 5,
     "metadata": {},
     "output_type": "execute_result"
    }
   ],
   "source": [
    "driver.get_screenshot_as_file(\"busawebsite.png\")"
   ]
  },
  {
   "cell_type": "markdown",
   "id": "d7b64c9b",
   "metadata": {},
   "source": [
    "find_element(By.ID, \"ID값\")  \n",
    "find_element(By.CSS_SELECTOR, \"#클래스값 .아이디값\")  \n",
    "find_element(By.NAME, \"NAME값\")  \n",
    "find_element(By.XPATH, \"XPATH값\")  \n",
    "find_element(By.LINK_TEXT, \"링크걸린텍스트값\")  \n",
    "find_element(By.PARTIAL_LINK_TEXT, \"부분링크걸린텍스트값\")  \n",
    "find_element(By.TAG_NAME, \"태그값(div, li, span ...)\")  "
   ]
  },
  {
   "cell_type": "code",
   "execution_count": 6,
   "id": "c8ad1d6e-116d-482a-8076-51a072535f1f",
   "metadata": {},
   "outputs": [
    {
     "name": "stdout",
     "output_type": "stream",
     "text": [
      "동백꽃\n",
      "갈매기\n",
      "고등어\n"
     ]
    }
   ],
   "source": [
    "driver.get(\"https://www.busan.go.kr/bhareasymbol\")\n",
    "\n",
    "for symbol in driver.find_elements(By.TAG_NAME, 'h4'):\n",
    "    print(symbol.text)"
   ]
  },
  {
   "cell_type": "code",
   "execution_count": 7,
   "id": "3904703e-a6ed-4ed8-82e4-b0cd6909e3fb",
   "metadata": {},
   "outputs": [
    {
     "name": "stdout",
     "output_type": "stream",
     "text": [
      "동백꽃\n",
      "갈매기\n",
      "고등어\n"
     ]
    }
   ],
   "source": [
    "for symbol in driver.find_elements(By.CSS_SELECTOR, '#contents > div.content > h4'):\n",
    "    print(symbol.text)"
   ]
  },
  {
   "cell_type": "code",
   "execution_count": null,
   "id": "bba7cc17-5593-4986-99db-671e5e1c25f5",
   "metadata": {},
   "outputs": [],
   "source": []
  }
 ],
 "metadata": {
  "kernelspec": {
   "display_name": "Python 3 (ipykernel)",
   "language": "python",
   "name": "python3"
  },
  "language_info": {
   "codemirror_mode": {
    "name": "ipython",
    "version": 3
   },
   "file_extension": ".py",
   "mimetype": "text/x-python",
   "name": "python",
   "nbconvert_exporter": "python",
   "pygments_lexer": "ipython3",
   "version": "3.9.18"
  }
 },
 "nbformat": 4,
 "nbformat_minor": 5
}
