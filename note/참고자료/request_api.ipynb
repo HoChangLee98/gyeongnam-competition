{
 "cells": [
  {
   "cell_type": "code",
   "execution_count": null,
   "metadata": {},
   "outputs": [],
   "source": [
    "import requests\n",
    "import pandas as pd\n",
    "\n",
    "# API 엔드포인트\n",
    "apiurl = \"https://api.vworld.kr/req/address?\"\n",
    "\n",
    "# API 키\n",
    "api_key = \"F3F5B655-C2E6-34F1-9C68-4221FE168EC0\"\n",
    "\n",
    "# # 주소가 포함된 데이터프레임 예시\n",
    "# data = {\n",
    "#     \"주소\": [\"서울특별시 강남구 테헤란로 123\", \"부산광역시 해운대구 우동 123\"]\n",
    "# }\n",
    "\n",
    "# df = pd.DataFrame(data)\n",
    "\n",
    "# 좌표 정보를 저장할 빈 리스트 생성\n",
    "coordinates = []\n",
    "\n",
    "# 데이터프레임의 각 행을 순회하며 주소를 좌표로 변환\n",
    "for index, row in li.iterrows():\n",
    "    address = row['주소']\n",
    "    params = {\n",
    "        \"service\": \"address\",\n",
    "        \"request\": \"getcoord\",\n",
    "        \"crs\": \"epsg:4326\",\n",
    "        \"address\": address,\n",
    "        \"format\": \"json\",\n",
    "        \"type\": \"road\",\n",
    "        \"key\": api_key\n",
    "    }\n",
    "    response = requests.get(apiurl, params=params)\n",
    "    \n",
    "    if response.status_code == 200:\n",
    "        data = response.json()\n",
    "        if data['response']['status'] == 'OK':\n",
    "            x = data['response']['result']['point']['x']\n",
    "            y = data['response']['result']['point']['y']\n",
    "            coordinates.append({\"주소\": address, \"경도\": x, \"위도\": y})\n",
    "        else:\n",
    "            coordinates.append({\"주소\": address, \"경도\": None, \"위도\": None})\n",
    "    else:\n",
    "        coordinates.append({\"주소\": address, \"경도\": None, \"위도\": None})\n",
    "\n",
    "# 결과를 데이터프레임으로 변환\n",
    "coord_df = pd.DataFrame(coordinates)\n",
    "\n",
    "# 결과 출력\n",
    "print(coord_df)"
   ]
  }
 ],
 "metadata": {
  "language_info": {
   "name": "python"
  }
 },
 "nbformat": 4,
 "nbformat_minor": 2
}
