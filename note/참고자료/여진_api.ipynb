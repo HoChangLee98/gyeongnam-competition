{
 "cells": [
  {
   "cell_type": "code",
   "execution_count": 39,
   "metadata": {},
   "outputs": [],
   "source": [
    "import requests\n",
    "import pandas as pd\n",
    "import warnings\n",
    "warnings.filterwarnings(\"ignore\")\n"
   ]
  },
  {
   "cell_type": "code",
   "execution_count": 40,
   "metadata": {},
   "outputs": [
    {
     "data": {
      "text/plain": [
       "<bound method NDFrame.head of         연번  시군명             시설명                    주소\n",
       "0        1  창원시          가곡 경로당  의창구 동읍 신촌본포로442번길 26\n",
       "1        2  창원시         고양 경로당        의창구 동읍 백월로 540 \n",
       "2        3  창원시         곡목 경로당   의창구 동읍 동읍로 359번길 43 \n",
       "3        4  창원시         금동 경로당    의창구 동읍 동읍로 835번길 7 \n",
       "4        5  창원시         금산 경로당    의창구 동읍 동읍로 670번길 6 \n",
       "...    ...  ...             ...                   ...\n",
       "7529  7530  합천군       (용주)성산경로당          용주면 성산3길 31 \n",
       "7530  7531  합천군     (용주)성산2구경로당           용주면 성산길 18 \n",
       "7531  7532  합천군       (용주)손목경로당          용주면 손목2길 13 \n",
       "7532  7533  합천군  (용주)손목1구할머니경로당       용주면 황계폭포로 1395 \n",
       "7533  7534  합천군     (용주)손목2구경로당          용주면 손목3길 74 \n",
       "\n",
       "[7534 rows x 4 columns]>"
      ]
     },
     "execution_count": 40,
     "metadata": {},
     "output_type": "execute_result"
    }
   ],
   "source": [
    "senior_center = pd.read_csv(\n",
    "    filepath_or_buffer = \"C:/Users/jihoo/Desktop/gyeongnam-competition/data/경로당 데이터.csv\", \n",
    "    encoding = \"cp949\"\n",
    "    )\n",
    "senior_center.head"
   ]
  },
  {
   "cell_type": "code",
   "execution_count": 41,
   "metadata": {},
   "outputs": [
    {
     "data": {
      "text/plain": [
       "Index(['연번', '시군명', '시설명', '주소'], dtype='object')"
      ]
     },
     "execution_count": 41,
     "metadata": {},
     "output_type": "execute_result"
    }
   ],
   "source": [
    "senior_center.columns"
   ]
  },
  {
   "cell_type": "code",
   "execution_count": 42,
   "metadata": {},
   "outputs": [
    {
     "data": {
      "text/plain": [
       "<bound method NDFrame.head of 0       경상남도 창원시 의창구 동읍 신촌본포로442번길 26\n",
       "1            경상남도 창원시 의창구 동읍 백월로 540 \n",
       "2       경상남도 창원시 의창구 동읍 동읍로 359번길 43 \n",
       "3        경상남도 창원시 의창구 동읍 동읍로 835번길 7 \n",
       "4        경상남도 창원시 의창구 동읍 동읍로 670번길 6 \n",
       "                    ...              \n",
       "7529            경상남도 합천군 용주면 성산3길 31 \n",
       "7530             경상남도 합천군 용주면 성산길 18 \n",
       "7531            경상남도 합천군 용주면 손목2길 13 \n",
       "7532         경상남도 합천군 용주면 황계폭포로 1395 \n",
       "7533            경상남도 합천군 용주면 손목3길 74 \n",
       "Name: 전체 주소, Length: 7534, dtype: object>"
      ]
     },
     "execution_count": 42,
     "metadata": {},
     "output_type": "execute_result"
    }
   ],
   "source": [
    "senior_center[\"전체 주소\"] = \"경상남도\" + \" \" + senior_center[\"시군명\"] + \" \" + senior_center[\"주소\"]\n",
    "senior_center[\"전체 주소\"].head"
   ]
  },
  {
   "cell_type": "code",
   "execution_count": 44,
   "metadata": {},
   "outputs": [
    {
     "data": {
      "text/plain": [
       "<bound method NDFrame.head of                               전체 주소\n",
       "0     경상남도 창원시 의창구 동읍 신촌본포로442번길 26\n",
       "1          경상남도 창원시 의창구 동읍 백월로 540 \n",
       "2     경상남도 창원시 의창구 동읍 동읍로 359번길 43 \n",
       "3      경상남도 창원시 의창구 동읍 동읍로 835번길 7 \n",
       "4      경상남도 창원시 의창구 동읍 동읍로 670번길 6 \n",
       "...                             ...\n",
       "7529          경상남도 합천군 용주면 성산3길 31 \n",
       "7530           경상남도 합천군 용주면 성산길 18 \n",
       "7531          경상남도 합천군 용주면 손목2길 13 \n",
       "7532       경상남도 합천군 용주면 황계폭포로 1395 \n",
       "7533          경상남도 합천군 용주면 손목3길 74 \n",
       "\n",
       "[7534 rows x 1 columns]>"
      ]
     },
     "execution_count": 44,
     "metadata": {},
     "output_type": "execute_result"
    }
   ],
   "source": [
    "senior_center = senior_center.loc[:,['전체 주소']]\n",
    "senior_center.head"
   ]
  },
  {
   "cell_type": "code",
   "execution_count": 45,
   "metadata": {},
   "outputs": [
    {
     "data": {
      "text/plain": [
       "<bound method NDFrame.head of                               전체 주소\n",
       "0     경상남도 창원시 의창구 동읍 신촌본포로442번길 26\n",
       "1          경상남도 창원시 의창구 동읍 백월로 540 \n",
       "2     경상남도 창원시 의창구 동읍 동읍로 359번길 43 \n",
       "3      경상남도 창원시 의창구 동읍 동읍로 835번길 7 \n",
       "4      경상남도 창원시 의창구 동읍 동읍로 670번길 6 \n",
       "...                             ...\n",
       "7529          경상남도 합천군 용주면 성산3길 31 \n",
       "7530           경상남도 합천군 용주면 성산길 18 \n",
       "7531          경상남도 합천군 용주면 손목2길 13 \n",
       "7532       경상남도 합천군 용주면 황계폭포로 1395 \n",
       "7533          경상남도 합천군 용주면 손목3길 74 \n",
       "\n",
       "[7534 rows x 1 columns]>"
      ]
     },
     "execution_count": 45,
     "metadata": {},
     "output_type": "execute_result"
    }
   ],
   "source": [
    "senior_center.head"
   ]
  },
  {
   "cell_type": "code",
   "execution_count": 46,
   "metadata": {},
   "outputs": [
    {
     "name": "stdout",
     "output_type": "stream",
     "text": [
      "                                 주소             경도            위도\n",
      "0     경상남도 창원시 의창구 동읍 신촌본포로442번길 26  128.644385896  35.359032004\n",
      "1          경상남도 창원시 의창구 동읍 백월로 540   128.654864588  35.305038793\n",
      "2     경상남도 창원시 의창구 동읍 동읍로 359번길 43   128.661179593  35.298651114\n",
      "3      경상남도 창원시 의창구 동읍 동읍로 835번길 7   128.666214508  35.333315727\n",
      "4      경상남도 창원시 의창구 동읍 동읍로 670번길 6   128.664352833  35.323306805\n",
      "...                             ...            ...           ...\n",
      "7529          경상남도 합천군 용주면 성산3길 31   128.135081348  35.556141195\n",
      "7530           경상남도 합천군 용주면 성산길 18   128.148858647  35.552522829\n",
      "7531          경상남도 합천군 용주면 손목2길 13   128.127954252  35.553945293\n",
      "7532       경상남도 합천군 용주면 황계폭포로 1395   128.130041340  35.552212500\n",
      "7533          경상남도 합천군 용주면 손목3길 74   128.126910687  35.555629547\n",
      "\n",
      "[7534 rows x 3 columns]\n"
     ]
    }
   ],
   "source": [
    "# API 엔드포인트\n",
    "apiurl = \"https://api.vworld.kr/req/address?\"\n",
    "\n",
    "# API 키\n",
    "api_key = \"8B7A9BDC-2FB8-3A2E-8F1C-359C7D1882B8\"\n",
    "\n",
    "# # 주소가 포함된 데이터프레임 예시\n",
    "# data = {\n",
    "#     \"주소\": [\"서울특별시 강남구 테헤란로 123\", \"부산광역시 해운대구 우동 123\"]\n",
    "# }\n",
    "\n",
    "# df = pd.DataFrame(data)\n",
    "\n",
    "# 좌표 정보를 저장할 빈 리스트 생성\n",
    "coordinates = []\n",
    "\n",
    "\n",
    "# 데이터프레임의 각 행을 순회하며 주소를 좌표로 변환\n",
    "for index, row in senior_center.iterrows():\n",
    "    address = row['전체 주소']\n",
    "    params = {\n",
    "        \"service\": \"address\",\n",
    "        \"request\": \"getcoord\",\n",
    "        \"crs\": \"epsg:4326\",\n",
    "        \"address\": address,\n",
    "        \"format\": \"json\",\n",
    "        \"type\": \"road\",\n",
    "        \"key\": api_key\n",
    "    }\n",
    "    response = requests.get(apiurl, params=params)\n",
    "    \n",
    "    if response.status_code == 200:\n",
    "        data = response.json()\n",
    "        if data['response']['status'] == 'OK':\n",
    "            x = data['response']['result']['point']['x']\n",
    "            y = data['response']['result']['point']['y']\n",
    "            coordinates.append({\"주소\": address, \"경도\": x, \"위도\": y})\n",
    "        else:\n",
    "            coordinates.append({\"주소\": address, \"경도\": None, \"위도\": None})\n",
    "    else:\n",
    "        coordinates.append({\"주소\": address, \"경도\": None, \"위도\": None})\n",
    "\n",
    "# 결과를 데이터프레임으로 변환\n",
    "coord_df = pd.DataFrame(coordinates)\n",
    "\n",
    "# 결과 출력\n",
    "print(coord_df)"
   ]
  },
  {
   "cell_type": "code",
   "execution_count": null,
   "metadata": {},
   "outputs": [],
   "source": []
  }
 ],
 "metadata": {
  "kernelspec": {
   "display_name": "gyeongn",
   "language": "python",
   "name": "python3"
  },
  "language_info": {
   "codemirror_mode": {
    "name": "ipython",
    "version": 3
   },
   "file_extension": ".py",
   "mimetype": "text/x-python",
   "name": "python",
   "nbconvert_exporter": "python",
   "pygments_lexer": "ipython3",
   "version": "3.12.4"
  }
 },
 "nbformat": 4,
 "nbformat_minor": 2
}
