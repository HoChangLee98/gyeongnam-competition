{
 "cells": [
  {
   "cell_type": "markdown",
   "metadata": {},
   "source": [
    "## 함안군 노가다"
   ]
  },
  {
   "cell_type": "code",
   "execution_count": 1,
   "metadata": {},
   "outputs": [],
   "source": [
    "import pandas as pd\n",
    "import pickle\n",
    "import warnings\n",
    "warnings.filterwarnings(\"ignore\")"
   ]
  },
  {
   "cell_type": "code",
   "execution_count": 2,
   "metadata": {},
   "outputs": [],
   "source": [
    "# # 데이터 로드\n",
    "with open('../data/버스정보데이터/함양군_inform.pkl', 'rb') as f:\n",
    "\tdata = pickle.load(f)"
   ]
  },
  {
   "cell_type": "code",
   "execution_count": 3,
   "metadata": {},
   "outputs": [
    {
     "data": {
      "text/plain": [
       "{'함양군': {'391': {'노선정류장수': None, '노선거리(km)': None, '굴곡도': None},\n",
       "  '111': {'노선정류장수': None, '노선거리(km)': None, '굴곡도': None},\n",
       "  '112': {'노선정류장수': None, '노선거리(km)': None, '굴곡도': None},\n",
       "  '530': {'노선정류장수': None, '노선거리(km)': None, '굴곡도': None},\n",
       "  '421': {'노선정류장수': None, '노선거리(km)': None, '굴곡도': None},\n",
       "  '313': {'노선정류장수': None, '노선거리(km)': None, '굴곡도': None},\n",
       "  '510': {'노선정류장수': None, '노선거리(km)': None, '굴곡도': None},\n",
       "  '170': {'노선정류장수': None, '노선거리(km)': None, '굴곡도': None},\n",
       "  '442': {'노선정류장수': None, '노선거리(km)': None, '굴곡도': None},\n",
       "  '272': {'노선정류장수': None, '노선거리(km)': None, '굴곡도': None},\n",
       "  '451': {'노선정류장수': None, '노선거리(km)': None, '굴곡도': None},\n",
       "  '432': {'노선정류장수': None, '노선거리(km)': None, '굴곡도': None},\n",
       "  '461': {'노선정류장수': None, '노선거리(km)': None, '굴곡도': None},\n",
       "  '151': {'노선정류장수': None, '노선거리(km)': None, '굴곡도': None},\n",
       "  '212': {'노선정류장수': None, '노선거리(km)': None, '굴곡도': None},\n",
       "  '282': {'노선정류장수': None, '노선거리(km)': None, '굴곡도': None},\n",
       "  '472': {'노선정류장수': None, '노선거리(km)': None, '굴곡도': None},\n",
       "  '120': {'노선정류장수': None, '노선거리(km)': None, '굴곡도': None},\n",
       "  '462': {'노선정류장수': None, '노선거리(km)': None, '굴곡도': None},\n",
       "  '340': {'노선정류장수': None, '노선거리(km)': None, '굴곡도': None},\n",
       "  '292': {'노선정류장수': None, '노선거리(km)': None, '굴곡도': None},\n",
       "  '211': {'노선정류장수': None, '노선거리(km)': None, '굴곡도': None},\n",
       "  '471': {'노선정류장수': None, '노선거리(km)': None, '굴곡도': None},\n",
       "  '131': {'노선정류장수': None, '노선거리(km)': None, '굴곡도': None},\n",
       "  '540': {'노선정류장수': None, '노선거리(km)': None, '굴곡도': None},\n",
       "  '520': {'노선정류장수': None, '노선거리(km)': None, '굴곡도': None},\n",
       "  '422': {'노선정류장수': None, '노선거리(km)': None, '굴곡도': None},\n",
       "  '481': {'노선정류장수': None, '노선거리(km)': None, '굴곡도': None},\n",
       "  '113': {'노선정류장수': None, '노선거리(km)': None, '굴곡도': None},\n",
       "  '161': {'노선정류장수': None, '노선거리(km)': None, '굴곡도': None},\n",
       "  '291': {'노선정류장수': None, '노선거리(km)': None, '굴곡도': None},\n",
       "  '312': {'노선정류장수': None, '노선거리(km)': None, '굴곡도': None},\n",
       "  '271': {'노선정류장수': None, '노선거리(km)': None, '굴곡도': None},\n",
       "  '311': {'노선정류장수': None, '노선거리(km)': None, '굴곡도': None},\n",
       "  '441': {'노선정류장수': None, '노선거리(km)': None, '굴곡도': None},\n",
       "  '431': {'노선정류장수': None, '노선거리(km)': None, '굴곡도': None},\n",
       "  '380': {'노선정류장수': None, '노선거리(km)': None, '굴곡도': None},\n",
       "  '222': {'노선정류장수': None, '노선거리(km)': None, '굴곡도': None},\n",
       "  '281': {'노선정류장수': None, '노선거리(km)': None, '굴곡도': None},\n",
       "  '482': {'노선정류장수': None, '노선거리(km)': None, '굴곡도': None},\n",
       "  '560': {'노선정류장수': None, '노선거리(km)': None, '굴곡도': None},\n",
       "  '152': {'노선정류장수': None, '노선거리(km)': None, '굴곡도': None},\n",
       "  '241': {'노선정류장수': None, '노선거리(km)': None, '굴곡도': None},\n",
       "  '141': {'노선정류장수': None, '노선거리(km)': None, '굴곡도': None},\n",
       "  '242': {'노선정류장수': None, '노선거리(km)': None, '굴곡도': None},\n",
       "  '132': {'노선정류장수': None, '노선거리(km)': None, '굴곡도': None},\n",
       "  '570': {'노선정류장수': None, '노선거리(km)': None, '굴곡도': None},\n",
       "  '162': {'노선정류장수': None, '노선거리(km)': None, '굴곡도': None},\n",
       "  '232': {'노선정류장수': None, '노선거리(km)': None, '굴곡도': None},\n",
       "  '452': {'노선정류장수': None, '노선거리(km)': None, '굴곡도': None},\n",
       "  '360': {'노선정류장수': None, '노선거리(km)': None, '굴곡도': None},\n",
       "  '250': {'노선정류장수': None, '노선거리(km)': None, '굴곡도': None},\n",
       "  '550': {'노선정류장수': None, '노선거리(km)': None, '굴곡도': None},\n",
       "  '490': {'노선정류장수': None, '노선거리(km)': None, '굴곡도': None},\n",
       "  '370': {'노선정류장수': None, '노선거리(km)': None, '굴곡도': None},\n",
       "  '260': {'노선정류장수': None, '노선거리(km)': None, '굴곡도': None},\n",
       "  '142': {'노선정류장수': None, '노선거리(km)': None, '굴곡도': None},\n",
       "  '191': {'노선정류장수': None, '노선거리(km)': None, '굴곡도': None},\n",
       "  '192': {'노선정류장수': None, '노선거리(km)': None, '굴곡도': None},\n",
       "  '350': {'노선정류장수': None, '노선거리(km)': None, '굴곡도': None},\n",
       "  '938': {'노선정류장수': None, '노선거리(km)': None, '굴곡도': None},\n",
       "  '931': {'노선정류장수': None, '노선거리(km)': None, '굴곡도': None},\n",
       "  '934': {'노선정류장수': None, '노선거리(km)': None, '굴곡도': None},\n",
       "  '935': {'노선정류장수': None, '노선거리(km)': None, '굴곡도': None},\n",
       "  '936': {'노선정류장수': None, '노선거리(km)': None, '굴곡도': None},\n",
       "  '932': {'노선정류장수': None, '노선거리(km)': None, '굴곡도': None},\n",
       "  '937': {'노선정류장수': None, '노선거리(km)': None, '굴곡도': None},\n",
       "  '410': {'노선정류장수': None, '노선거리(km)': None, '굴곡도': None},\n",
       "  '930': {'노선정류장수': None, '노선거리(km)': None, '굴곡도': None},\n",
       "  '933': {'노선정류장수': None, '노선거리(km)': None, '굴곡도': None},\n",
       "  '392': {'노선정류장수': None, '노선거리(km)': None, '굴곡도': None},\n",
       "  '231': {'노선정류장수': None, '노선거리(km)': None, '굴곡도': None}}}"
      ]
     },
     "execution_count": 3,
     "metadata": {},
     "output_type": "execute_result"
    }
   ],
   "source": [
    "data"
   ]
  },
  {
   "cell_type": "code",
   "execution_count": 6,
   "metadata": {},
   "outputs": [],
   "source": [
    "data = {'함양군': {'391': {'노선정류장수': 22, '노선거리(km)': None, '굴곡도': None},\n",
    "  '111': {'노선정류장수': 68, '노선거리(km)': None, '굴곡도': None},\n",
    "  '112': {'노선정류장수': 69, '노선거리(km)': None, '굴곡도': None},\n",
    "  '530': {'노선정류장수': 10, '노선거리(km)': None, '굴곡도': None},\n",
    "  '421': {'노선정류장수': 91, '노선거리(km)': None, '굴곡도': None},\n",
    "  '313': {'노선정류장수': 50, '노선거리(km)': None, '굴곡도': None},\n",
    "  '510': {'노선정류장수': 14, '노선거리(km)': None, '굴곡도': None},\n",
    "  '170': {'노선정류장수': 31, '노선거리(km)': None, '굴곡도': None},\n",
    "  '442': {'노선정류장수': 103, '노선거리(km)': None, '굴곡도': None},\n",
    "  '272': {'노선정류장수': 44, '노선거리(km)': None, '굴곡도': None},\n",
    "  '451': {'노선정류장수': 96, '노선거리(km)': None, '굴곡도': None},\n",
    "  '432': {'노선정류장수': 99, '노선거리(km)': None, '굴곡도': None},\n",
    "  '461': {'노선정류장수': 97, '노선거리(km)': None, '굴곡도': None},\n",
    "  '151': {'노선정류장수': 28, '노선거리(km)': None, '굴곡도': None},\n",
    "  '212': {'노선정류장수': 39, '노선거리(km)': None, '굴곡도': None},\n",
    "  '282': {'노선정류장수': 30, '노선거리(km)': None, '굴곡도': None},\n",
    "  '472': {'노선정류장수': 91, '노선거리(km)': None, '굴곡도': None},\n",
    "  '120': {'노선정류장수': 75, '노선거리(km)': None, '굴곡도': None},\n",
    "  '462': {'노선정류장수': 97, '노선거리(km)': None, '굴곡도': None},\n",
    "  '340': {'노선정류장수': 48, '노선거리(km)': None, '굴곡도': None},\n",
    "  '292': {'노선정류장수': 21, '노선거리(km)': None, '굴곡도': None},\n",
    "  '211': {'노선정류장수': 37, '노선거리(km)': None, '굴곡도': None},\n",
    "  '471': {'노선정류장수': 103, '노선거리(km)': None, '굴곡도': None},\n",
    "  '131': {'노선정류장수': 50, '노선거리(km)': None, '굴곡도': None},\n",
    "  '540': {'노선정류장수': 4, '노선거리(km)': None, '굴곡도': None},\n",
    "  '520': {'노선정류장수': 10, '노선거리(km)': None, '굴곡도': None},\n",
    "  '422': {'노선정류장수': 97, '노선거리(km)': None, '굴곡도': None},\n",
    "  '481': {'노선정류장수': 38, '노선거리(km)': None, '굴곡도': None},\n",
    "  '113': {'노선정류장수': 67, '노선거리(km)': None, '굴곡도': None},\n",
    "  '161': {'노선정류장수': 28, '노선거리(km)': None, '굴곡도': None},\n",
    "  '291': {'노선정류장수': 19, '노선거리(km)': None, '굴곡도': None},\n",
    "  '312': {'노선정류장수': 52, '노선거리(km)': None, '굴곡도': None},\n",
    "  '271': {'노선정류장수': 34, '노선거리(km)': None, '굴곡도': None},\n",
    "  '311': {'노선정류장수': 52, '노선거리(km)': None, '굴곡도': None},\n",
    "  '441': {'노선정류장수': 103, '노선거리(km)': None, '굴곡도': None},\n",
    "  '431': {'노선정류장수': 93, '노선거리(km)': None, '굴곡도': None},\n",
    "  '380': {'노선정류장수': 26, '노선거리(km)': None, '굴곡도': None},\n",
    "  '222': {'노선정류장수': 40, '노선거리(km)': None, '굴곡도': None},\n",
    "  '281': {'노선정류장수': 32, '노선거리(km)': None, '굴곡도': None},\n",
    "  '482': {'노선정류장수': 40, '노선거리(km)': None, '굴곡도': None},\n",
    "  '560': {'노선정류장수': 13, '노선거리(km)': None, '굴곡도': None},\n",
    "  '152': {'노선정류장수': 24, '노선거리(km)': None, '굴곡도': None},\n",
    "  '241': {'노선정류장수': 44, '노선거리(km)': None, '굴곡도': None},\n",
    "  '141': {'노선정류장수': 50, '노선거리(km)': None, '굴곡도': None},\n",
    "  '242': {'노선정류장수': 56, '노선거리(km)': None, '굴곡도': None},\n",
    "  '132': {'노선정류장수': 49, '노선거리(km)': None, '굴곡도': None},\n",
    "  '570': {'노선정류장수': 24, '노선거리(km)': None, '굴곡도': None},\n",
    "  '162': {'노선정류장수': 20, '노선거리(km)': None, '굴곡도': None},\n",
    "  '232': {'노선정류장수': 50, '노선거리(km)': None, '굴곡도': None},\n",
    "  '452': {'노선정류장수': 89, '노선거리(km)': None, '굴곡도': None},\n",
    "  '360': {'노선정류장수': 36, '노선거리(km)': None, '굴곡도': None},\n",
    "  '250': {'노선정류장수': 66, '노선거리(km)': None, '굴곡도': None},\n",
    "  '550': {'노선정류장수': 6, '노선거리(km)': None, '굴곡도': None},\n",
    "  '490': {'노선정류장수': 35, '노선거리(km)': None, '굴곡도': None},\n",
    "  '370': {'노선정류장수': 24, '노선거리(km)': None, '굴곡도': None},\n",
    "  '260': {'노선정류장수': 24, '노선거리(km)': None, '굴곡도': None},\n",
    "  '142': {'노선정류장수': 44, '노선거리(km)': None, '굴곡도': None},\n",
    "  '191': {'노선정류장수': 30, '노선거리(km)': None, '굴곡도': None},\n",
    "  '192': {'노선정류장수': 50, '노선거리(km)': None, '굴곡도': None},\n",
    "  '350': {'노선정류장수': 19, '노선거리(km)': None, '굴곡도': None},\n",
    "  '938': {'노선정류장수': 65, '노선거리(km)': None, '굴곡도': None},\n",
    "  '931': {'노선정류장수': 86, '노선거리(km)': None, '굴곡도': None},\n",
    "  '934': {'노선정류장수': 92, '노선거리(km)': None, '굴곡도': None},\n",
    "  '935': {'노선정류장수': 94, '노선거리(km)': None, '굴곡도': None},\n",
    "  '936': {'노선정류장수': 94, '노선거리(km)': None, '굴곡도': None},\n",
    "  '932': {'노선정류장수': 79, '노선거리(km)': None, '굴곡도': None},\n",
    "  '937': {'노선정류장수': 78, '노선거리(km)': None, '굴곡도': None},\n",
    "  '410': {'노선정류장수': 54, '노선거리(km)': None, '굴곡도': None},\n",
    "  '930': {'노선정류장수': 41, '노선거리(km)': None, '굴곡도': None},\n",
    "  '933': {'노선정류장수': 64, '노선거리(km)': None, '굴곡도': None},\n",
    "  '392': {'노선정류장수': 30, '노선거리(km)': None, '굴곡도': None},\n",
    "  '231': {'노선정류장수': 38, '노선거리(km)': None, '굴곡도': None}}}"
   ]
  },
  {
   "cell_type": "code",
   "execution_count": 7,
   "metadata": {},
   "outputs": [],
   "source": [
    "import pickle\n",
    "\n",
    "with open(f'../data/버스정보데이터/함양군_inform.pkl', 'wb') as f: \n",
    "\tpickle.dump(data, f)"
   ]
  },
  {
   "cell_type": "code",
   "execution_count": null,
   "metadata": {},
   "outputs": [],
   "source": []
  },
  {
   "cell_type": "code",
   "execution_count": null,
   "metadata": {},
   "outputs": [],
   "source": []
  },
  {
   "cell_type": "code",
   "execution_count": null,
   "metadata": {},
   "outputs": [],
   "source": []
  },
  {
   "cell_type": "code",
   "execution_count": null,
   "metadata": {},
   "outputs": [],
   "source": []
  },
  {
   "cell_type": "code",
   "execution_count": null,
   "metadata": {},
   "outputs": [],
   "source": []
  },
  {
   "cell_type": "code",
   "execution_count": null,
   "metadata": {},
   "outputs": [],
   "source": []
  }
 ],
 "metadata": {
  "kernelspec": {
   "display_name": "gyeongn",
   "language": "python",
   "name": "python3"
  },
  "language_info": {
   "codemirror_mode": {
    "name": "ipython",
    "version": 3
   },
   "file_extension": ".py",
   "mimetype": "text/x-python",
   "name": "python",
   "nbconvert_exporter": "python",
   "pygments_lexer": "ipython3",
   "version": "3.12.4"
  }
 },
 "nbformat": 4,
 "nbformat_minor": 2
}
