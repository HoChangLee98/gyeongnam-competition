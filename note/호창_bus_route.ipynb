{
 "cells": [
  {
   "cell_type": "markdown",
   "metadata": {},
   "source": [
    "### 버스 노선 데이터 생성\n",
    "* 한국교통안전공단_버스노선정보: https://www.data.go.kr/data/15105964/fileData.do\n",
    "* 국토교통부_(TAGO)_버스노선정보: https://www.data.go.kr/iim/api/selectAPIAcountView.do\n",
    "\n",
    "1. 전국 버스 노선 정보 데이터 불러오기\n",
    "2. \"국토교통부_(TAGO)_버스노선정보\"의 \"도시코드 목록 조회\" api를 통해 경상남도 도시코드 추출\n",
    "3. 경상남도 도시코드로 \"노선번호목록 조회\"를 통해 route data 추출\n",
    "4. 노선아이디로 \"노선정보항목 조회\"를 통해 배차간격 데이터 추출\n",
    "5. 노선 정보를 통해 \"노선별경유정류소목록 조회\"로 경유지 데이터 추출"
   ]
  },
  {
   "cell_type": "code",
   "execution_count": 1,
   "metadata": {},
   "outputs": [],
   "source": [
    "import requests\n",
    "import json\n",
    "\n",
    "import pandas as pd\n",
    "from tqdm import tqdm\n",
    "\n",
    "import warnings\n",
    "warnings.filterwarnings('ignore')"
   ]
  },
  {
   "cell_type": "markdown",
   "metadata": {},
   "source": [
    "#### 경상남도 도시코드 추출"
   ]
  },
  {
   "cell_type": "code",
   "execution_count": 2,
   "metadata": {},
   "outputs": [],
   "source": [
    "## 도시코드 목록 조회 api 주소\n",
    "apiurl_city = \"http://apis.data.go.kr/1613000/BusRouteInfoInqireService/getCtyCodeList?serviceKey=J898%2Bzddf%2FpTsegkzSSN3hcgirJ2kkHIbj83qdZjeGTrfWWsvMErAuaux4iEO%2FidrxEJmr99O2IBbzKSk040DQ%3D%3D&_type=json\"\n",
    "response = requests.get(apiurl_city)\n",
    "\n",
    "## text 형태를 json을 통해 dict 형태로 변형\n",
    "citycode_result = json.loads(response.text)\n",
    "\n",
    "## 경상남도 도시코드 추출\n",
    "city_code = citycode_result[\"response\"][\"body\"][\"items\"][\"item\"]\n",
    "gyeongn_code = [{code_[\"cityname\"] : code_[\"citycode\"]} for code_ in city_code if str(code_[\"citycode\"])[:2] == \"38\"]\n",
    "gyeongn_code = {list(item.keys())[0]: list(item.values())[0] for item in gyeongn_code}"
   ]
  },
  {
   "cell_type": "code",
   "execution_count": 3,
   "metadata": {},
   "outputs": [
    {
     "data": {
      "text/plain": [
       "{'창원시': 38010,\n",
       " '진주시': 38030,\n",
       " '통영시': 38050,\n",
       " '사천시': 38060,\n",
       " '김해시': 38070,\n",
       " '밀양시': 38080,\n",
       " '거제시': 38090,\n",
       " '양산시': 38100,\n",
       " '의령군': 38310,\n",
       " '함안군': 38320,\n",
       " '창녕군': 38330,\n",
       " '고성군': 38340,\n",
       " '남해군': 38350,\n",
       " '하동군': 38360,\n",
       " '산청군': 38370,\n",
       " '함양군': 38380,\n",
       " '거창군': 38390,\n",
       " '합천군': 38400}"
      ]
     },
     "execution_count": 3,
     "metadata": {},
     "output_type": "execute_result"
    }
   ],
   "source": [
    "gyeongn_code"
   ]
  },
  {
   "cell_type": "markdown",
   "metadata": {},
   "source": [
    "##### 경상남도 도시코드로 노선번호항목 조회를 통해 route data 추출"
   ]
  },
  {
   "cell_type": "code",
   "execution_count": 34,
   "metadata": {},
   "outputs": [],
   "source": [
    "def extract_routedata(city_code:int, city_name:str) -> dict:\n",
    "    \"\"\"api를 활용해 버스 노선 정보 추출하는 함수\n",
    "\n",
    "    Args:\n",
    "        city_code (int): 도시코드 입력\n",
    "        city_name (str): 도시코드의 시도명 입력\n",
    "\n",
    "    Returns:\n",
    "        dict: 도시명, 노선아이디, 노선번호, 버스종류, 기점, 종점, 버스 첫차, 막차\n",
    "    \"\"\"\n",
    "    ## 경상남도 도시코드로 routeId 추출 api\n",
    "    apiurl_ = f\"http://apis.data.go.kr/1613000/BusRouteInfoInqireService/getRouteNoList?serviceKey=J898%2Bzddf%2FpTsegkzSSN3hcgirJ2kkHIbj83qdZjeGTrfWWsvMErAuaux4iEO%2FidrxEJmr99O2IBbzKSk040DQ%3D%3D&pageNo=1&numOfRows=1000&_type=json&cityCode={city_code}\"\n",
    "    response = requests.get(apiurl_)\n",
    "\n",
    "    ## text 형태를 json을 통해 dict 형태로 변형\n",
    "    route_result = json.loads(response.text)\n",
    "    route_ = route_result[\"response\"][\"body\"][\"items\"][\"item\"]\n",
    "    \n",
    "    ## route data 추출\n",
    "    routedata = pd.DataFrame()\n",
    "    for i, values in enumerate(route_):\n",
    "        routedata.loc[i, \"city_name\"] = city_name\n",
    "        routedata.loc[i, \"city_code\"] = str(city_code)\n",
    "        routedata.loc[i, \"routeid\"] = values[\"routeid\"]\n",
    "        routedata.loc[i, \"routeno\"] = str(values[\"routeno\"])\n",
    "        routedata.loc[i, \"routetp\"] = values[\"routetp\"]\n",
    "        routedata.loc[i, \"startnodenm\"] = values[\"startnodenm\"]    \n",
    "        routedata.loc[i, \"endnodenm\"] = values[\"endnodenm\"]\n",
    "\n",
    "        if \"startvehicletime\" in values:\n",
    "            routedata.loc[i, \"startvehicletime\"] = str(values[\"startvehicletime\"])\n",
    "        else:\n",
    "            routedata.loc[i, \"startvehicletime\"] = None\n",
    "\n",
    "        if \"endvehicletime\" in values:\n",
    "            routedata.loc[i, \"endvehicletime\"] = str(values[\"endvehicletime\"])\n",
    "        else:\n",
    "            routedata.loc[i, \"endvehicletime\"] = None\n",
    "                \n",
    "    return routedata"
   ]
  },
  {
   "cell_type": "code",
   "execution_count": 35,
   "metadata": {},
   "outputs": [],
   "source": [
    "gyeongn_busroute_bycgg = {cn : extract_routedata(city_code=cc, city_name=cn) for cn, cc in gyeongn_code.items()}\n",
    "gyeongn_busroute_total = pd.concat([df for key, df in gyeongn_busroute_bycgg.items()], axis=0, ignore_index=True)"
   ]
  },
  {
   "cell_type": "markdown",
   "metadata": {},
   "source": [
    "#### 노선아이디로 노선정보 조회를 통해 배차간격 데이터 추출"
   ]
  },
  {
   "cell_type": "code",
   "execution_count": 51,
   "metadata": {},
   "outputs": [],
   "source": [
    "def extract_timedata(city_code, routeid):\n",
    "    apiurl_ = f\"http://apis.data.go.kr/1613000/BusRouteInfoInqireService/getRouteInfoIem?serviceKey=J898%2Bzddf%2FpTsegkzSSN3hcgirJ2kkHIbj83qdZjeGTrfWWsvMErAuaux4iEO%2FidrxEJmr99O2IBbzKSk040DQ%3D%3D&_type=json&cityCode={city_code}&routeId={routeid}\"\n",
    "    response = requests.get(apiurl_)\n",
    "    time_result = json.loads(response.text)\n",
    "    time_ = time_result[\"response\"][\"body\"][\"items\"][\"item\"]\n",
    "    \n",
    "    if \"intervaltime\" in time_:\n",
    "        intervaltime = time_[\"intervaltime\"]\n",
    "    else:\n",
    "        intervaltime = None\n",
    "\n",
    "    if \"intervalsattime\" in time_:\n",
    "        intervalsattime = time_[\"intervalsattime\"]\n",
    "    else:\n",
    "        intervalsattime = None\n",
    "\n",
    "    if \"intervalsuntime\" in time_:\n",
    "        intervalsuntime = time_[\"intervalsuntime\"]\n",
    "    else:\n",
    "        intervalsuntime = None\n",
    "\n",
    "    return intervaltime, intervalsattime, intervalsuntime"
   ]
  },
  {
   "cell_type": "code",
   "execution_count": 55,
   "metadata": {},
   "outputs": [],
   "source": [
    "gyeongn_busroute_total[[\"intervaltime\", \"intervalsattime\", \"intervalsuntime\"]] = gyeongn_busroute_total.apply(\n",
    "    lambda row : pd.Series(extract_timedata(row[\"city_code\"], row[\"routeid\"])), axis=1\n",
    ")"
   ]
  },
  {
   "cell_type": "code",
   "execution_count": 58,
   "metadata": {},
   "outputs": [],
   "source": [
    "# gyeongn_busroute_total.to_csv(\"../data/gyeongn_busroute_total.csv\", index=False)"
   ]
  },
  {
   "cell_type": "markdown",
   "metadata": {},
   "source": [
    "#### 노선 정보를 통해 \"노선별경유정류소목록 조회\"로 경유지 데이터 추출"
   ]
  },
  {
   "cell_type": "code",
   "execution_count": 7,
   "metadata": {},
   "outputs": [],
   "source": [
    "def extract_nodesdata(\n",
    "    city_code, \n",
    "    routeid:str\n",
    "    )->dict:\n",
    "    \"\"\"도시코드와 노선아이디를 통해 경유지 데이터 추출 \n",
    "\n",
    "    Args:\n",
    "        city_code (_type_): 도시코드\n",
    "        routeid (str): 노선아이디\n",
    "    Returns:\n",
    "        dict: 경유지 데이터\n",
    "    \"\"\"    \n",
    "    ## 경유정류소목록 조회 api 주소\n",
    "    apiurl_nodes = f\"http://apis.data.go.kr/1613000/BusRouteInfoInqireService/getRouteAcctoThrghSttnList?serviceKey=J898%2Bzddf%2FpTsegkzSSN3hcgirJ2kkHIbj83qdZjeGTrfWWsvMErAuaux4iEO%2FidrxEJmr99O2IBbzKSk040DQ%3D%3D&pageNo=1&numOfRows=1000&_type=json&cityCode={city_code}&routeId={routeid}\"\n",
    "    response = requests.get(apiurl_nodes)\n",
    "\n",
    "    ## text 형태를 json을 통해 dict 형태로 변형\n",
    "    nodes_result = json.loads(response.text)\n",
    "    nodes = nodes_result[\"response\"][\"body\"][\"items\"][\"item\"]\n",
    "    \n",
    "    return nodes  "
   ]
  },
  {
   "cell_type": "code",
   "execution_count": 10,
   "metadata": {},
   "outputs": [
    {
     "name": "stderr",
     "output_type": "stream",
     "text": [
      "100%|██████████| 18/18 [06:32<00:00, 21.80s/it]\n"
     ]
    }
   ],
   "source": [
    "# nodesdata = {}\n",
    "# for k, v in tqdm(gyeongn_code.items()):\n",
    "#     nodesdata[f\"{v}\"] = {}\n",
    "#     routeids = gyeongn_busroute_total[gyeongn_busroute_total[\"city_name\"] == k][\"routeid\"]\n",
    "#     for id in routeids:\n",
    "#         nodes = extract_nodesdata(v, id)\n",
    "#         nodesdata[f\"{v}\"][f\"{id}\"] = nodes"
   ]
  },
  {
   "cell_type": "code",
   "execution_count": 54,
   "metadata": {},
   "outputs": [],
   "source": [
    "# import pickle\n",
    "\n",
    "# with open(\"../data/노선경유지데이터.pkl\", \"wb\") as f:\n",
    "#     pickle.dump(nodesdata, f)"
   ]
  },
  {
   "cell_type": "code",
   "execution_count": null,
   "metadata": {},
   "outputs": [],
   "source": []
  }
 ],
 "metadata": {
  "kernelspec": {
   "display_name": "gyeongn",
   "language": "python",
   "name": "python3"
  },
  "language_info": {
   "codemirror_mode": {
    "name": "ipython",
    "version": 3
   },
   "file_extension": ".py",
   "mimetype": "text/x-python",
   "name": "python",
   "nbconvert_exporter": "python",
   "pygments_lexer": "ipython3",
   "version": "3.12.4"
  }
 },
 "nbformat": 4,
 "nbformat_minor": 2
}
