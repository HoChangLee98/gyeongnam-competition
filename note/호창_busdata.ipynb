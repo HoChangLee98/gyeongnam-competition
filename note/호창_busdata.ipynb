{
 "cells": [
  {
   "cell_type": "code",
   "execution_count": 1,
   "metadata": {},
   "outputs": [],
   "source": [
    "import pandas as pd\n",
    "import numpy as np\n",
    "import warnings\n",
    "warnings.filterwarnings(\"ignore\")\n",
    "\n",
    "from impyute.imputation.cs import mice\n",
    "from sklearn.experimental import enable_iterative_imputer\n",
    "from sklearn.impute import IterativeImputer\n",
    "from sklearn.model_selection import train_test_split\n",
    "from sklearn.metrics import mean_squared_error\n",
    "import numpy as np"
   ]
  },
  {
   "cell_type": "code",
   "execution_count": 2,
   "metadata": {},
   "outputs": [],
   "source": [
    "total_data = pd.read_csv(\"../data/total_data.csv\")\n",
    "total_busdata = pd.read_csv(\"../data/여진_total_busdata.csv\")\n",
    "\n",
    "total_data[\"총인구수\"] = total_data[\"총인구수\"].apply(lambda x: int(x.replace(\",\", \"\")))\n",
    "total_data[\"노인(수)\"] = total_data[\"노인(수)\"].apply(lambda x: int(x.replace(\",\", \"\")))\n",
    "total_data[\"인구_대비_정류장수\"] = total_data[\"총인구수\"] / total_data[\"노선정류장수\"]\n",
    "total_data[\"노인(수)^2\"] = total_data[\"노인(수)\"]**2\n",
    "use_col = ['usage', '노선정류장수', '총인구수', '노인(수)', '인구_대비_정류장수'] # , '노선거리(km)', '굴곡도'"
   ]
  },
  {
   "cell_type": "code",
   "execution_count": 3,
   "metadata": {},
   "outputs": [
    {
     "data": {
      "text/html": [
       "<div>\n",
       "<style scoped>\n",
       "    .dataframe tbody tr th:only-of-type {\n",
       "        vertical-align: middle;\n",
       "    }\n",
       "\n",
       "    .dataframe tbody tr th {\n",
       "        vertical-align: top;\n",
       "    }\n",
       "\n",
       "    .dataframe thead th {\n",
       "        text-align: right;\n",
       "    }\n",
       "</style>\n",
       "<table border=\"1\" class=\"dataframe\">\n",
       "  <thead>\n",
       "    <tr style=\"text-align: right;\">\n",
       "      <th></th>\n",
       "      <th>city_name</th>\n",
       "      <th>usage</th>\n",
       "      <th>노선정류장수</th>\n",
       "      <th>노선거리(km)</th>\n",
       "      <th>굴곡도</th>\n",
       "      <th>총인구수</th>\n",
       "      <th>노인(수)</th>\n",
       "      <th>인구_대비_정류장수</th>\n",
       "      <th>노인(수)^2</th>\n",
       "    </tr>\n",
       "  </thead>\n",
       "  <tbody>\n",
       "    <tr>\n",
       "      <th>0</th>\n",
       "      <td>창원시</td>\n",
       "      <td>33931.0</td>\n",
       "      <td>105</td>\n",
       "      <td>55.900000</td>\n",
       "      <td>2.0</td>\n",
       "      <td>1003731</td>\n",
       "      <td>276574</td>\n",
       "      <td>9559.342857</td>\n",
       "      <td>76493177476</td>\n",
       "    </tr>\n",
       "    <tr>\n",
       "      <th>1</th>\n",
       "      <td>창원시</td>\n",
       "      <td>2558.0</td>\n",
       "      <td>83</td>\n",
       "      <td>53.500000</td>\n",
       "      <td>1.7</td>\n",
       "      <td>1003731</td>\n",
       "      <td>276574</td>\n",
       "      <td>12093.144578</td>\n",
       "      <td>76493177476</td>\n",
       "    </tr>\n",
       "    <tr>\n",
       "      <th>2</th>\n",
       "      <td>창원시</td>\n",
       "      <td>299.0</td>\n",
       "      <td>74</td>\n",
       "      <td>43.800000</td>\n",
       "      <td>2.6</td>\n",
       "      <td>1003731</td>\n",
       "      <td>276574</td>\n",
       "      <td>13563.932432</td>\n",
       "      <td>76493177476</td>\n",
       "    </tr>\n",
       "    <tr>\n",
       "      <th>3</th>\n",
       "      <td>창원시</td>\n",
       "      <td>63612.0</td>\n",
       "      <td>35</td>\n",
       "      <td>21.100000</td>\n",
       "      <td>1.0</td>\n",
       "      <td>1003731</td>\n",
       "      <td>276574</td>\n",
       "      <td>28678.028571</td>\n",
       "      <td>76493177476</td>\n",
       "    </tr>\n",
       "    <tr>\n",
       "      <th>4</th>\n",
       "      <td>창원시</td>\n",
       "      <td>68306.0</td>\n",
       "      <td>39</td>\n",
       "      <td>8.800000</td>\n",
       "      <td>1.8</td>\n",
       "      <td>1003731</td>\n",
       "      <td>276574</td>\n",
       "      <td>25736.692308</td>\n",
       "      <td>76493177476</td>\n",
       "    </tr>\n",
       "    <tr>\n",
       "      <th>...</th>\n",
       "      <td>...</td>\n",
       "      <td>...</td>\n",
       "      <td>...</td>\n",
       "      <td>...</td>\n",
       "      <td>...</td>\n",
       "      <td>...</td>\n",
       "      <td>...</td>\n",
       "      <td>...</td>\n",
       "      <td>...</td>\n",
       "    </tr>\n",
       "    <tr>\n",
       "      <th>2508</th>\n",
       "      <td>합천군</td>\n",
       "      <td>NaN</td>\n",
       "      <td>27</td>\n",
       "      <td>29.863889</td>\n",
       "      <td>2.0</td>\n",
       "      <td>40756</td>\n",
       "      <td>23160</td>\n",
       "      <td>1509.481481</td>\n",
       "      <td>536385600</td>\n",
       "    </tr>\n",
       "    <tr>\n",
       "      <th>2509</th>\n",
       "      <td>합천군</td>\n",
       "      <td>NaN</td>\n",
       "      <td>27</td>\n",
       "      <td>29.863889</td>\n",
       "      <td>2.0</td>\n",
       "      <td>40756</td>\n",
       "      <td>23160</td>\n",
       "      <td>1509.481481</td>\n",
       "      <td>536385600</td>\n",
       "    </tr>\n",
       "    <tr>\n",
       "      <th>2510</th>\n",
       "      <td>합천군</td>\n",
       "      <td>45.0</td>\n",
       "      <td>29</td>\n",
       "      <td>25.300000</td>\n",
       "      <td>1.3</td>\n",
       "      <td>40756</td>\n",
       "      <td>23160</td>\n",
       "      <td>1405.379310</td>\n",
       "      <td>536385600</td>\n",
       "    </tr>\n",
       "    <tr>\n",
       "      <th>2511</th>\n",
       "      <td>합천군</td>\n",
       "      <td>NaN</td>\n",
       "      <td>27</td>\n",
       "      <td>29.863889</td>\n",
       "      <td>2.0</td>\n",
       "      <td>40756</td>\n",
       "      <td>23160</td>\n",
       "      <td>1509.481481</td>\n",
       "      <td>536385600</td>\n",
       "    </tr>\n",
       "    <tr>\n",
       "      <th>2512</th>\n",
       "      <td>합천군</td>\n",
       "      <td>NaN</td>\n",
       "      <td>27</td>\n",
       "      <td>29.863889</td>\n",
       "      <td>2.0</td>\n",
       "      <td>40756</td>\n",
       "      <td>23160</td>\n",
       "      <td>1509.481481</td>\n",
       "      <td>536385600</td>\n",
       "    </tr>\n",
       "  </tbody>\n",
       "</table>\n",
       "<p>2513 rows × 9 columns</p>\n",
       "</div>"
      ],
      "text/plain": [
       "     city_name    usage  노선정류장수   노선거리(km)  굴곡도     총인구수   노인(수)  \\\n",
       "0          창원시  33931.0     105  55.900000  2.0  1003731  276574   \n",
       "1          창원시   2558.0      83  53.500000  1.7  1003731  276574   \n",
       "2          창원시    299.0      74  43.800000  2.6  1003731  276574   \n",
       "3          창원시  63612.0      35  21.100000  1.0  1003731  276574   \n",
       "4          창원시  68306.0      39   8.800000  1.8  1003731  276574   \n",
       "...        ...      ...     ...        ...  ...      ...     ...   \n",
       "2508       합천군      NaN      27  29.863889  2.0    40756   23160   \n",
       "2509       합천군      NaN      27  29.863889  2.0    40756   23160   \n",
       "2510       합천군     45.0      29  25.300000  1.3    40756   23160   \n",
       "2511       합천군      NaN      27  29.863889  2.0    40756   23160   \n",
       "2512       합천군      NaN      27  29.863889  2.0    40756   23160   \n",
       "\n",
       "        인구_대비_정류장수      노인(수)^2  \n",
       "0      9559.342857  76493177476  \n",
       "1     12093.144578  76493177476  \n",
       "2     13563.932432  76493177476  \n",
       "3     28678.028571  76493177476  \n",
       "4     25736.692308  76493177476  \n",
       "...            ...          ...  \n",
       "2508   1509.481481    536385600  \n",
       "2509   1509.481481    536385600  \n",
       "2510   1405.379310    536385600  \n",
       "2511   1509.481481    536385600  \n",
       "2512   1509.481481    536385600  \n",
       "\n",
       "[2513 rows x 9 columns]"
      ]
     },
     "execution_count": 3,
     "metadata": {},
     "output_type": "execute_result"
    }
   ],
   "source": [
    "total_data"
   ]
  },
  {
   "cell_type": "code",
   "execution_count": 153,
   "metadata": {},
   "outputs": [
    {
     "data": {
      "text/html": [
       "<div>\n",
       "<style scoped>\n",
       "    .dataframe tbody tr th:only-of-type {\n",
       "        vertical-align: middle;\n",
       "    }\n",
       "\n",
       "    .dataframe tbody tr th {\n",
       "        vertical-align: top;\n",
       "    }\n",
       "\n",
       "    .dataframe thead th {\n",
       "        text-align: right;\n",
       "    }\n",
       "</style>\n",
       "<table border=\"1\" class=\"dataframe\">\n",
       "  <thead>\n",
       "    <tr style=\"text-align: right;\">\n",
       "      <th></th>\n",
       "      <th>usage</th>\n",
       "      <th>노선정류장수</th>\n",
       "      <th>총인구수</th>\n",
       "      <th>노인(수)</th>\n",
       "      <th>인구_대비_정류장수</th>\n",
       "    </tr>\n",
       "  </thead>\n",
       "  <tbody>\n",
       "    <tr>\n",
       "      <th>usage</th>\n",
       "      <td>1.000000</td>\n",
       "      <td>0.370502</td>\n",
       "      <td>0.399047</td>\n",
       "      <td>0.389275</td>\n",
       "      <td>0.043769</td>\n",
       "    </tr>\n",
       "    <tr>\n",
       "      <th>노선정류장수</th>\n",
       "      <td>0.370502</td>\n",
       "      <td>1.000000</td>\n",
       "      <td>0.579305</td>\n",
       "      <td>0.573441</td>\n",
       "      <td>-0.048908</td>\n",
       "    </tr>\n",
       "    <tr>\n",
       "      <th>총인구수</th>\n",
       "      <td>0.399047</td>\n",
       "      <td>0.579305</td>\n",
       "      <td>1.000000</td>\n",
       "      <td>0.990646</td>\n",
       "      <td>0.402394</td>\n",
       "    </tr>\n",
       "    <tr>\n",
       "      <th>노인(수)</th>\n",
       "      <td>0.389275</td>\n",
       "      <td>0.573441</td>\n",
       "      <td>0.990646</td>\n",
       "      <td>1.000000</td>\n",
       "      <td>0.396673</td>\n",
       "    </tr>\n",
       "    <tr>\n",
       "      <th>인구_대비_정류장수</th>\n",
       "      <td>0.043769</td>\n",
       "      <td>-0.048908</td>\n",
       "      <td>0.402394</td>\n",
       "      <td>0.396673</td>\n",
       "      <td>1.000000</td>\n",
       "    </tr>\n",
       "  </tbody>\n",
       "</table>\n",
       "</div>"
      ],
      "text/plain": [
       "               usage    노선정류장수      총인구수     노인(수)  인구_대비_정류장수\n",
       "usage       1.000000  0.370502  0.399047  0.389275    0.043769\n",
       "노선정류장수      0.370502  1.000000  0.579305  0.573441   -0.048908\n",
       "총인구수        0.399047  0.579305  1.000000  0.990646    0.402394\n",
       "노인(수)       0.389275  0.573441  0.990646  1.000000    0.396673\n",
       "인구_대비_정류장수  0.043769 -0.048908  0.402394  0.396673    1.000000"
      ]
     },
     "execution_count": 153,
     "metadata": {},
     "output_type": "execute_result"
    }
   ],
   "source": [
    "total_data[use_col].corr()"
   ]
  },
  {
   "cell_type": "code",
   "execution_count": 154,
   "metadata": {},
   "outputs": [],
   "source": [
    "impute_total_data = pd.DataFrame(IterativeImputer(random_state=0).fit_transform(total_data[use_col]))\n",
    "impute_total_data.columns = use_col\n",
    "impute_total_data[\"usage\"] = impute_total_data[\"usage\"].round(0)"
   ]
  },
  {
   "cell_type": "code",
   "execution_count": 155,
   "metadata": {},
   "outputs": [],
   "source": [
    "total_data[use_col] = impute_total_data"
   ]
  },
  {
   "cell_type": "code",
   "execution_count": 156,
   "metadata": {},
   "outputs": [],
   "source": [
    "total_busdata[use_col] = impute_total_data"
   ]
  },
  {
   "cell_type": "code",
   "execution_count": 159,
   "metadata": {},
   "outputs": [
    {
     "data": {
      "text/plain": [
       "city_name               0\n",
       "routeno                 0\n",
       "routetp                 0\n",
       "startnodenm             0\n",
       "endnodenm               0\n",
       "startvehicletime        0\n",
       "endvehicletime          0\n",
       "intervaltime            0\n",
       "intervalsattime         0\n",
       "intervalsuntime         0\n",
       "usage                   0\n",
       "노선정류장수                  0\n",
       "노선거리(km)                0\n",
       "굴곡도                     0\n",
       "start                   0\n",
       "end                     0\n",
       "total_operating_time    0\n",
       "interval_avg            0\n",
       "num_bus                 0\n",
       "총인구수                    0\n",
       "노인(수)                   0\n",
       "인구_대비_정류장수              0\n",
       "dtype: int64"
      ]
     },
     "execution_count": 159,
     "metadata": {},
     "output_type": "execute_result"
    }
   ],
   "source": [
    "total_busdata.isna().sum()"
   ]
  },
  {
   "cell_type": "code",
   "execution_count": 158,
   "metadata": {},
   "outputs": [],
   "source": [
    "total_busdata.to_csv(\"../data/weight_data.csv\", index=False)"
   ]
  },
  {
   "cell_type": "code",
   "execution_count": 78,
   "metadata": {},
   "outputs": [],
   "source": [
    "# def imputer_validate_processor(\n",
    "#     train_set,\n",
    "#     valid_set, \n",
    "#     y_name = \"usage\"\n",
    "#     ):\n",
    "        \n",
    "#     y_valid_true = valid_set[y_name]\n",
    "#     valid_set[\"usage\"] = np.array(np.nan)\n",
    "\n",
    "#     imputer = IterativeImputer(random_state=0)\n",
    "#     imputer.fit(train_set)\n",
    "#     imputer_valid_set = pd.DataFrame(imputer.transform(valid_set))\n",
    "\n",
    "#     imputer_valid_set.columns = valid_set.columns\n",
    "#     imputer_valid_set[\"usage\"] = imputer_valid_set[\"usage\"].round(0)\n",
    "\n",
    "#     return {\"y_valid_true\" : y_valid_true, \n",
    "#             \"y_valid_pred\" : imputer_valid_set[\"usage\"], \n",
    "#             \"rmse\" : mean_squared_error(y_valid_true, imputer_valid_set[\"usage\"], squared=False)}\n",
    "    "
   ]
  },
  {
   "cell_type": "code",
   "execution_count": 79,
   "metadata": {},
   "outputs": [],
   "source": [
    "# data_train = data[~data.isna()]\n",
    "# data_test = data[data.isna()]\n",
    "\n",
    "# train_set, valid_set = train_test_split(\n",
    "#     data_train, \n",
    "#     test_size=0.2, \n",
    "#     random_state=0\n",
    "#     )"
   ]
  },
  {
   "cell_type": "code",
   "execution_count": 80,
   "metadata": {},
   "outputs": [],
   "source": [
    "# result = imputer_validate_processor(train_set, valid_set)"
   ]
  },
  {
   "cell_type": "code",
   "execution_count": 81,
   "metadata": {},
   "outputs": [
    {
     "data": {
      "text/plain": [
       "{'y_valid_true': 706     294.0\n",
       " 715     531.0\n",
       " 739     959.0\n",
       " 708     607.0\n",
       " 691    2074.0\n",
       " 682    1085.0\n",
       " 714     293.0\n",
       " 738    1573.0\n",
       " 720      83.0\n",
       " 702    4323.0\n",
       " 684    2309.0\n",
       " 690     831.0\n",
       " Name: usage, dtype: float64,\n",
       " 'y_valid_pred': 0      891.0\n",
       " 1     1455.0\n",
       " 2      232.0\n",
       " 3     1333.0\n",
       " 4     2472.0\n",
       " 5     1425.0\n",
       " 6     1077.0\n",
       " 7      171.0\n",
       " 8      299.0\n",
       " 9      295.0\n",
       " 10    3472.0\n",
       " 11    1696.0\n",
       " Name: usage, dtype: float64,\n",
       " 'rmse': np.float64(1399.1749950119415)}"
      ]
     },
     "execution_count": 81,
     "metadata": {},
     "output_type": "execute_result"
    }
   ],
   "source": [
    "# result"
   ]
  },
  {
   "cell_type": "code",
   "execution_count": 65,
   "metadata": {},
   "outputs": [],
   "source": [
    "# imputer = IterativeImputer(random_state=0)\n",
    "# imputer.fit(sc)\n",
    "# sc_valid_imputer = pd.DataFrame(imputer.transform(sc_valid_))\n",
    "\n",
    "# sc_valid_imputer.columns = sc_valid_.columns\n",
    "# # sc_valid_imputer[\"usage\"] = sc_valid_imputer[\"usage\"].round(0)"
   ]
  },
  {
   "cell_type": "code",
   "execution_count": 66,
   "metadata": {},
   "outputs": [
    {
     "data": {
      "text/plain": [
       "706     294.0\n",
       "715     531.0\n",
       "739     959.0\n",
       "708     607.0\n",
       "691    2074.0\n",
       "682    1085.0\n",
       "714     293.0\n",
       "738    1573.0\n",
       "720      83.0\n",
       "702    4323.0\n",
       "684    2309.0\n",
       "690     831.0\n",
       "Name: usage, dtype: float64"
      ]
     },
     "execution_count": 66,
     "metadata": {},
     "output_type": "execute_result"
    }
   ],
   "source": [
    "# sc_valid_y"
   ]
  },
  {
   "cell_type": "code",
   "execution_count": 67,
   "metadata": {},
   "outputs": [
    {
     "data": {
      "text/plain": [
       "0      963.077985\n",
       "1     1384.559244\n",
       "2      416.576267\n",
       "3     1322.139555\n",
       "4     2248.871201\n",
       "5     1410.975637\n",
       "6     1088.758209\n",
       "7      366.226634\n",
       "8      435.186376\n",
       "9      453.525448\n",
       "10    3056.147797\n",
       "11    1621.298812\n",
       "Name: usage, dtype: float64"
      ]
     },
     "execution_count": 67,
     "metadata": {},
     "output_type": "execute_result"
    }
   ],
   "source": [
    "# sc_valid_imputer[\"usage\"]"
   ]
  },
  {
   "cell_type": "code",
   "execution_count": 68,
   "metadata": {},
   "outputs": [
    {
     "data": {
      "text/plain": [
       "np.float64(1306.6471263956723)"
      ]
     },
     "execution_count": 68,
     "metadata": {},
     "output_type": "execute_result"
    }
   ],
   "source": [
    "# mean_squared_error(sc_valid_y, sc_valid_imputer[\"usage\"], squared=False)"
   ]
  },
  {
   "cell_type": "code",
   "execution_count": 69,
   "metadata": {},
   "outputs": [
    {
     "data": {
      "text/plain": [
       "<matplotlib.legend.Legend at 0x2696f6fd730>"
      ]
     },
     "execution_count": 69,
     "metadata": {},
     "output_type": "execute_result"
    },
    {
     "data": {
      "image/png": "[encoded data removed]",
      "text/plain": [
       "<Figure size 640x480 with 1 Axes>"
      ]
     },
     "metadata": {},
     "output_type": "display_data"
    }
   ],
   "source": [
    "# import seaborn as sns\n",
    "# import matplotlib.pyplot as plt\n",
    "# sns.kdeplot(sc_valid_y, color=\"r\", label=\"True\")\n",
    "# sns.kdeplot(sc_valid_imputer[\"usage\"], color=\"b\", label=\"Pred\")\n",
    "# plt.legend()"
   ]
  },
  {
   "cell_type": "code",
   "execution_count": null,
   "metadata": {},
   "outputs": [],
   "source": []
  }
 ],
 "metadata": {
  "kernelspec": {
   "display_name": "gyeongn",
   "language": "python",
   "name": "python3"
  },
  "language_info": {
   "codemirror_mode": {
    "name": "ipython",
    "version": 3
   },
   "file_extension": ".py",
   "mimetype": "text/x-python",
   "name": "python",
   "nbconvert_exporter": "python",
   "pygments_lexer": "ipython3",
   "version": "3.12.4"
  }
 },
 "nbformat": 4,
 "nbformat_minor": 2
}
