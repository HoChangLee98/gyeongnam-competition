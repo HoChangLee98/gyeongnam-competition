{
 "cells": [
  {
   "cell_type": "code",
   "execution_count": 2,
   "metadata": {},
   "outputs": [],
   "source": [
    "import pandas as pd\n",
    "import warnings\n",
    "warnings.filterwarnings('ignore')"
   ]
  },
  {
   "cell_type": "code",
   "execution_count": 3,
   "metadata": {},
   "outputs": [],
   "source": [
    "busroute_usage = pd.read_csv(\n",
    "    filepath_or_buffer=\"../data/gyeongn_busroute_total.csv\"\n",
    "    )"
   ]
  },
  {
   "cell_type": "code",
   "execution_count": 10,
   "metadata": {},
   "outputs": [
    {
     "data": {
      "text/plain": [
       "array(['800', '800-1', '800-2', '810-2', '810', '880', '820-1', '810-1',\n",
       "       '800-3', '500-1', '510-2', '500', '500-2', '200-1', '210', '530',\n",
       "       '530-1', '660', '100-1', '300', '300-1', '300-2', '700', '700-1',\n",
       "       '700-4', '700-3', '710-2', '710-3', '710', '710-1', '320', '370',\n",
       "       '370-1', '600', '600-1', '500-3', '510-1', '510-3', '110-1',\n",
       "       '110-4', '110-2', '110-3', '110-5', '100-2', '410-5', '410',\n",
       "       '410-3', '120', '120-10', '120-6', '120-5', '120-1', '200',\n",
       "       '200-3', '210-2', '200-4', '210-1', '220', '550', '550-1', '820-2',\n",
       "       '400', '420', '420-4', '420-3', '420-1', '310-2', '310-1', '310-4',\n",
       "       '310', '310-3', '360', '350', '380', '140', '140-1', '100', '670',\n",
       "       '110-10', '110-8', '390', '340', '340-1', '330', '110-7', '110-9',\n",
       "       '110-12', '100-4', '100-3', '150-1', '900-3', '900', '900-1',\n",
       "       '900-4', '900-2', '180', '170', '130', '650', '650-1', '110-6',\n",
       "       '400-4', '808', '400-3', '410-2', '410-6', '630', '650-3', '710-4',\n",
       "       '690', '620-1', '120-3', '550-3', '750-1', '680', '610', '670-1',\n",
       "       '630-1', '210-3', '550-2', '750', '690-1', '880-1', '650-2', '620',\n",
       "       '410-4', '400-1', '350-1', '350-2', '360-2', '360-1', '150', '160',\n",
       "       '160-1', '170-1', '900-5', '170-2', '900-6', '900-8', '120-9',\n",
       "       '120-4', '200-2', '410-1', '610-1', '660-1', '670-2', '810-3',\n",
       "       '110-13', '120-7'], dtype=object)"
      ]
     },
     "execution_count": 10,
     "metadata": {},
     "output_type": "execute_result"
    }
   ],
   "source": [
    "busroute_usage[busroute_usage[\"city_name\"] == \"합천군\"][\"routeno\"].unique()"
   ]
  },
  {
   "cell_type": "code",
   "execution_count": 24,
   "metadata": {},
   "outputs": [],
   "source": [
    "# none_city_list = ['함양군', '고성군', '남해군']\n",
    "# for city_name in none_city_list:\n",
    "#     route_inform_data = {}\n",
    "#     route_inform_data[f\"{city_name}\"] = {}\n",
    "#     for routeno in busroute_usage[busroute_usage[\"city_name\"] == f\"{city_name}\"][\"routeno\"].unique():    \n",
    "#         route_inform_data[f\"{city_name}\"][f\"{routeno}\"] = {}\n",
    "#         route_inform_data[f\"{city_name}\"][f\"{routeno}\"][\"노선정류장수\"] = None\n",
    "#         route_inform_data[f\"{city_name}\"][f\"{routeno}\"][\"노선거리(km)\"] = None\n",
    "#         route_inform_data[f\"{city_name}\"][f\"{routeno}\"][\"굴곡도\"] = None\n",
    "        \n",
    "#     # 데이터 로드\n",
    "#     with open(f'../data/버스정보데이터/{city_name}_inform.pkl', 'wb') as f:\n",
    "#         pickle.dump(route_inform_data, f)"
   ]
  },
  {
   "cell_type": "code",
   "execution_count": 4,
   "metadata": {},
   "outputs": [],
   "source": [
    "## 고성군\n",
    "city_name = \"고성군\"\n",
    "route_usage_data = {}\n",
    "route_usage_data[f\"{city_name}\"] = {}\n",
    "for routeno in busroute_usage[busroute_usage[\"city_name\"] == f\"{city_name}\"][\"routeno\"].unique():    \n",
    "    route_usage_data[f\"{city_name}\"][f\"{routeno}\"] = None"
   ]
  },
  {
   "cell_type": "code",
   "execution_count": 6,
   "metadata": {},
   "outputs": [
    {
     "data": {
      "text/plain": [
       "25"
      ]
     },
     "execution_count": 6,
     "metadata": {},
     "output_type": "execute_result"
    }
   ],
   "source": [
    "len(busroute_usage[busroute_usage[\"city_name\"] == f\"{city_name}\"][\"routeno\"].unique())"
   ]
  },
  {
   "cell_type": "code",
   "execution_count": 5,
   "metadata": {},
   "outputs": [
    {
     "data": {
      "text/plain": [
       "{'고성군': {'000': None,\n",
       "  '111': None,\n",
       "  '222': None,\n",
       "  '767': None,\n",
       "  '753': None,\n",
       "  '999': None,\n",
       "  '000-1': None,\n",
       "  '333': None,\n",
       "  '111-1': None,\n",
       "  '989': None,\n",
       "  '999-1': None,\n",
       "  '777': None,\n",
       "  '212': None,\n",
       "  '111-2': None,\n",
       "  '989-1': None,\n",
       "  '999-2': None,\n",
       "  '225': None,\n",
       "  '557': None,\n",
       "  '553': None,\n",
       "  '657': None,\n",
       "  '233': None,\n",
       "  '333-1': None,\n",
       "  '333-2': None,\n",
       "  '756': None,\n",
       "  '770': None}}"
      ]
     },
     "execution_count": 5,
     "metadata": {},
     "output_type": "execute_result"
    }
   ],
   "source": [
    "route_usage_data"
   ]
  },
  {
   "cell_type": "code",
   "execution_count": 8,
   "metadata": {},
   "outputs": [],
   "source": [
    "# ## 데이터 로드\n",
    "# import pickle\n",
    "# with open(f'../data/버스이용데이터/{city_name}_usage.pkl', 'wb') as f:\n",
    "#     pickle.dump(route_usage_data, f)"
   ]
  },
  {
   "cell_type": "code",
   "execution_count": 9,
   "metadata": {},
   "outputs": [],
   "source": [
    "# route_inform_data = {\"남해군\" : {\n",
    "#     \"010\" : None, \"011\" : None, \"012\" : None, \"013\" : None, \"014\" : None, \"015\" : None, \n",
    "#     \"020\" : None, \"030\" : 1117, \"040\" : 60, \"050\" : None, \"060\" : None, \n",
    "#     \"101\" : 197, \"102\" : 83, \n",
    "#     \"201\" : 197, \"202\" : 83, \"203\" : 45, \"204\" : 45, \n",
    "#     \"301\" : 65, \"302\" : 127, \"303\" : 62, \"304\" : None, \"305\" : None, \n",
    "#     \"401\" : 125, \"402\" : 384, \"403\" : 34, \"404\" : 118, \"405\" : 134, \"406\" : 127, \"407\" : 102, \"408\" : 134,\n",
    "#     \"802-1\" : 206, \"803-1\" : 206, \"803\" : 206, \"804\" : 206, \"805-1\" : 206,\n",
    "#     \"801\" : 206, \"804-1\" : 206, \"801-1\" : 206, \"802\" : 206, \"805\" : 206,\n",
    "#     \"700\" : 311, \"701\" : 311, \"601\" : 314, \"602\" : 314, \"603\" : 314,\n",
    "#     \"501\" : 781, \"500\" : 781, \"502\" : 781, \"503\" : 781, \"504\" : 781,\n",
    "# }}"
   ]
  },
  {
   "cell_type": "code",
   "execution_count": 12,
   "metadata": {},
   "outputs": [],
   "source": [
    "import pickle\n",
    "# with open(f'../data/버스정보데이터/남해군_inform.pkl', 'wb') as f: \n",
    "#     pickle.dump(route_inform_data, f)"
   ]
  },
  {
   "cell_type": "code",
   "execution_count": 19,
   "metadata": {},
   "outputs": [],
   "source": [
    "# # 데이터 로드\n",
    "# with open('../data/버스정보데이터/거창군_inform.pkl', 'rb') as f:\n",
    "# \tdata = pickle.load(f)"
   ]
  }
 ],
 "metadata": {
  "kernelspec": {
   "display_name": "gyeongn",
   "language": "python",
   "name": "python3"
  },
  "language_info": {
   "codemirror_mode": {
    "name": "ipython",
    "version": 3
   },
   "file_extension": ".py",
   "mimetype": "text/x-python",
   "name": "python",
   "nbconvert_exporter": "python",
   "pygments_lexer": "ipython3",
   "version": "3.12.4"
  }
 },
 "nbformat": 4,
 "nbformat_minor": 2
}
