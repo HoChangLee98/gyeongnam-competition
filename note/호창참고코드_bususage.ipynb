{
 "cells": [
  {
   "cell_type": "markdown",
   "metadata": {},
   "source": [
    "# 실행 전 requirements.txt 터미널에서 받아주세요!\n",
    "\n",
    "### 버스 노선 데이터 노선별 이용량 추출\n",
    "교통카드빅데이터 통합 정보 시스템: https://stcis.go.kr/pivotIndi/wpsPivotIndicator.do?siteGb=P&indiClss=IC03&indiSel=IC0301\n"
   ]
  },
  {
   "cell_type": "code",
   "execution_count": 1,
   "metadata": {},
   "outputs": [],
   "source": [
    "import pandas as pd\n",
    "import warnings\n",
    "warnings.filterwarnings('ignore')"
   ]
  },
  {
   "cell_type": "code",
   "execution_count": 2,
   "metadata": {},
   "outputs": [],
   "source": [
    "busroute_usage = pd.read_csv(\n",
    "    filepath_or_buffer=\"../data/gyeongn_busroute_total.csv\"\n",
    "    )"
   ]
  },
  {
   "cell_type": "code",
   "execution_count": 3,
   "metadata": {},
   "outputs": [
    {
     "name": "stdout",
     "output_type": "stream",
     "text": [
      "<class 'pandas.core.frame.DataFrame'>\n",
      "RangeIndex: 2513 entries, 0 to 2512\n",
      "Data columns (total 12 columns):\n",
      " #   Column            Non-Null Count  Dtype  \n",
      "---  ------            --------------  -----  \n",
      " 0   city_name         2513 non-null   object \n",
      " 1   city_code         2513 non-null   int64  \n",
      " 2   routeid           2513 non-null   object \n",
      " 3   routeno           2513 non-null   object \n",
      " 4   routetp           2513 non-null   object \n",
      " 5   startnodenm       2513 non-null   object \n",
      " 6   endnodenm         2513 non-null   object \n",
      " 7   startvehicletime  1413 non-null   float64\n",
      " 8   endvehicletime    1334 non-null   float64\n",
      " 9   intervaltime      1056 non-null   float64\n",
      " 10  intervalsattime   159 non-null    float64\n",
      " 11  intervalsuntime   152 non-null    float64\n",
      "dtypes: float64(5), int64(1), object(6)\n",
      "memory usage: 235.7+ KB\n"
     ]
    }
   ],
   "source": [
    "busroute_usage.info()"
   ]
  },
  {
   "cell_type": "code",
   "execution_count": 4,
   "metadata": {},
   "outputs": [
    {
     "data": {
      "text/plain": [
       "array(['창원시', '진주시', '통영시', '사천시', '김해시', '밀양시', '거제시', '양산시', '의령군',\n",
       "       '함안군', '창녕군', '고성군', '남해군', '하동군', '산청군', '함양군', '거창군', '합천군'],\n",
       "      dtype=object)"
      ]
     },
     "execution_count": 4,
     "metadata": {},
     "output_type": "execute_result"
    }
   ],
   "source": [
    "busroute_usage[\"city_name\"].unique()"
   ]
  },
  {
   "cell_type": "code",
   "execution_count": 8,
   "metadata": {},
   "outputs": [
    {
     "data": {
      "text/html": [
       "<div>\n",
       "<style scoped>\n",
       "    .dataframe tbody tr th:only-of-type {\n",
       "        vertical-align: middle;\n",
       "    }\n",
       "\n",
       "    .dataframe tbody tr th {\n",
       "        vertical-align: top;\n",
       "    }\n",
       "\n",
       "    .dataframe thead th {\n",
       "        text-align: right;\n",
       "    }\n",
       "</style>\n",
       "<table border=\"1\" class=\"dataframe\">\n",
       "  <thead>\n",
       "    <tr style=\"text-align: right;\">\n",
       "      <th></th>\n",
       "      <th>city_name</th>\n",
       "      <th>city_code</th>\n",
       "      <th>routeid</th>\n",
       "      <th>routeno</th>\n",
       "      <th>routetp</th>\n",
       "      <th>startnodenm</th>\n",
       "      <th>endnodenm</th>\n",
       "      <th>startvehicletime</th>\n",
       "      <th>endvehicletime</th>\n",
       "      <th>intervaltime</th>\n",
       "      <th>intervalsattime</th>\n",
       "      <th>intervalsuntime</th>\n",
       "    </tr>\n",
       "  </thead>\n",
       "  <tbody>\n",
       "    <tr>\n",
       "      <th>0</th>\n",
       "      <td>창원시</td>\n",
       "      <td>38010</td>\n",
       "      <td>CWB379000010</td>\n",
       "      <td>1</td>\n",
       "      <td>마을버스</td>\n",
       "      <td>신전</td>\n",
       "      <td>창원역</td>\n",
       "      <td>540.0</td>\n",
       "      <td>2210.0</td>\n",
       "      <td>40.0</td>\n",
       "      <td>40.0</td>\n",
       "      <td>40.0</td>\n",
       "    </tr>\n",
       "  </tbody>\n",
       "</table>\n",
       "</div>"
      ],
      "text/plain": [
       "  city_name  city_code       routeid routeno routetp startnodenm endnodenm  \\\n",
       "0       창원시      38010  CWB379000010       1    마을버스          신전       창원역   \n",
       "\n",
       "   startvehicletime  endvehicletime  intervaltime  intervalsattime  \\\n",
       "0             540.0          2210.0          40.0             40.0   \n",
       "\n",
       "   intervalsuntime  \n",
       "0             40.0  "
      ]
     },
     "execution_count": 8,
     "metadata": {},
     "output_type": "execute_result"
    }
   ],
   "source": [
    "busroute_usage[(busroute_usage[\"city_name\"] == \"창원시\") & (busroute_usage[\"routeno\"] == \"1\")]"
   ]
  },
  {
   "cell_type": "markdown",
   "metadata": {},
   "source": [
    "#### 웹에서 파일 다운로드하는 크롤러 만들기"
   ]
  },
  {
   "cell_type": "code",
   "execution_count": 46,
   "metadata": {},
   "outputs": [],
   "source": [
    "from selenium import webdriver as wb\n",
    "from selenium.webdriver.common.by import By\n",
    "from selenium.webdriver.support.ui import WebDriverWait\n",
    "from selenium.webdriver.support import expected_conditions as EC\n",
    "from selenium.webdriver.chrome.options import Options\n",
    "from selenium.webdriver.support.ui import Select"
   ]
  },
  {
   "cell_type": "code",
   "execution_count": 47,
   "metadata": {},
   "outputs": [
    {
     "name": "stdout",
     "output_type": "stream",
     "text": [
      "Error : 일치하는 노선이 존재하지 않습니다.\n"
     ]
    }
   ],
   "source": [
    "city_name = \"창원시\" ## \"창원시\" 김해시\n",
    "startnodenm = \"신전\" ## 롯데아울렛(기점)\n",
    "routeno = 1\n",
    "findtime = 10000\n",
    "\n",
    "route_usage_data = {}\n",
    "\n",
    "\n",
    "if city_name == \"창원시\":\n",
    "    region_button_selector = \"48123_48127_48125_48120_48121_48129\"\n",
    "    \n",
    "elif city_name == \"진주시\":\n",
    "    region_button_selector = \"48170\"\n",
    "    \n",
    "elif city_name == \"통영시\":\n",
    "    region_button_selector = \"48220\"\n",
    "    \n",
    "elif city_name == \"사천시\":\n",
    "    region_button_selector = \"48240\"\n",
    "    \n",
    "elif city_name == \"김해시\":\n",
    "    region_button_selector = \"48250\"\n",
    "    \n",
    "elif city_name == \"밀양시\":\n",
    "    region_button_selector = \"48270\"\n",
    "        \n",
    "elif city_name == \"거제시\":\n",
    "    region_button_selector = \"48310\"\n",
    "    \n",
    "elif city_name == \"양산시\":\n",
    "    region_button_selector = \"48330\"\n",
    "    \n",
    "elif city_name == \"의령군\":\n",
    "    region_button_selector = \"48720\"\n",
    "    \n",
    "elif city_name == \"함안군\":\n",
    "    region_button_selector = \"48730\"\n",
    "    \n",
    "elif city_name == \"창녕군\":\n",
    "    region_button_selector = \"48740\"\n",
    "    \n",
    "elif city_name == \"고성군\":\n",
    "    region_button_selector = \"48820\"\n",
    "    \n",
    "elif city_name == \"남해군\":\n",
    "    region_button_selector = \"48840\"\n",
    "    \n",
    "elif city_name == \"하동군\":\n",
    "    region_button_selector = \"48850\"\n",
    "    \n",
    "elif city_name == \"산청군\":\n",
    "    region_button_selector = \"48860\"\n",
    "    \n",
    "elif city_name == \"함양군\":\n",
    "    region_button_selector = \"48870\"\n",
    "\n",
    "elif city_name == \"거창군\":\n",
    "    region_button_selector = \"48880\"\n",
    "    \n",
    "elif city_name == \"합천군\":\n",
    "    region_button_selector = \"48890\"\n",
    "    \n",
    "else:\n",
    "    raise ValueError(f\"Unknown city_name: {city_name}\")\n",
    "\n",
    "\n",
    "options = Options()\n",
    "options.add_experimental_option(\"excludeSwitches\", [\"enable-automation\"])\n",
    "driver = wb.Chrome(options = options)\n",
    "\n",
    "\n",
    "## 교통카드빅데이터 종합정보시스템 -> 노선별 이용량 조회 url\n",
    "driver.get(\"https://stcis.go.kr/pivotIndi/wpsPivotIndicator.do?siteGb=P&indiClss=IC03&indiSel=IC0301\")\n",
    "\n",
    "## 클릭 함수\n",
    "def driver_clickable_processor(css_selector_value):\n",
    "    click = WebDriverWait(driver, findtime).until(\n",
    "        EC.element_to_be_clickable((By.CSS_SELECTOR, css_selector_value))\n",
    "    )    \n",
    "    driver.execute_script(\"arguments[0].scrollIntoView();\", click)\n",
    "    driver.execute_script(\"arguments[0].click();\", click)    \n",
    "    \n",
    "    return click\n",
    "\n",
    "## 텍스트 추출 함수 \n",
    "def driver_extract_text_processor(css_selector_value):\n",
    "    element = WebDriverWait(driver, findtime).until(\n",
    "                    EC.presence_of_element_located((\n",
    "                        By.CSS_SELECTOR, \n",
    "                        css_selector_value\n",
    "                        ))\n",
    "                )\n",
    "    return element.text\n",
    "\n",
    "## 기간선택 -> 월 클릭\n",
    "driver_clickable_processor(\"#divRdoDate > li:nth-child(2)\")\n",
    "\n",
    "\n",
    "## 공간선택 -> 검색명에 city_name 입력 후 검색 클릭\n",
    "click = driver_clickable_processor(\"#searchRouteSpaceNm\")\n",
    "click.send_keys(f\"{city_name}\")\n",
    "\n",
    "\n",
    "## 검색 버튼 클릭\n",
    "click = driver_clickable_processor(\"#space4 > li.box_flex > button\")\n",
    "\n",
    "\n",
    "## 시도 박스 클릭\n",
    "dropdown = Select(driver.find_element(By.XPATH, '//*[@id=\"searchPopZoneSd\"]'))\n",
    "dropdown.select_by_index(14)\n",
    "\n",
    "\n",
    "## 지역 버튼 클릭 > 지역마다 클릭 버튼이 다름\n",
    "dropdown = Select(driver.find_element(By.XPATH, '//*[@id=\"searchPopZoneSgg\"]'))\n",
    "dropdown.select_by_value(region_button_selector)\n",
    "\n",
    "\n",
    "## 노선명 입력칸 클릭 -> 노선번호(명) 입력\n",
    "route_name_input = driver_clickable_processor(\"#popupSearchRouteNo\")\n",
    "route_name_input.send_keys(f\"{routeno}\")\n",
    "\n",
    "\n",
    "## 검색 버튼 클릭\n",
    "search_button = driver_clickable_processor(\"#route_space1 > li.box_flex > button\")\n",
    "\n",
    "\n",
    "## 노선명과 기종점이 같은지 확인\n",
    "routeno_len = int(WebDriverWait(driver, findtime).until(\n",
    "    EC.element_to_be_clickable((By.CLASS_NAME, 'pop_box'))\n",
    ").text.split()[2])\n",
    "\n",
    "\n",
    "try:\n",
    "    ## 검색결과 한개인 경우\n",
    "    WebDriverWait(driver, findtime).until(\n",
    "        EC.presence_of_element_located((By.CSS_SELECTOR, \"#divBusLineList > div.pop_box > table > tbody\"))\n",
    "    )\n",
    "    if routeno_len == 1:\n",
    "        check_routeno = driver.find_element(\n",
    "            By.CSS_SELECTOR, \n",
    "            \"#divBusLineList > div.pop_box > table > tbody > tr > td:nth-child(2)\"\n",
    "            ).text\n",
    "\n",
    "        check_startnodem = driver.find_element(\n",
    "            By.CSS_SELECTOR, \n",
    "            \"#divBusLineList > div.pop_box > table > tbody > tr > td:nth-child(4)\"\n",
    "            ).text.split(\" - \")[0]\n",
    "\n",
    "\n",
    "        ## 노선명과 기종점이 일치할 경우 체크 박스 클릭\n",
    "        if check_routeno == str(routeno) and check_startnodem == startnodenm:\n",
    "            check_click = driver_clickable_processor(\"#divBusLineList > div.pop_box > table > tbody > tr > td:nth-child(1) > div > label > div\")\n",
    "            select_button = driver_clickable_processor(\"#popupBusLine > div:nth-child(4) > button\")\n",
    "            \n",
    "            ## 이용자유형, 시간대 체크 표시 없애기\n",
    "            type_no_check = driver_clickable_processor(\"#divChkDmn > li:nth-child(8) > label > div\")            \n",
    "            time_no_check = driver_clickable_processor(\"#divChkDmn > li:nth-child(9) > label > div\")\n",
    "            \n",
    "            ## 검색결과조회 버튼 클릭\n",
    "            search_click = driver_clickable_processor(\"#btnSearch > button\")\n",
    "                        \n",
    "            ## 경고 메세지 \"확인\" 클릭\n",
    "            try:\n",
    "                WebDriverWait(driver, findtime).until(\n",
    "                    EC.alert_is_present()\n",
    "                )\n",
    "                alert = driver.switch_to.alert\n",
    "                alert.accept()  # '확인' 클릭\n",
    "            except Exception as e:\n",
    "                print(f\"팝업 처리 오류: {e}\")\n",
    "             \n",
    "            ## 노선 이용량 추출\n",
    "            route_usage_element = driver_extract_text_processor(\"#pivotGrid > div > div:nth-child(2) > div.wj-cells > div:nth-child(2) > div\")\n",
    "            route_usage_int = int(route_usage_element.replace(\",\", \"\"))\n",
    "\n",
    "            route_usage_data[f\"{city_name}\"] = {}\n",
    "            route_usage_data[f\"{city_name}\"][f\"{routeno}\"] = {}\n",
    "            route_usage_data[f\"{city_name}\"][f\"{routeno}\"][\"이용량\"] = route_usage_int\n",
    "            \n",
    "    ## 검색결과 여러 개인 경우\n",
    "    else:         \n",
    "        for i in range(1, routeno_len+1):\n",
    "            check_routeno = driver.find_element(\n",
    "                By.CSS_SELECTOR, \n",
    "                f\"#divBusLineList > div.pop_box > table > tbody > tr:nth-child({i}) > td:nth-child(2)\"\n",
    "                ).text\n",
    "\n",
    "            check_startnodem = driver.find_element(\n",
    "                By.CSS_SELECTOR, \n",
    "                f\"#divBusLineList > div.pop_box > table > tbody > tr:nth-child({i}) > td:nth-child(4)\"\n",
    "                ).text\n",
    "        \n",
    "        \n",
    "except:\n",
    "    # 요소가 존재하지 않을 때 수행할 작업\n",
    "    print(\"Error : 일치하는 노선이 존재하지 않습니다.\")\n"
   ]
  },
  {
   "cell_type": "code",
   "execution_count": 45,
   "metadata": {},
   "outputs": [
    {
     "data": {
      "text/plain": [
       "{'김해시': {'25': {'이용량': 42341}}}"
      ]
     },
     "execution_count": 45,
     "metadata": {},
     "output_type": "execute_result"
    }
   ],
   "source": [
    "route_usage_data"
   ]
  },
  {
   "cell_type": "code",
   "execution_count": null,
   "metadata": {},
   "outputs": [],
   "source": [
    "#pivotGrid > div > div:nth-child(4) > div > div:nth-child(3) > div:nth-child(2) > div"
   ]
  },
  {
   "cell_type": "code",
   "execution_count": 68,
   "metadata": {},
   "outputs": [
    {
     "data": {
      "text/plain": [
       "'롯데아울렛(기점)'"
      ]
     },
     "execution_count": 68,
     "metadata": {},
     "output_type": "execute_result"
    }
   ],
   "source": [
    "check_startnodem.split(\" - \")[0]"
   ]
  },
  {
   "cell_type": "markdown",
   "metadata": {},
   "source": [
    "## 정류장 별 인원 수 필요할 경우 사용"
   ]
  },
  {
   "cell_type": "code",
   "execution_count": null,
   "metadata": {},
   "outputs": [],
   "source": [
    "            # ## 정류장 별 이용량 추출\n",
    "            # first_busstop_element = driver_extract_text_processor(\"#pivotGrid > div > div:nth-child(4) > div > div:nth-child(2) > div:nth-child(5) > div\")\n",
    "            # first_busstop_usage_element = driver_extract_text_processor(\"#pivotGrid > div > div:nth-child(2) > div.wj-cells > div:nth-child(3) > div\")            \n",
    "\n",
    "            # first_busstop_usage_int = int(first_busstop_usage_element.replace(\",\", \"\"))\n",
    "            # route_usage_data[f\"{city_name}\"][f\"{routeno}\"][first_busstop_element] = first_busstop_usage_int\n",
    "            \n",
    "\n",
    "            # i = 2\n",
    "            # while True:\n",
    "            #     try:  \n",
    "            #         while True: \n",
    "            #             scroll_element = driver.find_element(By.CSS_SELECTOR, \"#pivotGrid > div > div:nth-child(2)\")\n",
    "            #             driver.execute_script(\"window.scrollTo(0, 0)\", scroll_element)\n",
    "\n",
    "            #             if (curr)\n",
    "            #         # # 현재 스크롤 전체 길이 추출 \n",
    "            #         # print(driver.execute_script(\"return document.body.scrollHeight\"))\n",
    "\n",
    "            #         # # 현재 스크롤 좌표 추출 \n",
    "            #         # print(driver.execute_script(\"return window.pageYOffset\") )\n",
    "\n",
    "            #         # # 지정 좌표로 스크롤 이동 \n",
    "            #         # print(driver.execute_script(\"window.scrollTo(0, 0)\"))\n",
    "                    \n",
    "            #         #pivotGrid > div > div:nth-child(2)\n",
    "            #         #pivotGrid > div > div:nth-child(2)\n",
    "            #         scroll_element = driver.find_element(By.CSS_SELECTOR, \"#pivotGrid > div > div:nth-child(2)\")\n",
    "            #         driver.execute_script(\"window.scrollTo(0, 0)\", scroll_element)\n",
    "\n",
    "            #         busstop_element = driver_extract_text_processor(f\"#pivotGrid > div > div:nth-child(4) > div > div:nth-child({i}) > div:nth-child(2) > div\")\n",
    "            #         busstop_usage_element = driver_extract_text_processor(f\"#pivotGrid > div > div:nth-child(2) > div.wj-cells > div:nth-child({i}) > div\")\n",
    "            #         busstop_usage_int = int(busstop_usage_element.replace(\",\", \"\"))\n",
    "            #         route_usage_data[f\"{city_name}\"][f\"{routeno}\"][busstop_element] = busstop_usage_int\n",
    "            #         print(busstop_element)\n",
    "            #         print(busstop_usage_int)\n",
    "            #         i += 1\n",
    "            #     except:\n",
    "            #         break\n"
   ]
  },
  {
   "cell_type": "code",
   "execution_count": null,
   "metadata": {},
   "outputs": [],
   "source": []
  }
 ],
 "metadata": {
  "kernelspec": {
   "display_name": "gyeongn",
   "language": "python",
   "name": "python3"
  },
  "language_info": {
   "codemirror_mode": {
    "name": "ipython",
    "version": 3
   },
   "file_extension": ".py",
   "mimetype": "text/x-python",
   "name": "python",
   "nbconvert_exporter": "python",
   "pygments_lexer": "ipython3",
   "version": "3.12.4"
  }
 },
 "nbformat": 4,
 "nbformat_minor": 2
}
